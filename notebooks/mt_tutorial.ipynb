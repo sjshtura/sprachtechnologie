{
 "cells": [
  {
   "cell_type": "markdown",
   "metadata": {},
   "source": [
    "# Neural Machine Translation Example"
   ]
  },
  {
   "cell_type": "code",
   "execution_count": 2,
   "metadata": {},
   "outputs": [
    {
     "data": {
      "text/plain": [
       "'\\nauthor: aggarwal\\n\\n'"
      ]
     },
     "execution_count": 2,
     "metadata": {},
     "output_type": "execute_result"
    }
   ],
   "source": [
    "#! usr/bin/env python3\n",
    "# -*- coding : utf-8 -*-\n",
    "\n",
    "'''\n",
    "author: aggarwal\n",
    "\n",
    "'''"
   ]
  },
  {
   "cell_type": "code",
   "execution_count": 3,
   "metadata": {},
   "outputs": [],
   "source": [
    "import sys"
   ]
  },
  {
   "cell_type": "code",
   "execution_count": 85,
   "metadata": {},
   "outputs": [
    {
     "name": "stdout",
     "output_type": "stream",
     "text": [
      "Requirement already satisfied: pandas in /usr/local/lib/python3.7/site-packages (0.24.2)\n",
      "Requirement already satisfied: numpy in /usr/local/lib/python3.7/site-packages (1.16.3)\n",
      "Requirement already satisfied: scikit-learn in /usr/local/lib/python3.7/site-packages (0.21.2)\n",
      "Requirement already satisfied: pytz>=2011k in /usr/local/lib/python3.7/site-packages (from pandas) (2019.1)\n",
      "Requirement already satisfied: python-dateutil>=2.5.0 in /usr/local/lib/python3.7/site-packages (from pandas) (2.8.0)\n",
      "Requirement already satisfied: joblib>=0.11 in /usr/local/lib/python3.7/site-packages (from scikit-learn) (0.13.2)\n",
      "Requirement already satisfied: scipy>=0.17.0 in /usr/local/lib/python3.7/site-packages (from scikit-learn) (1.2.1)\n",
      "Requirement already satisfied: six>=1.5 in /usr/local/lib/python3.7/site-packages (from python-dateutil>=2.5.0->pandas) (1.12.0)\n"
     ]
    }
   ],
   "source": [
    "!{sys.executable} -m pip install pandas numpy scikit-learn"
   ]
  },
  {
   "cell_type": "code",
   "execution_count": 5,
   "metadata": {},
   "outputs": [],
   "source": [
    "import pandas as pd"
   ]
  },
  {
   "cell_type": "code",
   "execution_count": 44,
   "metadata": {},
   "outputs": [],
   "source": [
    "filename='eng_deu.txt'\n",
    "\n",
    "parallel_corpora = pd.read_csv(filename, sep='\\t', header = None, names=['eng', 'deu'], encoding = \"UTF-8\")"
   ]
  },
  {
   "cell_type": "code",
   "execution_count": 7,
   "metadata": {
    "scrolled": true
   },
   "outputs": [
    {
     "data": {
      "text/html": [
       "<div>\n",
       "<style scoped>\n",
       "    .dataframe tbody tr th:only-of-type {\n",
       "        vertical-align: middle;\n",
       "    }\n",
       "\n",
       "    .dataframe tbody tr th {\n",
       "        vertical-align: top;\n",
       "    }\n",
       "\n",
       "    .dataframe thead th {\n",
       "        text-align: right;\n",
       "    }\n",
       "</style>\n",
       "<table border=\"1\" class=\"dataframe\">\n",
       "  <thead>\n",
       "    <tr style=\"text-align: right;\">\n",
       "      <th></th>\n",
       "      <th>eng</th>\n",
       "      <th>deu</th>\n",
       "    </tr>\n",
       "  </thead>\n",
       "  <tbody>\n",
       "    <tr>\n",
       "      <th>0</th>\n",
       "      <td>Hi.</td>\n",
       "      <td>Hallo!</td>\n",
       "    </tr>\n",
       "    <tr>\n",
       "      <th>1</th>\n",
       "      <td>Hi.</td>\n",
       "      <td>Grüß Gott!</td>\n",
       "    </tr>\n",
       "    <tr>\n",
       "      <th>2</th>\n",
       "      <td>Run!</td>\n",
       "      <td>Lauf!</td>\n",
       "    </tr>\n",
       "    <tr>\n",
       "      <th>3</th>\n",
       "      <td>Wow!</td>\n",
       "      <td>Potzdonner!</td>\n",
       "    </tr>\n",
       "    <tr>\n",
       "      <th>4</th>\n",
       "      <td>Wow!</td>\n",
       "      <td>Donnerwetter!</td>\n",
       "    </tr>\n",
       "  </tbody>\n",
       "</table>\n",
       "</div>"
      ],
      "text/plain": [
       "    eng            deu\n",
       "0   Hi.         Hallo!\n",
       "1   Hi.     Grüß Gott!\n",
       "2  Run!          Lauf!\n",
       "3  Wow!    Potzdonner!\n",
       "4  Wow!  Donnerwetter!"
      ]
     },
     "execution_count": 7,
     "metadata": {},
     "output_type": "execute_result"
    }
   ],
   "source": [
    "parallel_corpora.head(5)"
   ]
  },
  {
   "cell_type": "code",
   "execution_count": 8,
   "metadata": {},
   "outputs": [],
   "source": [
    "# remove punctuation -- excercise\n",
    "import string\n",
    "parallel_corpora['eng'] = parallel_corpora['eng'].str.replace('[{}]'.format(string.punctuation), '')\n",
    "parallel_corpora['deu'] = parallel_corpora['deu'].str.replace('[{}]'.format(string.punctuation), '')"
   ]
  },
  {
   "cell_type": "code",
   "execution_count": 9,
   "metadata": {},
   "outputs": [
    {
     "data": {
      "text/html": [
       "<div>\n",
       "<style scoped>\n",
       "    .dataframe tbody tr th:only-of-type {\n",
       "        vertical-align: middle;\n",
       "    }\n",
       "\n",
       "    .dataframe tbody tr th {\n",
       "        vertical-align: top;\n",
       "    }\n",
       "\n",
       "    .dataframe thead th {\n",
       "        text-align: right;\n",
       "    }\n",
       "</style>\n",
       "<table border=\"1\" class=\"dataframe\">\n",
       "  <thead>\n",
       "    <tr style=\"text-align: right;\">\n",
       "      <th></th>\n",
       "      <th>eng</th>\n",
       "      <th>deu</th>\n",
       "    </tr>\n",
       "  </thead>\n",
       "  <tbody>\n",
       "    <tr>\n",
       "      <th>0</th>\n",
       "      <td>Hi</td>\n",
       "      <td>Hallo</td>\n",
       "    </tr>\n",
       "    <tr>\n",
       "      <th>1</th>\n",
       "      <td>Hi</td>\n",
       "      <td>Grüß Gott</td>\n",
       "    </tr>\n",
       "    <tr>\n",
       "      <th>2</th>\n",
       "      <td>Run</td>\n",
       "      <td>Lauf</td>\n",
       "    </tr>\n",
       "    <tr>\n",
       "      <th>3</th>\n",
       "      <td>Wow</td>\n",
       "      <td>Potzdonner</td>\n",
       "    </tr>\n",
       "    <tr>\n",
       "      <th>4</th>\n",
       "      <td>Wow</td>\n",
       "      <td>Donnerwetter</td>\n",
       "    </tr>\n",
       "  </tbody>\n",
       "</table>\n",
       "</div>"
      ],
      "text/plain": [
       "   eng           deu\n",
       "0   Hi         Hallo\n",
       "1   Hi     Grüß Gott\n",
       "2  Run          Lauf\n",
       "3  Wow    Potzdonner\n",
       "4  Wow  Donnerwetter"
      ]
     },
     "execution_count": 9,
     "metadata": {},
     "output_type": "execute_result"
    }
   ],
   "source": [
    "parallel_corpora.head(5)"
   ]
  },
  {
   "cell_type": "code",
   "execution_count": 10,
   "metadata": {},
   "outputs": [],
   "source": [
    "limited_parallel_corpora = parallel_corpora[:10000]"
   ]
  },
  {
   "cell_type": "code",
   "execution_count": 11,
   "metadata": {},
   "outputs": [],
   "source": [
    "# take first 10000 and do train-test\n",
    "\n",
    "from sklearn.model_selection import train_test_split\n",
    "train, test = train_test_split(limited_parallel_corpora, test_size=0.2)"
   ]
  },
  {
   "cell_type": "code",
   "execution_count": 12,
   "metadata": {},
   "outputs": [
    {
     "data": {
      "text/html": [
       "<div>\n",
       "<style scoped>\n",
       "    .dataframe tbody tr th:only-of-type {\n",
       "        vertical-align: middle;\n",
       "    }\n",
       "\n",
       "    .dataframe tbody tr th {\n",
       "        vertical-align: top;\n",
       "    }\n",
       "\n",
       "    .dataframe thead th {\n",
       "        text-align: right;\n",
       "    }\n",
       "</style>\n",
       "<table border=\"1\" class=\"dataframe\">\n",
       "  <thead>\n",
       "    <tr style=\"text-align: right;\">\n",
       "      <th></th>\n",
       "      <th>eng</th>\n",
       "      <th>deu</th>\n",
       "    </tr>\n",
       "  </thead>\n",
       "  <tbody>\n",
       "    <tr>\n",
       "      <th>267</th>\n",
       "      <td>Have fun</td>\n",
       "      <td>Viel Vergnügen</td>\n",
       "    </tr>\n",
       "    <tr>\n",
       "      <th>5760</th>\n",
       "      <td>Were you busy</td>\n",
       "      <td>Wart ihr beschäftigt</td>\n",
       "    </tr>\n",
       "    <tr>\n",
       "      <th>7690</th>\n",
       "      <td>Tom felt hated</td>\n",
       "      <td>Tom fühlte sich gehasst</td>\n",
       "    </tr>\n",
       "    <tr>\n",
       "      <th>5327</th>\n",
       "      <td>Tom applauded</td>\n",
       "      <td>Tom hat geklatscht</td>\n",
       "    </tr>\n",
       "    <tr>\n",
       "      <th>1268</th>\n",
       "      <td>Look at us</td>\n",
       "      <td>Schau uns an</td>\n",
       "    </tr>\n",
       "  </tbody>\n",
       "</table>\n",
       "</div>"
      ],
      "text/plain": [
       "                 eng                      deu\n",
       "267         Have fun           Viel Vergnügen\n",
       "5760   Were you busy     Wart ihr beschäftigt\n",
       "7690  Tom felt hated  Tom fühlte sich gehasst\n",
       "5327   Tom applauded       Tom hat geklatscht\n",
       "1268      Look at us             Schau uns an"
      ]
     },
     "execution_count": 12,
     "metadata": {},
     "output_type": "execute_result"
    }
   ],
   "source": [
    "train[:5]"
   ]
  },
  {
   "cell_type": "code",
   "execution_count": 13,
   "metadata": {},
   "outputs": [
    {
     "data": {
      "text/html": [
       "<div>\n",
       "<style scoped>\n",
       "    .dataframe tbody tr th:only-of-type {\n",
       "        vertical-align: middle;\n",
       "    }\n",
       "\n",
       "    .dataframe tbody tr th {\n",
       "        vertical-align: top;\n",
       "    }\n",
       "\n",
       "    .dataframe thead th {\n",
       "        text-align: right;\n",
       "    }\n",
       "</style>\n",
       "<table border=\"1\" class=\"dataframe\">\n",
       "  <thead>\n",
       "    <tr style=\"text-align: right;\">\n",
       "      <th></th>\n",
       "      <th>eng</th>\n",
       "      <th>deu</th>\n",
       "    </tr>\n",
       "  </thead>\n",
       "  <tbody>\n",
       "    <tr>\n",
       "      <th>9231</th>\n",
       "      <td>Heres your dog</td>\n",
       "      <td>Hier ist dein Hund</td>\n",
       "    </tr>\n",
       "    <tr>\n",
       "      <th>4616</th>\n",
       "      <td>I watched Tom</td>\n",
       "      <td>Ich habe Tom beobachtet</td>\n",
       "    </tr>\n",
       "    <tr>\n",
       "      <th>5720</th>\n",
       "      <td>Were fasting</td>\n",
       "      <td>Wir fasten</td>\n",
       "    </tr>\n",
       "    <tr>\n",
       "      <th>5200</th>\n",
       "      <td>That ones OK</td>\n",
       "      <td>Der da ist OK</td>\n",
       "    </tr>\n",
       "    <tr>\n",
       "      <th>1371</th>\n",
       "      <td>Tom cheats</td>\n",
       "      <td>Tom betrügt</td>\n",
       "    </tr>\n",
       "  </tbody>\n",
       "</table>\n",
       "</div>"
      ],
      "text/plain": [
       "                 eng                      deu\n",
       "9231  Heres your dog       Hier ist dein Hund\n",
       "4616   I watched Tom  Ich habe Tom beobachtet\n",
       "5720    Were fasting               Wir fasten\n",
       "5200    That ones OK            Der da ist OK\n",
       "1371      Tom cheats              Tom betrügt"
      ]
     },
     "execution_count": 13,
     "metadata": {},
     "output_type": "execute_result"
    }
   ],
   "source": [
    "test[:5]"
   ]
  },
  {
   "cell_type": "code",
   "execution_count": 14,
   "metadata": {},
   "outputs": [
    {
     "name": "stdout",
     "output_type": "stream",
     "text": [
      "Requirement already satisfied: keras in /anaconda3/lib/python3.7/site-packages (2.2.4)\n",
      "Requirement already satisfied: numpy>=1.9.1 in /anaconda3/lib/python3.7/site-packages (from keras) (1.16.4)\n",
      "Requirement already satisfied: scipy>=0.14 in /anaconda3/lib/python3.7/site-packages (from keras) (1.3.0)\n",
      "Requirement already satisfied: six>=1.9.0 in /anaconda3/lib/python3.7/site-packages (from keras) (1.12.0)\n",
      "Requirement already satisfied: pyyaml in /anaconda3/lib/python3.7/site-packages (from keras) (5.1.1)\n",
      "Requirement already satisfied: h5py in /anaconda3/lib/python3.7/site-packages (from keras) (2.9.0)\n",
      "Requirement already satisfied: keras_applications>=1.0.6 in /anaconda3/lib/python3.7/site-packages (from keras) (1.0.8)\n",
      "Requirement already satisfied: keras_preprocessing>=1.0.5 in /anaconda3/lib/python3.7/site-packages (from keras) (1.1.0)\n"
     ]
    }
   ],
   "source": [
    "#install keras\n",
    "\n",
    "!{sys.executable} -m pip install keras"
   ]
  },
  {
   "cell_type": "code",
   "execution_count": 15,
   "metadata": {},
   "outputs": [
    {
     "name": "stdout",
     "output_type": "stream",
     "text": [
      "Requirement already satisfied: tensorflow in /anaconda3/lib/python3.7/site-packages (1.14.0)\n",
      "Requirement already satisfied: google-pasta>=0.1.6 in /anaconda3/lib/python3.7/site-packages (from tensorflow) (0.1.8)\n",
      "Requirement already satisfied: keras-preprocessing>=1.0.5 in /anaconda3/lib/python3.7/site-packages (from tensorflow) (1.1.0)\n",
      "Requirement already satisfied: gast>=0.2.0 in /anaconda3/lib/python3.7/site-packages (from tensorflow) (0.3.2)\n",
      "Requirement already satisfied: protobuf>=3.6.1 in /anaconda3/lib/python3.7/site-packages (from tensorflow) (3.10.1)\n",
      "Requirement already satisfied: six>=1.10.0 in /anaconda3/lib/python3.7/site-packages (from tensorflow) (1.12.0)\n",
      "Requirement already satisfied: termcolor>=1.1.0 in /anaconda3/lib/python3.7/site-packages (from tensorflow) (1.1.0)\n",
      "Requirement already satisfied: grpcio>=1.8.6 in /anaconda3/lib/python3.7/site-packages (from tensorflow) (1.16.1)\n",
      "Requirement already satisfied: wrapt>=1.11.1 in /anaconda3/lib/python3.7/site-packages (from tensorflow) (1.11.2)\n",
      "Requirement already satisfied: wheel>=0.26 in /anaconda3/lib/python3.7/site-packages (from tensorflow) (0.33.4)\n",
      "Requirement already satisfied: absl-py>=0.7.0 in /anaconda3/lib/python3.7/site-packages (from tensorflow) (0.8.1)\n",
      "Requirement already satisfied: tensorflow-estimator<1.15.0rc0,>=1.14.0rc0 in /anaconda3/lib/python3.7/site-packages (from tensorflow) (1.14.0)\n",
      "Requirement already satisfied: keras-applications>=1.0.6 in /anaconda3/lib/python3.7/site-packages (from tensorflow) (1.0.8)\n",
      "Requirement already satisfied: numpy<2.0,>=1.14.5 in /anaconda3/lib/python3.7/site-packages (from tensorflow) (1.16.4)\n",
      "Requirement already satisfied: astor>=0.6.0 in /anaconda3/lib/python3.7/site-packages (from tensorflow) (0.8.0)\n",
      "Requirement already satisfied: tensorboard<1.15.0,>=1.14.0 in /anaconda3/lib/python3.7/site-packages (from tensorflow) (1.14.0)\n",
      "Requirement already satisfied: setuptools in /anaconda3/lib/python3.7/site-packages (from protobuf>=3.6.1->tensorflow) (41.0.1)\n",
      "Requirement already satisfied: h5py in /anaconda3/lib/python3.7/site-packages (from keras-applications>=1.0.6->tensorflow) (2.9.0)\n",
      "Requirement already satisfied: werkzeug>=0.11.15 in /anaconda3/lib/python3.7/site-packages (from tensorboard<1.15.0,>=1.14.0->tensorflow) (0.15.4)\n",
      "Requirement already satisfied: markdown>=2.6.8 in /anaconda3/lib/python3.7/site-packages (from tensorboard<1.15.0,>=1.14.0->tensorflow) (3.1.1)\n"
     ]
    }
   ],
   "source": [
    "!{sys.executable} -m pip install tensorflow"
   ]
  },
  {
   "cell_type": "code",
   "execution_count": 16,
   "metadata": {},
   "outputs": [
    {
     "name": "stderr",
     "output_type": "stream",
     "text": [
      "Using TensorFlow backend.\n"
     ]
    }
   ],
   "source": [
    "# apply tokenizer\n",
    "from keras.preprocessing.text import Tokenizer\n",
    "tokenizer_eng = Tokenizer()\n",
    "tokenizer_ger = Tokenizer()\n",
    "tokenizer_eng.fit_on_texts(list(limited_parallel_corpora['eng'].values))\n",
    "tokenizer_ger.fit_on_texts(list(limited_parallel_corpora['deu'].values))\n"
   ]
  },
  {
   "cell_type": "code",
   "execution_count": 17,
   "metadata": {},
   "outputs": [
    {
     "data": {
      "text/plain": [
       "dict_items([('tom', 1), ('i', 2), ('it', 3), ('you', 4), ('is', 5), ('im', 6), ('a', 7), ('me', 8), ('he', 9), ('was', 10), ('its', 11), ('go', 12), ('do', 13), ('we', 14), ('to', 15), ('are', 16), ('this', 17), ('dont', 18), ('that', 19), ('ill', 20), ('can', 21), ('youre', 22), ('the', 23), ('my', 24), ('come', 25), ('get', 26), ('were', 27), ('like', 28), ('be', 29), ('here', 30), ('toms', 31), ('up', 32), ('have', 33), ('she', 34), ('who', 35), ('not', 36), ('they', 37), ('in', 38), ('love', 39), ('am', 40), ('did', 41), ('on', 42), ('well', 43), ('him', 44), ('want', 45), ('thats', 46), ('your', 47), ('know', 48), ('us', 49), ('take', 50), ('need', 51), ('how', 52), ('cant', 53), ('home', 54), ('no', 55), ('hes', 56), ('keep', 57), ('see', 58), ('now', 59), ('has', 60), ('help', 61), ('let', 62), ('saw', 63), ('stop', 64), ('got', 65), ('too', 66), ('will', 67), ('look', 68), ('one', 69), ('out', 70), ('there', 71), ('away', 72), ('may', 73), ('just', 74), ('lost', 75), ('try', 76), ('busy', 77), ('what', 78), ('hate', 79), ('down', 80), ('her', 81), ('so', 82), ('lets', 83), ('at', 84), ('theyre', 85), ('car', 86), ('for', 87), ('give', 88), ('ok', 89), ('very', 90), ('back', 91), ('all', 92), ('isnt', 93), ('wait', 94), ('eat', 95), ('please', 96), ('ive', 97), ('good', 98), ('had', 99), ('happy', 100), ('work', 101), ('ask', 102), ('them', 103), ('stay', 104), ('why', 105), ('leave', 106), ('found', 107), ('call', 108), ('came', 109), ('made', 110), ('cold', 111), ('alone', 112), ('must', 113), ('miss', 114), ('read', 115), ('again', 116), ('an', 117), ('hot', 118), ('hurt', 119), ('off', 120), ('with', 121), ('whos', 122), ('said', 123), ('mary', 124), ('say', 125), ('feel', 126), ('tell', 127), ('mine', 128), ('start', 129), ('wont', 130), ('new', 131), ('over', 132), ('win', 133), ('fun', 134), ('right', 135), ('of', 136), ('walk', 137), ('dog', 138), ('went', 139), ('wasnt', 140), ('fine', 141), ('knew', 142), ('hard', 143), ('open', 144), ('book', 145), ('likes', 146), ('late', 147), ('watch', 148), ('cry', 149), ('fast', 150), ('ready', 151), ('nice', 152), ('show', 153), ('sick', 154), ('upset', 155), ('knows', 156), ('quiet', 157), ('lot', 158), ('money', 159), ('run', 160), ('won', 161), ('bad', 162), ('sing', 163), ('tired', 164), ('think', 165), ('time', 166), ('turn', 167), ('looks', 168), ('way', 169), ('by', 170), ('felt', 171), ('hold', 172), ('ate', 173), ('find', 174), ('hurry', 175), ('drunk', 176), ('drive', 177), ('never', 178), ('swim', 179), ('sad', 180), ('left', 181), ('trust', 182), ('talk', 183), ('yours', 184), ('check', 185), ('drink', 186), ('more', 187), ('seems', 188), ('hit', 189), ('old', 190), ('hurts', 191), ('wrong', 192), ('these', 193), ('loves', 194), ('didnt', 195), ('make', 196), ('great', 197), ('about', 198), ('put', 199), ('whats', 200), ('hungry', 201), ('called', 202), ('cool', 203), ('use', 204), ('free', 205), ('rich', 206), ('die', 207), ('id', 208), ('cook', 209), ('broke', 210), ('shot', 211), ('tomll', 212), ('job', 213), ('coming', 214), ('close', 215), ('yourself', 216), ('joking', 217), ('eyes', 218), ('and', 219), ('play', 220), ('beat', 221), ('his', 222), ('mad', 223), ('early', 224), ('told', 225), ('big', 226), ('does', 227), ('needs', 228), ('hug', 229), ('lied', 230), ('died', 231), ('going', 232), ('easy', 233), ('hear', 234), ('kidding', 235), ('stupid', 236), ('angry', 237), ('everyone', 238), ('ran', 239), ('shy', 240), ('pay', 241), ('mean', 242), ('stand', 243), ('follow', 244), ('hope', 245), ('move', 246), ('where', 247), ('life', 248), ('cut', 249), ('nobody', 250), ('enjoy', 251), ('day', 252), ('door', 253), ('fell', 254), ('man', 255), ('sure', 256), ('sit', 257), ('still', 258), ('kind', 259), ('boy', 260), ('loved', 261), ('break', 262), ('young', 263), ('crazy', 264), ('youll', 265), ('everybody', 266), ('agree', 267), ('bed', 268), ('cheated', 269), ('took', 270), ('dying', 271), ('bring', 272), ('afraid', 273), ('looked', 274), ('fish', 275), ('sleep', 276), ('winning', 277), ('reading', 278), ('wants', 279), ('key', 280), ('coffee', 281), ('safe', 282), ('tall', 283), ('works', 284), ('tried', 285), ('lie', 286), ('forget', 287), ('met', 288), ('live', 289), ('bored', 290), ('lying', 291), ('sorry', 292), ('tv', 293), ('serious', 294), ('hows', 295), ('yes', 296), ('dead', 297), ('shes', 298), ('study', 299), ('youve', 300), ('hated', 301), ('crying', 302), ('humming', 303), ('married', 304), ('black', 305), ('should', 306), ('son', 307), ('hello', 308), ('fat', 309), ('some', 310), ('blind', 311), ('first', 312), ('fired', 313), ('tea', 314), ('better', 315), ('scared', 316), ('done', 317), ('bus', 318), ('bit', 319), ('gone', 320), ('buy', 321), ('count', 322), ('useless', 323), ('joke', 324), ('hand', 325), ('could', 326), ('only', 327), ('cried', 328), ('thin', 329), ('speak', 330), ('quit', 331), ('gave', 332), ('true', 333), ('hired', 334), ('careful', 335), ('wine', 336), ('bet', 337), ('mind', 338), ('hat', 339), ('cats', 340), ('lucky', 341), ('naive', 342), ('nothing', 343), ('hugged', 344), ('water', 345), ('boston', 346), ('dad', 347), ('enough', 348), ('kept', 349), ('arent', 350), ('removed', 351), ('kiss', 352), ('wake', 353), ('brave', 354), ('cute', 355), ('helped', 356), ('ugly', 357), ('weak', 358), ('touch', 359), ('write', 360), ('heres', 361), ('awake', 362), ('ours', 363), ('listen', 364), ('stood', 365), ('wholl', 366), ('survived', 367), ('thirty', 368), ('alive', 369), ('clean', 370), ('strong', 371), ('food', 372), ('liked', 373), ('begin', 374), ('stopped', 375), ('french', 376), ('girls', 377), ('doing', 378), ('working', 379), ('running', 380), ('singing', 381), ('might', 382), ('rest', 383), ('worried', 384), ('unfair', 385), ('throw', 386), ('arrived', 387), ('today', 388), ('paid', 389), ('fair', 390), ('fix', 391), ('smiled', 392), ('dogs', 393), ('inside', 394), ('weve', 395), ('patient', 396), ('men', 397), ('boring', 398), ('remember', 399), ('famous', 400), ('vote', 401), ('smell', 402), ('walked', 403), ('fit', 404), ('bought', 405), ('milk', 406), ('jealous', 407), ('talking', 408), ('dance', 409), ('send', 410), ('lose', 411), ('wheres', 412), ('correct', 413), ('quickly', 414), ('best', 415), ('half', 416), ('school', 417), ('dumped', 418), ('seen', 419), ('cat', 420), ('plan', 421), ('ones', 422), ('suits', 423), ('two', 424), ('really', 425), ('goodbye', 426), ('runs', 427), ('wet', 428), ('save', 429), ('fly', 430), ('catch', 431), ('lazy', 432), ('laughed', 433), ('duty', 434), ('drank', 435), ('sat', 436), ('rude', 437), ('hero', 438), ('eating', 439), ('hiding', 440), ('lonely', 441), ('itll', 442), ('started', 443), ('asleep', 444), ('often', 445), ('eggs', 446), ('nervous', 447), ('thirsty', 448), ('unlucky', 449), ('happened', 450), ('simple', 451), ('outside', 452), ('ashamed', 453), ('those', 454), ('map', 455), ('beer', 456), ('dream', 457), ('guess', 458), ('sweet', 459), ('later', 460), ('join', 461), ('tomorrow', 462), ('kill', 463), ('smells', 464), ('teacher', 465), ('red', 466), ('dice', 467), ('trusts', 468), ('truth', 469), ('seem', 470), ('word', 471), ('fire', 472), ('perfect', 473), ('tries', 474), ('stayed', 475), ('next', 476), ('tidy', 477), ('lies', 478), ('answer', 479), ('calm', 480), ('tough', 481), ('ignore', 482), ('burned', 483), ('dark', 484), ('slept', 485), ('talked', 486), ('around', 487), ('night', 488), ('smart', 489), ('built', 490), ('canceled', 491), ('rice', 492), ('panicked', 493), ('biased', 494), ('sleepy', 495), ('relax', 496), ('pick', 497), ('sharp', 498), ('step', 499), ('harder', 500), ('obey', 501), ('closer', 502), ('fight', 503), ('seat', 504), ('curious', 505), ('math', 506), ('saved', 507), ('dizzy', 508), ('injured', 509), ('leaving', 510), ('unusual', 511), ('wounded', 512), ('trying', 513), ('smoke', 514), ('wise', 515), ('kissed', 516), ('boil', 517), ('once', 518), ('forward', 519), ('hates', 520), ('hey', 521), ('almost', 522), ('sue', 523), ('closely', 524), ('funny', 525), ('small', 526), ('meant', 527), ('guilty', 528), ('sent', 529), ('any', 530), ('wife', 531), ('trusted', 532), ('wanted', 533), ('student', 534), ('worse', 535), ('adores', 536), ('applauded', 537), ('doesnt', 538), ('killed', 539), ('hi', 540), ('sang', 541), ('thanks', 542), ('shut', 543), ('bald', 544), ('okay', 545), ('birds', 546), ('soon', 547), ('weird', 548), ('obese', 549), ('course', 550), ('sign', 551), ('care', 552), ('voted', 553), ('slowly', 554), ('cruel', 555), ('heard', 556), ('shoot', 557), ('white', 558), ('thatll', 559), ('cheat', 560), ('boys', 561), ('owe', 562), ('anybody', 563), ('laugh', 564), ('helps', 565), ('age', 566), ('wasted', 567), ('asked', 568), ('face', 569), ('scream', 570), ('nurse', 571), ('dancing', 572), ('dieting', 573), ('fasting', 574), ('liar', 575), ('broken', 576), ('secret', 577), ('escaped', 578), ('last', 579), ('invited', 580), ('yet', 581), ('gun', 582), ('doctor', 583), ('father', 584), ('divorced', 585), ('finished', 586), ('sleeping', 587), ('looking', 588), ('short', 589), ('feet', 590), ('shame', 591), ('smoking', 592), ('silly', 593), ('insane', 594), ('god', 595), ('expert', 596), ('english', 597), ('pale', 598), ('exhausted', 599), ('change', 600), ('suit', 601), ('family', 602), ('honest', 603), ('caught', 604), ('youd', 605), ('ball', 606), ('yoga', 607), ('much', 608), ('guys', 609), ('betrayed', 610), ('confused', 611), ('smile', 612), ('pull', 613), ('long', 614), ('welcome', 615), ('ahead', 616), ('spoke', 617), ('waited', 618), ('terrific', 619), ('warn', 620), ('fear', 621), ('woke', 622), ('worked', 623), ('jump', 624), ('warm', 625), ('walks', 626), ('moved', 627), ('agreed', 628), ('cares', 629), ('aboard', 630), ('along', 631), ('forgive', 632), ('poor', 633), ('threw', 634), ('chubby', 635), ('greedy', 636), ('losing', 637), ('moving', 638), ('ruined', 639), ('single', 640), ('green', 641), ('problem', 642), ('replace', 643), ('failed', 644), ('phoned', 645), ('sec', 646), ('war', 647), ('decide', 648), ('missed', 649), ('prepared', 650), ('blame', 651), ('snow', 652), ('kids', 653), ('manage', 654), ('certain', 655), ('healthy', 656), ('retired', 657), ('law', 658), ('wealthy', 659), ('fake', 660), ('urgent', 661), ('lunch', 662), ('card', 663), ('changed', 664), ('vain', 665), ('tipsy', 666), ('promised', 667), ('anything', 668), ('teach', 669), ('drop', 670), ('poet', 671), ('horrible', 672), ('admire', 673), ('music', 674), ('cab', 675), ('fool', 676), ('learn', 677), ('canadian', 678), ('lawyer', 679), ('ears', 680), ('innocent', 681), ('saint', 682), ('watching', 683), ('happen', 684), ('our', 685), ('strange', 686), ('walking', 687), ('writing', 688), ('yelling', 689), ('theyll', 690), ('spy', 691), ('scary', 692), ('witty', 693), ('vanished', 694), ('succeeded', 695), ('paying', 696), ('passed', 697), ('security', 698), ('something', 699), ('downstairs', 700), ('kite', 701), ('skating', 702), ('japanese', 703), ('hide', 704), ('dinner', 705), ('own', 706), ('quite', 707), ('someone', 708), ('allow', 709), ('boss', 710), ('minute', 711), ('head', 712), ('room', 713), ('helping', 714), ('friends', 715), ('girl', 716), ('fishing', 717), ('sells', 718), ('apple', 719), ('glasses', 720), ('name', 721), ('mugged', 722), ('whatll', 723), ('1245', 724), ('hang', 725), ('lock', 726), ('brief', 727), ('deep', 728), ('humor', 729), ('shaved', 730), ('deaf', 731), ('swam', 732), ('aim', 733), ('ski', 734), ('fainted', 735), ('stuck', 736), ('thank', 737), ('drove', 738), ('stink', 739), ('push', 740), ('clever', 741), ('disagree', 742), ('meat', 743), ('listened', 744), ('pity', 745), ('resigned', 746), ('oh', 747), ('aside', 748), ('nap', 749), ('cover', 750), ('obeyed', 751), ('glad', 752), ('luck', 753), ('creative', 754), ('worry', 755), ('relented', 756), ('bag', 757), ('dozing', 758), ('chicken', 759), ('staying', 760), ('legal', 761), ('list', 762), ('talks', 763), ('release', 764), ('return', 765), ('shall', 766), ('thief', 767), ('hers', 768), ('gets', 769), ('evil', 770), ('loud', 771), ('nuts', 772), ('relaxed', 773), ('egg', 774), ('another', 775), ('avoids', 776), ('cranky', 777), ('naked', 778), ('proof', 779), ('improvised', 780), ('women', 781), ('pizza', 782), ('diabetic', 783), ('fighting', 784), ('positive', 785), ('shooting', 786), ('standing', 787), ('upstairs', 788), ('cancer', 789), ('empty', 790), ('snowing', 791), ('driving', 792), ('lead', 793), ('set', 794), ('dreams', 795), ('pass', 796), ('fail', 797), ('things', 798), ('thisll', 799), ('grumbled', 800), ('dreaming', 801), ('even', 802), ('ignored', 803), ('studying', 804), ('believe', 805), ('mom', 806), ('needed', 807), ('horse', 808), ('rescued', 809), ('important', 810), ('order', 811), ('been', 812), ('fault', 813), ('enter', 814), ('foot', 815), ('nobodys', 816), ('gate', 817), ('roll', 818), ('risk', 819), ('disagreed', 820), ('plans', 821), ('abroad', 822), ('skinny', 823), ('quick', 824), ('adopted', 825), ('amazing', 826), ('missing', 827), ('six', 828), ('says', 829), ('modest', 830), ('polite', 831), ('unkind', 832), ('lay', 833), ('deny', 834), ('lives', 835), ('already', 836), ('bike', 837), ('truck', 838), ('idea', 839), ('wrote', 840), ('guy', 841), ('prisoner', 842), ('getting', 843), ('excited', 844), ('sounds', 845), ('apologize', 846), ('continue', 847), ('ditched', 848), ('complained', 849), ('intervened', 850), ('present', 851), ('harm', 852), ('lawn', 853), ('couldnt', 854), ('awesome', 855), ('grab', 856), ('yawned', 857), ('full', 858), ('taste', 859), ('excuse', 860), ('hands', 861), ('745', 862), ('seize', 863), ('seriously', 864), ('waved', 865), ('wonderful', 866), ('higher', 867), ('anyone', 868), ('dj', 869), ('human', 870), ('envy', 871), ('fixed', 872), ('amused', 873), ('sneaky', 874), ('eaten', 875), ('cd', 876), ('town', 877), ('pray', 878), ('cheese', 879), ('burped', 880), ('cheats', 881), ('drives', 882), ('nodded', 883), ('prayed', 884), ('yelled', 885), ('merciful', 886), ('specific', 887), ('vigilant', 888), ('comfort', 889), ('contact', 890), ('stare', 891), ('finish', 892), ('guts', 893), ('twin', 894), ('bread', 895), ('fruit', 896), ('blue', 897), ('dumb', 898), ('both', 899), ('cake', 900), ('overslept', 901), ('lips', 902), ('ufo', 903), ('gas', 904), ('finicky', 905), ('pain', 906), ('popular', 907), ('resting', 908), ('selfish', 909), ('shocked', 910), ('stunned', 911), ('trapped', 912), ('unarmed', 913), ('unhappy', 914), ('foggy', 915), ('real', 916), ('monday', 917), ('many', 918), ('grow', 919), ('blushed', 920), ('action', 921), ('theres', 922), ('cheered', 923), ('sweated', 924), ('pushy', 925), ('meet', 926), ('objective', 927), ('rifle', 928), ('heroic', 929), ('always', 930), ('baffled', 931), ('draw', 932), ('doubts', 933), ('pen', 934), ('lion', 935), ('sympathize', 936), ('thought', 937), ('friend', 938), ('genius', 939), ('hungover', 940), ('reliable', 941), ('starving', 942), ('bedtime', 943), ('raining', 944), ('coat', 945), ('approve', 946), ('gold', 947), ('grimaced', 948), ('objected', 949), ('loser', 950), ('woman', 951), ('amuse', 952), ('scare', 953), ('grown', 954), ('fan', 955), ('skate', 956), ('respond', 957), ('bird', 958), ('flowers', 959), ('braces', 960), ('type', 961), ('stoned', 962), ('grouch', 963), ('tokyo', 964), ('comes', 965), ('or', 966), ('nose', 967), ('rope', 968), ('beautiful', 969), ('american', 970), ('paris', 971), ('forgave', 972), ('freaked', 973), ('people', 974), ('led', 975), ('movies', 976), ('skiing', 977), ('sports', 978), ('sweets', 979), ('tennis', 980), ('supper', 981), ('respect', 982), ('mouse', 983), ('watched', 984), ('prove', 985), ('addict', 986), ('artist', 987), ('surprised', 988), ('uninsured', 989), ('returned', 990), ('nearby', 991), ('damaged', 992), ('trap', 993), ('treat', 994), ('climbing', 995), ('livid', 996), ('number', 997), ('shower', 998), ('differ', 999), ('fact', 1000), ('cup', 1001), ('confessed', 1002), ('graduated', 1003), ('absent', 1004), ('normal', 1005), ('rushed', 1006), ('warned', 1007), ('would', 1008), ('anxious', 1009), ('cooking', 1010), ('limping', 1011), ('moment', 1012), ('second', 1013), ('candy', 1014), ('succeed', 1015), ('survive', 1016), ('doctors', 1017), ('wicked', 1018), ('cars', 1019), ('add', 1020), ('cows', 1021), ('death', 1022), ('30', 1023), ('as', 1024), ('tigers', 1025), ('recycle', 1026), ('everything', 1027), ('flies', 1028), ('park', 1029), ('became', 1030), ('beard', 1031), ('song', 1032), ('wide', 1033), ('began', 1034), ('followed', 1035), ('sisters', 1036), ('travel', 1037), ('prefer', 1038), ('handle', 1039), ('phone', 1040), ('salesman', 1041), ('taking', 1042), ('undressing', 1043), ('smiling', 1044), ('sale', 1045), ('insult', 1046), ('brand', 1047), ('pointless', 1048), ('rush', 1049), ('hour', 1050), ('their', 1051), ('lend', 1052), ('gossiping', 1053), ('annoys', 1054), ('theirs', 1055), ('chose', 1056), ('hole', 1057), ('robbed', 1058), ('dressed', 1059), ('wins', 1060), ('wore', 1061), ('sauce', 1062), ('wash', 1063), ('road', 1064), ('famished', 1065), ('whod', 1066), ('envious', 1067), ('whistle', 1068), ('misbehave', 1069), ('carefully', 1070), ('psychic', 1071), ('candle', 1072), ('adventurous', 1073), ('from', 1074), ('afford', 1075), ('every', 1076), ('downloaded', 1077), ('same', 1078), ('relied', 1079), ('10', 1080), ('carpenter', 1081), ('owl', 1082), ('able', 1083), ('poisonous', 1084), ('wow', 1085), ('freeze', 1086), ('19', 1087), ('snore', 1088), ('cuff', 1089), ('jumped', 1090), ('refuse', 1091), ('game', 1092), ('wept', 1093), ('bless', 1094), ('fantastic', 1095), ('giggled', 1096), ('promise', 1097), ('needy', 1098), ('snowed', 1099), ('915', 1100), ('sand', 1101), ('then', 1102), ('times', 1103), ('unlock', 1104), ('idiot', 1105), ('18', 1106), ('carry', 1107), ('choose', 1108), ('dig', 1109), ('faster', 1110), ('yell', 1111), ('examine', 1112), ('burns', 1113), ('coughed', 1114), ('d', 1115), ('hung', 1116), ('ice', 1117), ('monk', 1118), ('baking', 1119), ('humble', 1120), ('matters', 1121), ('fad', 1122), ('bulky', 1123), ('clear', 1124), ('windy', 1125), ('danced', 1126), ('drinks', 1127), ('forgot', 1128), ('gasped', 1129), ('moaned', 1130), ('smoked', 1131), ('wood', 1132), ('discreet', 1133), ('ruthless', 1134), ('sensible', 1135), ('panic', 1136), ('flip', 1137), ('coin', 1138), ('eight', 1139), ('online', 1140), ('mice', 1141), ('300', 1142), ('cash', 1143), ('hesitated', 1144), ('jazz', 1145), ('beef', 1146), ('rock', 1147), ('recovered', 1148), ('cancel', 1149), ('child', 1150), ('debt', 1151), ('sincere', 1152), ('starved', 1153), ('stuffed', 1154), ('touched', 1155), ('rain', 1156), ('rule', 1157), ('locked', 1158), ('spring', 1159), ('wish', 1160), ('memorize', 1161), ('means', 1162), ('plants', 1163), ('bite', 1164), ('slower', 1165), ('stinks', 1166), ('blinked', 1167), ('frowned', 1168), ('groaned', 1169), ('ocd', 1170), ('kneeled', 1171), ('refused', 1172), ('shouted', 1173), ('slipped', 1174), ('tripped', 1175), ('share', 1176), ('armed', 1177), ('team', 1178), ('cops', 1179), ('attentive', 1180), ('fbi', 1181), ('deal', 1182), ('fall', 1183), ('anyway', 1184), ('bug', 1185), ('safely', 1186), ('ghosts', 1187), ('easter', 1188), ('courage', 1189), ('denied', 1190), ('dozed', 1191), ('driven', 1192), ('kicked', 1193), ('dare', 1194), ('praying', 1195), ('apologized', 1196), ('apples', 1197), ('deserve', 1198), ('sushi', 1199), ('sugar', 1200), ('books', 1201), ('jokes', 1202), ('paint', 1203), ('shaken', 1204), ('wonder', 1205), ('coward', 1206), ('purist', 1207), ('addicted', 1208), ('bluffing', 1209), ('drowning', 1210), ('eighteen', 1211), ('escaping', 1212), ('freezing', 1213), ('grateful', 1214), ('homeless', 1215), ('managing', 1216), ('angel', 1217), ('rebel', 1218), ('begun', 1219), ('scares', 1220), ('curse', 1221), ('immoral', 1222), ('lifes', 1223), ('pigs', 1224), ('arm', 1225), ('louder', 1226), ('filming', 1227), ('command', 1228), ('control', 1229), ('approved', 1230), ('approves', 1231), ('chuckled', 1232), ('enlisted', 1233), ('insisted', 1234), ('moody', 1235), ('vague', 1236), ('squinted', 1237), ('filthy', 1238), ('unbelievable', 1239), ('attack', 1240), ('doomed', 1241), ('dirty', 1242), ('questions', 1243), ('else', 1244), ('faint', 1245), ('favor', 1246), ('feed', 1247), ('eats', 1248), ('after', 1249), ('annoying', 1250), ('autistic', 1251), ('coughing', 1252), ('sneezing', 1253), ('belong', 1254), ('deserved', 1255), ('dislike', 1256), ('myself', 1257), ('winter', 1258), ('garlic', 1259), ('horses', 1260), ('salmon', 1261), ('trains', 1262), ('autumn', 1263), ('fist', 1264), ('resist', 1265), ('violin', 1266), ('plane', 1267), ('house', 1268), ('support', 1269), ('visited', 1270), ('volunteered', 1271), ('pony', 1272), ('furious', 1273), ('page', 1274), ('redhead', 1275), ('suspect', 1276), ('depressed', 1277), ('impressed', 1278), ('danger', 1279), ('blood', 1280), ('flat', 1281), ('apart', 1282), ('takes', 1283), ('saturday', 1284), ('relief', 1285), ('possible', 1286), ('fox', 1287), ('aches', 1288), ('knee', 1289), ('neck', 1290), ('owls', 1291), ('stalling', 1292), ('aloud', 1293), ('peace', 1294), ('obeys', 1295), ('cutie', 1296), ('together', 1297), ('laughing', 1298), ('tastes', 1299), ('doll', 1300), ('japan', 1301), ('exercised', 1302), ('baby', 1303), ('crafty', 1304), ('frugal', 1305), ('loving', 1306), ('joined', 1307), ('remembers', 1308), ('taught', 1309), ('zoomed', 1310), ('annoyed', 1311), ('choking', 1312), ('packing', 1313), ('snoring', 1314), ('cousins', 1315), ('sinking', 1316), ('special', 1317), ('which', 1318), ('whose', 1319), ('mail', 1320), ('far', 1321), ('hiring', 1322), ('cage', 1323), ('engine', 1324), ('form', 1325), ('lines', 1326), ('rid', 1327), ('ride', 1328), ('year', 1329), ('point', 1330), ('uncle', 1331), ('ached', 1332), ('brakes', 1333), ('end', 1334), ('high', 1335), ('accept', 1336), ('gifts', 1337), ('hungarian', 1338), ('london', 1339), ('believed', 1340), ('enjoyed', 1341), ('stroke', 1342), ('jeans', 1343), ('hailed', 1344), ('mondays', 1345), ('fever', 1346), ('amnesia', 1347), ('hurried', 1348), ('guessed', 1349), ('mahjong', 1350), ('hiccup', 1351), ('raise', 1352), ('korean', 1353), ('turned', 1354), ('justice', 1355), ('homesick', 1356), ('poisoned', 1357), ('wear', 1358), ('beginner', 1359), ('botanist', 1360), ('musician', 1361), ('pacifist', 1362), ('officer', 1363), ('having', 1364), ('illiterate', 1365), ('trouble', 1366), ('meditating', 1367), ('quitter', 1368), ('optimistic', 1369), ('overweight', 1370), ('oldest', 1371), ('untalented', 1372), ('makes', 1373), ('sense', 1374), ('ambush', 1375), ('delicious', 1376), ('large', 1377), ('posted', 1378), ('idiots', 1379), ('mums', 1380), ('hair', 1381), ('jaw', 1382), ('sore', 1383), ('doors', 1384), ('bill', 1385), ('proceed', 1386), ('cooks', 1387), ('awkward', 1388), ('sings', 1389), ('counting', 1390), ('boat', 1391), ('thatd', 1392), ('table', 1393), ('foolish', 1394), ('logical', 1395), ('rose', 1396), ('roof', 1397), ('bites', 1398), ('creepy', 1399), ('barely', 1400), ('911', 1401), ('dug', 1402), ('ford', 1403), ('limp', 1404), ('biker', 1405), ('guard', 1406), ('miner', 1407), ('noise', 1408), ('seemed', 1409), ('twice', 1410), ('smelled', 1411), ('swims', 1412), ('risks', 1413), ('tricked', 1414), ('understood', 1415), ('sewing', 1416), ('swimming', 1417), ('gut', 1418), ('shook', 1419), ('wed', 1420), ('brothers', 1421), ('helpless', 1422), ('students', 1423), ('tip', 1424), ('goes', 1425), ('wipe', 1426), ('morons', 1427), ('behave', 1428), ('husband', 1429), ('police', 1430), ('congratulations', 1431), ('crows', 1432), ('bother', 1433), ('freak', 1434), ('overdo', 1435), ('remind', 1436), ('tease', 1437), ('bags', 1438), ('trip', 1439), ('everyones', 1440), ('acts', 1441), ('ambition', 1442), ('ten', 1443), ('soccer', 1444), ('frat', 1445), ('brother', 1446), ('lit', 1447), ('orange', 1448), ('beg', 1449), ('loudly', 1450), ('relieved', 1451), ('isolated', 1452), ('homework', 1453), ('reptiles', 1454), ('rug', 1455), ('weddings', 1456), ('keys', 1457), ('baseball', 1458), ('cartoons', 1459), ('party', 1460), ('army', 1461), ('misunderstood', 1462), ('played', 1463), ('guitar', 1464), ('taxi', 1465), ('optimist', 1466), ('begging', 1467), ('calling', 1468), ('salty', 1469), ('cheers', 1470), ('hop', 1471), ('cheer', 1472), ('resign', 1473), ('marry', 1474), ('bark', 1475), ('5', 1476), ('awful', 1477), ('cured', 1478), ('330', 1479), ('830', 1480), ('loosen', 1481), ('below', 1482), ('bowed', 1483), ('froze', 1484), ('knits', 1485), ('definitely', 1486), ('destroy', 1487), ('brag', 1488), ('calls', 1489), ('fill', 1490), ('faith', 1491), ('swiss', 1492), ('absurd', 1493), ('lovely', 1494), ('tragic', 1495), ('admit', 1496), ('chew', 1497), ('gum', 1498), ('art', 1499), ('air', 1500), ('immune', 1501), ('mature', 1502), ('rested', 1503), ('happens', 1504), ('shiny', 1505), ('jesus', 1506), ('lasts', 1507), ('mama', 1508), ('comment', 1509), ('agrees', 1510), ('dances', 1511), ('fought', 1512), ('goofed', 1513), ('odd', 1514), ('paused', 1515), ('sighed', 1516), ('smokes', 1517), ('snores', 1518), ('winked', 1519), ('cds', 1520), ('gives', 1521), ('tolerant', 1522), ('beers', 1523), ('taller', 1524), ('assume', 1525), ('class', 1526), ('bugs', 1527), ('glue', 1528), ('oppose', 1529), ('surrender', 1530), ('attend', 1531), ('17', 1532), ('baker', 1533), ('klutz', 1534), ('loner', 1535), ('through', 1536), ('tasty', 1537), ('50', 1538), ('yen', 1539), ('cloudy', 1540), ('poison', 1541), ('across', 1542), ('split', 1543), ('timing', 1544), ('huge', 1545), ('tvs', 1546), ('belched', 1547), ('clapped', 1548), ('decided', 1549), ('drowned', 1550), ('exhaled', 1551), ('gloated', 1552), ('grinned', 1553), ('inhaled', 1554), ('slow', 1555), ('listens', 1556), ('noticed', 1557), ('painted', 1558), ('prepaid', 1559), ('teaches', 1560), ('vomited', 1561), ('alert', 1562), ('flaky', 1563), ('older', 1564), ('cnn', 1565), ('hell', 1566), ('stole', 1567), ('bore', 1568), ('dump', 1569), ('mess', 1570), ('ego', 1571), ('floats', 1572), ('abandon', 1573), ('ship', 1574), ('realistic', 1575), ('describe', 1576), ('exist', 1577), ('evening', 1578), ('donut', 1579), ('snack', 1580), ('bigot', 1581), ('honesty', 1582), ('pays', 1583), ('arrogant', 1584), ('pathetic', 1585), ('romantic', 1586), ('touching', 1587), ('chinese', 1588), ('caviar', 1589), ('lip', 1590), ('burp', 1591), ('detest', 1592), ('beans', 1593), ('liars', 1594), ('tests', 1595), ('games', 1596), ('trips', 1597), ('piano', 1598), ('rarely', 1599), ('star', 1600), ('seldom', 1601), ('suppose', 1602), ('facts', 1603), ('explain', 1604), ('99', 1605), ('hunter', 1606), ('artistic', 1607), ('bleeding', 1608), ('dyslexic', 1609), ('expected', 1610), ('grounded', 1611), ('gullible', 1612), ('perth', 1613), ('jam', 1614), ('offended', 1615), ('restless', 1616), ('stubborn', 1617), ('thorough', 1618), ('ticklish', 1619), ('worn', 1620), ('checked', 1621), ('solid', 1622), ('iron', 1623), ('deer', 1624), ('wolf', 1625), ('salt', 1626), ('plant', 1627), ('steal', 1628), ('hailing', 1629), ('hearsay', 1630), ('morning', 1631), ('low', 1632), ('ladies', 1633), ('hip', 1634), ('cared', 1635), ('schools', 1636), ('while', 1637), ('staring', 1638), ('theyve', 1639), ('answered', 1640), ('flinched', 1641), ('acne', 1642), ('vet', 1643), ('frail', 1644), ('heavy', 1645), ('loyal', 1646), ('messy', 1647), ('ex', 1648), ('picky', 1649), ('screamed', 1650), ('shivered', 1651), ('shrugged', 1652), ('stutters', 1653), ('nosy', 1654), ('whistled', 1655), ('amazed', 1656), ('arabs', 1657), ('starve', 1658), ('closed', 1659), ('dating', 1660), ('years', 1661), ('annoy', 1662), ('gross', 1663), ('mistaken', 1664), ('reasonable', 1665), ('drown', 1666), ('reply', 1667), ('mock', 1668), ('circle', 1669), ('healthily', 1670), ('peas', 1671), ('exhale', 1672), ('clock', 1673), ('bloom', 1674), ('flying', 1675), ('fry', 1676), ('few', 1677), ('ham', 1678), ('advises', 1679), ('blog', 1680), ('lots', 1681), ('jesuit', 1682), ('friendly', 1683), ('bled', 1684), ('thrilling', 1685), ('admired', 1686), ('muslim', 1687), ('caused', 1688), ('contributed', 1689), ('cough', 1690), ('despise', 1691), ('chess', 1692), ('fed', 1693), ('queasy', 1694), ('flu', 1695), ('celery', 1696), ('date', 1697), ('ring', 1698), ('visa', 1699), ('orders', 1700), ('sinned', 1701), ('voices', 1702), ('kid', 1703), ('clocks', 1704), ('donuts', 1705), ('onions', 1706), ('reggae', 1707), ('spoons', 1708), ('arabic', 1709), ('camels', 1710), ('nature', 1711), ('pandas', 1712), ('nearly', 1713), ('loan', 1714), ('stamps', 1715), ('rely', 1716), ('crown', 1717), ('rat', 1718), ('sold', 1719), ('hiking', 1720), ('nights', 1721), ('poems', 1722), ('songs', 1723), ('cripple', 1724), ('tourist', 1725), ('orphan', 1726), ('convinced', 1727), ('different', 1728), ('easygoing', 1729), ('expecting', 1730), ('impatient', 1731), ('gang', 1732), ('denial', 1733), ('miserable', 1734), ('motivated', 1735), ('diet', 1736), ('satisfied', 1737), ('saying', 1738), ('bat', 1739), ('wig', 1740), ('latin', 1741), ('gift', 1742), ('superb', 1743), ('800', 1744), ('pm', 1745), ('fungus', 1746), ('accurate', 1747), ('business', 1748), ('exciting', 1749), ('gorgeous', 1750), ('hopeless', 1751), ('improved', 1752), ('inhumane', 1753), ('midnight', 1754), ('obsolete', 1755), ('occupied', 1756), ('optional', 1757), ('unlikely', 1758), ('unlocked', 1759), ('paddling', 1760), ('mortal', 1761), ('shrieked', 1762), ('meats', 1763), ('scarce', 1764), ('moms', 1765), ('hairs', 1766), ('names', 1767), ('robe', 1768), ('bent', 1769), ('active', 1770), ('clearly', 1771), ('quietly', 1772), ('ease', 1773), ('stir', 1774), ('soup', 1775), ('bragging', 1776), ('meddling', 1777), ('shouting', 1778), ('straighten', 1779), ('sweep', 1780), ('saturn', 1781), ('copy', 1782), ('myth', 1783), ('doable', 1784), ('bell', 1785), ('rang', 1786), ('asian', 1787), ('brown', 1788), ('fools', 1789), ('dvd', 1790), ('pun', 1791), ('blames', 1792), ('exercises', 1793), ('chef', 1794), ('jock', 1795), ('slob', 1796), ('wimp', 1797), ('unwell', 1798), ('opened', 1799), ('protested', 1800), ('pushed', 1801), ('raised', 1802), ('staggered', 1803), ('texted', 1804), ('frank', 1805), ('sober', 1806), ('weary', 1807), ('elderly', 1808), ('engaged', 1809), ('violent', 1810), ('till', 1811), ('wax', 1812), ('floor', 1813), ('rules', 1814), ('paper', 1815), ('enemies', 1816), ('parents', 1817), ('stalled', 1818), ('winners', 1819), ('hassle', 1820), ('when', 1821), ('whens', 1822), ('responded', 1823), ('pretty', 1824), ('coke', 1825), ('act', 1826), ('aint', 1827), ('babies', 1828), ('qualified', 1829), ('boats', 1830), ('sink', 1831), ('brace', 1832), ('grass', 1833), ('escape', 1834), ('notice', 1835), ('dinners', 1836), ('purr', 1837), ('tempt', 1838), ('salad', 1839), ('dies', 1840), ('towel', 1841), ('golf', 1842), ('afternoon', 1843), ('birthday', 1844), ('holidays', 1845), ('cannot', 1846), ('disappeared', 1847), ('dislikes', 1848), ('flew', 1849), ('12', 1850), ('sons', 1851), ('writer', 1852), ('actor', 1853), ('bankrupt', 1854), ('delicate', 1855), ('powerful', 1856), ('keeps', 1857), ('learns', 1858), ('stern', 1859), ('owes', 1860), ('respects', 1861), ('scolded', 1862), ('butcher', 1863), ('fanatic', 1864), ('gambler', 1865), ('samurai', 1866), ('slacker', 1867), ('yesman', 1868), ('animal', 1869), ('author', 1870), ('excon', 1871), ('outlaw', 1872), ('henpecked', 1873), ('disgusting', 1874), ('perceptive', 1875), ('borrow', 1876), ('leg', 1877), ('despised', 1878), ('flunk', 1879), ('gamble', 1880), ('tomatoes', 1881), ('church', 1882), ('guarantee', 1883), ('insects', 1884), ('ironing', 1885), ('karaoke', 1886), ('lawyers', 1887), ('riddles', 1888), ('spinach', 1889), ('13', 1890), ('clue', 1891), ('castles', 1892), ('cookies', 1893), ('drawing', 1894), ('ketchup', 1895), ('noodles', 1896), ('oysters', 1897), ('sashimi', 1898), ('seafood', 1899), ('stories', 1900), ('sun', 1901), ('turtles', 1902), ('harvard', 1903), ('almonds', 1904), ('animals', 1905), ('bananas', 1906), ('carrots', 1907), ('dessert', 1908), ('lasagna', 1909), ('ipod', 1910), ('parties', 1911), ('puzzles', 1912), ('sunsets', 1913), ('college', 1914), ('decline', 1915), ('medic', 1916), ('stamp', 1917), ('answers', 1918), ('privacy', 1919), ('surgery', 1920), ('100', 1921), ('plead', 1922), ('cattle', 1923), ('five', 1924), ('sell', 1925), ('serve', 1926), ('sneeze', 1927), ('light', 1928), ('usually', 1929), ('chair', 1930), ('glass', 1931), ('puppy', 1932), ('popcorn', 1933), ('revenge', 1934), ('captured', 1935), ('outdoors', 1936), ('sweating', 1937), ('tortured', 1938), ('prosper', 1939), ('scold', 1940), ('aunt', 1941), ('teenager', 1942), ('against', 1943), ('atheist', 1944), ('behind', 1945), ('devastated', 1946), ('farsighted', 1947), ('fascinated', 1948), ('interested', 1949), ('making', 1950), ('holiday', 1951), ('overworked', 1952), ('successful', 1953), ('unemployed', 1954), ('using', 1955), ('stew', 1956), ('remarried', 1957), ('weapon', 1958), ('worth', 1959), ('bear', 1960), ('hint', 1961), ('mug', 1962), ('fee', 1963), ('christmas', 1964), ('wednesday', 1965), ('classic', 1966), ('admirable', 1967), ('beyond', 1968), ('difficult', 1969), ('grotesque', 1970), ('incorrect', 1971), ('marvelous', 1972), ('3', 1973), ('redundant', 1974), ('risky', 1975), ('searching', 1976), ('kissing', 1977), ('tag', 1978), ('practice', 1979), ('blonde', 1980), ('maybe', 1981), ('power', 1982), ('chest', 1983), ('heart', 1984), ('tires', 1985), ('tooth', 1986), ('nobodyll', 1987), ('pout', 1988), ('pack', 1989), ('gear', 1990), ('tune', 1991), ('prepare', 1992), ('prices', 1993), ('science', 1994), ('seals', 1995), ('choked', 1996), ('fooled', 1997), ('misses', 1998), ('plays', 1999), ('bach', 2000), ('types', 2001), ('hottie', 2002), ('snap', 2003), ('grumbling', 2004), ('resisting', 2005), ('sniffling', 2006), ('whistling', 2007), ('picture', 2008), ('advice', 2009), ('ideal', 2010), ('magic', 2011), ('given', 2012), ('tower', 2013), ('evident', 2014), ('hogwash', 2015), ('illegal', 2016), ('line', 2017), ('plastic', 2018), ('rubbish', 2019), ('typical', 2020), ('barked', 2021), ('price', 2022), ('radio', 2023), ('leaks', 2024), ('train', 2025), ('snag', 2026), ('adore', 2027), ('quarreled', 2028), ('struggled', 2029), ('test', 2030), ('appears', 2031), ('approached', 2032), ('backed', 2033), ('biked', 2034), ('dialed', 2035), ('65', 2036), ('draws', 2037), ('easily', 2038), ('feels', 2039), ('woozy', 2040), ('bigger', 2041), ('busted', 2042), ('fatter', 2043), ('hacked', 2044), ('grew', 2045), ('roses', 2046), ('grows', 2047), ('phd', 2048), ('asthma', 2049), ('issues', 2050), ('scurvy', 2051), ('talent', 2052), ('rats', 2053), ('blond', 2054), ('dwarf', 2055), ('minor', 2056), ('moron', 2057), ('pilot', 2058), ('rabbi', 2059), ('amusing', 2060), ('callous', 2061), ('complex', 2062), ('cynical', 2063), ('devious', 2064), ('devoted', 2065), ('dusting', 2066), ('elusive', 2067), ('enraged', 2068), ('focused', 2069), ('frantic', 2070), ('gasping', 2071), ('grouchy', 2072), ('helpful', 2073), ('hideous', 2074), ('history', 2075), ('hurting', 2076), ('intense', 2077), ('jittery', 2078), ('likable', 2079), ('lovable', 2080), ('miserly', 2081), ('idol', 2082), ('naughty', 2083), ('neutral', 2084), ('nodding', 2085), ('obscene', 2086), ('panting', 2087), ('playing', 2088), ('pleased', 2089), ('pompous', 2090), ('precise', 2091), ('puzzled', 2092), ('quicker', 2093), ('shallow', 2094), ('shaving', 2095), ('similar', 2096), ('sitting', 2097), ('sloshed', 2098), ('smarter', 2099), ('smashed', 2100), ('sobbing', 2101), ('spoiled', 2102), ('teasing', 2103), ('tempted', 2104), ('unfazed', 2105), ('unmoved', 2106), ('vicious', 2107), ('waiting', 2108), ('whining', 2109), ('willing', 2110), ('yawning', 2111), ('neat', 2112), ('sane', 2113), ('knelt', 2114), ('guns', 2115), ('tuna', 2116), ('misled', 2117), ('owns', 2118), ('pinched', 2119), ('punched', 2120), ('rewrote', 2121), ('calmly', 2122), ('stabbed', 2123), ('jerk', 2124), ('beaten', 2125), ('bright', 2126), ('framed', 2127), ('gentle', 2128), ('grumpy', 2129), ('silent', 2130), ('square', 2131), ('touchy', 2132), ('unhurt', 2133), ('untidy', 2134), ('improve', 2135), ('threat', 2136), ('charming', 2137), ('cheerful', 2138), ('fearless', 2139), ('grieving', 2140), ('grinning', 2141), ('harmless', 2142), ('stranded', 2143), ('unstable', 2144), ('charm', 2145), ('exaggerated', 2146), ('blast', 2147), ('farm', 2148), ('guests', 2149), ('surrendered', 2150), ('decisive', 2151), ('geniuses', 2152), ('partners', 2153), ('country', 2154), ('atm', 2155), ('side', 2156), ('disgust', 2157), ('flatter', 2158), ('ghost', 2159), ('content', 2160), ('instead', 2161), ('balls', 2162), ('round', 2163), ('bees', 2164), ('honey', 2165), ('brush', 2166), ('chip', 2167), ('skip', 2168), ('clap', 2169), ('if', 2170), ('confess', 2171), ('protest', 2172), ('tie', 2173), ('rap', 2174), ('snob', 2175), ('stingy', 2176), ('interfere', 2177), ('interrupt', 2178), ('rub', 2179), ('sheep', 2180), ('everythings', 2181), ('frogs', 2182), ('tool', 2183), ('box', 2184), ('mother', 2185), ('doughnut', 2186), ('7', 2187), ('into', 2188), ('intrigues', 2189), ('ethiopian', 2190), ('dreamer', 2191), ('painter', 2192), ('sly', 2193), ('unmarried', 2194), ('mentioned', 2195), ('radios', 2196), ('whisky', 2197), ('shouts', 2198), ('stared', 2199), ('studied', 2200), ('outraged', 2201), ('surfing', 2202), ('comedian', 2203), ('gardener', 2204), ('southpaw', 2205), ('antisocial', 2206), ('deadtired', 2207), ('forty', 2208), ('paraplegic', 2209), ('photogenic', 2210), ('helium', 2211), ('album', 2212), ('hoist', 2213), ('sails', 2214), ('interesting', 2215), ('howd', 2216), ('howre', 2217), ('abhor', 2218), ('spiders', 2219), ('ache', 2220), ('spain', 2221), ('speechless', 2222), ('appreciate', 2223), ('tongue', 2224), ('booked', 2225), ('breathe', 2226), ('undo', 2227), ('contacted', 2228), ('cooked', 2229), ('couldve', 2230), ('cycle', 2231), ('disobeyed', 2232), ('understand', 2233), ('expect', 2234), ('feverish', 2235), ('terrible', 2236), ('funerals', 2237), ('politics', 2238), ('raccoons', 2239), ('shopping', 2240), ('donkey', 2241), ('laptop', 2242), ('sister', 2243), ('theory', 2244), ('children', 2245), ('diabetes', 2246), ('dry', 2247), ('skin', 2248), ('pens', 2249), ('havent', 2250), ('drum', 2251), ('rains', 2252), ('intend', 2253), ('showered', 2254), ('area', 2255), ('learned', 2256), ('eggplant', 2257), ('football', 2258), ('potatoes', 2259), ('interest', 2260), ('broccoli', 2261), ('comedies', 2262), ('westerns', 2263), ('misjudged', 2264), ('legs', 2265), ('internet', 2266), ('hammer', 2267), ('ladder', 2268), ('caffeine', 2269), ('somebody', 2270), ('focus', 2271), ('shave', 2272), ('ordered', 2273), ('bills', 2274), ('biking', 2275), ('letter', 2276), ('remembered', 2277), ('respected', 2278), ('movie', 2279), ('giraffe', 2280), ('pattern', 2281), ('bacon', 2282), ('swedish', 2283), ('supported', 2284), ('vitamins', 2285), ('refund', 2286), ('mommy', 2287), ('witness', 2288), ('born', 2289), ('courteous', 2290), ('dismissed', 2291), ('horrified', 2292), ('mortified', 2293), ('skeptical', 2294), ('bar', 2295), ('fork', 2296), ('soda', 2297), ('rather', 2298), ('assist', 2299), ('inform', 2300), ('mention', 2301), ('notify', 2302), ('jackson', 2303), ('guest', 2304), ('niece', 2305), ('rival', 2306), ('chauffeur', 2307), ('city', 2308), ('communist', 2309), ('detective', 2310), ('housewife', 2311), ('masochist', 2312), ('policeman', 2313), ('professor', 2314), ('aquarius', 2315), ('engineer', 2316), ('stiff', 2317), ('catching', 2318), ('colorblind', 2319), ('constipated', 2320), ('cooperating', 2321), ('daydreaming', 2322), ('embarrassed', 2323), ('enjoying', 2324), ('feeling', 2325), ('asking', 2326), ('lefthanded', 2327), ('nearsighted', 2328), ('arguing', 2329), ('vacation', 2330), ('persevering', 2331), ('replaceable', 2332), ('spontaneous', 2333), ('texting', 2334), ('copilot', 2335), ('tied', 2336), ('unimpressed', 2337), ('waiter', 2338), ('babbling', 2339), ('handsome', 2340), ('breathing', 2341), ('near', 2342), ('necessary', 2343)])"
      ]
     },
     "execution_count": 17,
     "metadata": {},
     "output_type": "execute_result"
    }
   ],
   "source": [
    "tokenizer_eng.word_index.items()"
   ]
  },
  {
   "cell_type": "code",
   "execution_count": 18,
   "metadata": {},
   "outputs": [],
   "source": [
    "# vocab size\n",
    "\n",
    "'''\n",
    "+1 needed because if you use the pad_sequence to process the sequence, you will find the 0 is used as the padding value. \n",
    "In order to distinguish between PAD and UNKNOWN, keras use word_count+1 as the index of UNKNOWN.\n",
    "'''\n",
    "eng_vocab_size = len(tokenizer_eng.word_index) + 1\n",
    "ger_vocab_size = len(tokenizer_ger.word_index) + 1"
   ]
  },
  {
   "cell_type": "code",
   "execution_count": 19,
   "metadata": {},
   "outputs": [
    {
     "name": "stdout",
     "output_type": "stream",
     "text": [
      "2344\n",
      "3715\n"
     ]
    }
   ],
   "source": [
    "print(eng_vocab_size)\n",
    "print(ger_vocab_size)"
   ]
  },
  {
   "cell_type": "code",
   "execution_count": 20,
   "metadata": {},
   "outputs": [],
   "source": [
    "# sequencing and padding\n",
    "\n",
    "\n",
    "from keras.preprocessing.sequence import pad_sequences\n",
    "max_length = 30\n",
    "\n",
    "# training set\n",
    "\n",
    "trainX = tokenizer_ger.texts_to_sequences(train['deu'].values)\n",
    "trainY = tokenizer_eng.texts_to_sequences(train['eng'].values)\n",
    "\n",
    "trainX = pad_sequences(trainX, maxlen=max_length, padding='post')\n",
    "trainY = pad_sequences(trainY, maxlen=max_length, padding='post')\n",
    "\n",
    "\n",
    "# validation set\n",
    "\n",
    "testX = tokenizer_ger.texts_to_sequences(test['deu'].values)\n",
    "testY = tokenizer_eng.texts_to_sequences(test['eng'].values)\n",
    "\n",
    "testX = pad_sequences(testX, maxlen=max_length, padding='post')\n",
    "testY = pad_sequences(testY, maxlen=max_length, padding='post')"
   ]
  },
  {
   "cell_type": "code",
   "execution_count": 21,
   "metadata": {},
   "outputs": [
    {
     "data": {
      "text/plain": [
       "array([[ 33, 134,   0,   0,   0,   0,   0,   0,   0,   0,   0,   0,   0,\n",
       "          0,   0,   0,   0,   0,   0,   0,   0,   0,   0,   0,   0,   0,\n",
       "          0,   0,   0,   0]], dtype=int32)"
      ]
     },
     "execution_count": 21,
     "metadata": {},
     "output_type": "execute_result"
    }
   ],
   "source": [
    "trainY[:1]"
   ]
  },
  {
   "cell_type": "code",
   "execution_count": 22,
   "metadata": {},
   "outputs": [],
   "source": [
    "#label encoding\n",
    "import numpy as np\n",
    "from keras.utils import to_categorical\n",
    "\n",
    "def encode_output(sequences, vocab_size):\n",
    "\tylist = list()\n",
    "\tfor sequence in sequences:\n",
    "\t\tencoded = to_categorical(sequence, num_classes=vocab_size)\n",
    "\t\tylist.append(encoded)\n",
    "\ty = np.array(ylist)\n",
    "\ty = y.reshape(sequences.shape[0], sequences.shape[1], vocab_size)\n",
    "\treturn y\n",
    "\n",
    "trainY = encode_output(trainY, eng_vocab_size)\n",
    "testY = encode_output(testY, eng_vocab_size)"
   ]
  },
  {
   "cell_type": "code",
   "execution_count": 23,
   "metadata": {},
   "outputs": [
    {
     "data": {
      "text/plain": [
       "array([[[0., 0., 0., ..., 0., 0., 0.],\n",
       "        [0., 0., 0., ..., 0., 0., 0.],\n",
       "        [1., 0., 0., ..., 0., 0., 0.],\n",
       "        ...,\n",
       "        [1., 0., 0., ..., 0., 0., 0.],\n",
       "        [1., 0., 0., ..., 0., 0., 0.],\n",
       "        [1., 0., 0., ..., 0., 0., 0.]]], dtype=float32)"
      ]
     },
     "execution_count": 23,
     "metadata": {},
     "output_type": "execute_result"
    }
   ],
   "source": [
    "trainY[:1]"
   ]
  },
  {
   "cell_type": "code",
   "execution_count": 24,
   "metadata": {},
   "outputs": [],
   "source": [
    "\n",
    "# generate model\n",
    "\n",
    "from keras.models import Sequential\n",
    "from keras.models import load_model\n",
    "from keras.layers import LSTM\n",
    "from keras.layers import Dense\n",
    "from keras.layers import Embedding\n",
    "from keras.layers import RepeatVector\n",
    "from keras.layers import TimeDistributed\n",
    "from keras.callbacks import ModelCheckpoint\n",
    "\n",
    "# define NMT model\n",
    "def define_model(src_vocab, tar_vocab, src_timesteps, tar_timesteps, n_units):\n",
    "\tmodel = Sequential()\n",
    "\tmodel.add(Embedding(src_vocab, n_units, input_length=src_timesteps, mask_zero=True))\n",
    "\tmodel.add(LSTM(n_units))\n",
    "\tmodel.add(RepeatVector(tar_timesteps))\n",
    "\tmodel.add(LSTM(n_units, return_sequences=True))\n",
    "\tmodel.add(TimeDistributed(Dense(tar_vocab, activation='softmax')))\n",
    "\treturn model\n",
    "\n"
   ]
  },
  {
   "cell_type": "code",
   "execution_count": 25,
   "metadata": {},
   "outputs": [
    {
     "name": "stdout",
     "output_type": "stream",
     "text": [
      "WARNING:tensorflow:From //anaconda3/lib/python3.7/site-packages/keras/backend/tensorflow_backend.py:74: The name tf.get_default_graph is deprecated. Please use tf.compat.v1.get_default_graph instead.\n",
      "\n",
      "WARNING:tensorflow:From //anaconda3/lib/python3.7/site-packages/keras/backend/tensorflow_backend.py:517: The name tf.placeholder is deprecated. Please use tf.compat.v1.placeholder instead.\n",
      "\n",
      "WARNING:tensorflow:From //anaconda3/lib/python3.7/site-packages/keras/backend/tensorflow_backend.py:4138: The name tf.random_uniform is deprecated. Please use tf.random.uniform instead.\n",
      "\n",
      "WARNING:tensorflow:From //anaconda3/lib/python3.7/site-packages/keras/backend/tensorflow_backend.py:2974: add_dispatch_support.<locals>.wrapper (from tensorflow.python.ops.array_ops) is deprecated and will be removed in a future version.\n",
      "Instructions for updating:\n",
      "Use tf.where in 2.0, which has the same broadcast rule as np.where\n",
      "WARNING:tensorflow:From //anaconda3/lib/python3.7/site-packages/keras/optimizers.py:790: The name tf.train.Optimizer is deprecated. Please use tf.compat.v1.train.Optimizer instead.\n",
      "\n",
      "WARNING:tensorflow:From //anaconda3/lib/python3.7/site-packages/keras/backend/tensorflow_backend.py:3295: The name tf.log is deprecated. Please use tf.math.log instead.\n",
      "\n",
      "_________________________________________________________________\n",
      "Layer (type)                 Output Shape              Param #   \n",
      "=================================================================\n",
      "embedding_1 (Embedding)      (None, 30, 256)           951040    \n",
      "_________________________________________________________________\n",
      "lstm_1 (LSTM)                (None, 256)               525312    \n",
      "_________________________________________________________________\n",
      "repeat_vector_1 (RepeatVecto (None, 30, 256)           0         \n",
      "_________________________________________________________________\n",
      "lstm_2 (LSTM)                (None, 30, 256)           525312    \n",
      "_________________________________________________________________\n",
      "time_distributed_1 (TimeDist (None, 30, 2344)          602408    \n",
      "=================================================================\n",
      "Total params: 2,604,072\n",
      "Trainable params: 2,604,072\n",
      "Non-trainable params: 0\n",
      "_________________________________________________________________\n"
     ]
    }
   ],
   "source": [
    "# define model\n",
    "model = define_model(ger_vocab_size, eng_vocab_size, 30, 30, 256)\n",
    "model.compile(optimizer='adam', loss='categorical_crossentropy')\n",
    "# summarize defined model\n",
    "model.summary()\n",
    "\n"
   ]
  },
  {
   "cell_type": "code",
   "execution_count": 26,
   "metadata": {},
   "outputs": [
    {
     "name": "stdout",
     "output_type": "stream",
     "text": [
      "WARNING:tensorflow:From //anaconda3/lib/python3.7/site-packages/keras/backend/tensorflow_backend.py:986: The name tf.assign_add is deprecated. Please use tf.compat.v1.assign_add instead.\n",
      "\n",
      "Train on 8000 samples, validate on 2000 samples\n",
      "Epoch 1/10\n",
      "8000/8000 [==============================] - 158s 20ms/step - loss: 1.3940 - val_loss: 0.6801\n",
      "\n",
      "Epoch 00001: val_loss improved from inf to 0.68010, saving model to model.h5\n",
      "Epoch 2/10\n",
      "8000/8000 [==============================] - 150s 19ms/step - loss: 0.6256 - val_loss: 0.5986\n",
      "\n",
      "Epoch 00002: val_loss improved from 0.68010 to 0.59861, saving model to model.h5\n",
      "Epoch 3/10\n",
      "8000/8000 [==============================] - 155s 19ms/step - loss: 0.5755 - val_loss: 0.5761\n",
      "\n",
      "Epoch 00003: val_loss improved from 0.59861 to 0.57610, saving model to model.h5\n",
      "Epoch 4/10\n",
      "8000/8000 [==============================] - 157s 20ms/step - loss: 0.5532 - val_loss: 0.5754\n",
      "\n",
      "Epoch 00004: val_loss improved from 0.57610 to 0.57541, saving model to model.h5\n",
      "Epoch 5/10\n",
      "8000/8000 [==============================] - 147s 18ms/step - loss: 0.5373 - val_loss: 0.5610\n",
      "\n",
      "Epoch 00005: val_loss improved from 0.57541 to 0.56103, saving model to model.h5\n",
      "Epoch 6/10\n",
      "8000/8000 [==============================] - 147s 18ms/step - loss: 0.5204 - val_loss: 0.5450\n",
      "\n",
      "Epoch 00006: val_loss improved from 0.56103 to 0.54501, saving model to model.h5\n",
      "Epoch 7/10\n",
      "8000/8000 [==============================] - 176s 22ms/step - loss: 0.5031 - val_loss: 0.5313\n",
      "\n",
      "Epoch 00007: val_loss improved from 0.54501 to 0.53128, saving model to model.h5\n",
      "Epoch 8/10\n",
      "8000/8000 [==============================] - 158s 20ms/step - loss: 0.4786 - val_loss: 0.5123\n",
      "\n",
      "Epoch 00008: val_loss improved from 0.53128 to 0.51228, saving model to model.h5\n",
      "Epoch 9/10\n",
      "8000/8000 [==============================] - 155s 19ms/step - loss: 0.4565 - val_loss: 0.5038\n",
      "\n",
      "Epoch 00009: val_loss improved from 0.51228 to 0.50380, saving model to model.h5\n",
      "Epoch 10/10\n",
      "8000/8000 [==============================] - 152s 19ms/step - loss: 0.4366 - val_loss: 0.4838\n",
      "\n",
      "Epoch 00010: val_loss improved from 0.50380 to 0.48381, saving model to model.h5\n"
     ]
    },
    {
     "data": {
      "text/plain": [
       "<keras.callbacks.History at 0x1a48871550>"
      ]
     },
     "execution_count": 26,
     "metadata": {},
     "output_type": "execute_result"
    }
   ],
   "source": [
    "# fit model\n",
    "filename = 'model.h5'\n",
    "checkpoint = ModelCheckpoint(filename, monitor='val_loss', verbose=1, save_best_only=True, mode='min')\n",
    "model.fit(trainX, trainY, epochs=10, batch_size=64, validation_data=(testX, testY), callbacks=[checkpoint])"
   ]
  },
  {
   "cell_type": "code",
   "execution_count": 27,
   "metadata": {},
   "outputs": [],
   "source": [
    "model = load_model('model.h5')"
   ]
  },
  {
   "cell_type": "code",
   "execution_count": 28,
   "metadata": {},
   "outputs": [
    {
     "data": {
      "text/plain": [
       "array([[ 31,   3, 173, 139,   0,   0,   0,   0,   0,   0,   0,   0,   0,\n",
       "          0,   0,   0,   0,   0,   0,   0,   0,   0,   0,   0,   0,   0,\n",
       "          0,   0,   0,   0]], dtype=int32)"
      ]
     },
     "execution_count": 28,
     "metadata": {},
     "output_type": "execute_result"
    }
   ],
   "source": [
    "testX[:1]"
   ]
  },
  {
   "cell_type": "code",
   "execution_count": 29,
   "metadata": {},
   "outputs": [
    {
     "name": "stdout",
     "output_type": "stream",
     "text": [
      "Hier ist dein Hund\n"
     ]
    }
   ],
   "source": [
    "source_sentence = test['deu'].values[0]\n",
    "\n",
    "print(source_sentence)"
   ]
  },
  {
   "cell_type": "code",
   "execution_count": 30,
   "metadata": {},
   "outputs": [
    {
     "name": "stdout",
     "output_type": "stream",
     "text": [
      "[[8.7220920e-05 8.7283500e-02 4.7288236e-04 ... 3.4610312e-06\n",
      "  7.1591230e-06 4.4256331e-06]\n",
      " [2.5793558e-04 5.3539104e-03 6.0642960e-06 ... 1.2377087e-05\n",
      "  3.4232817e-05 1.5207303e-05]\n",
      " [9.9953348e-03 1.7491162e-02 1.5171657e-06 ... 6.0153667e-05\n",
      "  2.3145834e-04 1.0286463e-04]\n",
      " ...\n",
      " [9.9979681e-01 5.2930540e-07 1.9412555e-11 ... 2.9893064e-09\n",
      "  7.7389067e-10 4.8297233e-09]\n",
      " [9.9979681e-01 5.2931046e-07 1.9413296e-11 ... 2.9891867e-09\n",
      "  7.7386264e-10 4.8295208e-09]\n",
      " [9.9979681e-01 5.2931347e-07 1.9413814e-11 ... 2.9890841e-09\n",
      "  7.7384199e-10 4.8293547e-09]]\n"
     ]
    }
   ],
   "source": [
    "# see predictions of first test sentence\n",
    "\n",
    "\n",
    "pridiction_probabilities = model.predict(testX[:1], verbose=0)[0]\n",
    "    \n",
    "print(pridiction_probabilities)"
   ]
  },
  {
   "cell_type": "code",
   "execution_count": 31,
   "metadata": {},
   "outputs": [
    {
     "name": "stdout",
     "output_type": "stream",
     "text": [
      "[11, 5, 5, 0, 0, 0, 0, 0, 0, 0, 0, 0, 0, 0, 0, 0, 0, 0, 0, 0, 0, 0, 0, 0, 0, 0, 0, 0, 0, 0]\n"
     ]
    }
   ],
   "source": [
    "# get word encoded intergers out of probability map\n",
    "\n",
    "integers = [np.argmax(vector) for vector in pridiction_probabilities]\n",
    "\n",
    "print(integers)"
   ]
  },
  {
   "cell_type": "code",
   "execution_count": 32,
   "metadata": {},
   "outputs": [
    {
     "name": "stdout",
     "output_type": "stream",
     "text": [
      "its is is\n"
     ]
    }
   ],
   "source": [
    "# convert integers into words\n",
    "eng_sentence = []\n",
    "for each_int in integers:\n",
    "\tfor word, index in tokenizer_eng.word_index.items():\n",
    "\t\tif index == each_int:\n",
    "\t\t\teng_sentence.append(word)\n",
    "\n",
    "translated_sentence = ' '.join(eng_sentence)\n",
    "\n",
    "print(translated_sentence)"
   ]
  },
  {
   "cell_type": "code",
   "execution_count": 33,
   "metadata": {},
   "outputs": [
    {
     "name": "stdout",
     "output_type": "stream",
     "text": [
      "Heres your dog\n"
     ]
    }
   ],
   "source": [
    "actual_sentence = test['eng'].values[0]\n",
    "\n",
    "print(actual_sentence)"
   ]
  },
  {
   "cell_type": "code",
   "execution_count": 34,
   "metadata": {},
   "outputs": [
    {
     "name": "stdout",
     "output_type": "stream",
     "text": [
      "0\n"
     ]
    }
   ],
   "source": [
    "# evaluate blue scores\n",
    "\n",
    "\n",
    "from nltk.translate.bleu_score import corpus_bleu\n",
    "\n",
    "\n",
    "bleu_score = corpus_bleu([[actual_sentence.split()]], [translated_sentence.split()])\n",
    "\n",
    "print(bleu_score)"
   ]
  },
  {
   "cell_type": "code",
   "execution_count": 35,
   "metadata": {},
   "outputs": [
    {
     "name": "stdout",
     "output_type": "stream",
     "text": [
      "please write a German source sentencehallo\n"
     ]
    }
   ],
   "source": [
    "input_sentence = input('please write a German source sentence')\n",
    "\n"
   ]
  },
  {
   "cell_type": "code",
   "execution_count": 36,
   "metadata": {},
   "outputs": [
    {
     "data": {
      "text/plain": [
       "'hallo'"
      ]
     },
     "execution_count": 36,
     "metadata": {},
     "output_type": "execute_result"
    }
   ],
   "source": [
    "input_sentence"
   ]
  },
  {
   "cell_type": "code",
   "execution_count": 37,
   "metadata": {},
   "outputs": [
    {
     "name": "stdout",
     "output_type": "stream",
     "text": [
      "[[251]]\n",
      "[[251   0   0   0   0   0   0   0   0   0   0   0   0   0   0   0   0   0\n",
      "    0   0   0   0   0   0   0   0   0   0   0   0]]\n"
     ]
    }
   ],
   "source": [
    "input_sentence_encoded = tokenizer_ger.texts_to_sequences([input_sentence])\n",
    "print(input_sentence_encoded)\n",
    "\n",
    "input_sentence_encoded = pad_sequences(input_sentence_encoded, maxlen=max_length, padding='post')\n",
    "print(input_sentence_encoded)"
   ]
  },
  {
   "cell_type": "code",
   "execution_count": 38,
   "metadata": {},
   "outputs": [
    {
     "data": {
      "text/plain": [
       "array([[251,   0,   0,   0,   0,   0,   0,   0,   0,   0,   0,   0,   0,\n",
       "          0,   0,   0,   0,   0,   0,   0,   0,   0,   0,   0,   0,   0,\n",
       "          0,   0,   0,   0]], dtype=int32)"
      ]
     },
     "execution_count": 38,
     "metadata": {},
     "output_type": "execute_result"
    }
   ],
   "source": [
    "input_sentence_encoded\n"
   ]
  },
  {
   "cell_type": "code",
   "execution_count": 39,
   "metadata": {},
   "outputs": [
    {
     "name": "stdout",
     "output_type": "stream",
     "text": [
      "[[1.6252521e-03 2.1578169e-03 1.1236207e-03 ... 3.7360113e-04\n",
      "  2.5249922e-04 3.7715415e-04]\n",
      " [2.2135077e-02 3.4371302e-03 3.1913593e-04 ... 3.2661462e-04\n",
      "  1.5551026e-04 3.6163579e-04]\n",
      " [7.8272641e-01 5.4044829e-04 1.1229779e-06 ... 3.8889884e-05\n",
      "  1.2211330e-05 4.9388909e-05]\n",
      " ...\n",
      " [9.9979085e-01 5.4429523e-07 2.0855923e-11 ... 3.0356160e-09\n",
      "  7.5507994e-10 4.7609241e-09]\n",
      " [9.9979085e-01 5.4429626e-07 2.0857514e-11 ... 3.0354133e-09\n",
      "  7.5502959e-10 4.7607789e-09]\n",
      " [9.9979085e-01 5.4429313e-07 2.0858827e-11 ... 3.0352165e-09\n",
      "  7.5498352e-10 4.7606337e-09]]\n",
      "[4, 0, 0, 0, 0, 0, 0, 0, 0, 0, 0, 0, 0, 0, 0, 0, 0, 0, 0, 0, 0, 0, 0, 0, 0, 0, 0, 0, 0, 0]\n"
     ]
    }
   ],
   "source": [
    "pridiction_probabilities_inp = model.predict(input_sentence_encoded[:1], verbose=0)[0]\n",
    "    \n",
    "print(pridiction_probabilities_inp)\n",
    "integers_inp = [np.argmax(vector) for vector in pridiction_probabilities_inp]\n",
    "\n",
    "print(integers_inp)"
   ]
  },
  {
   "cell_type": "code",
   "execution_count": 40,
   "metadata": {},
   "outputs": [
    {
     "name": "stdout",
     "output_type": "stream",
     "text": [
      "you\n"
     ]
    }
   ],
   "source": [
    "# convert integers into words\n",
    "eng_sentence = []\n",
    "for each_int in integers_inp:\n",
    "\tfor word, index in tokenizer_eng.word_index.items():\n",
    "\t\tif index == each_int:\n",
    "\t\t\teng_sentence.append(word)\n",
    "\n",
    "translated_sentence = ' '.join(eng_sentence)\n",
    "\n",
    "print(translated_sentence)"
   ]
  },
  {
   "cell_type": "code",
   "execution_count": 47,
   "metadata": {},
   "outputs": [],
   "source": [
    "#EVALUTATION\n",
    "\n",
    "eval_file =  pd.read_csv(\"eng_deu_evaluation.txt\", sep='\\t', header = None, names=['eng', 'ger'], encoding = \"UTF-8\")\n",
    "eval_file['eng'] = eval_file['eng'].str.replace('[{}]'.format(string.punctuation), '')\n",
    "eval_file['ger'] = eval_file['ger'].str.replace('[{}]'.format(string.punctuation), '')\n",
    "\n",
    "evalX = tokenizer_ger.texts_to_sequences(eval_file['ger'].values)\n",
    "evalX = pad_sequences(evalX, maxlen=max_length, padding='post')\n",
    "\n",
    "\n"
   ]
  },
  {
   "cell_type": "code",
   "execution_count": 48,
   "metadata": {},
   "outputs": [],
   "source": [
    "prediction_probabilities = model.predict(evalX, verbose=0)"
   ]
  },
  {
   "cell_type": "code",
   "execution_count": 49,
   "metadata": {},
   "outputs": [
    {
     "name": "stdout",
     "output_type": "stream",
     "text": [
      "['dont', 'dont', 'tom you', 'dont', 'dont', 'dont you', 'dont you', 'dont you', 'dont you', 'tom', 'are you', 'dont you', 'tom you it', 'dont', 'tom', 'its is', 'tom tom', 'i like', 'i was', 'i was a', 'he a busy', 'you', 'dont you', 'dont you', 'tom tom', 'youre the', 'i am', 'dont', 'you', 'tom', 'he was', 'i like to', 'i like to', 'i like a', 'i was', 'im am', 'tom is', 'is is is', 'its is', 'its is', 'tom', 'dont you', 'tom', 'tom', 'dont you', 'tom tom', 'is is is', 'he was', 'are you', 'tom', 'tom you', 'dont', 'dont you', 'tom tom', 'dont you', 'you', 'he was a', 'he was a', 'im am', 'im am', 'i like you', 'i like to', 'i like it', 'i am', 'im am', 'i a a', 'i like it', 'im a a', 'im a', 'its the', 'its is', 'tom tom', 'tom is', 'tom is', 'youre are', 'are is', 'are', 'you you me', 'we you', 'he you a', 'he a a', 'he a a', 'im am', 'i like to', 'i like to', 'i like to', 'i am', 'i like a', 'i like to', 'i like', 'i like it', 'i like to', 'i like to', 'i am', 'im a', 'i am', 'you', 'tom is tom', 'he a it', 'its the', 'tom', 'dont', 'he you a', 'tom', 'tom you me', 'dont you', 'tom tom', 'tom is is', 'tom tom tom', 'tom is', 'tom is tom', 'tom is', 'tom tom tom', 'tom tom', 'tom tom tom', 'tom is is', 'tom is', 'tom is', 'dont you', 'i you you', 'he you a', 'can you to', 'were are', 'youre', 'dont you', 'he was it', 'he was', 'youre are', 'we was', 'are you', 'i you you', 'dont you', 'tom you it', 'tom tom tom', 'i cant a', 'tom you', 'dont', 'we you', 'dont you it', 'dont you', 'he was', 'dont you', 'he was a', 'he was a', 'he was', 'he was a', 'he was', 'he was a', 'i like to', 'i am', 'im am', 'i like a', 'you you it', 'i love', 'i like', 'i like a', 'i like a', 'i like a', 'i like', 'i a a', 'its is', 'its the', 'its the', 'tom tom tom', 'tom you', 'you you me', 'dont you', 'tom tom', 'you you it', 'its is is', 'you you it', 'its is a', 'dont', 'tom you me', 'tom you', 'tom is', 'tom is', 'tom tom', 'tom is', 'tom tom tom', 'tom is', 'tom is', 'tom is', 'tom is', 'tom is', 'dont you', 'we you it', 'you you it', 'we you to', 'dont you', 'are was', 'we you it', 'we you me', 'we you me', 'we you to', 'we you it', 'dont you me', 'youre are', 'dont you', 'youre are', 'are was', 'tom tom', 'tom tom', 'dont', 'you you me', 'dont you', 'are is', 'dont you', 'dont you', 'he was', 'are', 'are you', 'im am', 'i am', 'i was a', 'i am', 'i was a', 'i like to', 'i like to', 'i i to', 'i like', 'i like to', 'i was a', 'i like to', 'i you me', 'i was', 'i a a', 'im am', 'im am', 'im am', 'tom tom', 'tom is', 'tom', 'youre are', 'are you', 'its is', 'dont you', 'he was a', 'are is', 'are was', 'he was', 'its is', 'are is', 'he was a', 'come', 'tom you me me', 'dont tom', 'dont you', 'tom tom', 'youre are', 'are', 'i like to', 'can can you', 'are', 'are are', 'its is', 'tom', 'dont you', 'he is a', 'tom you it', 'are are', 'are are', 'are are', 'are is a', 'youre the', 'he is a', 'tom tom tom', 'tom tom a', 'tom tom me', 'tom is', 'tom tom tom', 'tom is is', 'tom is', 'tom is', 'tom is', 'tom tom tom', 'tom was it', 'tom tom', 'tom tom', 'tom was', 'tom was a', 'can can you', 'he was a', 'i like', 'i like a', 'dont you', 'we you', 'i was it', 'we was', 'we you it', 'are are', 'are', 'are you it', 'tom tom a', 'he was a', 'he you it', 'he was it', 'we you it', 'i can it', 'im am', 'were are', 'youre', 'are was', 'i am', 'were are', 'dont you', 'keep', 'are was', 'i i you you', 'youre are', 'are are', 'tom was', 'are are', 'we you me', 'can you to me', 'can you to', 'we you', 'dont you', 'we you it', 'we you me', 'dont you', 'you you to me', 'do you me', 'he a a', 'he was', 'he was a', 'he a a', 'i am', 'im not', 'i like a', 'i was a', 'i am', 'i a a', 'i was a', 'i am', 'i was a', 'i was a', 'i like it', 'i like to', 'i like to', 'i like', 'i like a', 'i like a', 'i am', 'i like to', 'i was tom', 'i am', 'i you a', 'i like', 'i like you', 'im a a', 'i like to', 'tom is', 'tom is a', 'you', 'are are', 'its is', 'its is', 'he you a', 'are was', 'are are', 'tom tom', 'tom you me me', 'dont', 'tom is', 'i i i', 'i i you you', 'dont', 'he was a', 'dont you', 'its a', 'i was a', 'dont you', 'you you to me', 'you you to me', 'its is', 'are is', 'tom', 'its is a', 'youre the', 'are are', 'tom tom tom', 'we you to', 'we you it', 'tom was it', 'tom tom tom', 'tom tom me', 'tom tom me', 'tom is', 'tom is', 'tom is', 'tom is a', 'tom is', 'tom is', 'tom is a', 'tom is', 'tom is', 'tom tom', 'tom is', 'tom is', 'tom is', 'tom is', 'tom is is', 'tom tom a me', 'tom is a', 'tom is', 'tom tom', 'tom tom it', 'tom is', 'tom is', 'tom is is', 'tom is is', 'tom tom a', 'tom is', 'tom was it', 'tom tom tom', 'tom was it', 'tom is', 'tom is tom', 'tom tom', 'tom is tom', 'do you me', 'im', 'im a', 'he is a', 'are are', 'tom you tom', 'he you a', 'he you it', 'are are', 'is is', 'he is a', 'youre', 'he a a', 'its is', 'can you me', 'can you me', 'are are', 'youre are', 'are is a', 'i like to', 'are are', 'dont', 'tom was it', 'its is', 'i i you', 'i i i', 'can you you me', 'can can you it', 'tom tom tom', 'can you me me', 'tom is', 'you you me me', 'tom you it me', 'you you me', 'you you it', 'i like', 'can you me', 'can you me', 'are are', 'youre are', 'youre are', 'its was', 'tom tom', 'he was a', 'he was a', 'im a', 'are was', 'im am', 'he was a', 'he was a', 'he was', 'tom is is', 'can you me me', 'he was a', 'we you to', 'i like', 'i like a', 'i like a', 'i like', 'i am', 'i like a', 'i was a', 'i was a', 'i was a', 'i like to', 'i like to', 'i am', 'i was a', 'i was a', 'i am', 'i like to', 'i like to', 'i like to', 'i i to', 'i like a tom', 'i like to', 'i you it', 'i am a', 'i you a', 'im am a', 'im a', 'i am', 'i a a', 'i a a', 'im not', 'im not', 'i was a', 'i like a', 'tom tom', 'tom is', 'tom is a', 'i i to', 'can can you', 'are is', 'are was', 'its is is', 'he a a', 'tom was a', 'tom it', 'dont you', 'tom tom tom tom', 'dont you', 'tom you', 'youre the', 'dont you me', 'do you me', 'tom was it', 'i you to', 'tom was it', 'are was', 'tom you it', 'do you me me', 'its is', 'its is', 'its is', 'its is a', 'its is', 'its is a', 'tom is', 'are are', 'tom was it', 'are was', 'he is a', 'its the', 'tom is is', 'youre are', 'tom is', 'tom is is', 'tom is', 'tom was it', 'tom tom tom', 'tom is', 'tom was', 'tom is is', 'tom is', 'tom is', 'tom is', 'tom is', 'tom is', 'tom is is', 'tom is', 'tom is', 'tom is', 'tom is', 'tom is', 'tom is a it', 'tom is', 'tom is is', 'tom tom', 'tom tom', 'tom is is', 'tom is', 'tom is tom', 'tom tom a', 'tom was a', 'tom is a', 'tom is tom', 'tom is a', 'tom tom tom', 'tom tom tom', 'tom tom tom', 'tom is', 'tom tom', 'tom is tom', 'tom is tom', 'tom is tom', 'tom is', 'tom is', 'tom is', 'tom is', 'tom was it', 'tom is a', 'tom is', 'tom tom tom', 'tom is is', 'im am', 'are are', 'we you', 'dont', 'we you to', 'its the', 'can can to', 'tom you it', 'he a a me', 'he is a', 'he was it', 'you you me', 'youre are', 'its is', 'its the', 'are are', 'he a', 'i am', 'he was', 'we was', 'are is', 'youre are', 'we you', 'i i i', 'can you to', 'can you to me', 'can you to me', 'we you me', 'dont you', 'he you a', 'he was it', 'you', 'tom you me me', 'tom tom', 'its is', 'dont you', 'can you me', 'we you me', 'dont', 'dont', 'tom tom tom', 'he was a', 'he was a', 'he a a it', 'he was a', 'he a a', 'im not', 'im was a', 'he was a', 'he not', 'he was a', 'he a a', 'he a a', 'can you to', 'dont you', 'he was', 'he was a', 'i was a', 'i like a tom', 'i like a', 'i was it', 'i cant a', 'i i to', 'i am', 'i i a it', 'i like a', 'i like a', 'i like a', 'i was it', 'i like a', 'i a a it', 'i was it', 'i like it', 'i i a', 'i like to', 'i like it', 'can you to', 'i like a', 'i like you', 'i like to', 'i am', 'i was a', 'i am busy', 'i am', 'i am', 'i like a', 'i like a', 'im', 'im not', 'i am', 'im am', 'i like to', 'i a a', 'i am', 'im not', 'im am', 'tom is', 'tom is', 'are is', 'he is a', 'its is busy', 'dont you', 'its is', 'he a a', 'its is', 'tom you me', 'tom you me', 'tom you me', 'tom tom tom', 'tom was it', 'i i to', 'i i you', 'we you it', 'i was a', 'he was a', 'tom is', 'tom', 'tom tom', 'tom tom', 'dont you', 'tom is a', 'youre the', 'tom was', 'we you', 'are you', 'im', 'he was', 'tom tom tom me', 'he is a', 'he was it', 'its is a', 'are is', 'are is', 'tom is a', 'tom is a', 'its not', 'tom tom tom', 'tom tom', 'dont you', 'are are', 'you you it', 'its is', 'its is', 'tom is a', 'tom is it', 'tom was a', 'tom is', 'tom tom me', 'tom is', 'tom was it', 'tom is', 'tom is', 'tom is', 'tom tom tom', 'tom was it', 'tom is', 'tom is', 'tom is', 'tom is a', 'tom was', 'tom is', 'tom is tom', 'tom is', 'tom is', 'tom is', 'tom is', 'tom is', 'tom is is', 'tom is', 'tom is', 'tom is is', 'tom is is', 'tom is is', 'tom is', 'tom tom', 'tom is', 'tom tom tom', 'tom is a', 'tom was a', 'tom was a', 'tom was it', 'tom is is', 'tom is a', 'tom is', 'tom is', 'tom is', 'tom is', 'tom tom', 'tom tom', 'tom is a', 'tom was a', 'tom tom', 'tom tom tom', 'i you', 'i i you', 'he a a', 'i like a', 'i like to', 'we you', 'i was a', 'youre', 'tom tom tom', 'its is', 'im not', 'its is', 'youre', 'are are', 'are are', 'he a a', 'he you a', 'we you to', 'tom is tom', 'i cant a', 'tom is a', 'we you me', 'we you me', 'its is', 'he is a', 'its is a', 'are are', 'we you it', 'dont you', 'he a a', 'you you a', 'tom is a', 'can can you', 'i like to', 'he was a', 'tom you', 'i was a', 'were are', 'its is', 'you you a', 'we you a', 'were are', 'we you it', 'can can you me', 'are is', 'tom tom', 'tom you me', 'tom was it', 'tom tom', 'we you me', 'tom you it', 'i was a', 'dont you', 'dont you', 'tom you it', 'can you you me', 'its is a', 'dont', 'tom tom tom', 'i was a', 'he a a', 'he was a', 'he was a', 'i cant a it', 'he a', 'he was a', 'he was it', 'he was', 'he was it', 'he a a', 'he was a', 'he was a', 'im not', 'its is', 'tom is', 'he a a', 'he a a', 'you you me me', 'tom is a', 'tom is a', 'its is a', 'i like a', 'im not', 'im a', 'im a a', 'im a a', 'i was a', 'i like a', 'i am', 'i am', 'i like a', 'i like a', 'i like a', 'im a', 'i am', 'i was a', 'i a a', 'i like you', 'i was a', 'im am', 'i am', 'i like a', 'i was a', 'i like a', 'i a a', 'i like you', 'i like a', 'i a a', 'he a a', 'i was a', 'i like a', 'i cant a', 'i like', 'i like to', 'i like it', 'i like it', 'i cant a', 'i like to', 'i like a', 'i a', 'i was a', 'im', 'i i to', 'i like you', 'i am', 'i a', 'i was', 'i am', 'i like a', 'i am', 'im a a', 'im a a', 'i like a', 'i like a', 'im not', 'im not', 'i am', 'he a a', 'tom is is', 'its is is', 'tom is is', 'its is a', 'is is a', 'tom is is', 'tom is a', 'its is a', 'he a a', 'its is a', 'its is', 'its not', 'we you', 'are is', 'tom was a', 'tom was', 'you you me', 'dont you', 'tom tom', 'we you it', 'tom you it', 'he was it', 'its is', 'its is', 'he a busy', 'youre are', 'tom tom tom', 'tom tom tom', 'tom tom tom', 'tom tom tom', 'tom you it', 'are you', 'he was a', 'are you', 'are are', 'tom tom tom tom', 'are is', 'tom tom', 'tom tom tom', 'you you it', 'its is', 'its is', 'its is is', 'he a a', 'are is', 'he was it', 'i am a', 'its is busy', 'he is a', 'tom tom', 'its is', 'are you', 'are are', 'he a a', 'tom is a', 'i am', 'its is a', 'tom tom', 'tom is', 'tom tom tom', 'tom is', 'tom was it', 'tom was it', 'tom tom tom me', 'tom is a', 'tom tom', 'tom tom tom', 'tom was', 'tom was', 'tom is', 'tom is a', 'tom is', 'tom is a', 'tom tom tom', 'tom is a', 'tom was', 'tom', 'tom tom tom', 'tom is', 'tom is', 'tom is', 'tom is is', 'tom is is', 'tom is', 'tom is', 'tom is', 'tom is', 'tom is', 'tom is', 'tom is a', 'tom is', 'tom is is', 'tom is', 'tom is is', 'tom is', 'tom you me', 'tom is', 'tom is', 'tom is tom', 'tom is', 'tom was it', 'tom is', 'tom is', 'tom is a', 'tom is a', 'tom tom tom', 'tom it it', 'tom was a', 'tom was it', 'tom is a', 'tom is tom', 'tom is is', 'tom is', 'tom is', 'tom is', 'tom is', 'tom is', 'tom is', 'tom is tom', 'tom is', 'tom is tom', 'tom is is', 'tom is tom', 'tom is', 'tom is', 'tom is tom', 'tom is tom', 'tom is a', 'tom was a', 'are is', 'tom', 'are are', 'dont you', 'are are', 'i was', 'i you a', 'he a a', 'i was it', 'i i to', 'i you', 'are', 'dont you', 'are you it', 'he a a', 'you you a', 'he is a', 'tom is a', 'its is', 'he is a', 'we you it', 'he is a', 'its is', 'its is a', 'can you me', 'we you', 'its is', 'can you to', 'you you it', 'are is', 'he a a', 'im a a', 'he a a', 'we you it', 'i was it', 'can can you', 'he you a', 'tom was', 'its a a', 'its is', 'im a', 'tom tom me', 'youre are', 'its the', 'were are', 'youre are', 'are is', 'i like', 'dont you', 'tom was it', 'are', 'he was a', 'i i i it', 'can can to me', 'we you it', 'i like a', 'he you it', 'tom you it', 'you you me', 'can you me', 'i was a', 'he you it', 'tom found it', 'we you', 'we you a', 'he you a', 'we you it', 'you you me', 'tom tom', 'its is', 'he was it', 'dont', 'tom you a', 'tom you me', 'tom was it', 'youre are', 'are', 'are is', 'he was a', 'tom tom tom', 'dont', 'you you me', 'i cant a', 'i a a', 'he a a', 'he was a', 'he a a', 'he a a', 'he is a', 'he a a', 'tom is a', 'tom is', 'can you me me', 'he a a', 'i was a', 'i was a', 'i am', 'i was', 'i was a', 'i was a', 'i a a', 'i like to', 'i was a', 'i like a', 'i like it', 'i am a', 'i cant a', 'i like a', 'i like', 'i like a', 'i i a', 'i am', 'i was a', 'i hate', 'i like to', 'i like a', 'i was a', 'i was a', 'i was a', 'i was a', 'i like a', 'i a a', 'i was a', 'i like a', 'i you to', 'i like a', 'i cant a', 'i i a', 'i like to', 'i was a', 'i a a', 'i was a', 'i like a', 'i like a', 'i am', 'im not', 'im a a', 'im a a', 'i like a', 'im a a', 'i was a', 'im a', 'im a a', 'im not', 'im not', 'im im', 'i am', 'im am busy', 'its is', 'you you me', 'youre the', 'its is', 'its is is', 'its is', 'its is is', 'its is', 'tom is', 'tom was it', 'tom you a', 'dont you', 'he was a', 'i a a', 'he a a', 'tom tom', 'tom you me', 'tom tom tom', 'dont you', 'dont', 'tom tom tom', 'can you me me', 'can you you me', 'we you', 'you you me', 'we you me', 'dont you', 'i was a', 'are is', 'you you me', 'he was', 'we you me', 'tom tom', 'we you', 'its is', 'its is', 'he is a', 'are is', 'its a', 'he a a', 'its the', 'its is is', 'its is', 'its is is', 'youre is', 'are is', 'its the', 'its is', 'i can to', 'i you a', 'are are', 'tom is', 'are are', 'its the', 'its is a', 'he a a', 'are are', 'he a a', 'are is', 'are is', 'tom is a', 'tom tom a', 'tom is', 'tom tom', 'tom is a', 'tom was a', 'tom is', 'tom tom me me', 'tom is', 'tom is', 'tom is', 'tom is', 'tom was', 'tom is a', 'tom is is', 'tom is is', 'tom is a', 'tom is', 'tom is', 'tom is is', 'tom is is', 'tom is is', 'tom is', 'tom is', 'tom tom tom', 'tom tom a', 'tom is', 'tom was it', 'tom tom a', 'tom tom a', 'tom is tom', 'tom tom', 'tom is is', 'tom is', 'tom is', 'tom was', 'tom tom it', 'tom tom it', 'tom is', 'tom is tom', 'tom is a', 'tom is', 'tom is', 'tom is it', 'tom was', 'tom is is', 'tom tom', 'are was', 'youre are', 'dont you', 'can can me', 'i cant it', 'we you a', 'can can you', 'i cant a', 'i saw a', 'i like you', 'you you me', 'he was a', 'he a it', 'its the', 'he a a', 'we you to', 'im not', 'im not', 'i you it', 'are', 'its not', 'i was a', 'tom tom', 'he a a', 'he you a', 'are you', 'we you me', 'he you a', 'are you', 'i like to', 'its is is', 'its is', 'its is', 'he was a', 'he was a', 'he you a', 'i like you', 'he was a', 'i i a', 'dont you', 'can you to', 'its is', 'tom was', 'tom you', 'he was a', 'its is', 'can can to', 'you you me', 'were the', 'we you', 'were are', 'are are', 'tom was', 'its is', 'i like to', 'i like it', 'are you', 'are you', 'i like a', 'dont you me', 'are was', 'are was', 'he was', 'tom tom', 'i was a', 'do you me me', 'can can you', 'its the', 'tom you me me', 'i like you', 'tom you me me', 'dont you', 'we you me', 'i like', 'are you', 'can can you', 'dont you', 'can you you me', 'i cant a', 'i i to', 'tom was it', 'i like it', 'its is', 'he was a', 'is is a', 'dont you', 'i you', 'are', 'he was a', 'can you a', 'tom you a', 'i was a', 'he was a', 'he a a', 'he was it', 'he was', 'he a a', 'im a a', 'he a a', 'he a a', 'can you to', 'he was', 'he a a', 'he is a', 'he you a', 'dont you', 'its is is', 'i a a', 'im a a', 'im am', 'i like a', 'i i a it', 'i like a', 'i cant a', 'i am a', 'i was a', 'i like a', 'i like a', 'i was a', 'i was', 'i was a', 'i was a', 'i like it', 'i like to', 'i like a', 'he you a', 'i like a', 'i am a', 'im a a', 'i a a', 'i like to', 'i like a', 'i like a', 'im not', 'i like a', 'i like a', 'i was it', 'im not', 'i like', 'i was a', 'i was a', 'im not', 'i like a', 'he was a', 'i like', 'i like a', 'i like a', 'i like it', 'i cant a', 'i was a', 'i like it', 'i cant a', 'im not', 'im am a', 'im am', 'i cant a', 'im a a', 'im a a', 'i like to', 'im not', 'im am busy', 'im a a', 'im a a', 'im a a', 'i like to', 'i was a', 'tom tom tom', 'tom tom', 'tom are', 'are are', 'is is a', 'its is is', 'tom found it', 'he was it', 'are was', 'tom you', 'tom was', 'he was a', 'he was a', 'are is', 'he was a', 'are is', 'we you it', 'its is a', 'its is', 'its the', 'its is a', 'tom was a', 'tom was it', 'dont you', 'tom is', 'are you', 'he was it', 'tom is is', 'i i a', 'its is a', 'he a', 'its is is', 'he is a', 'dont you', 'dont you', 'tom you', 'tom', 'tom tom tom', 'he is a', 'he you a', 'tom you it', 'he a a', 'its is is', 'you you a', 'tom was a', 'dont you', 'are was', 'tom you me', 'can cant a', 'we you it', 'tom is', 'are is', 'he a a', 'he a', 'are you', 'he is a', 'tom you it', 'its is', 'we you a', 'you you it', 'he was a', 'are you', 'youre are', 'he you a', 'can you to', 'its is', 'are are', 'are is', 'its is', 'its is a', 'its is a', 'its is', 'its is', 'tom tom', 'tom is a', 'tom tom tom', 'tom is', 'tom was it', 'tom it a', 'tom tom a', 'tom is', 'tom tom a', 'tom is a', 'tom is', 'tom tom tom', 'tom is', 'tom is tom', 'tom is a', 'tom is is', 'tom is a', 'tom tom me', 'tom is is', 'tom is', 'tom is is', 'tom is', 'tom is a', 'tom is a', 'tom tom tom', 'tom tom tom', 'tom was a', 'tom is tom', 'tom tom', 'tom is a', 'tom was', 'tom is', 'tom tom a', 'tom was a', 'tom is', 'tom is', 'tom is a', 'tom is a', 'tom tom tom me', 'tom was it', 'tom was', 'tom was', 'tom was it', 'its is', 'he you a', 'is is a', 'im was', 'its the', 'he a a', 'can can you', 'he was a', 'i cant it', 'i i to you', 'he it a me', 'its is', 'im a', 'im not', 'were is', 'we you', 'he was a', 'he you it', 'i can to', 'tom is tom', 'he you a', 'its is', 'he was', 'are you a', 'you you me', 'are you', 'its is', 'he is a', 'he was a', 'i love', 'he was it', 'he a a', 'he is a', 'he a it', 'we you it', 'i i you it', 'do you me', 'can cant it', 'i cant it', 'we you', 'can can to', 'can can a', 'i a a', 'he a a', 'i cant a', 'he you a', 'do you me', 'tom was', 'im not', 'tom tom', 'are are', 'tom was', 'its a', 'are you', 'were are', 'its is', 'its is', 'its was', 'its is', 'tom was it', 'its is', 'can you me', 'we you to', 'are is', 'do you me', 'can you me me', 'tom you me', 'youre the', 'he was it', 'tom you me me', 'tom you me me', 'tom tom tom', 'he you a', 'we you it', 'i like a', 'i cant a', 'i i to', 'he was it', 'we you to', 'we you me', 'we you it', 'can you you', 'can can you', 'we you', 'dont', 'you you you', 'tom you', 'im was', 'youre are', 'you you me', 'he was', 'you you me', 'tom was', 'you', 'i you', 'tom was', 'i like to', 'can you me', 'we you', 'he was a', 'you you me', 'he was a', 'im a a', 'he was a', 'he a a', 'he a a', 'he a a', 'he a a', 'he a a', 'i was a', 'he a a', 'can you you me', 'tom is a', 'i you a', 'tom you a', 'did you me me', 'i like a', 'i like a', 'i was it', 'i was a', 'i like you', 'i like a', 'i am', 'i a a', 'i like a', 'i was a', 'i like a', 'i like a', 'i like a', 'i was a', 'i was it', 'im not', 'i was a', 'i like a', 'i like it', 'i was a', 'i a a', 'i like a', 'i was a', 'im am a', 'i love', 'i was a', 'i am a', 'tom tom a tom', 'i was a', 'i like a', 'i like a', 'i was a', 'i was a', 'i like you', 'i was a', 'i cant a', 'i like a', 'i was a', 'i like it', 'i was a', 'i like to', 'i am a', 'im a a', 'i was a', 'i a a', 'i was a', 'im a', 'i like a', 'i you to', 'i was a', 'i am', 'i was a', 'i like a', 'i cant a', 'i was a', 'i was a', 'i am', 'i a a', 'i like a', 'im a a', 'i like a', 'i you tom', 'im a a', 'im a a', 'i a a', 'i am a', 'im not', 'i was a', 'i was', 'i am', 'tom is tom', 'tom is', 'tom', 'tom is', 'he a a it', 'im a', 'he a a', 'its not', 'is was a', 'he was', 'its is is', 'he is a', 'its is', 'its is', 'tom is', 'tom', 'tom you me me', 'tom was it', 'you you me', 'you', 'are you it', 'he a a', 'are you', 'tom is a', 'its is a', 'i am a', 'he a a', 'he a a', 'dont you', 'its the', 'i like a', 'you', 'tom tom', 'tom tom tom', 'he assist hes hes hes hes hes hes hes hes hes youre youre youre youre youre youre youre youre youre youre youre youre youre youre youre youre youre youre youre', 'tom was it', 'he was a', 'he a a', 'i like a', 'i was a', 'you', 'tom you me', 'can you me me', 'we you it', 'tom you me', 'he was it', 'did you a me', 'its is', 'he was a', 'its is', 'are is', 'he is a', 'its is', 'its is', 'youre are', 'are are', 'its is', 'its is is', 'its is', 'are are', 'tom is', 'tom is', 'tom is it', 'its is', 'he a a', 'tom', 'its not', 'are are', 'dont you', 'dont you', 'we you', 'he is a', 'are are', 'are was', 'its is is', 'its is a', 'tom is a', 'its is', 'he is a', 'youre is', 'tom was', 'tom tom tom', 'tom tom tom', 'tom tom', 'tom was me', 'tom is', 'tom tom tom', 'tom is a', 'tom is tom', 'tom tom', 'tom is', 'tom is a', 'tom is tom', 'tom is a', 'tom is', 'tom is a', 'tom is tom', 'tom is', 'tom is', 'tom is a a', 'tom is a', 'tom is a', 'tom is is', 'tom tom tom', 'tom tom tom', 'tom is is', 'tom is is', 'tom is is', 'tom is a', 'tom is is', 'tom is is', 'tom', 'tom tom tom tom', 'tom was a', 'tom tom', 'tom was', 'tom tom a', 'tom was a', 'tom tom tom', 'tom is', 'tom is', 'tom was tom', 'tom tom me', 'tom is a', 'tom is', 'tom was it', 'tom is', 'tom was a', 'tom is', 'tom tom tom', 'tom was a', 'tom is is', 'tom are', 'tom is', 'tom is', 'he a a', 'i cant a', 'youre', 'i a a', 'we you me', 'dont you', 'i like to', 'we was', 'i like it', 'youre', 'he was', 'its the', 'we you it', 'dont you', 'can can you', 'he is a', 'tom is is', 'he was a', 'we you it', 'we you', 'dont you', 'tom tom', 'are are', 'its is a', 'tom it a', 'its is', 'he a a', 'he was a', 'he you a', 'he a a', 'he you a', 'he you a', 'tom it a', 'i can to', 'can can you', 'i a a', 'he a a', 'tom you a me', 'i cant it', 'i cant a', 'i you to', 'i like it', 'i cant it', 'you you me', 'tom you a', 'are are', 'are are', 'im a', 'tom is a', 'its a a', 'he a a', 'its a', 'were are', 'are are', 'he was', 'he is', 'youre the', 'were are', 'youre are', 'tom is', 'he a a', 'he was a', 'he is a', 'are are', 'he was a', 'he a a', 'we you', 'he was it', 'is is a', 'i i a', 'i i to it', 'can can you', 'he is a', 'tom you it', 'he was it', 'we you me', 'he a a', 'dont you', 'can you to me', 'you you it', 'do you to', 'im was', 'you you me', 'do you me', 'tom you me me', 'tom tom tom tom', 'dont you', 'do you me me', 'we you it', 'tom you me', 'its is', 'are is', 'he is a', 'we you it', 'he found it', 'he a a', 'i was a', 'i was a', 'he a a', 'he a a', 'i was a', 'he a a', 'he was a', 'he a', 'im a', 'its not', 'i was a', 'i was a', 'im was', 'he was a', 'he a a', 'its not', 'he a a', 'he is a', 'he was', 'he a a', 'he is a', 'he you a', 'i was a', 'i a a', 'i i a', 'i cant a', 'i like', 'i like a', 'i cant a', 'i a', 'i like a', 'i was a', 'i was a', 'i was a', 'i like you', 'i like a', 'i a a', 'im am', 'i was a', 'i was a', 'i was a', 'i was a', 'i am', 'i was a', 'i was', 'i cant a', 'i was a', 'i a a', 'i like it', 'i like a', 'i like a', 'i cant a', 'i like a', 'i was a', 'i like a', 'i like a', 'i am a', 'i like to', 'i like a', 'i like a', 'i was a', 'i like a', 'he a a', 'i like a', 'i like a', 'i cant a', 'i like a', 'im not', 'i was it', 'i was a', 'i was it', 'i you', 'i cant a', 'i cant a', 'i was a', 'i was a', 'i like a', 'i like a', 'i like a tom', 'i was a', 'i like a', 'im a a', 'im a a', 'i a a', 'im a', 'i like to', 'im not', 'im a a', 'im not', 'i a a', 'i a a', 'i a a', 'i like a', 'i am', 'is is a it', 'is is a', 'tom is a', 'tom is', 'he found a', 'its the', 'are you', 'are is', 'its is', 'he a a', 'he is a', 'its is a', 'its is busy', 'he was a', 'we you', 'he a a', 'tom', 'tom you me', 'tom you it', 'tom was a', 'its is', 'he a a', 'you you a', 'dont you', 'tom you', 'tom tom', 'tom tom tom', 'are was', 'are you', 'its is', 'tom tom', 'are you', 'its is', 'its is is', 'he you a', 'its is is', 'its not busy', 'he is a a', 'its is', 'tom is a', 'tom is a', 'we you', 'its a', 'youre is', 'tom tom', 'he was a', 'he you a', 'tom you', 'can you me', 'its the', 'youre the', 'are are', 'its is is', 'its the', 'he a', 'its is', 'tom was it', 'tom is a', 'tom is', 'tom it a me', 'tom tom tom', 'tom tom tom tom', 'tom is tom', 'tom is a', 'tom is a', 'tom is a', 'tom is a', 'tom is a', 'tom is', 'tom was', 'tom is', 'tom is is', 'tom is', 'tom is a', 'tom is a', 'tom is', 'tom is is', 'tom is', 'tom is tom', 'tom was it', 'tom was a', 'tom found a', 'tom is', 'tom tom tom', 'tom was', 'tom was a', 'tom is is', 'tom tom', 'tom tom', 'tom was it', 'tom is', 'tom tom tom', 'tom tom tom', 'tom is is', 'tom is', 'tom is', 'tom is a', 'tom was a', 'tom tom', 'tom was', 'tom tom me', 'tom is', 'can you me me', 'i a', 'i was', 'i was', 'tom was it', 'its is', 'i am', 'i i a it', 'tom is', 'you', 'he you it', 'he you it', 'he is a', 'he was a', 'he was it', 'tom you me', 'dont you', 'can can you me', 'tom you a me', 'he was it', 'dont you', 'he a a', 'he is a', 'tom tom a', 'he a a', 'we you to', 'we you', 'are you', 'can can you', 'tom you me me', 'are you', 'its is', 'its is', 'tom it a', 'tom is', 'did you me', 'can you me', 'can you me me', 'tom tom tom', 'tom is a it', 'he is a', 'tom you it', 'its is', 'can you you me', 'he was a', 'i can it', 'he was', 'tom was a', 'i cant a', 'i was it', 'tom you it', 'its is', 'youre the', 'its is is', 'we you', 'its is', 'are are', 'he was a', 'he a a', 'can can you', 'its a', 'im im hes hes hes hes hes hes hes hes hes hes youre youre youre youre youre youre youre youre youre youre youre youre youre youre youre youre youre youre', 'are was', 'are you', 'we you to', 'tom tom me', 'are', 'you', 'are', 'can you you it', 'can can you', 'do you me me', 'i cant a', 'he was it', 'tom you me', 'tom you me', 'tom you it', 'did you it', 'tom was a', 'tom it me', 'its is', 'i like it', 'i i to', 'we you to', 'we you to', 'dont you', 'are you', 'tom was it', 'dont you me', 'you you me', 'i like a', 'dont you', 'dont you', 'can you a', 'tom you me', 'we you it', 'tom tom me', 'you you it', 'we you', 'tom was', 'dont you', 'youre are', 'can you to me', 'dont you', 'you you me', 'he a a', 'he was it', 'he a a', 'i a a', 'he was it', 'its not', 'i you a', 'he a a', 'he you a', 'he you a', 'i you a', 'he a a', 'he a a', 'he was', 'he was busy', 'he was a', 'he a a', 'its is', 'you you me me', 'he a a', 'he a a', 'he a a', 'he was a', 'i like a', 'im a a', 'i a a', 'i was a', 'i was a', 'i i i', 'i like a', 'i a a', 'i was a', 'i was a', 'i like a', 'i like to', 'i like a', 'i like a', 'i like to', 'he a a', 'i like a', 'i like a', 'i like a', 'i was a', 'i was a', 'i like a', 'im a a', 'i like a', 'i cant a', 'i like a', 'i like a', 'i was a', 'i was a', 'i like a', 'i like a', 'i was a', 'i was a', 'i like a', 'i am', 'i like it', 'i was a', 'i like a', 'i like a', 'i a a', 'i like a', 'i like a', 'i like a', 'i like a', 'i am a', 'i was a', 'he was a', 'im a a', 'im a a', 'i like you', 'i cant a', 'i like a', 'i am', 'i a a', 'i can it', 'i am', 'im a a', 'i like a', 'im not', 'i a a', 'i cant a', 'i am a', 'i like a', 'i like a', 'im not', 'im a a', 'he a a', 'im a', 'im a a', 'i was a', 'tom you me', 'tom is a it', 'is is a', 'dont you', 'tom is is', 'its a', 'its is', 'its is a', 'its is a', 'its is', 'he a a', 'he is a', 'its is is', 'its is a', 'he is a', 'can you me', 'he was a', 'you you me', 'its is', 'its is a', 'he a', 'dont you', 'tom you me', 'tom you me', 'tom was a', 'tom you me', 'he a a', 'dont you', 'tom you a', 'you you it', 'tom you', 'he a a', 'do you me', 'dont you', 'i was a', 'he a a', 'tom it', 'tom are', 'he a a', 'are are', 'im am', 'we you me', 'he you a', 'are is', 'he was', 'tom is a', 'tom is a', 'tom is a', 'tom it me', 'he you a', 'are', 'tom you it', 'dont', 'tom you me', 'tom you a', 'tom is it', 'i like a', 'he a a', 'its is', 'he is a', 'its is', 'tom is a', 'is is a', 'its is a', 'youre', 'dont you', 'its is is', 'tom is', 'were are', 'its is', 'are is', 'its is a', 'its is', 'he was a', 'he a a', 'we you', 'tom you it', 'we you me', 'dont you', 'im a busy', 'its is is', 'its is is', 'its the', 'tom is is', 'he a a', 'he is a', 'its is a', 'he is a', 'he a it', 'tom is', 'tom was', 'tom was a', 'tom is it', 'tom was it', 'tom is', 'tom was it', 'tom was a', 'tom tom a', 'tom it a me', 'tom is', 'tom tom tom', 'tom is a', 'tom tom tom', 'tom tom tom', 'tom tom', 'tom was a', 'tom is', 'tom is is', 'tom was it', 'tom is', 'tom is', 'tom is a', 'tom is is', 'tom is is', 'tom is', 'tom is a', 'tom is', 'tom is is', 'tom is a', 'tom is a', 'tom is', 'tom is is', 'tom is', 'tom is', 'tom was', 'tom is', 'tom was it', 'tom tom', 'tom was it', 'tom was a', 'tom tom', 'tom is a', 'tom tom a', 'tom is', 'tom is', 'tom is', 'tom is', 'tom tom tom', 'tom tom tom', 'tom is a', 'tom is tom', 'tom is', 'tom is a', 'tom is a', 'tom was it', 'tom is a', 'are is', 'im a', 'can you me', 'im was', 'i like to', 'we you it', 'dont you', 'tom you it', 'he a', 'im not', 'we was', 'he you it', 'dont you', 'he you a', 'you you me', 'tom tom tom', 'he a a', 'he is a', 'he is a', 'you you it', 'i i to', 'its is', 'we you me', 'can you me', 'did you a me', 'did you a me', 'he is a', 'tom you it', 'you you a me', 'did you a', 'tom was a', 'are was it', 'tom', 'can can me', 'can can to', 'youre', 'you was it', 'i you', 'we was', 'i like it', 'can can a', 'we you it', 'tom was', 'he was a', 'we you', 'im was', 'its not', 'he was', 'he was a', 'its not', 'tom is', 'he a a', 'tom', 'he was it', 'i i i', 'i cant it', 'is is a', 'tom are', 'tom was a', 'i cant it', 'tom you it', 'is is a', 'tom', 'i you to', 'he was', 'tom', 'can you me', 'tom you me me', 'i like to', 'he you a', 'he was it', 'tom was a', 'tom tom tom', 'we you it', 'we you', 'he was it', 'can you a', 'we you to', 'we you it', 'are are', 'its a', 'i like it', 'can you me', 'tom you a', 'he you a', 'he a', 'i a a', 'he a a', 'i was a', 'he a a', 'he a a', 'i was a', 'he a a', 'he a a', 'he a a it', 'he a a', 'he a a', 'we you it', 'he a a', 'im a a', 'its a', 'im not', 'its a a', 'he a a', 'i a a', 'can you me', 'i am', 'i like a it', 'i am a', 'i i a', 'i like a', 'i like a', 'i like to', 'i was a', 'i was a', 'i like a', 'i like a', 'i like a', 'i like a', 'i like a', 'i was a', 'i am', 'i was a', 'i like a', 'i was', 'i am', 'i like a', 'i was a', 'i was a', 'i like a', 'i like a', 'i like a', 'i like a', 'i like you', 'i like a', 'i was a', 'i cant a', 'i like a', 'i like a', 'i was a', 'i like you', 'i like a', 'im am', 'i like a', 'i you', 'i like a', 'i am a', 'i like it', 'i like a', 'i like a', 'i like a', 'i am', 'i like a', 'i like a', 'i was a', 'i like a', 'i like you', 'i like to', 'i like to', 'i cant a', 'i like a', 'i like a', 'i like a', 'i a a', 'i like a', 'i am', 'i cant a', 'i like a', 'i was a', 'i am', 'can can it', 'i am', 'i like a', 'i am a', 'im a a', 'i a a', 'im a', 'im a busy', 'i a a', 'i a a', 'i a a', 'im a a', 'i cant a', 'he a a', 'i was a', 'im not', 'i like a', 'can can you it', 'its is is', 'tom you me', 'he is a', 'its was', 'he a a', 'its is a', 'its is', 'he a a', 'he a a', 'its is', 'tom was', 'he a a', 'he found a', 'tom is', 'i i you', 'i i i it', 'tom was it', 'he a a', 'do you to me', 'you you it', 'i like to', 'can cant it', 'he is a', 'are you', 'tom tom', 'tom tom', 'i cant a', 'its is', 'he was it', 'tom was', 'its is a', 'he you a', 'tom you it', 'he a a', 'he is a', 'you', 'who was it', 'i was it', 'you you it', 'he a a', 'i was', 'tom you it', 'tom you me', 'he a', 'tom is is', 'youre the', 'its is is', 'he is a', 'he was a', 'its is', 'he a a', 'are is', 'its a', 'he a a', 'its is', 'tom tom tom', 'its is a', 'he was a', 'its is is', 'tom is is', 'its is', 'its is', 'its not', 'are you', 'are you', 'tom was it', 'he was a', 'its is', 'he a a', 'tom is a', 'its is', 'tom is', 'are are', 'he a a', 'are', 'tom is a', 'tom is a', 'tom is', 'tom was a', 'tom was it', 'tom is a', 'tom was a', 'tom was a', 'tom was it', 'tom is', 'tom is a', 'tom was', 'tom is', 'tom is tom', 'tom is a', 'tom was a', 'tom is tom', 'tom was a', 'tom it a', 'tom is a', 'tom is a', 'tom is a', 'tom is a', 'tom was', 'tom tom a', 'tom was it', 'tom tom me', 'tom is is', 'tom is is', 'tom is is', 'tom is', 'tom was it', 'tom is', 'tom was it', 'tom is a', 'tom you me', 'tom was a', 'tom tom me', 'tom you me', 'tom is a', 'tom was a', 'tom tom me', 'tom tom', 'tom tom a', 'tom is is', 'tom was a', 'tom tom', 'tom is a', 'tom is', 'tom was it', 'tom tom', 'tom is a', 'tom is is', 'tom was', 'tom tom me', 'tom is a', 'he a a', 'youre are', 'are you', 'i was a', 'its is', 'i was a', 'i you it', 'i a a', 'can can a', 'you you me', 'tom you it me', 'im a', 'he a', 'im was', 'he a a', 'tom you it', 'dont you', 'he was it', 'he you a', 'dont you', 'can you me me', 'i you a', 'its is is', 'he a a', 'he is a', 'he you a', 'i like to', 'can you me', 'i i to', 'i i to you', 'he was a', 'is is a', 'is is a', 'its is', 'he was a', 'he a a', 'its is', 'he a a', 'he a a', 'he a a', 'he you a', 'you you a', 'i was', 'i was a', 'tom you me', 'i cant it', 'i you a', 'its is a', 'i you it', 'its the', 'its the', 'its is is', 'he a', 'tom is', 'tom is a', 'are you', 'he a a', 'dont you me', 'do you to me', 'he was a', 'he you a', 'its is', 'i you to', 'i i i it', 'i cant a', 'he a it', 'are', 'tom was a', 'you you me me', 'tom you me', 'you you it', 'we you it', 'can cant a', 'tom you it', 'i am', 'im a', 'he was a', 'tom tom tom', 'i like', 'you you a', 'dont you', 'he was a', 'dont you', 'are are', 'he a a', 'you you a', 'we you', 'tom', 'are is', 'tom it a', 'can you to me', 'i a a', 'he a a', 'he a a', 'he was a', 'he was a', 'he was a', 'i a a', 'i was a', 'he a a', 'he a a', 'he was a', 'he was a', 'he a a', 'he a a', 'we you to me', 'i was a', 'i was a', 'he a a', 'he a a', 'he you it', 'im a a', 'i was a', 'he a a', 'he a a', 'he was a', 'i cant a', 'he a a', 'he was', 'he a a', 'he a a', 'are are', 'he a a', 'i i to it', 'he is a', 'he is a', 'he a a', 'are are', 'i was a', 'i like a', 'i was a', 'i like to', 'i hate', 'i cant a', 'i like a', 'i i a', 'i hate', 'i cant a tom', 'i cant a', 'i like a', 'i was a', 'i am it', 'i like a', 'i was a', 'i a a', 'i was a', 'i like a', 'i was it', 'i like a', 'i cant a', 'i like a', 'i like a', 'i cant a', 'i like a', 'i was a', 'i a a', 'i was a', 'i was a', 'i like a', 'i like you', 'i like a', 'i like a', 'i like a', 'i like a', 'i was a', 'i was it', 'i like a', 'i like a', 'i was a', 'i like a', 'i was a', 'i like a', 'i was a', 'i am busy', 'i am a', 'im a a', 'i am a', 'i like a', 'i like a', 'i like a', 'i was a', 'i i to it', 'i like a', 'i was a', 'i cant a', 'i like a', 'i like a', 'i was it', 'i a a', 'i am a', 'he you a', 'i like a', 'i like a', 'i like to', 'i a a', 'i am', 'im a a', 'im a a', 'i like a', 'can can a', 'its is a', 'tom was it', 'he a a', 'its is', 'tom is', 'its was', 'its is', 'its is', 'tom is a', 'he a a', 'tom was it', 'tom was a', 'he you me', 'he was a', 'its the', 'its is a', 'i i i it', 'i i i it', 'tom was a', 'its is', 'he a a', 'he is a', 'he is a', 'its is', 'he is a', 'he is a', 'can you me', 'you you me', 'im a', 'tom was', 'tom tom me', 'he a a', 'are', 'dont you', 'are is', 'tom is a', 'i was a', 'are the', 'he was a', 'tom was busy', 'tom is is', 'he is a a', 'i like a', 'are is', 'tom tom tom', 'tom you me', 'tom is a', 'i like a', 'youre the', 'its is', 'i like you', 'are is', 'its is', 'its is', 'its is', 'tom is a', 'are is', 'he a a', 'tom', 'im was', 'its is', 'he a a', 'he was a', 'are is it', 'are you', 'youre are', 'its is', 'its is', 'dont you', 'its a', 'its is', 'its is', 'tom was a', 'are is', 'we you', 'he you a', 'tom is', 'tom was a', 'tom was it', 'tom tom a', 'tom tom it', 'tom is a', 'tom was it', 'tom tom tom', 'tom it a', 'tom is a', 'tom is', 'tom is a', 'tom is a', 'tom is a', 'tom is a', 'tom tom tom', 'tom is is', 'tom was it', 'tom is', 'tom is', 'tom is a', 'tom was', 'tom tom', 'tom is', 'tom is a', 'tom is a', 'tom is is', 'tom is is', 'tom is a', 'tom is is', 'tom is', 'tom is', 'tom tom a me', 'tom was a', 'tom is', 'tom was it', 'tom is a', 'tom is a', 'tom was me', 'tom is a', 'tom was', 'tom was it', 'tom is', 'tom tom a', 'tom tom', 'tom is', 'tom found a', 'tom is a', 'tom you me', 'tom you me', 'tom was it', 'tom was', 'tom was it', 'tom is tom', 'are you', 'are you', 'we you', 'he a a', 'i was', 'i i a', 'i i a', 'i a a', 'he a a', 'he was a', 'i like it', 'he was it', 'can you me', 'dont you', 'can you to', 'he was a', 'you you it', 'dont you', 'im not', 'dont you', 'i i a', 'he was a', 'he was it', 'he you a', 'tom is a', 'he is a', 'its is is', 'tom is a', 'dont you', 'are', 'tom you me me', 'is is a', 'dont you', 'tom you a', 'tom was', 'he you a me', 'you you a', 'i i a', 'you you me', 'you you it', 'tom you me me', 'tom was it', 'its a', 'can you me', 'i you to', 'he was a', 'he a a', 'i i you', 'he a a', 'he you a', 'he was a', 'i was a', 'can you me', 'tom you it', 'can can you', 'i like a', 'tom was it', 'youre the', 'its is', 'its is a', 'are are', 'i was it', 'i i you', 'are you', 'i i to it', 'he you a', 'did you it', 'can you me', 'tom is a', 'tom is', 'he you it', 'i cant a', 'can you it', 'its is', 'tom was it', 'tom tom me me', 'tom is tom', 'tom is a', 'im am', 'tom was it', 'he was a', 'tom was', 'you you me me', 'did you me', 'did you it', 'tom was it', 'i cant it', 'he you a', 'tom is a', 'tom is a', 'he you a', 'tom was it', 'can you a me', 'tom was a', 'he was', 'are is', 'i can to', 'i was a', 'can can you', 'he was a', 'i cant a', 'dont you', 'are you', 'you you to me', 'he a a', 'he was it', 'tom was it', 'i like a', 'he a a', 'he was a', 'he was it', 'he a a', 'i was a', 'he a a', 'he a a', 'he a a', 'he a a', 'im a busy', 'he a a', 'im a a', 'i a a', 'he a a', 'he was a', 'its a', 'he a a', 'he a a', 'he a a', 'he was a', 'he a a', 'he a a', 'he a a', 'he a a', 'im not', 'he a a', 'he was a', 'can you me', 'you you to me', 'tom you a', 'he is a', 'its is is', 'he is a', 'he a a', 'i you', 'i am a', 'i was', 'i like a', 'i was a', 'i was a', 'i like a', 'i like a', 'i was a', 'i like a', 'i am a', 'i was a', 'i like a', 'i like a', 'i was a', 'i like a', 'i was a', 'i like a', 'i like a', 'i was a', 'i like you', 'i a a', 'i like a', 'i was a', 'i i to', 'i a a', 'i was a', 'i like a', 'i was a', 'i was a', 'can can you it', 'can can you it', 'i like a', 'i like a', 'i like to', 'i was a', 'i was it', 'i like a', 'i like a', 'i was a', 'i like a', 'i like a', 'i was a', 'i like a', 'i was a', 'i am a', 'i was a', 'i was it', 'i was a', 'i like it', 'i like a', 'i cant a', 'i was a', 'i hate a', 'i like a', 'i cant a', 'i like a', 'i like a', 'i i a tom', 'i was a', 'i am', 'i like to', 'i like a', 'i was it', 'i a a', 'i like you', 'i like a', 'i was a', 'im a a', 'i was a', 'i you tom', 'i like a', 'i like a', 'im a', 'i a a', 'im a a', 'i like a', 'i like a', 'he was a', 'tom is', 'tom is is', 'he was a', 'i like a', 'he a a', 'its is', 'he a', 'he a a', 'i a it', 'its the', 'its is a', 'its is', 'he a a', 'i was', 'i like a tom', 'its is', 'tom tom', 'he is a', 'tom you a', 'its is is', 'are is', 'dont you', 'he was a', 'can you me me', 'he a a', 'he a a', 'its is a', 'tom you', 'tom you', 'can you me', 'tom tom me', 'tom was it', 'he you a', 'were are', 'tom was it', 'tom was it', 'tom is', 'tom you', 'tom was', 'he was a', 'he was a', 'its is', 'he was a', 'its is', 'i i to', 'tom was', 'we you it', 'its is', 'its is a', 'he a a', 'youre is', 'he a a', 'its is a', 'its is a', 'can can you you', 'he a a a', 'he is a', 'he was a', 'tom was a', 'are', 'he is a', 'its is', 'he was a', 'tom is', 'youre the', 'its is', 'dont you', 'its a busy', 'he was it', 'he was a', 'he you it', 'is is a', 'its is a', 'its is', 'its is a', 'he is a', 'he is a', 'tom is tom', 'tom is', 'tom you a', 'tom was it', 'tom was', 'tom tom', 'tom was it', 'tom is', 'tom is is', 'tom was a', 'tom is tom', 'tom was a', 'tom is a', 'tom was it', 'tom is a', 'tom is a', 'tom is a', 'tom was it', 'tom tom tom', 'tom tom a', 'tom was a', 'tom tom a', 'tom you me me', 'tom is', 'tom was', 'tom is', 'tom is', 'tom is tom', 'tom was it', 'tom is', 'tom tom', 'tom is', 'tom is tom', 'tom is is', 'tom is a', 'tom is a', 'tom was a', 'tom is a', 'tom was', 'tom found a', 'tom is it', 'tom is', 'tom was a', 'tom is', 'tom was it', 'tom tom', 'tom was it', 'tom is', 'tom tom tom', 'tom is', 'tom tom it', 'tom is tom', 'tom is', 'tom tom tom', 'tom was a', 'its is', 'tom is', 'youre are', 'tom you tom', 'i cant a', 'i i a', 'im was a', 'he a a', 'can you it', 'he a a', 'i cant it', 'can you to', 'he a a', 'he was a', 'its the', 'i i to', 'dont you', 'he was', 'can you a me', 'i can to it', 'tom a a', 'tom was', 'i cant a', 'its is a', 'you you me', 'he a a', 'is is a', 'is is a', 'dont you me', 'tom you a', 'he is a', 'i like a', 'you you a', 'he found a', 'i like a', 'dont you', 'you you me me', 'you you me me', 'its is', 'its the', 'youre are', 'are was it', 'he was it', 'you you a', 'he a a', 'can cant a', 'tom is a', 'can you to', 'its is', 'tom it a', 'he was a', 'tom you me me', 'tom was a', 'can you you me', 'can you to', 'can you you me', 'can can you it', 'can you me', 'i cant a', 'he was it', 'he you a', 'can can you', 'he a a', 'i you to', 'can you to', 'tom you me', 'he you a', 'tom was a', 'tom it it', 'i was', 'are are', 'its the', 'were are', 'its is', 'we you', 'he was a', 'i was a', 'dont you', 'i like', 'tom tom me', 'tom tom tom', 'can you to', 'can can me', 'can can you', 'can you me', 'he was a', 'tom you a', 'you you me', 'he you a', 'tom tom', 'tom you me', 'he was it', 'can you me', 'can you me me', 'i cant a', 'i cant a', 'we you it', 'can you me', 'you you you me', 'can can it', 'tom you me me', 'dont you me', 'you you to me', 'are you', 'he you a', 'i like it', 'tom tom a', 'he was a', 'he you a', 'he a a', 'he was a', 'he a a', 'he a a', 'he was a', 'he a a', 'he a a', 'he a a', 'i a a', 'he was a', 'he a a', 'he a a', 'he was a', 'he was', 'he a a', 'he a a', 'he a a', 'im a a', 'im not', 'youre are', 'did you a', 'tom you a', 'tom you to me', 'he a a', 'we you to me', 'we you to me', 'you you it', 'he a me', 'he a a', 'he a a', 'i like a', 'im a', 'i like a', 'i a a', 'i hate a', 'i was a', 'i like a', 'i cant a', 'i like a', 'i like to', 'i like to', 'i like a', 'i like to', 'i was a', 'i like you', 'i like a', 'i was a', 'i am', 'i like a', 'i cant a', 'i like a', 'i was a', 'tom is', 'i like you', 'i like a', 'i was a', 'i i to', 'i like a', 'i like a', 'i like a', 'i was a', 'i like a', 'i was a', 'i like a', 'i am a', 'i am', 'im a', 'i like a', 'i was a', 'i like a', 'i like a', 'i a a', 'i like a', 'i a', 'i like a', 'i was a', 'i was a', 'i was a', 'i am a', 'i like a', 'i was a', 'i like a', 'i was a', 'i am a', 'i was a', 'i am', 'i like a', 'i i to', 'i like a', 'i like it', 'i cant a', 'i like a', 'i a a', 'im a a', 'i was a', 'i was a', 'i like a', 'i was a', 'i like a', 'i am a', 'i like to', 'i like a', 'i like a', 'i cant a it', 'i like a', 'i cant a', 'im a a', 'im a a', 'im a busy', 'im a a', 'i was a', 'im a', 'tom was', 'i a a', 'i was a', 'i like it', 'i like a', 'i cant a', 'i am', 'i like a', 'are', 'tom you it', 'its is', 'tom is a', 'he was a', 'he is a', 'he a a', 'tom you', 'its is is', 'he a a', 'tom is a', 'he was', 'its is is', 'dont', 'tom you me me', 'tom it it', 'tom you it', 'tom you a', 'are', 'im a', 'are is', 'its is', 'he a', 'its a a', 'he a a', 'its is a', 'he is a', 'its a a', 'he you a me', 'were', 'tom tom me', 'tom', 'can you to', 'tom tom', 'tom you', 'tom tom', 'tom you', 'dont you', 'we you', 'i like it', 'tom you it', 'he a a', 'its is', 'tom it a', 'can you a', 'he found a', 'tom a a', 'tom you it', 'he you a', 'are is', 'tom was it', 'we you me', 'you you me', 'he was', 'its is', 'tom was a', 'youre the', 'he a a', 'im am', 'its is', 'its is a', 'we you me', 'its is', 'he is a', 'tom', 'its is is', 'its is is', 'its is', 'he a a', 'he was a', 'he is a', 'its is a', 'he you a me', 'tom is', 'are you', 'we you it', 'its is', 'are you it', 'its is is', 'tom is', 'he is a', 'dont you', 'he a a', 'is is', 'he is a', 'tom is is', 'he was a', 'tom is is', 'tom is', 'tom is', 'tom was', 'tom was a', 'tom tom', 'tom is', 'tom is', 'tom tom', 'tom', 'tom tom tom', 'tom is a', 'tom is tom', 'tom was a', 'tom tom', 'tom was', 'tom is a', 'tom you me me', 'tom is is', 'tom is a a', 'tom tom tom', 'tom is is', 'tom tom a', 'tom was', 'tom is', 'tom is a', 'tom is', 'tom is', 'tom was a', 'tom is', 'tom is a', 'tom is a', 'tom is tom', 'tom is a', 'tom is a', 'tom was it', 'tom was a', 'tom is is', 'tom was it', 'tom is a', 'tom tom tom', 'tom is', 'tom tom tom', 'tom was it', 'tom was it', 'tom found a', 'tom is', 'tom tom tom', 'tom is a', 'tom is', 'tom was a', 'tom was it', 'tom is', 'can you me me', 'tom was a', 'tom was', 'i was a', 'i cant it', 'i cant a', 'i i you', 'he a a', 'he was it', 'he a a', 'i like you', 'tom you me', 'he was a', 'tom it a', 'he you a', 'can you me me', 'he you a', 'tom you a', 'its is', 'its is', 'its is', 'he was it', 'tom you a me', 'he a a', 'he was it', 'i cant a', 'he was a', 'can you to me', 'you you me', 'tom you it', 'he a a', 'can you a', 'tom was', 'i cant a', 'we you it', 'its is', 'i i you', 'he a it', 'tom you it', 'you', 'its is a', 'tom is', 'he is a', 'he a', 'are you', 'are was', 'i was a', 'dont', 'he a a', 'youre the', 'can you me', 'are', 'tom you', 'tom was a', 'tom you me', 'tom you me', 'you you me me', 'tom you me me', 'tom tom me', 'tom you me', 'dont you', 'we you it', 'can you me', 'can can you it', 'can can you', 'we you it', 'can you me me', 'tom tom tom', 'tom is a', 'he you a', 'dont you', 'you you it', 'its the', 'we you', 'tom is', 'tom is a', 'you', 'did you a', 'he a a', 'he a a', 'he a a', 'im a', 'he a a', 'he a a', 'he a a', 'he a a', 'its not', 'he a a', 'he was a', 'he was a', 'he was a', 'he a a', 'its is', 'its is', 'he a a', 'he you a me', 'he a a', 'he you a', 'i like a', 'he was it', 'he a a', 'he a a', 'he a a', 'he is a', 'he a a', 'i was a', 'i like a', 'i like a', 'i was a', 'i like a', 'i i a', 'i like a', 'i like a', 'i cant a', 'i i a', 'i like a', 'i like a', 'i like a', 'i like a', 'i am a', 'i like a tom', 'i like a', 'i like a', 'i like a', 'i cant a', 'i like a', 'im a a', 'i was a', 'i like a', 'i a a', 'i a a', 'i was a', 'i like a', 'i like a', 'i cant a tom', 'i like a', 'i was a', 'i like a', 'i like a', 'i a a', 'i am', 'i like a', 'i like', 'i was a', 'i was a', 'i was a', 'i i to', 'i like a', 'i was a', 'i was a', 'i was a', 'i like a', 'i like a', 'i like a', 'i like it', 'i am a', 'he a a', 'i like a', 'i like a', 'i like a', 'i like you', 'i was', 'im a a', 'im not', 'i was a', 'i like a', 'im a', 'im a a', 'i like a', 'i was a', 'i like a', 'im a a', 'i like a', 'i am', 'im not', 'i like a', 'i like a', 'tom tom', 'he is a', 'he a a', 'its the', 'he was a', 'its a a', 'its is is', 'its is is', 'you you me me', 'can you me', 'tom was it', 'he is a', 'its is', 'i was a', 'he a a', 'he is a', 'he a a', 'he is a', 'he a a', 'he a a', 'he is a', 'its is', 'are is', 'youre are', 'i cant a', 'can you a', 'its not', 'are is', 'tom tom tom', 'tom was', 'tom tom tom tom', 'tom tom me', 'are is', 'we you it', 'he was it', 'he was a', 'he was', 'you you it', 'are you', 'its is a', 'he was a', 'he was it', 'he is a', 'are is', 'are you', 'tom you', 'i like to', 'its is a', 'tom you me', 'we you', 'i was a', 'i cant a', 'i was it', 'tom is', 'its is is', 'its is', 'are is', 'he was a', 'he a a', 'i cant a', 'i cant a', 'its is', 'he is a', 'are are', 'he is a', 'tom is', 'tom is', 'youre are', 'youre are', 'are you', 'tom is it', 'are is', 'youre are', 'youre are', 'he a a', 'tom is a', 'its is', 'its is', 'you you me', 'youre are', 'he was it', 'its is', 'its is a a', 'its is a', 'you you me', 'i can a', 'tom is is', 'tom is tom', 'tom is a', 'tom is a', 'tom tom tom', 'tom it a', 'tom found me', 'tom is it', 'tom is', 'tom is', 'tom tom', 'tom was it', 'tom is busy', 'tom was', 'tom it a me', 'he was a', 'tom was it', 'tom tom a', 'tom was a', 'tom is a', 'tom you me me', 'tom was a', 'tom is a', 'tom is', 'tom is', 'tom is', 'tom is', 'tom is', 'tom is a', 'tom was it', 'tom is', 'tom was it', 'tom is', 'tom was a', 'tom was it', 'tom tom me', 'tom tom a', 'tom is', 'tom is tom', 'tom you a', 'tom was a', 'tom was', 'tom is', 'tom is', 'tom is is', 'tom is a', 'tom is a', 'tom is tom', 'tom you it', 'tom was a', 'tom is tom', 'tom was', 'you you me', 'tom was', 'tom tom tom', 'tom is', 'tom was it', 'tom is it', 'tom was a', 'i you it', 'i a a', 'i a a', 'i was', 'im a', 'im was', 'he a a', 'tom you a me', 'i cant a', 'he a a', 'can you to', 'we you', 'tom you a me', 'im a a', 'can you me me', 'we you it', 'tom you it', 'tom is tom', 'its is', 'dont', 'he was a', 'he a a', 'i cant a', 'he a a', 'he you a', 'he a a', 'dont you', 'its is', 'you you a', 'its is', 'is is a', 'dont', 'dont', 'he is a', 'he is a', 'can you me me', 'tom you a me', 'can you you me', 'tom you a me', 'tom you a', 'you you a me', 'i cant a', 'tom tom tom', 'i cant a', 'tom was', 'can you it', 'i can it', 'he was it', 'tom you it', 'can can you it', 'he a a', 'he a a', 'he a a', 'its is', 'i cant a', 'i was it', 'i like it', 'im not', 'he a a', 'tom was it', 'i like a', 'he a it', 'he was it', 'he a a', 'he a a', 'he a a', 'its not', 'he a a', 'youre are', 'youre are', 'its a', 'its is', 'tom is is', 'can you a', 'dont you', 'tom you me', 'can you me', 'i cant a', 'tom you a', 'he was a', 'we you to', 'i i a', 'tom was a', 'tom tom me', 'i like a', 'i was a', 'he you it', 'he was', 'tom you a', 'you you a', 'can you me', 'i was busy', 'you you me', 'he you it', 'you you it', 'can you me', 'tom was it', 'tom was it', 'dont', 'he was it', 'its is a', 'we you me', 'i you it', 'are', 'tom was a', 'tom tom me', 'we you', 'he is a', 'he was a', 'we you it', 'i was a', 'he was a', 'he a a', 'i a a', 'he a a', 'he a a', 'he a a', 'he a a', 'i was a', 'he a a', 'im a', 'he was it', 'he a a', 'he a a', 'i a a', 'he a a', 'he a a', 'its is', 'he is a', 'he you a me', 'he is a', 'i like a', 'i a a', 'i was a', 'i like a', 'i cant a', 'i cant a', 'i like a', 'i a a tom', 'i was a', 'i like a', 'i was a', 'i was a', 'i was a', 'i was a', 'i like to', 'i was a', 'i was a', 'i cant a', 'i like a', 'i like a', 'i like a', 'i like a', 'i like a', 'i like a', 'i like a', 'i like a', 'i am', 'i was a', 'i like a', 'i like a', 'i was a', 'i like a', 'im am', 'i a a', 'im not', 'i was a', 'i am', 'i was a', 'i cant a', 'i i a', 'i like a', 'i like a', 'i am a', 'im a a', 'i like a', 'i a a', 'i like a', 'i like a', 'i like a', 'i like a', 'i like a', 'i like a', 'i like a', 'i am', 'i a a', 'i was a', 'i am a', 'i a a', 'im a a', 'im a a', 'im not', 'i like a', 'i cant a', 'i like a', 'i was it', 'tom tom tom', 'he a a', 'its is is', 'its is', 'he is a', 'he a a', 'he a a', 'tom is', 'its is a', 'he a a', 'its is', 'its a a', 'its is', 'tom was a', 'tom was a', 'you you me', 'are you', 'tom you me me', 'can you me me', 'he you a', 'tom you me', 'tom was it', 'youre youre', 'he was it', 'tom you it', 'dont you', 'he was it', 'its is is', 'its is a', 'its is is', 'he a a', 'can you to', 'he was it', 'tom tom it', 'tom tom me', 'tom tom', 'tom tom tom', 'tom was it', 'im a a', 'he was a', 'tom you a me', 'its is is', 'he was a', 'tom', 'dont me', 'its is', 'its is', 'you you me', 'tom was it', 'tom tom me', 'you you me', 'he a a', 'he a a', 'its is is', 'he a a', 'he a a', 'he a a me', 'its is is', 'he is a', 'youre are', 'its is a', 'its is', 'its is is', 'i like a', 'are you', 'are is', 'its is', 'its is', 'tom', 'tom is', 'its the', 'dont you', 'tom is a', 'were you', 'he is a a', 'he a a', 'he is a', 'its the', 'are you', 'dont you', 'im not', 'were is', 'he a a', 'he is a', 'he a', 'tom you a', 'he was a', 'its is is', 'im not', 'tom a it', 'tom is a', 'tom was it', 'tom is', 'tom was it', 'tom is a', 'tom was', 'tom was it', 'tom tom me', 'tom is a', 'tom is a', 'tom is a', 'tom was it', 'tom is tom', 'tom was it', 'tom is', 'tom is a', 'tom was it', 'tom was a', 'tom was a', 'tom is a', 'tom is is', 'tom is a', 'tom is a', 'tom is is', 'tom is a me', 'tom is', 'tom is', 'tom tom tom', 'tom tom tom', 'tom was', 'tom is', 'tom is a', 'tom is', 'tom is tom', 'tom is', 'tom is a', 'tom tom tom', 'tom is', 'tom tom a', 'tom tom a', 'tom is', 'tom was a', 'tom found me', 'tom tom me', 'tom it me', 'tom tom tom', 'tom was', 'tom it a', 'tom was it', 'tom is a', 'tom is a', 'tom found a', 'tom was a', 'tom is', 'tom was it', 'tom was it', 'tom found a', 'tom is is', 'tom is a', 'tom you a me', 'tom was it', 'tom is is', 'tom was tom', 'tom is tom', 'tom was it', 'tom was a', 'tom you me me', 'tom was', 'its is', 'he you a', 'its is a', 'i a a', 'we you it', 'dont you', 'tom you it', 'youre the', 'he a a', 'tom tom tom tom', 'he a a', 'he was a', 'are was', 'its was', 'its is a', 'are are', 'i i to', 'can can you it', 'he you a', 'youre the', 'i was', 'tom tom tom tom', 'tom you a', 'im a a', 'i was', 'i a a', 'its is', 'i i you it', 'he a', 'i cant a', 'he you a me', 'you you me', 'he a a', 'tom was it', 'you you a', 'can can you', 'i you a', 'tom it a', 'we you it', 'he was a', 'i was it', 'its is a', 'tom', 'its is is', 'i like a', 'did you a me', 'tom you', 'tom was it', 'tom tom me', 'dont you', 'we you', 'tom tom me', 'he was it', 'i cant it', 'can can you it', 'he was a', 'can can you', 'we was it', 'its is', 'he was it', 'i like a', 'we you me', 'we you to', 'we you it', 'tom was', 'you you me', 'he a', 'he was it', 'can you to', 'i you it', 'tom you me', 'he is a', 'its is', 'tom tom tom me', 'tom', 'he a a', 'dont you', 'tom is a', 'he found a', 'you you it', 'you you to me', 'we you to', 'i a a', 'he a a', 'he a a', 'i was a', 'he a a', 'he a a', 'he was a', 'he a a', 'he you a', 'he a a', 'he a a', 'he a a', 'i like to', 'he a a', 'i was a', 'he a a', 'he a', 'im a a', 'its not', 'are is', 'he a it', 'he found it', 'he found a', 'he a a', 'he a a', 'i cant a', 'he found a', 'i a a', 'i like a', 'i like a', 'i cant a', 'he was it', 'i like it', 'i like it', 'i like it', 'im am', 'i a a', 'i like a', 'he was a', 'he was a', 'i like a', 'i like a', 'i like a', 'i cant a', 'he was a', 'i was a', 'i like a', 'i cant a', 'i was a', 'i am a', 'i was a', 'i am', 'i like a', 'i like a', 'i like a', 'i was a', 'i like a it', 'i like a', 'i like a', 'i was a', 'i was a', 'i like a', 'i like a', 'i like a', 'i was a', 'i a a tom', 'im a a', 'i was a', 'i was a', 'i a a', 'i am a', 'i like a', 'i you a', 'i a a', 'i like a', 'i like a', 'i i a tom', 'i like a', 'i like a', 'i like a', 'i was a', 'im a a', 'i was a', 'i like a', 'i i a it', 'i a a', 'im a a', 'im a', 'i like a', 'im not a', 'i was a', 'i like a', 'tom is', 'he is a', 'its is', 'its is a', 'its is', 'he a a', 'dont you', 'its is a', 'he is a', 'he a busy', 'its is', 'im not', 'tom you', 'he a a', 'we you', 'tom you me', 'you you me', 'i i you', 'he a a', 'he a a', 'its is is', 'he a a', 'he is a', 'is is a', 'its is', 'tom was', 'tom tom', 'tom you me', 'he a a', 'tom was a', 'its is a', 'are was', 'we you it', 'did you it', 'he is a', 'are you', 'i like you', 'i a a', 'we you it', 'its a', 'i was it', 'i cant a', 'tom you me me', 'he a it', 'he is a', 'he is a', 'he is a', 'he a a', 'tom is', 'tom', 'is was a', 'tom is it', 'its is is', 'are you it', 'tom is is', 'he a a', 'is is a', 'he was a', 'he you it', 'he a a', 'can you me', 'he was a', 'im not busy', 'youre youre', 'he was it', 'he is a', 'he was a', 'its is is', 'he a a', 'he is a', 'its not', 'are are', 'im a', 'i cant a', 'i cant a', 'he was a', 'we you', 'we you me', 'he was a', 'he a a', 'he was a', 'its not', 'tom was it', 'tom is', 'tom is', 'tom is a', 'tom was a', 'tom is a', 'tom found a', 'tom tom a', 'tom is', 'tom found a', 'tom was it', 'tom is a', 'tom was a', 'tom was a', 'tom is is', 'tom tom a', 'tom tom a', 'tom is', 'tom is a', 'tom it a', 'tom is a', 'tom is a', 'tom was it', 'tom is', 'tom tom tom', 'tom was a', 'tom was it', 'tom is a', 'tom is tom', 'tom is tom', 'tom is a', 'tom is', 'tom is', 'tom is a', 'tom was a', 'tom was it', 'tom was a', 'tom was', 'tom found a', 'tom tom a', 'tom is a', 'tom is a', 'tom a a it', 'tom was it', 'tom is tom', 'tom tom a', 'tom is', 'tom was a', 'tom is tom', 'tom is a', 'tom is a', 'tom is', 'tom is', 'tom is a', 'its is a', 'tom was it', 'youre are', 'he is a', 'i was it', 'we you it', 'i a a', 'i i to', 'youre youre', 'we you', 'he was it', 'were are', 'we you to', 'tom is is', 'he a a', 'he a a a', 'he you a', 'i cant it', 'he a a', 'he was a', 'tom tom', 'he you it', 'tom you', 'i you a', 'its is', 'he you a me', 'he a a', 'are is', 'we you it', 'its is', 'its is', 'its is', 'he you a', 'tom was it', 'can can you', 'he a a', 'can cant it', 'you you a', 'tom was it', 'i was', 'he a a', 'its is', 'i cant it', 'you you', 'he a', 'he a a', 'its is is', 'i was', 'he a a', 'he a a', 'is is a', 'youre are', 'he was a', 'its was a', 'we you to', 'i was it', 'he is a', 'he is a', 'you you it', 'tom is', 'tom you a', 'tom you me', 'i like a', 'tom was it', 'tom you a', 'i cant a', 'tom you it', 'can you it', 'tom is', 'he a it', 'he a', 'you you me', 'tom was', 'he you a me', 'i i you you', 'its is a', 'he a a', 'can you a', 'he found a', 'youre are', 'dont you', 'he was a', 'i a a', 'i was a', 'i was a', 'i a a', 'he was a', 'i a a', 'we you a', 'he a a', 'we you', 'he you a', 'he a a', 'i was a', 'im was', 'im a', 'i was a', 'i was a', 'he a', 'its not', 'he a a', 'he a a', 'he was a', 'he was a', 'he was a', 'he was a', 'he is a', 'we you it', 'i a a', 'i was a', 'its is', 'he a a', 'im a a', 'i was a', 'i was a', 'i cant a', 'i was a', 'i like a', 'he a a', 'i like a', 'i like a', 'i i to', 'i like a', 'i like a', 'i like a', 'i was a', 'i a a', 'i like a', 'i like a', 'i like a', 'im am', 'i like a', 'i like a', 'i was a', 'i like a', 'i a a', 'i like a', 'i was a', 'are you', 'i like a', 'i like it', 'i like to', 'i like a', 'i am a', 'i like a', 'i was a', 'i a a', 'i was a', 'i a a', 'im not', 'i was a', 'i was a', 'i like a', 'i am a', 'i was a', 'i like a', 'i like a', 'i am', 'i like to', 'i like a', 'i like a', 'i was a', 'i like a', 'i like a', 'im a', 'i cant a', 'i cant a', 'i like a', 'i a a', 'i am a', 'i was a', 'i a a', 'i am a', 'i like a', 'i a a', 'i like a', 'i a a', 'he a a', 'he a a', 'i like', 'he is a', 'im a a', 'im a a', 'im a a', 'tom is', 'he is a', 'i you', 'he is a', 'its is a', 'he a a', 'he a a', 'its is a', 'are you', 'its is', 'its is', 'he is a', 'tom you me me', 'i can to', 'tom tom tom', 'im not', 'he a a', 'i you it', 'are you', 'i you', 'tom a a', 'he a a', 'tom was it', 'tom tom tom', 'tom you me me', 'tom you me', 'tom tom', 'are you', 'he is a', 'tom you me', 'he you a', 'he was a', 'its is', 'its is is', 'tom is', 'tom it a', 'are you', 'dont you', 'tom is a', 'you', 'we you to', 'i a a', 'i like a', 'tom was', 'he a a', 'its is is', 'tom you', 'he a a', 'its is is', 'are was', 'he is a', 'are are', 'are is', 'he a a', 'its is is', 'are is', 'its is is', 'its is', 'its is', 'he a a', 'its is is', 'you you to me', 'you you me', 'he was', 'its is', 'tom was a', 'its is busy', 'are you', 'tom tom tom', 'are you', 'he is a', 'its is', 'he is a', 'we you', 'he a a', 'are you', 'its is', 'he is a', 'its the', 'i was a', 'tom is', 'tom was a', 'tom tom tom', 'tom was a', 'tom was a', 'tom was a', 'tom was me', 'tom is is', 'tom is a', 'tom was it', 'tom tom a', 'tom tom it', 'tom is a', 'tom is tom', 'tom tom', 'tom is a', 'tom is a', 'tom was it', 'tom it a me', 'tom is', 'tom is is', 'tom is a', 'tom is a', 'tom tom tom', 'tom is is', 'tom is is', 'tom is a', 'tom was it', 'tom was it', 'tom was a', 'tom is a', 'tom was a', 'tom you me me', 'tom was a', 'tom is a', 'tom is a', 'tom was it', 'tom is a', 'tom found me', 'tom is a', 'tom is', 'tom was', 'tom is', 'tom is a', 'tom is a', 'tom was', 'tom is', 'tom tom', 'tom is', 'tom tom a', 'tom is is', 'tom is is', 'tom is tom', 'tom tom a', 'tom was it', 'tom was it', 'tom', 'you', 'are you', 'tom tom me', 'are are', 'he a a', 'i can a', 'i you', 'i cant a', 'i i to', 'im not', 'its is', 'he you a', 'he a a', 'he was a', 'dont you', 'he was it', 'were you', 'can you me', 'you you a', 'tom you a', 'its is is', 'can can you', 'tom is a it', 'its is', 'its a', 'are you a', 'tom you a', 'tom tom tom', 'he you a', 'i cant it', 'he you a', 'can you me', 'he a a', 'tom a a', 'i cant a', 'can you me', 'he was a', 'can can a', 'can you me me', 'he you a', 'tom you me', 'he is a a', 'i like a', 'i cant a', 'tom you it', 'we was it', 'its is', 'he a a', 'can you me', 'he was a', 'can you you me', 'he you a', 'are is', 'youre are', 'tom you it', 'he a a', 'he you a me', 'he was a', 'tom you me', 'can you me me', 'tom was a', 'tom was a', 'i i it', 'tom you me', 'tom you a', 'i like a', 'tom found a', 'i a a', 'we you', 'its is a', 'he you a me', 'he you a', 'i i a', 'can can me', 'i like it', 'can you you', 'tom tom tom', 'he was', 'tom you it', 'we you to me', 'its a a', 'we you', 'he is a', 'tom tom a me', 'tom tom me', 'tom is', 'you you me', 'i a a', 'i was a', 'im a busy', 'he was a', 'he a a', 'i a a', 'can you me me', 'i a a', 'he was a', 'he a a', 'i a a', 'he was it', 'he was a', 'i cant a', 'he was a', 'he a', 'he a a', 'i was a', 'i cant a', 'i was it', 'i a a', 'i like a', 'i like a', 'i was a', 'im not', 'i like a', 'i like a', 'i a a', 'i like a', 'i a a', 'i was a', 'i am', 'i like you', 'i like a', 'i was a', 'i like to', 'i like you', 'i like a', 'i a a', 'i was a', 'i was a', 'i was a', 'i like a', 'i like tom', 'i am', 'i like a', 'i was a', 'i like a', 'i was a', 'i like to', 'i like a', 'i was a', 'i like a', 'i like it', 'i am', 'i like a', 'i was a', 'im a', 'he a a', 'i like a', 'i am a', 'i am it', 'i like a', 'i like a', 'i cant a', 'i was a', 'i was a', 'i was it', 'i was a', 'i was a', 'i was a', 'i cant a', 'i a a', 'tom is', 'i like a', 'i cant a', 'im a a', 'im a a', 'i you a tom', 'i am a', 'i a a', 'i a a', 'i like a', 'im a a', 'im a a', 'im a a', 'i i a', 'i cant a', 'he a a', 'you you a', 'you you me', 'are are', 'he is a', 'he a a', 'he you a', 'he a', 'he was it', 'tom is a', 'he a a', 'he is a', 'tom is a', 'are is', 'i i a', 'tom was me', 'tom you me', 'he a a', 'he a', 'its is a', 'he a', 'he was a', 'tom is a', 'he a a', 'he a a', 'tom was it', 'tom was a', 'its a', 'tom tom me', 'he found a', 'he is a', 'its is is', 'tom is a', 'he a a', 'he was a', 'i was a', 'he a a', 'he you a', 'tom', 'its is', 'you you me', 'he a a', 'tom is is', 'he a a', 'are is', 'are is', 'its is a', 'he was a', 'its is', 'he a a', 'i was a', 'tom is a', 'its is is', 'he a a', 'tom is is', 'are is', 'tom is a', 'are is it', 'tom is', 'tom is', 'its the', 'you you it', 'its is', 'its is a', 'he was it', 'tom was it', 'we you it', 'its is is', 'its is a', 'can can you you', 'can you you me', 'its the', 'tom is', 'he a a', 'its is a', 'tom was a', 'tom was', 'tom was a', 'tom is tom', 'tom was', 'tom is', 'tom is a', 'tom tom a', 'tom was it', 'tom is a', 'tom found me', 'tom is', 'tom tom tom', 'tom was a', 'tom is is', 'tom tom a', 'tom tom a', 'tom is', 'tom was a', 'tom you me', 'tom is', 'tom is a', 'tom is', 'tom was it', 'tom was it', 'tom is', 'tom is', 'tom is a', 'tom is', 'tom is', 'tom is is', 'tom is', 'tom tom a', 'tom was it', 'tom was', 'tom was', 'tom was', 'tom is a', 'tom was it', 'tom found a', 'tom found a', 'tom is a', 'tom is a', 'tom is', 'tom is a', 'tom is a', 'tom is a', 'tom was it', 'tom is a', 'tom is a', 'tom is it', 'i a a', 'tom you a me', 'tom is a', 'you you me', 'tom is', 'he you a', 'its a', 'i i you', 'i was', 'are is', 'he a a', 'he you a', 'he found a', 'he a a', 'he a a', 'he a a', 'tom is', 'tom you tom', 'its is', 'he a a', 'he you a', 'did you a', 'he found a', 'he you a', 'he a a', 'can you me me', 'you you me', 'he was a', 'can you you me', 'he found it', 'you you me', 'you you it', 'tom was it', 'he a a', 'are was a', 'tom was it', 'he a a', 'tom you a me', 'tom you a', 'its is', 'are was', 'dont you', 'he a a', 'he a it', 'its the', 'he you a', 'he you a', 'can cant a', 'tom was it', 'tom you', 'he a a', 'dont you', 'can you you me', 'are was', 'tom is', 'tom was it', 'i i you it', 'tom found a', 'he was a', 'tom you a me', 'i i to', 'can can to', 'can you to me', 'tom you me', 'tom found it', 'he was', 'we you a', 'tom was it', 'we you it', 'i you', 'can you me', 'i like a', 'he was a', 'are', 'you you it', 'tom was', 'its is a', 'youre youre', 'he was a', 'he was a', 'tom was it', 'you you a', 'he was it', 'i was a', 'he a a', 'he a a', 'i was a', 'he a a', 'he was a', 'im a', 'he a a', 'i was a', 'he a a', 'he a a', 'i was a', 'im a', 'he a a', 'he a a', 'i a a', 'he a a', 'i a a', 'he a a', 'he was', 'he a a', 'tom is is', 'its is a', 'its is a', 'he a a', 'i like a', 'i was a', 'i was a', 'i like a', 'tom you a', 'i like a', 'i cant a', 'i was a', 'i like a', 'i like a', 'i like a', 'i like a', 'i was a', 'i was a', 'i am a', 'i like to', 'i i to you', 'i like a', 'i like a', 'i was a', 'i like a', 'i like a', 'i am a', 'i like a', 'i was a', 'i like a', 'i was a', 'i was a', 'i like a', 'i was a', 'i like a', 'i was a', 'i was a', 'i was', 'i like a', 'i like a', 'i a a', 'i am a', 'i like a', 'i am', 'i like it', 'i like a', 'i i to it', 'i like a', 'i cant a', 'i was a', 'i like a', 'i was a', 'i like a', 'i like a', 'i like a', 'i was a', 'i a a', 'i like a', 'i like a tom', 'i am', 'he a a', 'i like a', 'i a a', 'i like a', 'we you to', 'im a a', 'i am a', 'i cant a tom', 'i like a', 'i cant a', 'i cant a', 'he a a', 'he a', 'he you a', 'tom was it', 'he is a', 'its is a', 'i like a', 'tom it me', 'tom was it', 'tom you me', 'i was a', 'tom tom me', 'tom you', 'tom is a', 'tom was a', 'tom is tom', 'he a a', 'im not', 'its is a', 'im a', 'he a busy', 'he you a me', 'i was a', 'he was', 'tom it me', 'you you me', 'i was a', 'its is', 'he you it', 'its was', 'tom was it', 'he you a', 'he a a', 'he is a', 'tom the', 'he you a', 'are you', 'its is is', 'he a a', 'he a a a', 'you you it', 'we you me', 'its is is', 'tom you', 'its is', 'he is a', 'he is a', 'tom is is', 'tom found a', 'he was a', 'he was a', 'i like to', 'tom is a', 'its is', 'are you', 'youre are', 'he you a', 'are are', 'its is a', 'youre', 'its the', 'he you a', 'he a a', 'he a it', 'dont you', 'its is a', 'he a a', 'its is a', 'tom is is', 'are are', 'its the', 'tom is a', 'tom was it', 'tom was a', 'tom is', 'tom was a', 'tom tom a', 'tom is a', 'tom it a', 'tom found a', 'tom was a', 'tom was', 'tom was a', 'tom tom me', 'tom tom it', 'tom was a', 'tom is a', 'tom tom tom', 'tom tom tom', 'tom is a', 'tom is', 'tom is a', 'tom tom a me', 'tom was it', 'tom tom a', 'tom is a', 'tom is a', 'tom was it', 'tom is a', 'tom was me', 'tom is', 'tom is', 'do you me me', 'tom tom a', 'tom is a', 'tom tom tom', 'tom was it', 'tom is', 'tom you a me', 'tom is', 'tom was it', 'tom is is', 'tom is', 'tom is a', 'tom was a', 'tom is a', 'tom is', 'tom is a', 'tom is', 'tom tom tom', 'tom was it', 'tom was', 'tom is', 'tom was a', 'tom tom', 'tom is', 'tom was it', 'tom tom tom tom', 'tom is tom', 'tom is', 'tom was it', 'tom was a', 'tom was a', 'tom', 'tom is', 'is was a', 'dont you', 'he was it', 'i like a', 'i cant a', 'dont you', 'i was it', 'were you', 'im a', 'are are', 'tom you me', 'tom tom a', 'he a a', 'i was', 'he is a', 'tom is a', 'tom found a', 'tom you it', 'we you me', 'you you me me', 'can you me', 'can you you', 'he was a', 'he a a', 'you you a me', 'tom was it', 'he a', 'he is a', 'you you me me', 'you you a', 'he you a', 'i like', 'he was', 'i like a', 'are is', 'its not', 'you you me', 'tom you me', 'i cant it', 'can you me', 'i can you', 'tom was it', 'i cant it', 'he a a', 'its is is', 'he a a', 'tom was a', 'i was a', 'im a a', 'tom was', 'its is is', 'he a a', 'its is is', 'he was a', 'he a it', 'tom was a', 'tom tom tom', 'can you me me', 'he was it', 'tom you me', 'are', 'he was', 'tom was it', 'its the', 'we you it', 'we you it', 'we you it', 'we you it', 'i cant a', 'i was a', 'i like a', 'he was it', 'tom you', 'he was a', 'you you it', 'he a a', 'he was it', 'we you it', 'tom is a', 'can you to', 'he was it', 'tom', 'i cant a', 'he is a', 'we you it', 'he a a', 'you you a', 'is is it', 'he a a', 'he a', 'i was', 'he a a', 'he a a', 'he a a', 'he a a a', 'he a a', 'he a a', 'he a a', 'i like a', 'i was a', 'i a a', 'i a a', 'im not', 'im not', 'he a a', 'he a a', 'i was a', 'im a a', 'he a a', 'he you a', 'you you me', 'he a a', 'he a a', 'i like it', 'i a a', 'i was it', 'i like a', 'i like a', 'i was a', 'i like a', 'i like a', 'i like a', 'i like to', 'i was a', 'i a a', 'i was a', 'i like a', 'i was a', 'i was a', 'i was a', 'i was a', 'i i a it', 'i a a', 'i was a', 'i like a', 'i was a', 'i was a', 'i a a', 'i like a', 'i like a', 'i i to', 'i am busy', 'i was a', 'i like a', 'i was a', 'i cant a', 'i cant a', 'i was a', 'i like a', 'im not', 'i am a', 'i am', 'i like a', 'i like a', 'i like it', 'i a a', 'i like a', 'i am a', 'i like it', 'i like a', 'i like a', 'i was a', 'i a a', 'i like a', 'i like a', 'i a it', 'i like a', 'i like a', 'i was a', 'i am it', 'i like a', 'i am', 'im a a', 'i was a', 'i like a', 'i like a', 'come', 'youre are', 'tom is a', 'he a a', 'its not', 'he a', 'he a a', 'its is is', 'are you', 'he a a', 'tom was it', 'he a a', 'tom was a', 'dont you', 'i cant a', 'he a a', 'its is', 'he a a', 'you you me', 'i you', 'its is', 'he a a', 'tom found me', 'tom you me', 'tom you a me', 'tom is a', 'tom is a', 'he was it', 'i cant a', 'tom is a', 'its is', 'tom you it', 'dont', 'youre are', 'he a', 'tom', 'were was', 'he a a', 'he is a', 'tom is a', 'its is is', 'are are', 'its is', 'he is a', 'its is', 'tom is a', 'tom is', 'he was a', 'tom', 'youre youre', 'he a a', 'he a a', 'he was it', 'its is', 'he a a', 'are are', 'its is', 'tom', 'he is a', 'you you it', 'he a a', 'we you it', 'im a a', 'tom was a', 'tom is a', 'tom was', 'tom was', 'tom found a', 'tom was it', 'tom was it', 'tom was a', 'tom is a', 'tom is a', 'you you a', 'tom is a', 'tom is a', 'tom was a', 'tom is a', 'tom it me', 'tom is is', 'tom is', 'tom is', 'tom is a', 'tom is', 'tom was a', 'tom you me me', 'tom was a', 'tom tom tom', 'tom is a', 'tom is tom', 'tom is', 'tom is a', 'tom is is', 'tom is is', 'tom is', 'tom is a', 'tom is is', 'tom is a', 'tom was a', 'tom is', 'tom tom tom', 'tom is', 'tom is a', 'tom was', 'tom is a', 'tom found me', 'tom is a', 'tom is is', 'tom is tom', 'tom was', 'tom is a', 'tom is', 'tom found a', 'tom was it', 'tom tom a', 'tom was a', 'tom is it', 'tom was it', 'tom is tom', 'tom tom tom', 'tom found a', 'tom tom it', 'tom tom a me', 'tom was', 'tom was it', 'tom tom a', 'tom is a', 'tom tom me', 'are are', 'its is', 'its is', 'i a a', 'he a', 'i cant a', 'you you a', 'tom is is', 'can you a', 'he was it', 'we you', 'i like a', 'i cant a', 'can you me me', 'he you a', 'tom you a', 'he a a', 'tom it it', 'tom tom it', 'he you a', 'tom is', 'are is', 'he is a', 'did you a', 'tom you me me', 'he found a', 'tom is a', 'he was', 'he was it', 'i like a tom', 'i like it', 'he a a', 'tom was a', 'he a a', 'i cant a', 'he a a', 'he a a', 'he is a', 'its is', 'dont you', 'he a a', 'can you me', 'he was a', 'tom is is', 'he is a', 'dont you', 'i i a', 'you you me', 'tom was a', 'tom you', 'i was a', 'tom tom me', 'tom was', 'you you it', 'tom you me', 'tom was it', 'tom you a', 'i like a', 'can you a me', 'he a a', 'tom you me', 'tom was a', 'he you a me', 'are you', 'tom you it', 'i was a', 'he a a', 'he a a', 'he a a', 'i a a', 'he a a', 'he a a', 'i a a', 'he a a', 'he a a', 'he was a', 'im not', 'are you', 'its is is', 'tom', 'he a a', 'i cant a', 'he a a', 'can you me me', 'he you a it', 'i am it', 'im a a', 'i a a', 'i like a', 'i like a', 'i like a', 'i like a tom', 'i like a', 'i like a', 'i like a', 'i was a', 'i was a', 'i was a', 'i a a', 'i was a', 'i like a', 'i was a', 'i cant a', 'i a', 'i a a', 'i like a', 'i like a', 'i was a', 'i was a', 'i was a', 'i was a', 'i like a', 'im am a', 'i like a', 'i am a', 'i like it', 'i like a', 'i like a', 'i was a', 'you you me me', 'i like a', 'i was a', 'i was a', 'he a a', 'i like a', 'i was it', 'i like a', 'im a a', 'i like a', 'i like a', 'i was a', 'he is a', 'its is a', 'are is', 'he a a', 'its is', 'he is a', 'its is', 'its is a', 'tom you me', 'tom was it', 'i was it', 'he is a', 'he was a', 'its is', 'im was', 'its is is', 'tom found a', 'tom was it', 'you you to me', 'can can you', 'its the', 'can you you', 'tom tom me', 'he a it', 'tom was it', 'its is is', 'he a a', 'he is a', 'i was a', 'tom a a', 'i you a', 'tom was a', 'i like a', 'he found a', 'tom is is', 'its is a', 'he a a', 'its is a', 'he was it', 'tom is a', 'you you me', 'are is', 'tom is a', 'he a a', 'tom is it', 'he is a a', 'tom is', 'are', 'he was a', 'he a a', 'he is a', 'he was it', 'he you a', 'its is', 'are is', 'he is a', 'its is a', 'he a a', 'are is', 'its is a', 'i like a', 'tom is', 'tom was it', 'tom was a', 'tom was a', 'tom was it', 'tom is', 'tom was it', 'tom tom tom me', 'tom tom tom', 'tom is', 'tom is', 'tom was a', 'tom tom tom', 'tom was a', 'tom is a', 'tom tom', 'tom was it', 'tom it me', 'tom is', 'tom tom it', 'tom is a', 'tom is', 'tom is', 'tom is tom', 'tom is is', 'tom is', 'tom tom a', 'tom was me', 'tom tom tom', 'tom was', 'tom is a', 'tom found a', 'tom found a', 'tom a a', 'tom tom tom', 'tom was', 'tom found a', 'tom was it', 'tom is', 'tom tom a', 'tom is a', 'tom is a', 'he found a', 'he you a', 'tom is a', 'tom tom tom', 'tom is', 'tom was it', 'tom is a', 'tom is a', 'tom it a', 'tom tom', 'tom', 'tom tom', 'are you', 'dont', 'its not', 'can you me', 'i like to', 'we you it', 'he a a', 'he a a', 'we was you', 'we you it', 'can you to', 'tom found me', 'he was it', 'i was a', 'its was a', 'tom was it', 'he is a me', 'its is is', 'its is is', 'he a a', 'he a a', 'tom it a', 'i like', 'tom was it', 'he was a', 'we you it', 'he a a', 'tom you me', 'he found a', 'tom was a', 'dont you', 'i you', 'i a a', 'he a a', 'he was', 'i was it', 'i cant a', 'i cant you', 'youre the', 'tom was it', 'he a', 'he a a', 'he a a', 'its is', 'its is', 'i you to', 'he a a', 'are is', 'he a a', 'he you a', 'tom was it', 'i i a', 'he a a', 'i was it', 'i cant it', 'tom you me', 'can you you', 'its is', 'tom you it', 'can you me', 'can you me me', 'we you to', 'you you me', 'can you a', 'you you a me', 'tom was a', 'we you it', 'are you', 'tom was it', 'he you a', 'dont you me', 'he a a', 'can can you me', 'i you it', 'he was a', 'i like a', 'he a a', 'dont you', 'tom is a', 'tom you', 'its the', 'tom tom me me', 'tom you me', 'tom was', 'he was a', 'i was a', 'i a a', 'he a a', 'he was a', 'he a a', 'he a', 'he a a', 'he a a', 'he a a', 'i was a', 'i a a', 'he a a', 'tom you a', 'i a it', 'he was it', 'i was a', 'i a a', 'i a a', 'i like a', 'i i a', 'i like it', 'i a a', 'i like a', 'i like a', 'i like a', 'i like a', 'i am', 'i am', 'i like a', 'i a a', 'i a a', 'i like a', 'i like a', 'i was a', 'i was a', 'i like a', 'i was a', 'i like a', 'i like to', 'i was a', 'im not', 'i like a', 'i a a', 'i like a', 'i a a', 'i was a', 'i am', 'i was a', 'i was a', 'i am', 'i like a', 'i a a', 'i was a', 'i like a', 'i was a', 'i cant a', 'i was a', 'are is', 'its is', 'i cant it', 'i like to', 'he is a', 'he a a', 'he a a', 'its a', 'he a a', 'tom is a', 'he a a', 'tom you a', 'he was a', 'its not', 'its is a', 'tom is', 'i i i it', 'he was a', 'i was it', 'its is', 'i a a', 'he a a', 'he a a', 'tom tom tom', 'tom tom tom', 'tom you it', 'tom is', 'tom is a', 'tom is a', 'can you me me', 'he was it', 'its is is', 'tom was', 'are is', 'he is a', 'tom found me', 'he was it', 'he a a', 'its is a', 'we you me', 'he a a', 'its is a', 'its is a', 'its the', 'tom is a', 'he a a', 'its the', 'tom was it', 'tom is a', 'is is a', 'tom is a', 'its is a', 'its is', 'are are', 'he is a', 'he was a', 'he a a', 'its is is', 'did you a me', 'tom was', 'its is a', 'he was a', 'are are', 'he a a', 'he a', 'dont', 'tom you', 'he is a', 'he a a a', 'its is a', 'its a a', 'i like a', 'he was it', 'tom is a', 'tom was a', 'tom was a', 'tom was', 'tom is', 'tom was a', 'tom was a', 'tom tom a', 'tom is a', 'tom is', 'tom tom a', 'tom was a', 'tom was it', 'tom is', 'tom found me', 'tom is', 'tom is', 'tom is a', 'tom is', 'tom is a', 'tom was', 'tom tom tom', 'i a a', 'tom is a', 'tom is a', 'tom tom a', 'tom was a', 'tom was it', 'tom tom a', 'tom was it', 'tom tom a', 'tom was a', 'tom was a', 'tom was it', 'tom was it', 'tom is', 'tom is a', 'tom was a', 'tom tom it', 'tom found a', 'tom tom', 'tom is', 'tom was it', 'tom is a', 'he you a', 'tom is', 'tom was a', 'tom is', 'tom was', 'tom is a', 'tom is a', 'tom was it', 'tom was it', 'tom tom a', 'tom is a', 'tom was', 'tom was it', 'tom you me me', 'tom you it', 'im not busy', 'dont you me', 'can i you it', 'its a', 'he a a', 'its is a', 'i a a', 'he was it', 'tom was a', 'he found a', 'he you a', 'he you a', 'he a a', 'he a a', 'can you me', 'he a a', 'can you a', 'i was it', 'he a a', 'can cant a', 'can you a', 'he a', 'he you a', 'its is a', 'tom you me me', 'tom you it', 'tom was it', 'he a a', 'can you a', 'i you', 'youre are', 'he was a', 'its is', 'he was it', 'i cant a', 'are is', 'i cant a', 'i cant a', 'tom tom me', 'can you to', 'are are', 'he a it', 'i cant a', 'can you me', 'tom you a', 'he was a', 'he a a', 'he was a', 'he a a', 'are is', 'did you a', 'he a a', 'i a a', 'he a a', 'i a a', 'he was a', 'he a a', 'he was a', 'he a a', 'he was', 'he a a', 'he a a', 'tom was it', 'he a', 'i like to', 'i a a', 'he is a', 'tom was it', 'i like a', 'i like a', 'i like a', 'i a a', 'i cant a', 'i a a', 'i like a', 'i am a', 'i like a', 'i like a', 'i was a', 'i cant a', 'i like a', 'i like a', 'i was a', 'he you a', 'i like a', 'i like a', 'i was a', 'i a a', 'i was a', 'i was a', 'i a a', 'i like a', 'i am a', 'i like a', 'i like a', 'i like a', 'i cant a', 'i like a', 'i like a', 'i like a', 'i was a', 'he a a', 'i was a', 'i was a', 'can you a', 'i was a', 'i a a', 'i you a', 'im a a', 'i a a', 'i like a', 'i like a', 'i was a', 'i was a', 'he is a', 'i a a', 'i a a', 'im a a', 'i am a', 'i am a', 'i like a', 'i was a', 'youre', 'were', 'he was', 'are are', 'tom was a', 'its is', 'are is', 'tom was', 'tom tom tom', 'youre are', 'are', 'tom you', 'he you a', 'are are', 'he a a', 'its is', 'he a a', 'tom tom it', 'tom was it', 'tom tom me', 'tom was it', 'we you', 'he you a', 'tom found a', 'can can me', 'tom was it', 'he a a', 'he a a', 'he a a', 'tom you me me', 'is is is', 'tom', 'you you me', 'are is', 'he was a', 'its is a', 'i was a', 'its is is', 'its is', 'are are', 'its a', 'he a a', 'its is', 'tom is a', 'are are', 'its is', 'is is a', 'were is', 'he a a', 'tom is a', 'he is a', 'its is is', 'he a a', 'is is it', 'he a a', 'he a a', 'he was', 'dont', 'its was', 'tom is a', 'its is a', 'he was it', 'tom a it', 'tom it me', 'tom is', 'he a a', 'tom was a', 'tom is', 'tom is a', 'tom was it', 'tom is is', 'tom is', 'tom was a', 'tom is a', 'tom was a', 'tom found a', 'tom was a', 'tom was a', 'tom was', 'tom is', 'tom tom me', 'tom is it', 'tom is a', 'tom is a', 'tom is a', 'tom was a', 'tom is', 'tom is tom', 'tom is a', 'tom is is', 'tom is', 'tom tom tom', 'tom was', 'tom is is', 'tom tom', 'tom is a', 'tom is a', 'tom is', 'tom is', 'tom was a', 'tom was it', 'tom was a', 'tom tom', 'tom was it', 'tom is a', 'tom is', 'tom is a', 'tom is a', 'tom is', 'tom', 'he was', 'he a', 'he you a', 'i was it', 'i i you', 'i like it', 'he a', 'dont you', 'tom it a', 'i you it', 'he is a', 'he a a', 'tom you a me', 'i a a', 'can you to me', 'tom you me', 'can you me', 'he you it', 'im a', 'tom you', 'you you me', 'are you', 'its not', 'i i you', 'he a a', 'he you it', 'can cant it', 'its not', 'i a a', 'its is a', 'we you', 'he is a', 'we you it', 'its is is', 'he a a', 'tom is a', 'i cant a', 'tom a a', 'he a a', 'can can you it', 'he it a', 'tom', 'he was a', 'we you it', 'tom you a', 'can you a', 'can can you it', 'he you it', 'he a a', 'he a a', 'i was', 'we you me', 'dont you', 'tom tom a', 'are', 'tom was', 'tom it', 'im a', 'he a', 'i a a', 'he a a', 'he a a', 'he a a', 'he a a', 'he a a', 'he was a', 'im not', 'im a a', 'he is a', 'tom was it', 'i like a', 'he a a', 'he a a', 'he is a', 'he a a', 'he is a', 'he you a me', 'he is a', 'its is a', 'i like a', 'i was a', 'im a', 'i like a', 'i was a', 'i like a', 'i like a', 'i was a', 'i like a', 'i like a', 'i was a', 'i like a', 'i like a', 'tom was a', 'i like a tom', 'i like a', 'i was a', 'i a a', 'i was a', 'i was a', 'i like a', 'i like a', 'i was a', 'i a a', 'i like a', 'i like a', 'i like a', 'i like a', 'i a a', 'i like a', 'i a a', 'i was a', 'i like a', 'i was a', 'i cant a tom', 'i was a', 'im not', 'i was a', 'i like to', 'i like a', 'i like a', 'im a a', 'i was a', 'i was a', 'i was a', 'im not', 'tom tom me', 'i was a', 'tom was it', 'he you a', 'i cant a', 'tom was', 'tom was a', 'he a a', 'its a a', 'he a a', 'i like a', 'its is', 'he is a a', 'its is a', 'were are', 'its is is', 'are you', 'tom you me', 'its is is', 'he a a', 'he a a', 'its is', 'youre are', 'tom you', 'we you it', 'tom was it', 'i cant a', 'he a a', 'he a a', 'tom is a', 'he found a', 'i cant a', 'dont', 'are are', 'he a a', 'he was it', 'he a a', 'tom is a', 'he a a', 'its is', 'youre the', 'are is a', 'he a a', 'tom is', 'he a a', 'tom is a', 'tom is', 'you you a', 'its is a', 'its the', 'its is a', 'he was a', 'its is a', 'is was a', 'he a a', 'its the', 'its is a', 'its is is', 'he a a', 'he a', 'dont you', 'can you me me', 'i was it', 'its is a', 'its a', 'dont you', 'he a a', 'tom is is', 'he you a', 'its is a', 'tom is a', 'tom was a', 'tom you a me', 'you you me', 'i was it', 'tom is a', 'tom is', 'tom was it', 'tom was', 'tom is', 'tom was', 'tom was a', 'tom was', 'tom was it', 'tom was', 'tom is', 'tom it a me', 'tom is', 'tom is a', 'tom is', 'tom is is', 'tom is', 'he a a', 'tom was a', 'tom tom a', 'tom is a', 'tom a me', 'tom is a', 'tom is', 'tom is', 'tom is', 'tom is tom', 'tom is is', 'he found a', 'tom is a', 'tom is is', 'tom is a', 'tom was', 'tom was', 'tom was a', 'tom tom a', 'tom a a', 'he a a', 'he a', 'its is', 'can you to', 'he a a', 'he was it', 'he was a', 'he a a', 'we you it', 'he a a', 'can you to', 'its is is', 'i you to me', 'he you a', 'its the', 'tom is is', 'he a a', 'its is', 'can you to me', 'he you a me', 'i like a', 'he was it', 'tom you me', 'tom you it', 'tom is a', 'he a a', 'i cant a', 'tom you me', 'tom you it', 'tom is', 'im not', 'its is', 'he a a', 'can can you it', 'he was', 'i like', 'i a a', 'he a a', 'he a a', 'he a a', 'he a', 'are are', 'its the', 'tom you a', 'tom you me', 'tom you a me', 'i was a', 'i was a', 'we you a', 'you you me', 'i like a', 'he a a', 'he a a', 'we you me', 'he was it', 'tom found a', 'he a a', 'i a a', 'i a a', 'i was a', 'i a a', 'he a a', 'he a a', 'he a a', 'he is a', 'i was a', 'im a', 'i like a', 'i cant a', 'i like a', 'i cant a', 'i i a tom', 'i like a', 'i am', 'i like a', 'i was a', 'i like a', 'i like a', 'i was a', 'i was a', 'i like a', 'i cant a', 'i like a', 'i a a', 'i was a', 'i was a', 'i like a', 'i like a', 'i was a', 'i was a', 'i like a', 'i a a', 'i like a', 'i like a', 'i like it', 'i like a', 'i like a', 'i like it', 'i am a', 'he was a', 'i a a', 'i a a', 'i a a', 'i like a', 'i cant a', 'i cant a', 'i a a', 'i was it', 'i am a', 'im am', 'i a a it', 'im a a', 'i a a', 'i a a', 'he a it', 'im a a', 'i was a', 'i a a', 'he a a', 'are you', 'tom was', 'he a a', 'he a a', 'he found it', 'he a a', 'tom was it', 'its is is', 'i a a', 'he a', 'are', 'dont you', 'can can you it', 'im not', 'its is', 'he a a', 'tom is is', 'i am busy', 'tom you me', 'tom is', 'tom was it', 'tom was it', 'he you a', 'i like a', 'im a', 'tom a a', 'we you it', 'he is a', 'are are', 'he is a', 'its is', 'is is is', 'tom was a', 'its is', 'he is a', 'youre are', 'its is', 'he a a', 'are is', 'tom is is', 'he a a', 'its is', 'he a a a', 'he a a', 'i was it', 'tom is a', 'i you it', 'he a a', 'he a a', 'tom is is', 'he a a', 'tom was it', 'tom is a', 'tom was it', 'tom was a', 'tom was a', 'tom is', 'tom is', 'tom is a', 'tom is', 'tom tom tom', 'tom was a', 'tom was it', 'tom is', 'tom is', 'tom was a', 'tom is', 'tom is', 'tom found a', 'tom tom', 'tom is', 'tom is a', 'tom is', 'tom found a', 'tom is', 'tom is', 'tom found me', 'tom is a', 'tom was a', 'tom is is', 'tom is', 'tom is', 'tom was it', 'tom it a', 'tom was a', 'tom is', 'tom was it', 'tom was a', 'tom tom it', 'tom is a', 'tom tom it', 'tom is', 'tom was it', 'tom found a', 'tom found a', 'tom was it', 'he a a', 'tom is', 'tom a a', 'he a a', 'i like a', 'im not', 'he you a', 'can can a', 'do you a me', 'its is', 'tom is is', 'he a a', 'i i a', 'he you a', 'he found a', 'i was a', 'can you me', 'its is', 'he a a', 'i like a', 'i a a', 'i a a', 'its is', 'can you a', 'we you it', 'its is is', 'we you it', 'we was it', 'youre are', 'he is a', 'tom you me', 'you you me', 'he a it', 'tom is is', 'i was', 'i cant a', 'im not', 'i cant a', 'tom tom me', 'tom was it', 'tom was', 'are is', 'were was', 'he was a', 'he a a', 'he you a', 'i a a', 'he a a', 'i a a', 'he a a', 'he a a', 'tom is is', 'tom found a', 'he was it', 'i cant it', 'its is a', 'im a a', 'i like a', 'i like a', 'i like it', 'i a a', 'i like a', 'i was a', 'i like a', 'i like a', 'i like a', 'i a a', 'i like a', 'i was a', 'i am a', 'i was a', 'i like it', 'i am', 'i like a', 'i a a', 'i a a', 'i was a', 'i was a', 'i a a', 'i a a', 'i like a', 'i like a it', 'i cant a', 'i like a', 'i like a', 'i a a', 'i like to', 'im am', 'i a a', 'i a a', 'i like a', 'i a a', 'its is', 'he you a', 'he a a', 'tom you it', 'i cant it', 'tom tom a', 'he was a', 'he a a', 'i was a', 'he a a', 'he a', 'its is', 'he was a', 'tom was a', 'he was it', 'he a a', 'can you me', 'tom was a', 'he a me', 'tom found it', 'are is', 'tom was it', 'he a a', 'he a a', 'he a a', 'its is a', 'tom found it', 'dont you', 'are you', 'he a a', 'he a a', 'its is', 'he was a', 'he a a', 'he a a', 'he is a', 'its is is', 'tom is is', 'he a a', 'are', 'he a it', 'its is', 'he a a', 'tom is a', 'are are', 'he a a', 'he a a', 'he a a', 'tom was it', 'he a a', 'tom is', 'tom was it', 'tom is is', 'tom was', 'tom was a', 'tom is', 'tom is a', 'tom is', 'tom is', 'tom is a', 'tom is tom', 'tom is', 'tom was it', 'tom tom a', 'tom is a', 'tom found a', 'tom a a', 'tom is a', 'tom was it', 'tom was a', 'tom is a', 'tom is a', 'tom is a', 'tom was it', 'tom is', 'tom you me', 'tom tom me', 'tom tom tom', 'he a a', 'he was a', 'he a a', 'he was a', 'i cant a', 'i i a it', 'its is a', 'can you me', 'he a a', 'tom found me', 'he you a', 'its is is', 'its is is', 'he a a', 'its not', 'he is a', 'tom you me', 'he a a', 'its a', 'im a a', 'he you a', 'he is a', 'can you me me', 'can you me me', 'tom you me', 'he was it', 'can you', 'he was a', 'its the', 'are is', 'you you a me', 'tom was it', 'are you', 'its is a', 'i like a', 'is is a', 'who was it', 'i cant it', 'he a a', 'tom you a', 'tom you me', 'tom you me', 'tom you it', 'he is a', 'he a a', 'dont you', 'i cant a', 'tom you a', 'did you me', 'he a a', 'are are', 'i was a', 'he a a', 'he was it', 'he a a', 'he a a', 'he a a', 'i cant a', 'he a a', 'he is a', 'i like a', 'i like a', 'i like a', 'i like a', 'i was a', 'i like a', 'i was a', 'i was a', 'i like a', 'i was a', 'i was a', 'i like a', 'i a a', 'i like a', 'i was a', 'i was a', 'i like a', 'i like a', 'i like a', 'i a a', 'i was a', 'i a a', 'i a a', 'i a a', 'i like a', 'i cant a', 'i cant a', 'its is', 'i cant a', 'he a a', 'he was a', 'he a a', 'he a a', 'i was a', 'dont you', 'he a a', 'he a a', 'he a a', 'he a a', 'tom found a', 'tom it a me', 'tom was it', 'he a a', 'i was a', 'he a a', 'he is a', 'tom is', 'tom is', 'tom is a', 'its is is', 'tom you me', 'he you a', 'he a a', 'he found a', 'tom you a', 'hes a busy', 'he was a', 'youre are', 'he is a', 'he a a', 'he a a', 'tom is', 'he is a', 'tom', 'its is', 'its is', 'its is is', 'are you', 'tom is a', 'its is is', 'its is a', 'its is a', 'he a a a', 'its is a', 'come', 'are are', 'are are', 'tom is a', 'tom found a', 'tom is a', 'tom it me', 'tom is a', 'tom was it', 'tom is a', 'tom was', 'tom was a', 'tom was a', 'tom is', 'tom was a', 'tom is tom', 'tom was it', 'tom was a', 'tom found a', 'tom was it', 'tom found a', 'tom was it', 'tom tom a', 'tom is a', 'tom is is', 'tom was it', 'tom was a', 'can can a', 'can you you me', 'do you to', 'he you a', 'he was a', 'we you me', 'he a a', 'he a a', 'he a a', 'can you you it', 'he found me', 'he was a', 'he you a', 'we you', 'i a a', 'tom found a', 'tom was it', 'tom is', 'i you', 'i like a', 'can can you', 'its is is', 'tom you it', 'i you', 'he a a', 'dont you', 'he a it', 'tom found a', 'are is', 'i cant a', 'i i a', 'can you to me', 'he was a', 'i cant a', 'can cant a', 'he a a', 'dont you', 'tom it a', 'are is', 'he you a', 'its is', 'tom you me', 'tom you a', 'you you a me', 'tom was', 'he a a', 'he a a', 'he a a', 'he a a', 'i a a', 'he a a', 'its is', 'i cant a', 'we you it', 'i a a', 'i a a', 'i cant a', 'its is', 'i like a', 'i like a', 'i like a', 'i i a', 'i cant a', 'i like a', 'i like a', 'i was a', 'he a a', 'i like a', 'i was a', 'i like a', 'i like a', 'i cant a tom', 'i am', 'i a a', 'i like a', 'i like a', 'i like a', 'he a a', 'i like a', 'i a a a', 'i was a', 'i like a', 'i like a', 'i like a', 'you you a', 'i like a', 'i a a', 'i was a', 'i was a', 'i a a', 'i like a', 'i was a', 'i like a tom', 'im a a', 'im a a', 'i was a', 'i like a', 'i like a', 'i a a', 'im not', 'tom is a', 'he was a', 'he you a', 'its is is', 'he a a', 'he a a', 'he a a', 'he a a', 'he a a', 'he a a', 'he a a', 'are was', 'its is is', 'its is a', 'tom is a', 'i was a', 'its is is', 'he a a', 'tom is a', 'he was it', 'tom you me', 'he you a', 'tom it me', 'he a a', 'tom was it', 'he a a', 'he a a', 'its is is', 'its is', 'we you it', 'tom you a me', 'i you', 'he a it', 'he a a', 'are are', 'are are', 'he a a', 'its is a', 'its is is', 'he a a', 'tom is a', 'i a a', 'tom was it', 'im a a', 'its is is', 'its was', 'he a a', 'are you a', 'tom is a', 'tom is a', 'tom found me', 'tom was it', 'tom was a', 'tom was it', 'tom was it', 'tom was a', 'tom was a', 'tom it a', 'tom is is', 'tom is', 'tom was it', 'tom tom it', 'tom was it', 'tom is a', 'tom tom tom', 'tom is a', 'tom you a', 'tom is is', 'he found a', 'tom is', 'tom is a', 'tom tom', 'tom found a', 'tom was a', 'tom is a', 'tom is is', 'tom is', 'tom is it', 'tom found a', 'tom is a', 'tom you it', 'he a', 'i like a', 'i i you', 'he a a', 'we was', 'its is', 'he a a', 'i was a', 'he you a me', 'are is', 'he is a', 'tom is a', 'tom you a', 'he was a', 'its is a', 'are are', 'were are', 'i a it', 'i a a', 'i like a', 'tom you a', 'tom you a', 'i cant it', 'i was a', 'we you it', 'he is a', 'he a a', 'he was a', 'its the', 'i you a', 'can you a', 'tom is a', 'tom was it', 'can can me me', 'i cant it', 'can you to', 'you you me', 'he a a', 'tom you me', 'tom found a', 'i like to', 'tom tom me', 'we you to', 'he you a me', 'he a a', 'he a a me', 'he a a', 'he was', 'he a a', 'he a a', 'he a a', 'he a a', 'he a a', 'im not', 'i a a', 'i was a', 'he a a', 'he a a', 'he a a', 'its is', 'i like a', 'i was a', 'i like a', 'i like a', 'i like a', 'i like a', 'i am it', 'i like a', 'i was a', 'i am a', 'i was a', 'i like a', 'i am a', 'i was a', 'i a a', 'i was a', 'i like a', 'i like a tom', 'i like a', 'i am a', 'im a a', 'im not', 'i like a', 'i a a', 'i like a', 'he a', 'i like it', 'he you a', 'he is a', 'he a a me', 'tom was it', 'tom is is', 'its is is', 'he a a', 'he a a', 'you you it', 'did you a me', 'we you me', 'he a a', 'its is', 'he is a', 'he a a', 'its a a', 'tom you me', 'he was a', 'he a a', 'dont you', 'he a a', 'tom is a', 'he is a', 'tom found a', 'he a a', 'you you me', 'youre are', 'he is a', 'tom is', 'are is', 'he a a', 'tom a a', 'he is a a', 'its was', 'he a a', 'he a a', 'he was a', 'he a a', 'its is is', 'its is is', 'tom was a', 'he you a', 'tom you', 'he a a', 'he a a', 'tom is', 'tom is', 'tom was', 'tom was a', 'tom was a', 'tom was', 'tom was a', 'tom is', 'tom was it', 'tom is is', 'tom was a', 'tom is', 'tom was', 'tom is a', 'tom tom a', 'tom is a', 'tom is', 'tom was', 'tom was it', 'tom tom tom', 'he you a', 'tom was a', 'tom was a', 'tom is a', 'tom is a', 'its is', 'i like a', 'i cant a', 'tom is a', 'tom was', 'he a', 'he was it', 'tom is a', 'he a a', 'tom was it', 'he is a', 'he a a', 'he you a me', 'i i a', 'he you a', 'are you', 'he a a', 'he you it', 'i cant it', 'he was it', 'tom you it', 'you you me', 'its is', 'he a a', 'he is a', 'tom you it', 'tom tom', 'its is', 'he a a', 'tom you me', 'he a it', 'tom was a', 'dont', 'he you a me', 'i was a', 'he a a', 'i a a', 'i a a', 'i was a', 'you you me', 'its is a', 'i like a', 'i like a', 'i a a', 'i like a', 'i like a', 'im a it', 'i was a', 'i was a', 'i like a tom', 'i a a', 'i am a', 'im a a', 'i am', 'i like a', 'i like a', 'i like a', 'i i to', 'i you a', 'he is a', 'i was a', 'dont you', 'he a a', 'he a a', 'its is', 'its is', 'tom was it', 'its is is', 'he is a', 'i a a', 'are is', 'its is a', 'its is a', 'tom was', 'he a a', 'can you me me', 'he a a', 'tom it me', 'tom was', 'tom was a', 'he found a', 'tom you it', 'he is a', 'its is is', 'he a a', 'tom was a', 'he a a', 'tom tom me', 'tom is a', 'its is', 'he a a', 'its is', 'he a a', 'tom was a', 'i a a', 'tom you it', 'he was a', 'he was a', 'tom is it', 'its a', 'he a a', 'its is a', 'he a', 'dont', 'dont', 'tom you me', 'tom was it', 'tom tom a me', 'tom was a', 'tom is', 'tom is a', 'tom is a', 'tom was it', 'tom was it', 'tom is a', 'tom is a', 'tom tom a', 'tom is a', 'tom is', 'tom is a', 'tom tom tom', 'tom was it', 'tom was a', 'tom a it', 'tom a it', 'tom was it', 'tom is a', 'tom you me', 'tom is', 'tom found it', 'tom was a', 'he you a', 'i like a', 'i was a', 'i a a', 'he a a', 'i cant a', 'he you a', 'he was it', 'its is is', 'its is', 'i was a', 'he a a', 'he a', 'you you a', 'tom it it', 'tom found it', 'i cant a', 'he is a', 'i a a', 'he a a', 'tom was it', 'youre are', 'tom is is', 'tom was it', 'he was a', 'he was a', 'tom you me me', 'he a a', 'are you', 'i cant a', 'he a a', 'you you me', 'he a a', 'tom you me', 'he a a', 'he a a', 'he a a', 'tom is is', 'he a a a', 'he a a', 'he a a', 'i like a', 'i like a', 'i like a', 'i like a', 'i like a', 'i was a', 'i was a', 'i was a', 'i a a', 'i was a', 'i like a', 'i was a', 'i like a', 'i was a', 'i am a', 'i like a', 'i like a', 'i was a', 'i was a', 'i was a', 'i cant a', 'i like a', 'he found a', 'i was a', 'i was a', 'he a a', 'im a a', 'i a a', 'he a it', 'he a a', 'he was a', 'are you', 'are is', 'he a a', 'i cant a', 'its is is', 'he you a', 'he a a', 'its is is', 'he a a', 'its is is', 'he was a', 'tom was it', 'tom is a', 'he a a', 'he is a', 'tom is a', 'its is is', 'he a a', 'its is is', 'he a a', 'we you it', 'its is a', 'can you me me', 'he you a', 'its is', 'tom tom a', 'tom was a', 'tom is it', 'tom a a', 'tom is', 'tom was a', 'tom is a', 'tom is a', 'tom is a', 'he is a', 'tom was', 'tom is a', 'tom is tom', 'tom is', 'tom is is', 'tom was a', 'tom is', 'tom is a', 'tom is is', 'tom tom me', 'tom is', 'tom is a', 'tom is a', 'tom it a', 'tom was a', 'tom was it', 'tom is is', 'tom tom a', 'tom was me', 'tom it a', 'tom is a me', 'tom was a', 'tom was it', 'tom is a', 'tom was a', 'he was a', 'he was a', 'im not', 'i cant a', 'he you a', 'he a a', 'tom was it', 'tom you me', 'he found a', 'he found a', 'you you a me', 'he a a', 'he you a', 'can you me', 'he is a', 'i like a', 'tom you me', 'i cant a', 'im a', 'its is', 'he a a', 'do you me me', 'its is', 'he is a a', 'are are', 'tom was it', 'tom was it', 'tom was', 'he found a', 'i was a', 'dont', 'he a a', 'he a a', 'im a', 'i saw a', 'he was a', 'he was it', 'i like a', 'i was a', 'i a a', 'i was a', 'he a a', 'he a a', 'i like a', 'i like a', 'i was a', 'i like a', 'i am a', 'i was a', 'i like a', 'i was a', 'i like a', 'i like a tom', 'i am a', 'you you a', 'i a a', 'im a a', 'he a a', 'he a a', 'can can you', 'tom you a', 'tom tom me', 'he a a', 'he a a', 'he a a', 'he is a', 'its is is', 'he is a', 'its is is', 'he a a', 'tom you a', 'he is a', 'tom is a', 'he is a', 'its is', 'i was a', 'he is a', 'he a a', 'i was a', 'its the', 'he a a it', 'is is a', 'its the', 'he a a', 'i like a', 'he a a', 'its is a', 'he a a', 'he a a', 'its is', 'are is', 'he a a', 'he is a', 'he a a', 'its is', 'its is', 'he a a', 'tom is', 'tom was a', 'its is a', 'tom a a', 'tom found me', 'tom tom me', 'tom was a', 'tom was', 'tom is is', 'tom is is', 'tom is a', 'tom is a', 'tom is it', 'tom is a', 'tom is', 'tom is a', 'tom is', 'tom tom a', 'tom found a', 'its is is', 'tom is a', 'he a a', 'he a it', 'he a a', 'he a a', 'tom you a', 'i a a', 'i like', 'its is is', 'tom you me me', 'he you a', 'i like a', 'i was a', 'he a a', 'he a a', 'tom you', 'its was it', 'i cant a', 'i can a', 'he a a', 'youre are', 'he a a', 'tom a it', 'tom was it', 'tom you me', 'i was it', 'he a', 'tom you a', 'did you a', 'he was a', 'im a busy', 'he a a', 'i a a', 'he a a', 'he was a', 'he a a', 'i cant a', 'i a a', 'i i to', 'i like a', 'i like a', 'i was a', 'i was a', 'i like a tom', 'i like a', 'i like a', 'tom you it', 'i like a', 'tom is', 'i hate it', 'im a a', 'i was a', 'he a a', 'its is', 'i like a', 'he a a', 'he a a', 'he a a', 'he a', 'tom you a', 'he is a', 'can you it', 'tom was it', 'tom found it', 'its is is', 'he is a', 'he a a', 'tom you it', 'he is a', 'he a a', 'its is a', 'are was it', 'tom was', 'tom was it', 'tom was a', 'he a a', 'its not', 'he you a', 'tom is is', 'tom is a', 'tom found me', 'tom found a', 'tom is a', 'tom was a', 'its is is', 'tom is a', 'tom was', 'tom is', 'tom was it', 'tom is a', 'tom tom a', 'tom is', 'tom tom', 'tom was a', 'its is is', 'he a a', 'i you a', 'i was a', 'he a a', 'im a a', 'he is a', 'he a a', 'he a a', 'tom tom me', 'is is is', 'he you it', 'he was a', 'we you it', 'i like a', 'tom was it', 'i cant a', 'i like a', 'he a a', 'he a a', 'he is a', 'i a a', 'i a a', 'i a a', 'i like a', 'i was a', 'i like a', 'i was a', 'i like a', 'i was a', 'i like a', 'i was a', 'i like a', 'i like a', 'i like a', 'i like a', 'i like a', 'im a a', 'i like a', 'i am', 'i was a', 'tom a a', 'can you a', 'tom was', 'its is a', 'he a a', 'its is a', 'he a a', 'he a a', 'its a a', 'tom it me', 'are is', 'he was a', 'tom was a', 'i cant a', 'he a a', 'he is a', 'he a a', 'he is a', 'he a a', 'tom was it', 'he a a', 'he a a', 'he is a', 'im a a', 'im a a', 'he was a', 'he is a', 'he a a', 'he a a', 'its is a', 'he is a', 'tom was a', 'tom is a', 'tom is', 'tom was a', 'tom is a', 'tom was', 'tom tom a', 'tom is a', 'tom tom a', 'tom is', 'tom is', 'tom it me', 'he a a', 'i i to', 'he a a', 'you you a', 'he a a', 'i was a', 'he you a', 'he a a', 'tom is', 'its is a', 'he was a', 'he you it', 'tom you a me', 'i like a', 'he was a', 'he a a', 'i like it', 'i like a', 'i was a', 'i was a', 'i like a', 'i like a', 'i was a', 'i was a', 'i like a', 'i a it', 'i was a', 'i was a', 'i like a', 'i like a', 'i cant a', 'he a a', 'i was a', 'i was a', 'he was', 'we you a', 'he is a', 'tom is is', 'tom is it', 'tom is a', 'tom was a', 'im a a', 'its is a', 'he was a', 'its is', 'its is a', 'he a a', 'he is a', 'he a a', 'he a a', 'he a a', 'he is a', 'he found a', 'he a a', 'its is a', 'its is a', 'tom is it', 'he a a', 'he a a', 'its is', 'i cant a', 'tom tom it', 'tom was a', 'he a a', 'tom is', 'tom was a', 'tom is a', 'tom is a', 'tom was it', 'tom is a', 'tom tom me', 'tom was a', 'tom is a', 'tom tom tom', 'tom found a', 'tom is a', 'tom is is', 'tom was it', 'tom is a', 'i was a', 'tom you a', 'we you', 'its is is', 'he was a', 'he you a', 'he a a', 'he a a', 'i cant a', 'tom you me', 'can you a', 'tom tom a me', 'he a a', 'he is a', 'he found a', 'i a a', 'its a', 'i a a', 'he found a', 'i cant a', 'you you me', 'im a', 'tom was it', 'tom is tom', 'i a a', 'i was a', 'i a a', 'i was a', 'i a a', 'i like a', 'i was', 'i was a', 'i am a', 'i like a', 'i was a', 'i like a', 'i a a', 'i was a', 'i like a', 'i was a', 'i like a tom', 'i cant a', 'i like a', 'i like a', 'i was a', 'he a a', 'you you a me', 'he a a', 'its is is', 'he a a', 'he was', 'we was it', 'he you a', 'tom is a', 'he a a', 'he is a', 'tom was a', 'he was a', 'its is is', 'we you me', 'go', 'i a a', 'i a a', 'its is is', 'he is a', 'its was a', 'he was a', 'he was a', 'he a a', 'its is a', 'tom was a', 'tom you it', 'he a a', 'he is a', 'he a a', 'tom was', 'he you to', 'he a a', 'tom was a', 'tom found a', 'tom found a', 'tom is a', 'tom was a', 'tom is a', 'tom found a', 'tom is', 'tom was', 'tom it me', 'tom is', 'tom has a', 'he a a', 'he a a', 'i was a', 'tom you a', 'its is', 'i i a tom', 'he a a', 'he you a me', 'he a a', 'he a a', 'its is', 'its is a', 'he a a', 'im a a', 'you you a', 'he a a', 'he a a', 'i like it', 'tom is a', 'he a a', 'tom you me', 'i like a', 'i a a', 'i like a', 'i like a', 'i like a', 'i was a', 'i was a', 'i a a', 'i like a', 'he a a', 'he a a', 'its is is', 'he a a', 'its is is', 'he was a', 'its is', 'its a', 'tom is it', 'he is a', 'did you me me', 'its is a', 'its is is', 'he is a', 'tom is', 'tom is', 'tom found a', 'its is a', 'tom tom a', 'tom was', 'tom was', 'tom was it', 'tom was a', 'tom found me', 'tom was a', 'tom is', 'tom is a', 'tom is a', 'tom was a', 'tom is a', 'tom is is', 'tom found me', 'tom a a', 'tom is a', 'tom was a', 'tom is', 'tom was it', 'tom is a', 'tom is a', 'tom was it', 'tom is', 'he a a', 'he a a', 'i like a', 'tom found a', 'he you a', 'he you it', 'he a a', 'i was a', 'i a a', 'he you a', 'dont you me', 'i like a', 'he a a', 'he a a', 'he a a', 'he a a', 'i you me', 'i a a', 'i like a', 'tom is is', 'i cant a', 'i a a', 'im a a', 'tom you it', 'he a a', 'he a a', 'tom was it', 'its is is', 'he is a', 'i cant a', 'he a a', 'he is a', 'he a a', 'he a a', 'he a a', 'tom is', 'tom was it', 'tom was', 'tom is', 'tom was a', 'tom is a', 'tom is is', 'tom is a', 'he a a', 'tom is a', 'tom found me', 'tom is a', 'tom you me', 'he a a', 'im not', 'he a it', 'he a a', 'he a it', 'its is is', 'tom is', 'tom you a', 'he a a', 'tom the', 'tom is', 'tom it me', 'he a a', 'i a a', 'im not', 'he a a', 'i like a', 'i like a', 'im a', 'i a a', 'i a it', 'i a a', 'he is a', 'its is is', 'he a a', 'its is a', 'he a a', 'he a a', 'im a a', 'he a a', 'tom tom me me', 'he a a', 'he a a', 'he a a', 'its is', 'he is a', 'he is a', 'he a a', 'its is', 'he a a', 'he a a', 'i a a', 'tom is', 'tom was it', 'tom was', 'tom is a', 'tom was a', 'tom is is', 'tom it me', 'tom you a', 'he a a', 'he was a', 'he a a', 'he a a', 'tom you it', 'i a a', 'tom found it', 'i cant a', 'i was a', 'he a a', 'i a a', 'tom is', 'i cant a', 'he a a', 'tom you me', 'tom is is', 'are are', 'i was a', 'i a a', 'i like a', 'i am it', 'i cant a', 'i like a', 'tom tom a', 'i like a it', 'i like a', 'tom you a me', 'he a a', 'i like a', 'i i you', 'i was it', 'he a a', 'he a a', 'he a a', 'he a a', 'i like a', 'its is is', 'tom you me', 'tom tom me', 'tom was me', 'i a a', 'he a a', 'he a a me', 'can can a', 'he a a', 'its is a', 'tom is a', 'he a a', 'its is is', 'he was it', 'tom you a', 'tom was it', 'its is a', 'tom a a', 'tom was', 'tom was a', 'tom was a', 'tom is is', 'tom was a', 'tom was it', 'tom tom a me', 'tom is a', 'tom is a', 'can you me me', 'tom was', 'tom is a', 'its is', 'he a a', 'i was a', 'i was a', 'tom was a', 'tom was', 'i cant a', 'he a a', 'he a a', 'he a a', 'he is a', 'tom is is', 'did you me me', 'im a a', 'its is is', 'he a a', 'we was', 'he a a', 'i like a', 'i was a', 'i like a', 'i was a', 'i cant a tom', 'i like a', 'i like a', 'its is is', 'he was', 'its is is', 'i like a', 'he a a me', 'he a a', 'he a a', 'its is a', 'he a a', 'he a a', 'its is is', 'tom is a it', 'tom is a', 'tom was a', 'tom was a', 'tom was', 'its is is', 'tom is is', 'tom was a', 'tom tom a', 'tom was a', 'he a it', 'tom was it', 'tom is a', 'its is a', 'can can you it', 'tom tom me me', 'i was a', 'i a a', 'i like a', 'i like a', 'i like a', 'i cant a tom', 'i a a', 'i like a', 'i a a', 'i was a', 'i was a', 'i like a', 'i was a', 'i a a', 'i was a', 'i was a', 'i like a', 'i like a', 'i a a', 'i like a', 'he a a', 'he a a', 'he is a', 'its is is', 'he a a', 'he a a', 'its a a', 'i like a', 'he you a me', 'i i a', 'tom was a', 'he a a', 'he is a', 'he is a', 'tom is is', 'tom was a', 'tom found a', 'tom is', 'tom is a', 'tom is a', 'tom is a', 'tom is is', 'he a it', 'i cant a', 'he you a', 'can you me me', 'can you me', 'he you a me', 'he a a', 'he was it', 'he a a', 'he was a', 'tom was', 'its is is', 'he a a', 'he a a', 'he a a', 'i a a', 'i cant a', 'i like a', 'i a a', 'i a a', 'i was a', 'i like a', 'i like a', 'i like a', 'its is', 'he a a', 'its is a', 'can you me', 'are was', 'he a a', 'its is is', 'i a a', 'he a a', 'he a a', 'tom is a', 'tom is a', 'tom is', 'tom was a', 'tom was it', 'he a a', 'tom is a', 'tom is a', 'tom is is', 'tom is a', 'are are', 'he a it', 'i a a', 'tom found a', 'i like a', 'he is a', 'tom you it', 'he a a', 'he a a', 'he a a', 'he a a', 'i like', 'he a a', 'i a a', 'i cant a tom', 'i like a', 'i like a', 'i like a', 'i a a', 'i was a', 'i was a', 'i a a', 'i a a', 'he a a', 'he a a', 'tom was a', 'he a a', 'he a it', 'youre are', 'are is', 'tom was a', 'tom a', 'tom is a', 'tom is a', 'tom is a', 'tom was a', 'tom is a', 'tom is', 'dont you', 'he a a', 'its not', 'i a a', 'i like a', 'i like a', 'i a a', 'tom found a', 'tom is a', 'he a a', 'are is', 'tom is a', 'its is a', 'he was it', 'he a a', 'tom a a', 'tom was it', 'tom is a', 'tom is a', 'tom is a', 'tom is', 'tom is tom', 'tom was a', 'tom tom tom', 'tom is', 'tom is a', 'tom you me', 'he you a', 'he a a', 'i cant a', 'he a a', 'he a a', 'he a a', 'tom you me', 'its a', 'he a a', 'i was a', 'im not', 'i was a', 'im not im', 'he a a', 'he a a', 'its is is', 'he a a', 'he a a', 'he a a', 'i was a', 'tom was a', 'are was it', 'he a a', 'its is is', 'tom a a', 'tom found me', 'tom is a', 'tom was me', 'he a a', 'tom you a', 'its a', 'he a a', 'he a', 'he a a', 'he is a', 'tom was a', 'he a a', 'he a a', 'i like it', 'i like a', 'tom is a', 'i like a', 'i was a', 'he a a', 'he a a', 'he is a', 'tom it a', 'he a a', 'its is a', 'he a a', 'tom was a', 'he a a', 'he a a', 'he is a a', 'he a a', 'tom is is', 'tom is is', 'i cant a', 'i a a', 'he a a', 'i am a', 'i a a', 'i i to', 'its is a', 'its is a', 'he a a', 'he a a', 'tom you', 'tom it it', 'its is', 'tom found a', 'tom is a', 'tom is a', 'tom is a', 'tom is a', 'tom was it', 'tom was a', 'tom is', 'he a a', 'he a a', 'he a a', 'dont you', 'tom tom me', 'he a a me', 'i like a', 'i like a', 'i like a', 'tom is is', 'i like a', 'i like a', 'can you me me', 'its a a', 'he a a', 'tom is a', 'tom a a', 'tom you me', 'he you a', 'he a a', 'tom is', 'tom is a', 'tom tom me', 'tom was a', 'tom is a', 'tom it a', 'he a a', 'he is a', 'he was it', 'he a a', 'i like a', 'he a a', 'i was a', 'i a a', 'i a a', 'i was a', 'i was a', 'i like a', 'tom is a', 'tom was a', 'he a a', 'he is a', 'tom you a me', 'tom was it', 'i was a', 'i like a', 'i like a', 'i like a', 'i a a', 'i was a', 'he a a', 'tom is', 'tom is a', 'tom is is', 'tom it a', 'tom you me', 'tom was a', 'he a a', 'he is a', 'he a a', 'he a a', 'tom was it', 'he a a', 'can you me me', 'i a', 'tom was it', 'tom found a', 'tom was it', 'tom was it', 'tom found it', 'tom was it', 'he is a', 'he a a', 'he was', 'he you a', 'its is', 'i was a', 'i like a', 'i like a', 'its is a', 'tom was it', 'he a a', 'he a a', 'are is', 'he a a', 'he a a', 'he a a', 'tom was it', 'tom a a', 'tom is a', 'he is a', 'i a a', 'i like a', 'he a it', 'he a a', 'tom is is', 'tom was it', 'tom a a', 'he a it', 'tom a a', 'its is a', 'i like a it', 'i am a', 'he you a', 'he a a', 'tom you', 'he was it', 'tom is a', 'he a', 'its was it', 'tom was a', 'tom was a', 'tom was a', 'tom is is', 'i like a', 'i like a', 'can you you', 'i a a', 'he you a', 'its is', 'tom a a', 'tom is a', 'tom a a', 'tom was a', 'tom was a', 'he a a', 'he a it', 'he a a', 'tom is', 'tom was a', 'he a a', 'i was a', 'he a a', 'tom was it', 'tom is a', 'tom is', 'i i to', 'he a a', 'he you a', 'i like a', 'tom you me', 'he was a', 'he a a', 'tom was it', 'tom was a', 'tom was a', 'he a a', 'tom a a', 'tom is a', 'he was a', 'he a a', 'i a a', 'he a a', 'tom tom me', 'tom found a', 'tom found a', 'he a a', 'i like a', 'he was a', 'i you it', 'he a a', 'he a a', 'he a a', 'tom is a', 'tom is a', 'tom is is', 'he a a', 'tom is a', 'he a a', 'he a a', 'he a a', 'he a a', 'he a a', 'he a a', 'its is a', 'tom was it', 'tom is a', 'tom is a', 'tom is a', 'i like a', 'i was a', 'i like a', 'i like a', 'tom is a', 'he a a', 'tom is a', 'he a a', 'i like a', 'tom it a', 'he a a', 'tom was it', 'he a a', 'tom a a', 'he a it', 'i a a', 'he is a a', 'i a a', 'i like a', 'he is a', 'he is a', 'tom is a', 'its is is', 'he was a', 'i like a', 'i like a', 'i like a', 'he a a', 'tom is a', 'he a a', 'i a a', 'he is a', 'i was a', 'he a a', 'he a a', 'tom found a', 'tom found a', 'tom is is', 'tom tom', 'i a a', 'you you me', 'tom a a', 'tom is a', 'tom was', 'tom was it', 'tom it a', 'i was a', 'he a a', 'tom is a', 'tom is', 'i like a', 'i was a', 'he you a', 'tom was a', 'he a a', 'i like a', 'its is is', 'tom is a', 'tom is a', 'he a a', 'tom a a', 'he a a', 'tom is a', 'i was a', 'its is is', 'tom was it', 'tom is a', 'i like a', 'its is a', 'tom is a me', 'he was', 'tom was a', 'tom you a', 'he a a', 'he a it', 'i was a', 'i was a', 'he you a', 'tom a a', 'he is a', 'its is is', 'he a', 'he a a', 'i like a', 'tom found a', 'tom was', 'i was a', 'he a a', 'i was a', 'tom is a', 'tom a a', 'i a a', 'tom found a', 'tom a a', 'tom a a', 'he a a', 'he a a', 'do you a me', 'he is a']\n"
     ]
    }
   ],
   "source": [
    "integers = [[np.argmax(vector) for vector in array] for array in prediction_probabilities]\n",
    "\n",
    "predicted_sentences = []\n",
    "for array in integers:\n",
    "    eng_sentence = []\n",
    "    for each_int in array:\n",
    "        for word, index in tokenizer_eng.word_index.items():\n",
    "            if index == each_int:\n",
    "                eng_sentence.append(word)\n",
    "                \n",
    "    translated_sentence = ' '.join(eng_sentence)\n",
    "    predicted_sentences.append(translated_sentence)\n",
    "print(predicted_sentences)\n",
    "\n"
   ]
  },
  {
   "cell_type": "code",
   "execution_count": 254,
   "metadata": {},
   "outputs": [
    {
     "name": "stdout",
     "output_type": "stream",
     "text": [
      "['Can I help' 'Can I sing' 'Can I stay' 'Carry this' 'Check that'\n",
      " 'Check that' 'Check this' 'Choose one' 'Choose one' 'Come again'\n",
      " 'Come again' 'Come again' 'Come alone' 'Come alone' 'Come alone'\n",
      " 'Come along' 'Come along' 'Come early' 'Come early' 'Come on in'\n",
      " 'Come on in' 'Come on in' 'Come to me' 'Come to us' 'Definitely'\n",
      " 'Destroy it' 'Did Tom go' 'Did Tom go' 'Dig faster' 'Do come in'\n",
      " 'Do come in' 'Do come in' 'Do men cry' 'Dont brag' 'Dont come'\n",
      " 'Dont come' 'Dont come' 'Dont jump' 'Dont look' 'Dont move' 'Dont move'\n",
      " 'Dont peek' 'Dont push' 'Dont sing' 'Dont stop' 'Dont talk' 'Dont talk'\n",
      " 'Dont wait' 'Dont wait' 'Dont wait' 'Dont yell' 'Dont yell' 'Dont yell'\n",
      " 'Drink this' 'Drink this' 'Duty calls' 'Eat slowly' 'Examine it'\n",
      " 'Fill it up' 'Find a job' 'Find a job' 'Find a job' 'Fire burns'\n",
      " 'Follow Tom' 'Follow Tom' 'Follow Tom' 'Follow him' 'Forget Tom'\n",
      " 'Forget him' 'Forgive us' 'Get off me' 'Give it up' 'Go on home'\n",
      " 'Go see Tom' 'Go to work' 'Go to work' 'God exists' 'Good night'\n",
      " 'Have faith' 'He coughed' 'He gave in' 'He gave up' 'He got a D'\n",
      " 'He got a D' 'He hung up' 'He hung up' 'He is a DJ' 'He is a DJ'\n",
      " 'He is busy' 'He is here' 'He is kind' 'He is kind' 'He is mean'\n",
      " 'He is mean' 'He is poor' 'He is sick' 'He is tall' 'He laughed'\n",
      " 'He made it' 'Hes Swiss' 'Hes cruel' 'Hes lying' 'Hes smart' 'Hes smart'\n",
      " 'Hello Tom' 'Here he is' 'Here it is' 'Here we go' 'Here we go'\n",
      " 'Heres Tom' 'Hold still' 'Hold still' 'Hold still' 'How absurd'\n",
      " 'How boring' 'How clever' 'How clever' 'How clever' 'How lovely'\n",
      " 'How tragic' 'How was it' 'Hows work' 'Hurry home' 'Hurry home'\n",
      " 'I admit it' 'I am a boy' 'I am a man' 'I am a man' 'I am bored'\n",
      " 'I am happy' 'I am happy' 'I am human' 'I am ready' 'I am ready'\n",
      " 'I am ready' 'I am right' 'I am right' 'I am tired' 'I broke it'\n",
      " 'I built it' 'I built it' 'I built it' 'I can come' 'I can cook'\n",
      " 'I can jump' 'I can sing' 'I can stay' 'I can swim' 'I can wait'\n",
      " 'I cant go' 'I canceled' 'I canceled' 'I chew gum' 'I disagree'\n",
      " 'I disagree' 'I drank it' 'I eat here' 'I eat meat' 'I eat rice'\n",
      " 'I envy Tom' 'I envy her' 'I envy him' 'I feel bad' 'I feel old'\n",
      " 'I fixed it' 'I fixed it' 'I fixed it' 'I found it' 'I found it'\n",
      " 'I found it' 'I got an A' 'I had help' 'I hate Tom' 'I have one'\n",
      " 'I have one' 'I have won' 'I have won' 'I have won' 'I have won'\n",
      " 'I hear you' 'I hear you' 'I hear you' 'I hear you' 'I hear you'\n",
      " 'I heard it' 'I heard it' 'I help him' 'I hope not' 'I just ate'\n",
      " 'I knew Tom' 'I know Tom' 'I know her' 'I know now' 'I know you'\n",
      " 'I like Tom' 'I like art' 'I like him' 'I like tea' 'I like you'\n",
      " 'I like you']\n"
     ]
    }
   ],
   "source": [
    "#gold sentences\n",
    "print(eval_file['eng'].values)"
   ]
  },
  {
   "cell_type": "code",
   "execution_count": 50,
   "metadata": {},
   "outputs": [
    {
     "name": "stdout",
     "output_type": "stream",
     "text": [
      "1.3335277372413589e-155\n"
     ]
    },
    {
     "name": "stderr",
     "output_type": "stream",
     "text": [
      "//anaconda3/lib/python3.7/site-packages/nltk/translate/bleu_score.py:523: UserWarning: \n",
      "The hypothesis contains 0 counts of 3-gram overlaps.\n",
      "Therefore the BLEU score evaluates to 0, independently of\n",
      "how many N-gram overlaps of lower order it contains.\n",
      "Consider using lower n-gram order or use SmoothingFunction()\n",
      "  warnings.warn(_msg)\n",
      "//anaconda3/lib/python3.7/site-packages/nltk/translate/bleu_score.py:523: UserWarning: \n",
      "The hypothesis contains 0 counts of 4-gram overlaps.\n",
      "Therefore the BLEU score evaluates to 0, independently of\n",
      "how many N-gram overlaps of lower order it contains.\n",
      "Consider using lower n-gram order or use SmoothingFunction()\n",
      "  warnings.warn(_msg)\n"
     ]
    }
   ],
   "source": [
    "bleu_score = corpus_bleu([sentence.split() for sentence in eval_file['eng'].values], [translated_sentence.split() for translated_sentence in predicted_sentences])\n",
    "print(bleu_score)\n",
    "\n"
   ]
  },
  {
   "cell_type": "code",
   "execution_count": null,
   "metadata": {},
   "outputs": [],
   "source": []
  }
 ],
 "metadata": {
  "kernelspec": {
   "display_name": "Python 3",
   "language": "python",
   "name": "python3"
  },
  "language_info": {
   "codemirror_mode": {
    "name": "ipython",
    "version": 3
   },
   "file_extension": ".py",
   "mimetype": "text/x-python",
   "name": "python",
   "nbconvert_exporter": "python",
   "pygments_lexer": "ipython3",
   "version": "3.7.3"
  }
 },
 "nbformat": 4,
 "nbformat_minor": 2
}
