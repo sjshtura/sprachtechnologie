{
 "cells": [
  {
   "cell_type": "code",
   "execution_count": 2,
   "metadata": {},
   "outputs": [
    {
     "data": {
      "text/html": [
       "<style>/* Style des gesamten Dokuments */\n",
       "#notebook-container {\n",
       "\tfont-family: \"NimbusMonL-ReguObli\";\n",
       "\tfont-size: 120%\n",
       "}\n",
       "\n",
       "/* Style für die Überschrift: Zentriert diese und stellt sie fett dar. */\n",
       ".headline {\n",
       "\ttext-align: center;\n",
       "\tfont-weight: bold;\n",
       "\tfont-size: 185.7%\n",
       "}\n",
       "\n",
       "/* Style für die Aufgabenbeschreibung. Z.B.: \"Übung zum Thema...\" */\n",
       ".description {\n",
       "\ttext-align: center;\n",
       "\tfont-size: 145.7%\n",
       "}\n",
       "\n",
       "/* Hebt das Abgabedatum fett und kursiv hervor */\n",
       "#submission {\n",
       "\tfont-weight: bold;\n",
       "}\n",
       "\n",
       "/* Style für das eigentliche Thema. Z.B.: \"Intelligenz\" */\n",
       "#topic {\n",
       "\tfont-style: italic;\n",
       "}\n",
       "\n",
       ".task_description {\n",
       "\tmargin-bottom: 20px;\n",
       "}\n",
       "\n",
       "/* Hebt die Aufgabennummerierung fett hervor. */\n",
       ".task {\n",
       "\tfont-style: normal;\n",
       "\tfont-weight: bold;\n",
       "\tfont-size: 120%;\n",
       "\tborder-bottom: 2px solid black;\n",
       "  background-color: #97CAEF;\n",
       "  color: black;\n",
       "\tpadding: 2px;\n",
       "  padding-left: 50px;\n",
       "  padding-right: 50px;\n",
       "}\n",
       "\n",
       ".subtask {\n",
       "\tfont-style: normal;\n",
       "\tfont-size: 100%;\n",
       "  background-color: #CAFAFE;\n",
       "  color: black;\n",
       "\tpadding: 2px;\n",
       "  padding-left: 25px;\n",
       "  padding-right: 25px;\n",
       "}\n",
       "\n",
       ".l1 {\n",
       "\tfont-style: normal;\n",
       "\tfont-size: 100%;\n",
       "  background-color: #14A76C;\n",
       "  color: black;\n",
       "\tpadding: 2px;\n",
       "  padding-left: 5px;\n",
       "  padding-right: 5px;\n",
       "}\n",
       "\n",
       ".l2 {\n",
       "\tfont-style: normal;\n",
       "\tfont-size: 100%;\n",
       "  background-color: #FFE400;\n",
       "  color: black;\n",
       "\tpadding: 2px;\n",
       "  padding-left: 5px;\n",
       "  padding-right: 5px;\n",
       "}\n",
       "\n",
       ".l3 {\n",
       "\tfont-style: normal;\n",
       "\tfont-size: 100%;\n",
       "  background-color: #FF652F;\n",
       "  color: black;\n",
       "\tpadding: 2px;\n",
       "  padding-left: 5px;\n",
       "  padding-right: 5px;\n",
       "}\n",
       "\n",
       ".points {\n",
       "\tfont-style: italic;\n",
       "}\n",
       "\n",
       "ol.lower_roman {\n",
       "    list-style-type: lower-roman;\n",
       "}\n",
       "\n",
       "ol.characters {\n",
       "    list-style-type: lower-alpha;\n",
       "}\n",
       "\n",
       "/* Style einer Code-Cell */\n",
       ".CodeMirror-code {\n",
       "\tbackground-color: #ededed\n",
       "}\n",
       "\n",
       "/* Style eines Kommentars im Code ändern. */\n",
       ".cm-s-ipython span.cm-comment {\n",
       "\n",
       "}\n",
       "\n",
       ".cm-s-ipython span.cm-atom {\n",
       "\n",
       "}\n",
       "\n",
       ".cm-s-ipython span.cm-number {\n",
       "\n",
       "}\n",
       "\n",
       "/* Style eines Python-Keywords ändern */\n",
       ".cm-s-ipython span.cm-keyword {\n",
       "\tcolor: #B000B0\n",
       "}\n",
       "\n",
       ".cm-s-ipython span.cm-def {\n",
       "\n",
       "}\n",
       "\n",
       "/* Style einer Python-Variable ändern */\n",
       ".cm-s-ipython span.cm-variable {\n",
       "\n",
       "}\n",
       "\n",
       "/* Style einer Property ändern */\n",
       ".cm-s-ipython span.cm-property {\n",
       "\n",
       "}\n",
       "\n",
       "/* Style eines Python-Operators ändern */\n",
       ".cm-s-ipython span.cm-operator {\n",
       "\n",
       "}\n",
       "\n",
       "/* Style eines Python-Strings ändern */\n",
       ".cm-s-ipython span.cm-string {\n",
       "\tcolor: brown;\n",
       "}\n",
       "\n",
       "/* Style einer eingebauten Funktion ändern (z.B. \"open\") */\n",
       ".cm-s-ipython span.cm-builtin {\n",
       "\n",
       "}\n",
       "\n",
       "/* Hebt hervor, welche Klammern zueinander passen */\n",
       ".cm-s-ipython .CodeMirror-matchingbracket {\n",
       "\n",
       "}\n",
       "\n",
       ".cm-s-ipython span.cm-variable-2 {\n",
       "\n",
       "}\n",
       "</style>"
      ],
      "text/plain": [
       "<IPython.core.display.HTML object>"
      ]
     },
     "execution_count": 2,
     "metadata": {},
     "output_type": "execute_result"
    }
   ],
   "source": [
    "from IPython.core.display import HTML\n",
    "\n",
    "HTML(\"<style>\" + open(\"style.css\").read() + \"</style>\")"
   ]
  },
  {
   "cell_type": "markdown",
   "metadata": {},
   "source": [
    "<div class=\"headline\">\n",
    "Language Technology / Sprachtechnologie\n",
    "<br><br>\n",
    "Wintersemester 2019/2020\n",
    "</div>\n",
    "<br>\n",
    "<div class=\"description\">\n",
    "    Übung zum Thema <i id=\"topic\">\"Part-of-speech-tagging\"</i>\n",
    "    <br><br>\n",
    "    Deadline Abgabe: <i #id=\"submission\">Thursday 07.11.2019, (23:55 Uhr)</i>\n",
    "</div>"
   ]
  },
  {
   "cell_type": "code",
   "execution_count": null,
   "metadata": {},
   "outputs": [],
   "source": [
    "import nltk\n",
    "from nltk.probability import FreqDist\n",
    "from nltk.probability import ConditionalFreqDist\n",
    "from nltk.corpus import*\n",
    "from nltk.book import*\n",
    "from nltk.tag import pos_tag\n",
    "from nltk.tokenize import word_tokenize\n"
   ]
  },
  {
   "cell_type": "markdown",
   "metadata": {},
   "source": [
    "# Präsenzübung\n",
    "\n",
    "\n"
   ]
  },
  {
   "cell_type": "markdown",
   "metadata": {},
   "source": [
    "### Warm up"
   ]
  },
  {
   "cell_type": "markdown",
   "metadata": {},
   "source": [
    "<div class=\"task_description\">\n",
    "    <i class=\"task\">Task 3.1:</i> <br>\n",
    "</div>\n",
    "\n",
    "\n",
    "Discuss which of the following concepts may be regarded as POS tags.\n",
    "1. word classes\n",
    "2. lexical categories\n",
    "3. verbs, nouns, adjectives\n",
    "4. present tense, past tense\n",
    "5. emotion\n",
    "\n"
   ]
  },
  {
   "cell_type": "markdown",
   "metadata": {},
   "source": [
    "<div class=\"task_description\">\n",
    "    <i class=\"task\">Task 3.2:</i> <br>\n",
    "</div>\n",
    "\n",
    "Which of the following statements are true? Find examples or counterexamples.\n",
    "1. Homographs may be used as synonyms.\n",
    "2. Homographs remain homographs regardless of their capitalization.\n",
    "3. Homographs belong to the same word class.\n",
    "4. Homographs have the same pronunciation.\n",
    "5. Homographs are spelled equally. \n"
   ]
  },
  {
   "cell_type": "markdown",
   "metadata": {},
   "source": [
    "<div class=\"task_description\">\n",
    "    <i class=\"task\">Task 3.3:</i> <br>\n",
    "</div>\n",
    "\n",
    "N-gram tagging: Which of the following statements are true?\n",
    "\n",
    "1. A trigram tagger is theoretically more accurate than a bigram tagger.\n",
    "2. A trigram tagger looks at the current token and two preceding tags.\n",
    "3. At sentence boundaries, the bigram tagger takes the two tokens of the previous sentence."
   ]
  },
  {
   "cell_type": "markdown",
   "metadata": {},
   "source": [
    "<div class=\"task_description\">\n",
    "    <i class=\"task\">Task 3.4:</i> <br>\n",
    "</div>\n",
    "\n",
    "Confusion matrix: Which of the following statements are true?\n",
    "1. The diagonal elements are always 1.\n",
    "2. Cell (i , j) contains the count of the number of times tag i were classified as tag j.\n",
    "3. The confusion matrix may be used to identify tagging problems.\n",
    "4. The confusion matrix may be used to compare different taggers.\n",
    "5. The number of rows is equal to the number of columns."
   ]
  },
  {
   "cell_type": "markdown",
   "metadata": {},
   "source": [
    "<div class=\"task_description\">\n",
    "    <i class=\"task\">Task 3.5:</i> <br>\n",
    "</div>\n",
    "\n",
    "Given the sentence “The near future promises happiness for all students.”. Tag it manually (using universal tags) and explain which of the following clues were helpful:\n",
    "1. morphological clues\n",
    "2. syntactic clues\n",
    "3. semantic clues"
   ]
  },
  {
   "cell_type": "markdown",
   "metadata": {},
   "source": [
    "### Using a tagger"
   ]
  },
  {
   "cell_type": "markdown",
   "metadata": {},
   "source": [
    "<div class=\"task_description\">\n",
    "    <i class=\"task\">Task 3.6:</i> <i class=\"l1\">L1</i> <br>\n",
    "</div>\n",
    "\n",
    "Many words, like “ski” and “race”, can be used as nouns or verbs with no difference in pronunciation. Can you think of others? <br> Hint: Think of a commonplace object and try to put the word “to” before it to see if it can also be a verb, or think of an action and try to put “the” before it to see if it can also be a noun. Now make up a sentence with both uses of this word, and run the POS-tagger from NLTK on this sentence (using the universal tagset)."
   ]
  },
  {
   "cell_type": "markdown",
   "metadata": {},
   "source": [
    "<div class=\"task_description\">\n",
    "    <i class=\"task\">Task 3.7:</i> <br>\n",
    "</div>\n",
    "\n",
    "Different words that have the same written form are called homographs. A simplified definition is that homographs are words with the same spelling (case sensitive) and different POS. <br><br>\n",
    "\n",
    "<div class=\"task_description\">\n",
    "   <i class=\"subtask\">3.7.1</i> <i class=\"l1\">L1</i> <br>\n",
    "</div>\n",
    "\n",
    "Take a look at the function below, what will be printed on the console if it is executed?"
   ]
  },
  {
   "cell_type": "code",
   "execution_count": null,
   "metadata": {},
   "outputs": [],
   "source": [
    "tag_fd = nltk.FreqDist(tag for (word, tag) in brown.tagged_words(tagset='universal'))\n",
    "print(tag_fd.N())"
   ]
  },
  {
   "cell_type": "markdown",
   "metadata": {},
   "source": [
    "<div class=\"task_description\">\n",
    "   <i class=\"subtask\">3.7.2</i> <i class=\"l2\">L2</i> <br>\n",
    "</div>\n",
    "\n",
    "As the function above is quite useless in its current form, it needs to be improved. Do so by changing it so that the output contains all POS tags (universal) that are used in a corpus."
   ]
  },
  {
   "cell_type": "markdown",
   "metadata": {},
   "source": [
    "<div class=\"task_description\">\n",
    "   <i class=\"subtask\">3.7.3</i> <i class=\"l3\">L3</i> <br>\n",
    "</div>\n",
    "\n",
    "Change the function again so that it finds all homographs (using the universal definition) within a corpus. "
   ]
  },
  {
   "cell_type": "markdown",
   "metadata": {},
   "source": [
    "<div class=\"task_description\">\n",
    "    <i class=\"task\">Task 3.8:</i> <br>\n",
    "</div>\n",
    "\n",
    "Write programs to process the Brown Corpus and find answers to the following questions:"
   ]
  },
  {
   "cell_type": "markdown",
   "metadata": {},
   "source": [
    "<div class=\"task_description\">\n",
    "   <i class=\"subtask\">3.8.1</i> <i class=\"l1\">L1</i> <br>\n",
    "</div>\n",
    "\n",
    "What is the output of the function below? Proof your answer by executing it on your computer."
   ]
  },
  {
   "cell_type": "code",
   "execution_count": null,
   "metadata": {},
   "outputs": [],
   "source": [
    "n=FreqDist([word for (word,tag) in brown.tagged_words(tagset='universal') if tag == 'NOUN'])\n",
    "print ([i for i in n])"
   ]
  },
  {
   "cell_type": "markdown",
   "metadata": {},
   "source": [
    "___"
   ]
  },
  {
   "cell_type": "markdown",
   "metadata": {},
   "source": [
    "Different corpora don't necessarily employ the same tagset. In the following we will inspect the brown corpus and its original tagset. "
   ]
  },
  {
   "cell_type": "markdown",
   "metadata": {},
   "source": [
    "<div class=\"task_description\">\n",
    "   <i class=\"subtask\">3.8.2</i> <i class=\"l2\">L2</i> <br>\n",
    "</div>\n",
    "\n",
    "What are the 10 most frequent tags in the Brown Corpus using the original Brown tagset (instead of the universal tagset)."
   ]
  },
  {
   "cell_type": "markdown",
   "metadata": {},
   "source": [
    "<div class=\"task_description\">\n",
    "   <i class=\"subtask\">3.8.3</i> <i class=\"l2\">L2</i> <br>\n",
    "</div>\n",
    "\n",
    "What do these tags stand for? Print 10 example words for each tag."
   ]
  },
  {
   "cell_type": "markdown",
   "metadata": {},
   "source": [
    "<div class=\"task_description\">\n",
    "   <i class=\"subtask\">3.8.4</i> <i class=\"l2\">L2</i> <br>\n",
    "</div>\n",
    "\n",
    "Change the function from task 3.8.1 so that the output contains the 5 most frequent singular and the 5 most frequent plural nouns from the corpus."
   ]
  },
  {
   "cell_type": "markdown",
   "metadata": {},
   "source": [
    "<div class=\"task_description\">\n",
    "   <i class=\"subtask\">3.8.5</i> <i class=\"l3\">L3</i> <br>\n",
    "</div>\n",
    "\n",
    "Which nouns are more common in their plural form, rather than their singular form? Change the function again to find out! (Only consider regular plurals, formed with the -s suffix.) "
   ]
  },
  {
   "cell_type": "markdown",
   "metadata": {},
   "source": [
    "<div class=\"task_description\">\n",
    "    <i class=\"task\">Task 3.9:</i> <i class=\"l3\">L3</i> <br>\n",
    "</div>\n",
    "\n",
    "In the Brown corpus, what percentage of words are tagged with the first five most common original tags?"
   ]
  },
  {
   "cell_type": "markdown",
   "metadata": {},
   "source": [
    "<div class=\"task_description\">\n",
    "    <i class=\"task\">Task 3.10:</i> <br>\n",
    "</div>\n",
    "\n",
    "Generate some statistics for tagged data to answer the following questions:"
   ]
  },
  {
   "cell_type": "markdown",
   "metadata": {},
   "source": [
    "<div class=\"task_description\">\n",
    "   <i class=\"subtask\">3.10.1</i> <i class=\"l1\">L1</i> <br>\n",
    "</div>\n",
    "Take a look at the code below. What does it compute? "
   ]
  },
  {
   "cell_type": "code",
   "execution_count": null,
   "metadata": {},
   "outputs": [],
   "source": [
    "cfd = nltk.ConditionalFreqDist([(word.lower(),tag) for (word, tag) in brown.tagged_words()])\n",
    "nr_tags_cfd = nltk.ConditionalFreqDist([(len(cfd[word]), word) for word in cfd.conditions()])\n",
    "\n",
    "nr_of_tags = 1\n",
    "print(\"words with one tag:\", len(nr_tags_cfd[nr_of_tags]))\n",
    "print(\"ratio:\", float(len(nr_tags_cfd[nr_of_tags]))/len(cfd.conditions()))"
   ]
  },
  {
   "cell_type": "markdown",
   "metadata": {},
   "source": [
    "<div class=\"task_description\">\n",
    "   <i class=\"subtask\">3.10.2</i> <i class=\"l2\">L2</i> <br>\n",
    "</div>\n",
    "\n",
    "How many words are ambiguous, in the sense that they appear with at least two tags (no programming required)? Change the function above so that it computes the percentage of word tokens that involve these ambiguous words."
   ]
  },
  {
   "cell_type": "markdown",
   "metadata": {},
   "source": [
    "<div class=\"task_description\">\n",
    "   <i class=\"subtask\">3.10.3</i> <i class=\"l3\">L3</i> <br>\n",
    "</div>\n",
    "\n",
    "Which words in the Brown corpus have the highest number of distinct tags?"
   ]
  },
  {
   "cell_type": "markdown",
   "metadata": {},
   "source": [
    "# Automatic Tagging"
   ]
  },
  {
   "cell_type": "markdown",
   "metadata": {},
   "source": [
    "<div class=\"task_description\">\n",
    "    <i class=\"task\">Task 3.11:</i> <br>\n",
    "</div>\n",
    "\n",
    "<div class=\"task_description\">\n",
    "   <i class=\"subtask\">3.11.1</i> <i class=\"l1\">L1</i> <br>\n",
    "</div>\n",
    "\n",
    "Look at the code below, explain.\n",
    "\n"
   ]
  },
  {
   "cell_type": "code",
   "execution_count": null,
   "metadata": {},
   "outputs": [],
   "source": [
    "wordTagCfd = nltk.ConditionalFreqDist([(word.lower(),tag) for (word, tag) in brown.tagged_words(tagset='universal')])\n",
    "\n",
    "getASentence(brown.tagged_words)\n",
    "\n",
    "def getASentence():\n",
    "    #TODO\n",
    "def getMostLikelyTag():\n",
    "    #TODO"
   ]
  },
  {
   "cell_type": "markdown",
   "metadata": {},
   "source": [
    "<div class=\"task_description\">\n",
    "   <i class=\"subtask\">3.11.2</i> <i class=\"l2\">L2</i> <br>\n",
    "</div>\n",
    "\n",
    "We now want to give the code a little bit more functionality. As you can see, the method getASentence is called, but at the moment, it will not do anything. Enhance it so that when called, it will print out each token of a sentence in the Brown corpus (Hint: getASentence(40) will return sentence number 41, not 40)."
   ]
  },
  {
   "cell_type": "markdown",
   "metadata": {},
   "source": [
    "For sentence 41:\n",
    "Hartsfield has\n",
    "been mayor\n",
    "of Atlanta\n",
    ",\n",
    "with exception of\n",
    "one\n",
    "brief interlude ,\n",
    "since 1937\n",
    "."
   ]
  },
  {
   "cell_type": "markdown",
   "metadata": {},
   "source": [
    "<div class=\"task_description\">\n",
    "   <i class=\"subtask\">3.11.3</i> <i class=\"l3\">L3</i> <br>\n",
    "</div>\n",
    "\n",
    "We now want the tag for each token of the sentence. Enhance the method getMostLikelyTag so that the most likely tag for a token is returned (use the wordTagCfd as a lookup dictionary and test your method on a sentence from the Brown corpus).\n",
    "Then change the method getASentence again so that not only each token, but also the tag of the token is printed out in the console.\n",
    "Test your method on a sentence from the Moby Dick corpus. How well does it perform? "
   ]
  },
  {
   "cell_type": "markdown",
   "metadata": {},
   "source": [
    "<div class=\"task_description\">\n",
    "    <i class=\"task\">Task 3.12:</i> <br>\n",
    "</div>\n",
    "\n",
    "Explore the n-gram taggers for n ∈ 1, 2, 3 in the following listing:"
   ]
  },
  {
   "cell_type": "code",
   "execution_count": null,
   "metadata": {},
   "outputs": [],
   "source": [
    "t0=nltk.DefaultTagger('NOUN')\n",
    "train_sents=brown.tagged_sents(tagset='universal')\n",
    "t1 = nltk.UnigramTagger(train_sents)\n",
    "t2 = nltk.BigramTagger(train_sents)\n",
    "t3 = nltk.TrigramTagger(train_sents)"
   ]
  },
  {
   "cell_type": "markdown",
   "metadata": {},
   "source": [
    "<div class=\"task_description\">\n",
    "   <i class=\"subtask\">3.12.1</i><br>\n",
    "</div>\n",
    "\n",
    "Manually tag the sentence “The only conservative councillor representing Cambridge resigned from the city council.” using the universal tagset. Represent it as a tagged sentence."
   ]
  },
  {
   "cell_type": "markdown",
   "metadata": {},
   "source": [
    "<div class=\"task_description\">\n",
    "   <i class=\"subtask\">3.12.2</i> <i class=\"l2\">L2</i> <br>\n",
    "</div>\n",
    "\n",
    "We now want to evaluate the performance of different n gram taggers. Enhance the the code using the function tagger.evaluate(sentences) so that all four taggers are evaluated on the sentence from task 2.12.1 The default tagger is already implemented."
   ]
  },
  {
   "cell_type": "markdown",
   "metadata": {},
   "source": [
    "<div class=\"task_description\">\n",
    "   <i class=\"subtask\">3.12.3</i> <i class=\"l3\">L3</i> <br>\n",
    "</div>\n",
    "\n",
    "The idea of backoff tagging is to rely on other taggers when the current tagger cannot assign a label. For example, a bigram tagger might never encounter some bigram, however a unigram tagger may separately tag the single words in the bigrams. In this task, we will explore the contribution of n-gram taggers for n ∈ 1, 2, 3 in the backoff setup, provided by the following listing:"
   ]
  },
  {
   "cell_type": "code",
   "execution_count": null,
   "metadata": {},
   "outputs": [],
   "source": [
    "t0 = nltk.DefaultTagger('NOUN')\n",
    "train_sents = brown.tagged_sents(tagset='universal')\n",
    "t1 = nltk.UnigramTagger(train_sents, backoff = t0)\n",
    "t2 = nltk.BigramTagger(train_sents, backoff = t1)\n",
    "t3 = nltk.TrigramTagger(train_sents, backoff = t2)"
   ]
  },
  {
   "cell_type": "markdown",
   "metadata": {},
   "source": [
    "Evaluate the sentence “The only Conservative councillor representing Cambridge resigned from the city council.“ using the taggers t0, t1, t2, and t3 with backoff tagging and evaluate the results like in task 3.12.2). Compare the results with and without backoff."
   ]
  },
  {
   "cell_type": "markdown",
   "metadata": {},
   "source": [
    "# Homework"
   ]
  },
  {
   "cell_type": "markdown",
   "metadata": {},
   "source": [
    "<div class=\"task_description\">\n",
    "    <i class=\"task\">Homework 3.1:</i>\n",
    "        ::: 5 Homework points :::</div>\n",
    "                                \n",
    "Write code to search the Brown Corpus for particular words and phrases according to tags (universal tagset), to answer the following questions: <br><br>\n",
    "\n",
    "<div class=\"task_description\">\n",
    "   <i class=\"subtask\">3.1.1</i>\n",
    "</div>\n",
    "Produce an alphabetically sorted list of the distinct words tagged as ADP."
   ]
  },
  {
   "cell_type": "markdown",
   "metadata": {},
   "source": [
    "<div class=\"task_description\">\n",
    "   <i class=\"subtask\">3.1.2</i>\n",
    "</div>\n",
    "\n",
    "Identify words that can be plural nouns or third person singular verbs (e.g. deals, flies)."
   ]
  },
  {
   "cell_type": "markdown",
   "metadata": {},
   "source": [
    "<div class=\"task_description\">\n",
    "   <i class=\"subtask\">3.1.3</i>\n",
    "</div>\n",
    "\n",
    "For the word(s) with the greatest number of distinct tags, print the sentences from the corpus containing the word."
   ]
  },
  {
   "cell_type": "markdown",
   "metadata": {},
   "source": [
    "<div class=\"task_description\">\n",
    "   <i class=\"subtask\">3.1.4</i>\n",
    "</div>\n",
    "\n",
    "What is the ratio of masculine to feminine pronouns?"
   ]
  },
  {
   "cell_type": "markdown",
   "metadata": {},
   "source": [
    "<div class=\"task_description\">\n",
    "    <i class=\"task\">Homework 3.2:</i>\n",
    "        ::: 5 Homework points :::</div>\n",
    "        \n",
    "\n",
    "Print a table with the integers 1..10 in one column, and the number of types in the corpus having 1..10 distinct tags in the other column."
   ]
  }
 ],
 "metadata": {
  "kernelspec": {
   "display_name": "Python 3",
   "language": "python",
   "name": "python3"
  },
  "language_info": {
   "codemirror_mode": {
    "name": "ipython",
    "version": 3
   },
   "file_extension": ".py",
   "mimetype": "text/x-python",
   "name": "python",
   "nbconvert_exporter": "python",
   "pygments_lexer": "ipython3",
   "version": "3.6.5"
  }
 },
 "nbformat": 4,
 "nbformat_minor": 2
}
