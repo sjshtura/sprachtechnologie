{
 "cells": [
  {
   "cell_type": "code",
   "execution_count": 2,
   "metadata": {},
   "outputs": [
    {
     "data": {
      "text/html": [
       "<style>/* Style des gesamten Dokuments */\n",
       "#notebook-container {\n",
       "\tfont-family: \"NimbusMonL-ReguObli\";\n",
       "\tfont-size: 120%\n",
       "}\n",
       "\n",
       "/* Style für die Überschrift: Zentriert diese und stellt sie fett dar. */\n",
       ".headline {\n",
       "\ttext-align: center;\n",
       "\tfont-weight: bold;\n",
       "\tfont-size: 185.7%\n",
       "}\n",
       "\n",
       "/* Style für die Aufgabenbeschreibung. Z.B.: \"Übung zum Thema...\" */\n",
       ".description {\n",
       "\ttext-align: center;\n",
       "\tfont-size: 145.7%\n",
       "}\n",
       "\n",
       "/* Hebt das Abgabedatum fett und kursiv hervor */\n",
       "#submission {\n",
       "\tfont-weight: bold;\n",
       "}\n",
       "\n",
       "/* Style für das eigentliche Thema. Z.B.: \"Intelligenz\" */\n",
       "#topic {\n",
       "\tfont-style: italic;\n",
       "}\n",
       "\n",
       ".task_description {\n",
       "\tmargin-bottom: 20px;\n",
       "}\n",
       "\n",
       "/* Hebt die Aufgabennummerierung fett hervor. */\n",
       ".task {\n",
       "\tfont-style: normal;\n",
       "\tfont-weight: bold;\n",
       "\tfont-size: 120%;\n",
       "\tborder-bottom: 2px solid black;\n",
       "  background-color: #97CAEF;\n",
       "  color: black;\n",
       "\tpadding: 2px;\n",
       "  padding-left: 50px;\n",
       "  padding-right: 50px;\n",
       "}\n",
       "\n",
       ".subtask {\n",
       "\tfont-style: normal;\n",
       "\tfont-size: 100%;\n",
       "  background-color: #CAFAFE;\n",
       "  color: black;\n",
       "\tpadding: 2px;\n",
       "  padding-left: 25px;\n",
       "  padding-right: 25px;\n",
       "}\n",
       "\n",
       ".l1 {\n",
       "\tfont-style: normal;\n",
       "\tfont-size: 100%;\n",
       "  background-color: #14A76C;\n",
       "  color: black;\n",
       "\tpadding: 2px;\n",
       "  padding-left: 5px;\n",
       "  padding-right: 5px;\n",
       "}\n",
       "\n",
       ".l2 {\n",
       "\tfont-style: normal;\n",
       "\tfont-size: 100%;\n",
       "  background-color: #FFE400;\n",
       "  color: black;\n",
       "\tpadding: 2px;\n",
       "  padding-left: 5px;\n",
       "  padding-right: 5px;\n",
       "}\n",
       "\n",
       ".l3 {\n",
       "\tfont-style: normal;\n",
       "\tfont-size: 100%;\n",
       "  background-color: #FF652F;\n",
       "  color: black;\n",
       "\tpadding: 2px;\n",
       "  padding-left: 5px;\n",
       "  padding-right: 5px;\n",
       "}\n",
       "\n",
       ".points {\n",
       "\tfont-style: italic;\n",
       "}\n",
       "\n",
       "ol.lower_roman {\n",
       "    list-style-type: lower-roman;\n",
       "}\n",
       "\n",
       "ol.characters {\n",
       "    list-style-type: lower-alpha;\n",
       "}\n",
       "\n",
       "/* Style einer Code-Cell */\n",
       ".CodeMirror-code {\n",
       "\tbackground-color: #ededed\n",
       "}\n",
       "\n",
       "/* Style eines Kommentars im Code ändern. */\n",
       ".cm-s-ipython span.cm-comment {\n",
       "\n",
       "}\n",
       "\n",
       ".cm-s-ipython span.cm-atom {\n",
       "\n",
       "}\n",
       "\n",
       ".cm-s-ipython span.cm-number {\n",
       "\n",
       "}\n",
       "\n",
       "/* Style eines Python-Keywords ändern */\n",
       ".cm-s-ipython span.cm-keyword {\n",
       "\tcolor: #B000B0\n",
       "}\n",
       "\n",
       ".cm-s-ipython span.cm-def {\n",
       "\n",
       "}\n",
       "\n",
       "/* Style einer Python-Variable ändern */\n",
       ".cm-s-ipython span.cm-variable {\n",
       "\n",
       "}\n",
       "\n",
       "/* Style einer Property ändern */\n",
       ".cm-s-ipython span.cm-property {\n",
       "\n",
       "}\n",
       "\n",
       "/* Style eines Python-Operators ändern */\n",
       ".cm-s-ipython span.cm-operator {\n",
       "\n",
       "}\n",
       "\n",
       "/* Style eines Python-Strings ändern */\n",
       ".cm-s-ipython span.cm-string {\n",
       "\tcolor: brown;\n",
       "}\n",
       "\n",
       "/* Style einer eingebauten Funktion ändern (z.B. \"open\") */\n",
       ".cm-s-ipython span.cm-builtin {\n",
       "\n",
       "}\n",
       "\n",
       "/* Hebt hervor, welche Klammern zueinander passen */\n",
       ".cm-s-ipython .CodeMirror-matchingbracket {\n",
       "\n",
       "}\n",
       "\n",
       ".cm-s-ipython span.cm-variable-2 {\n",
       "\n",
       "}\n",
       "</style>"
      ],
      "text/plain": [
       "<IPython.core.display.HTML object>"
      ]
     },
     "execution_count": 2,
     "metadata": {},
     "output_type": "execute_result"
    }
   ],
   "source": [
    "from IPython.core.display import HTML\n",
    "HTML(\"<style>\" + open(\"style.css\").read() + \"</style>\")"
   ]
  },
  {
   "cell_type": "markdown",
   "metadata": {},
   "source": [
    "<div class=\"headline\">\n",
    "Language Technology / Sprachtechnologie\n",
    "<br><br>\n",
    "Wintersemester 2019/2020\n",
    "</div>\n",
    "<br>\n",
    "<div class=\"description\">\n",
    "    Übung zum Thema <i id=\"topic\">\"Keyphrase Extraction\"</i>\n",
    "    <br><br>\n",
    "    Deadline Abgabe: <i #id=\"submission\">Thursday, 12.12.2019 (23:55 Uhr)</i>\n",
    "</div>"
   ]
  },
  {
   "cell_type": "code",
   "execution_count": null,
   "metadata": {},
   "outputs": [],
   "source": [
    "import nltk\n",
    "from nltk.book import *\n",
    "from nltk.tokenize import word_tokenize\n",
    "from nltk.tokenize import word_tokenize\n",
    "from nltk.corpus import reuters\n",
    "from nltk.corpus import brown\n",
    "from nltk.corpus import movie_reviews\n",
    "import math"
   ]
  },
  {
   "cell_type": "markdown",
   "metadata": {},
   "source": [
    "## Warm-up"
   ]
  },
  {
   "cell_type": "markdown",
   "metadata": {},
   "source": [
    "<div class=\"task_description\">\n",
    "    <i class=\"task\">Task 8.1:</i> <br>\n",
    "</div>\n",
    "\n",
    "Stopword: Which of the following statements are true?\n",
    "1. A stopword is a word used to stop a parsing process.\n",
    "2. A stopword is a high-frequency word.\n",
    "3. Punctuation marks like “.”, “,”, and “;” are stop words.\n",
    "4. “the, to, and” are stop words.\n",
    "5. Stopwords have a maximum length of 3.\n",
    "6. NLTK offers a list of English stopwords through:\n",
    "nltk.corpus.stopwords.words('english')"
   ]
  },
  {
   "cell_type": "markdown",
   "metadata": {},
   "source": [
    "<strong style=\"color: blue\">Lösung:</strong>\n",
    "\n",
    "1. is false. A stopword is a frequent word with little lexical content.\n",
    "2. is true. Additionally, stopwords (‘a’, ‘the’, ‘to’, ‘also’) must also carry little lexical content.\n",
    "3. is false. First, punctuation marks are not really “words”, and are thus usually not considered stop words. In a sense, they are similar to stop words as they carry no lexical content, i.e. they have no real meaning.\n",
    "4. is true\n",
    "5. is false. There are stopwords like ‘while’ or ‘will’ with length more than 3 characters;\n",
    "6. is true. There are 127 words in this list."
   ]
  },
  {
   "cell_type": "markdown",
   "metadata": {},
   "source": [
    "<div class=\"task_description\">\n",
    "    <i class=\"task\">Task 8.2:</i> <br>\n",
    "</div>\n",
    "\n",
    "Which of the following statements are true?\n",
    "\n",
    "1. Words like \"the\", \"and\", \"but\" have high TF-IDF values.\n",
    "2. The foreground corpus can consist of just one document.\n",
    "3. Keyphrase extraction works only if we have enough training data."
   ]
  },
  {
   "cell_type": "markdown",
   "metadata": {},
   "source": [
    "<strong style=\"color: blue\">Lösung:</strong>\n",
    "\n",
    "1. False. These words are stopwords and can be expected to appear in almost every document. Therefore, their TF-IDF values will be low.\n",
    "\n",
    "2. True. Often the foreground corpus is just a single document from which we want to extract keyphrases, but it can also be a collection of documents.\n",
    "\n",
    "3. False. There are several methods (like the language model approach or TF-IDF) which can be sucessfully used for keyphrase extraction, which do not require any manually labeled training data as input. However, what we do often need is a large background corpus to compare word frequencies with."
   ]
  },
  {
   "cell_type": "markdown",
   "metadata": {},
   "source": [
    "<div class=\"task_description\">\n",
    "    <i class=\"task\">Task 8.3:</i> <br>\n",
    "</div> \n",
    "\n",
    "Search the Web using Google for “powerful tea” (inside quotes) and “strong tea”. Discuss the results."
   ]
  },
  {
   "cell_type": "markdown",
   "metadata": {},
   "source": [
    "<strong style=\"color: blue\">Lösung: </strong>\n",
    "\n",
    "“strong tea” - 265.000.000  hits “powerful tea” - 166.000.000 hits\n",
    "You may get different numbers as the index used by the search engines is never the same. However, the very different counts indicate that “strong tea” is a collocation in English, while “powerful tea” is not. Even if “strong” and “powerful” are considered to be synonyms in many contexts, they cannot be interchanged here.\n",
    "Note that using Google for deriving such hits is considered bad science (as it is not reproducible, it is unclear which texts the counts are based on, etc.). It is better to use a fixed corpus. However, using very large corpora (as big as the Web) to obtain reliable counts is non-trivial."
   ]
  },
  {
   "cell_type": "markdown",
   "metadata": {},
   "source": [
    "<div class=\"task_description\">\n",
    "    <i class=\"task\">Task 8.4:</i> <br>\n",
    "</div> "
   ]
  },
  {
   "cell_type": "markdown",
   "metadata": {},
   "source": [
    "<div class=\"task_description\">\n",
    "   <i class=\"subtask\">8.4.1</i> <i class=\"l1\">L1</i> <br>\n",
    "</div>\n",
    "\n",
    "Try to explain the function below! What is done in each line?"
   ]
  },
  {
   "cell_type": "code",
   "execution_count": null,
   "metadata": {},
   "outputs": [],
   "source": [
    "fd1 = nltk.FreqDist(text1)\n",
    "fd1.most_common(5)"
   ]
  },
  {
   "cell_type": "markdown",
   "metadata": {},
   "source": [
    "<strong style=\"color: blue\">Lösung:</strong>\n",
    "\n",
    "* initialize FD, pass the name of the text as an argument <br>\n",
    "* print five most common types <br>\n",
    "<br>\n",
    "The function extracts the word with the highest frequency out of the corpus"
   ]
  },
  {
   "cell_type": "markdown",
   "metadata": {},
   "source": [
    "<div class=\"task_description\">\n",
    "   <i class=\"subtask\">8.4.2</i> <i class=\"l2\">L2</i> <br>\n",
    "</div>\n",
    "\n",
    "Initialize a frequency distribution with a corpus of your choice, then extract the keywords of the corpus (what is it about), by writing a function that retrieves the 20 most frequent words. "
   ]
  },
  {
   "cell_type": "markdown",
   "metadata": {},
   "source": [
    "<strong style=\"color: blue\">Lösung:</strong>"
   ]
  },
  {
   "cell_type": "code",
   "execution_count": null,
   "metadata": {},
   "outputs": [],
   "source": [
    "fd2 = nltk.FreqDist(text2)\n",
    "fd2.most_common(20)"
   ]
  },
  {
   "cell_type": "markdown",
   "metadata": {},
   "source": [
    "<div class=\"task_description\">\n",
    "   <i class=\"subtask\">8.4.3</i> <i class=\"l2\">L2</i> <br>\n",
    "</div>\n",
    "The most frequent tokens are usually not very informative. We can do better by extracting all words from the text that are longer than seven characters and occur more than seven times. Change your function accordingly."
   ]
  },
  {
   "cell_type": "markdown",
   "metadata": {},
   "source": [
    "<strong style=\"color: blue\">Lösung:</strong>"
   ]
  },
  {
   "cell_type": "code",
   "execution_count": null,
   "metadata": {},
   "outputs": [],
   "source": [
    "fd_seven = nltk.FreqDist(w for w in text2 if len(w) > 7 and fd2[w] > 7)\n",
    "fd_seven.most_common(20)"
   ]
  },
  {
   "cell_type": "markdown",
   "metadata": {},
   "source": [
    "<div class=\"task_description\">\n",
    "    <i class=\"task\">Task 8.5:</i> <br>\n",
    "</div> \n",
    "\n",
    "\n",
    "A stopword list contains high-frequency words like “the”, “to”, “and”, or “also” that we sometimes want to filter out of a document before further processing. Stopwords usually have little lexical content, and their presence in a text fails to distinguish it from other texts. NLTK provides a predefined list of stopwords: `nltk.corpus.stopwords.words('language')`."
   ]
  },
  {
   "cell_type": "markdown",
   "metadata": {},
   "source": [
    "<div class=\"task_description\">\n",
    "   <i class=\"subtask\">8.5.1</i> <i class=\"l1\">L1</i> <br>\n",
    "</div>\n",
    "\n",
    "Take a look an the following sentence:<br><br>\n",
    "\n",
    "```Today I woke up early and went to the city to buy some things. Then I met a few of my friends and we ate something at a restaurant.``` <br><br>\n",
    "How many stopwords (according to the definition above) do you find?"
   ]
  },
  {
   "cell_type": "markdown",
   "metadata": {},
   "source": [
    "<strong style=\"color: blue\">Lösung:</strong>\n",
    "\n",
    "According to the definition, stopwords are words with little lexical content. In the given sentence, there are 14 stopwords:\n",
    "up, and, to, the, to, some, a, few, of, my, and, we, at, a"
   ]
  },
  {
   "cell_type": "markdown",
   "metadata": {},
   "source": [
    "<div class=\"task_description\">\n",
    "   <i class=\"subtask\">8.5.2</i> <i class=\"l2\">L2</i> <br>\n",
    "</div>\n",
    "\n",
    "We now want to check your answer with the help NLTK. The code below is incomplete, change that so that when executed the found stopwords are printed. Compare the result with your answer from 8.4.1. Did you find all stopwords? <br>\n",
    "Hint: You do not have to use the segmenter if you want to solve the task differently."
   ]
  },
  {
   "cell_type": "code",
   "execution_count": null,
   "metadata": {},
   "outputs": [],
   "source": [
    "stc = 'Today I woke up early and went to the city to buy some things. Then I met a few of my friends and we ate something at a restaurant'\n",
    "\n",
    "stopwords = nltk.corpus.stopwords.words('english')\n",
    "stcStopwords = #todo\n",
    "\n",
    "print(\"A total of \",len(stcStopwords),\" stopwords have been found: \", stcStopwords)"
   ]
  },
  {
   "cell_type": "markdown",
   "metadata": {},
   "source": [
    "<strong style=\"color: blue\">Lösung:</strong>"
   ]
  },
  {
   "cell_type": "code",
   "execution_count": null,
   "metadata": {},
   "outputs": [],
   "source": [
    "stc = 'Today I woke up early and went to the city to buy some things. Then I met a few of my friends and we ate something at a restaurant'\n",
    "\n",
    "stopwords = nltk.corpus.stopwords.words('english')\n",
    "stcStopwords = [word for word in (word_tokenize(stc)) if word.lower() in stopwords]\n",
    "\n",
    "print(\"A total of \",len(stcStopwords),\" stopwords have been found: \", stcStopwords)"
   ]
  },
  {
   "cell_type": "markdown",
   "metadata": {},
   "source": [
    "<div class=\"task_description\">\n",
    "   <i class=\"subtask\">8.5.3</i> <i class=\"l2\">L2</i> <br>\n",
    "</div>\n",
    "\n",
    "Change the function from 8.4.2 so that it finds all non-stopwords in the first 100 tokens from Moby Dick."
   ]
  },
  {
   "cell_type": "markdown",
   "metadata": {},
   "source": [
    "<strong style=\"color: blue\">Lösung:</strong>"
   ]
  },
  {
   "cell_type": "code",
   "execution_count": null,
   "metadata": {},
   "outputs": [],
   "source": [
    "moby = nltk.corpus.gutenberg.words('melville-moby_dick.txt')[:100]\n",
    "\n",
    "stopwords = nltk.corpus.stopwords.words('english')\n",
    "mobyStopwords = [word for word in moby if word.lower() in stopwords]\n",
    "mobyWithoutStopwords =  [word for word in moby if word.lower() not in stopwords]\n",
    "\n",
    "print(\"A total of \",len(mobyStopwords),\" stopwords have been found: \\n\\n\", mobyStopwords,\"\\n\\n\", len(moby)-len(mobyStopwords), \"tokens after stopword filtering: \\n\\n\", mobyWithoutStopwords)"
   ]
  },
  {
   "cell_type": "code",
   "execution_count": null,
   "metadata": {},
   "outputs": [],
   "source": [
    "def hasSameVocab(t1,t2):\n",
    "    #todo\n",
    "\n",
    "text1 = 'People are hungry before lunch and not hungry after lunch'\n",
    "text2 = 'People are not hungry before lunch and hungry after lunch'\n",
    "text3 = 'Humans are hungry before dinner and not hungry after dinner'\n",
    "\n",
    "print(hasSameVocab(text1, text2))\n",
    "print(hasSameVocab(text2, text3))"
   ]
  },
  {
   "cell_type": "markdown",
   "metadata": {},
   "source": [
    "<div class=\"task_description\">\n",
    "   <i class=\"subtask\">8.5.4</i> <i class=\"l3\">L3</i> <br>\n",
    "</div>\n",
    "\n",
    "Take a look at the code below. Enhance the function `hasSameVocab(tokens1,tokens2)`, so that it compares two texts. It should return true if the texts have the same vocabulary after removing the stopwords.<br> Hint: You can add more functions if you need them."
   ]
  },
  {
   "cell_type": "markdown",
   "metadata": {},
   "source": [
    "<strong style=\"color: blue\">Lösung:</strong>"
   ]
  },
  {
   "cell_type": "code",
   "execution_count": null,
   "metadata": {},
   "outputs": [],
   "source": [
    "def vocabWithoutStopwords(text):\n",
    "    return set(text) - set(nltk.corpus.stopwords.words('english'))\n",
    "\n",
    "def hasSameVocab(t1,t2):\n",
    "    return (vocabWithoutStopwords(t1) == vocabWithoutStopwords(t2))\n",
    "\n",
    "text1 = 'People are hungry before lunch and not hungry after lunch'\n",
    "text2 = 'People are not hungry before lunch and hungry after lunch'\n",
    "text3 = 'Humans are hungry before dinner and not hungry after dinner'\n",
    "\n",
    "print(hasSameVocab(text1, text2))#true\n",
    "print(hasSameVocab(text2, text3))#false"
   ]
  },
  {
   "cell_type": "markdown",
   "metadata": {},
   "source": [
    "### TF-IDF"
   ]
  },
  {
   "cell_type": "markdown",
   "metadata": {},
   "source": [
    "<div class=\"task_description\">\n",
    "    <i class=\"task\">Task 8.6:</i> <br>\n",
    "</div> \n",
    "\n",
    "We want to find out which words in the following news article have the highest TF-IDF values."
   ]
  },
  {
   "cell_type": "code",
   "execution_count": null,
   "metadata": {},
   "outputs": [],
   "source": [
    "fg_article = open(\"foreground_article.txt\", mode=\"r\", encoding=\"utf-8\").read()\n",
    "fg_article = word_tokenize(fg_article)"
   ]
  },
  {
   "cell_type": "markdown",
   "metadata": {},
   "source": [
    "First of all, we have to prepare a background corpus. "
   ]
  },
  {
   "cell_type": "markdown",
   "metadata": {},
   "source": [
    "<div class=\"task_description\">\n",
    "   <i class=\"subtask\">8.6.1</i> <i class=\"l1\">L1</i> <br>\n",
    "</div>\n",
    "\n",
    "We choose the Reuters corpus from the NLTK. What does the corpus contain? Why would you think this is a suitable background corpus? "
   ]
  },
  {
   "cell_type": "markdown",
   "metadata": {},
   "source": [
    "<strong style=\"color: blue\">Lösung:</strong>\n",
    "    \n",
    "The Reuters corpus contains a collection of 10,788 documents from the Reuters financial newswire service (This information can be obtained with ``reuters.readme()``).<br> It seems suitable because it is relatively large and like the article from which we want to extract keyphrases, it contains news texts."
   ]
  },
  {
   "cell_type": "markdown",
   "metadata": {},
   "source": [
    "<div class=\"task_description\">\n",
    "   <i class=\"subtask\">8.6.2</i> <i class=\"l1\">L1</i> <br>\n",
    "</div>\n",
    "\n",
    "What does the following code compute? "
   ]
  },
  {
   "cell_type": "code",
   "execution_count": null,
   "metadata": {},
   "outputs": [],
   "source": [
    "print(len(reuters.fileids()))\n",
    "print(len(reuters.words()))"
   ]
  },
  {
   "cell_type": "markdown",
   "metadata": {},
   "source": [
    "<strong style=\"color: blue\">Lösung:</strong>\n",
    "\n",
    "Number of articles and total number of words in the corpus."
   ]
  },
  {
   "cell_type": "markdown",
   "metadata": {},
   "source": [
    "<div class=\"task_description\">\n",
    "   <i class=\"subtask\">8.6.3</i> <i class=\"l2\">L2</i> <br>\n",
    "</div>\n",
    "\n",
    "For each article, create a list of the tokens it contains and store these lists in one big list."
   ]
  },
  {
   "cell_type": "markdown",
   "metadata": {},
   "source": [
    "<strong style=\"color: blue\">Lösung:</strong>"
   ]
  },
  {
   "cell_type": "code",
   "execution_count": null,
   "metadata": {},
   "outputs": [],
   "source": [
    "bg_news = [reuters.words(fileid) for fileid in reuters.fileids()]"
   ]
  },
  {
   "cell_type": "markdown",
   "metadata": {},
   "source": [
    "<div class=\"task_description\">\n",
    "    <i class=\"task\">Task 8.7.:</i> <br>\n",
    "</div> \n",
    "\n",
    "Now we compute the TF (term frequency) score for each word type in the forground corpus.<br> TF is defined here as the number of occurrences of the word type in the text divided by the total number of tokens in the text."
   ]
  },
  {
   "cell_type": "markdown",
   "metadata": {},
   "source": [
    "<div class=\"task_description\">\n",
    "   <i class=\"subtask\">8.7.1</i> <i class=\"l1\">L1</i> <br>\n",
    "</div>\n",
    "\n",
    "What does the following code do?"
   ]
  },
  {
   "cell_type": "code",
   "execution_count": null,
   "metadata": {},
   "outputs": [],
   "source": [
    "def computeTF(foreground):\n",
    "    \n",
    "    tf_dict = dict.fromkeys(set(foreground), 0)\n",
    "    for word in foreground:\n",
    "        tf_dict[word] += 1\n",
    "        \n",
    "    return tf_dict \n",
    "   \n",
    "tf = computeTF(fg_article)"
   ]
  },
  {
   "cell_type": "markdown",
   "metadata": {},
   "source": [
    "<strong style=\"color: blue\">Lösung:</strong>\n",
    "    \n",
    "The frequency of each word in the foreground corpus is computed and stored in a dictionary."
   ]
  },
  {
   "cell_type": "markdown",
   "metadata": {},
   "source": [
    "<div class=\"task_description\">\n",
    "   <i class=\"subtask\">8.7.2</i> <i class=\"l2\">L2</i> <br>\n",
    "</div>\n",
    "\n",
    "Change the function so that  the returned dictionary does not contatin the raw frequency but the frequency divided by the total number of tokens in the text."
   ]
  },
  {
   "cell_type": "markdown",
   "metadata": {},
   "source": [
    "<strong style=\"color: blue\">Lösung:</strong>"
   ]
  },
  {
   "cell_type": "code",
   "execution_count": null,
   "metadata": {},
   "outputs": [],
   "source": [
    "def computeTF(foreground):\n",
    "    \n",
    "    tf_dict = dict.fromkeys(set(foreground), 0)\n",
    "    for word in foreground:\n",
    "        tf_dict[word] += 1\n",
    "        \n",
    "    for word, count in tf_dict.items():\n",
    "        tf_dict[word] = count / float(len(foreground))\n",
    "        \n",
    "    return tf_dict\n",
    "\n",
    "tf = computeTF(fg_article)"
   ]
  },
  {
   "cell_type": "markdown",
   "metadata": {},
   "source": [
    "<div class=\"task_description\">\n",
    "    <i class=\"task\">Task 8.8.:</i> <br>\n",
    "</div> \n",
    "\n",
    "The IDF (inverse document frequency) for word w is defined as log(number of documents in the background corpus / number of documents containing word w)."
   ]
  },
  {
   "cell_type": "markdown",
   "metadata": {},
   "source": [
    "<div class=\"task_description\">\n",
    "   <i class=\"subtask\">8.8.1</i> <i class=\"l1\">L1</i> <br>\n",
    "</div>\n",
    "\n",
    "What does the following code return? What would change if we changed the line ``for word in set(document)`` to ``for word in document``?"
   ]
  },
  {
   "cell_type": "code",
   "execution_count": null,
   "metadata": {},
   "outputs": [],
   "source": [
    "def computeIDF(foreground, background):\n",
    "    bg_dict = {}\n",
    "    for document in background:\n",
    "        for word in set(document):\n",
    "            if word not in bg_dict:\n",
    "                bg_dict[word] = 1\n",
    "            else:\n",
    "                bg_dict[word] += 1\n",
    "    \n",
    "    return bg_dict\n",
    "\n",
    "news_idf = computeIDF(fg_article, bg_news)"
   ]
  },
  {
   "cell_type": "markdown",
   "metadata": {},
   "source": [
    "<strong style=\"color: blue\">Lösung:</strong>\n",
    "    \n",
    "The returned dictionary contains for each word in the background corpus in how many documents it appears. If we omit `set()` in the line `for word in set(document):`, we would not compute in how many documents a word appears (each document counting only once) but how many times it appears in total."
   ]
  },
  {
   "cell_type": "markdown",
   "metadata": {},
   "source": [
    "<div class=\"task_description\">\n",
    "   <i class=\"subtask\">8.8.2</i> <i class=\"l2\">L2</i> <br>\n",
    "</div>\n",
    "\n",
    "Enhance the function so that it returns a dictionary with the IDF value of each word in the foreground corpus. Take care that divisions by zero cannot occur!"
   ]
  },
  {
   "cell_type": "markdown",
   "metadata": {},
   "source": [
    "<strong style=\"color: blue\">Lösung:</strong>"
   ]
  },
  {
   "cell_type": "code",
   "execution_count": null,
   "metadata": {},
   "outputs": [],
   "source": [
    "def computeIDF(foreground, background): \n",
    "    bg_dict = {}\n",
    "    for document in background:\n",
    "        for word in set(document):\n",
    "            if word not in bg_dict:\n",
    "                bg_dict[word] = 1\n",
    "            else:\n",
    "                bg_dict[word] += 1\n",
    "    \n",
    "    N = len(background) #total number of documents\n",
    "    \n",
    "    idfDict = dict.fromkeys(foreground, 0)\n",
    "    for word in idfDict.keys():\n",
    "        if word in bg_dict: #in this solution, words which appear in no document receive an idf value of 0\n",
    "            idfDict[word] = math.log(N / float(bg_dict[word]))\n",
    "    return idfDict\n",
    "\n",
    "\n",
    "news_idf = computeIDF(fg_article, bg_news)"
   ]
  },
  {
   "cell_type": "markdown",
   "metadata": {},
   "source": [
    "<div class=\"task_description\">\n",
    "    <i class=\"task\">Task 8.9.:</i> <br>\n",
    "</div> \n",
    "\n",
    "<div class=\"task_description\">\n",
    "   <i class=\"subtask\">8.9.1</i> <i class=\"l3\">L3</i> <br>\n",
    "</div>\n",
    "\n",
    "Now compute the TF-IDF value of each word in the foreground corpus by multiplying the TF and the IDF values. Print the 10 words with the highest TF-IDF value."
   ]
  },
  {
   "cell_type": "code",
   "execution_count": null,
   "metadata": {},
   "outputs": [],
   "source": [
    "def computeTFIDF(tf, idf):\n",
    "    tfidf = {}\n",
    "    #To Do\n",
    "    return tfidf"
   ]
  },
  {
   "cell_type": "markdown",
   "metadata": {},
   "source": [
    "<strong style=\"color: blue\">Lösung:</strong>"
   ]
  },
  {
   "cell_type": "code",
   "execution_count": null,
   "metadata": {},
   "outputs": [],
   "source": [
    "def computeTFIDF(tf, idf):\n",
    "    tfidf = {}\n",
    "    for word, val in tf.items():\n",
    "        tfidf[word] = val * idf[word]\n",
    "    return tfidf\n",
    "\n",
    "tfidf = computeTFIDF(tf, news_idf)\n",
    "\n",
    "#highest value\n",
    "for word in sorted(tfidf, key=tfidf.get, reverse=True)[:10]:\n",
    "    print(word, tfidf[word])"
   ]
  },
  {
   "cell_type": "markdown",
   "metadata": {},
   "source": [
    "<div class=\"task_description\">\n",
    "   <i class=\"subtask\">8.9.2</i> <i class=\"l3\">L3</i> <br>\n",
    "</div>\n",
    "\n",
    "Now print the 10 words with the lowest TF-IDF value (that is not 0). How many of them are stopwords?\n"
   ]
  },
  {
   "cell_type": "markdown",
   "metadata": {},
   "source": [
    "<strong style=\"color: blue\">Lösung:</strong>"
   ]
  },
  {
   "cell_type": "code",
   "execution_count": null,
   "metadata": {},
   "outputs": [],
   "source": [
    "#delete entries with value 0 (=those which were not found in the background corpus at all)\n",
    "tfidf = {key:value for (key,value) in tfidf.items() if value > 0}\n",
    "\n",
    "lowest_tfidf = set([])\n",
    "\n",
    "for word in sorted(tfidf, key=tfidf.get)[:10]:\n",
    "    print(word, tfidf[word])\n",
    "    lowest_tfidf.add(word.lower())\n",
    "\n",
    "#overlap with stopwords\n",
    "print(\"Overlap with stopwords:\", lowest_tfidf.intersection(stopwords))\n",
    "\n",
    "print(len(lowest_tfidf.intersection(stopwords)))\n",
    "\n",
    "#The only non-stopword in the list of words with the lowest TF-IDF scores is \"year\"."
   ]
  },
  {
   "cell_type": "markdown",
   "metadata": {},
   "source": [
    "<div class=\"task_description\">\n",
    "    <i class=\"task\">Task 8.10.:</i> <br>\n",
    "</div> \n",
    "\n",
    "Now try what happens if you use the move_reviews corpus from the NLTK instead of the reuters corpus as background corpus. "
   ]
  },
  {
   "cell_type": "markdown",
   "metadata": {},
   "source": [
    "<div class=\"task_description\">\n",
    "   <i class=\"subtask\">8.10.1</i> <i class=\"l1\">L1</i> <br>\n",
    "</div>\n",
    "\n",
    "Which components will change? "
   ]
  },
  {
   "cell_type": "markdown",
   "metadata": {},
   "source": [
    "<strong style=\"color: blue\">Lösung:</strong>\n",
    "    \n",
    "Only the IDF and the final TF-IDF scores will change. The TF score remains the same. "
   ]
  },
  {
   "cell_type": "markdown",
   "metadata": {},
   "source": [
    "<div class=\"task_description\">\n",
    "   <i class=\"subtask\">8.10.2</i> <i class=\"l3\">L3</i> <br>\n",
    "</div>\n",
    "\n",
    "Are the 10 words with the highest tf-idf values the same? Compute the new tf-idf scores."
   ]
  },
  {
   "cell_type": "markdown",
   "metadata": {},
   "source": [
    "<strong style=\"color: blue\">Lösung:</strong>"
   ]
  },
  {
   "cell_type": "markdown",
   "metadata": {},
   "source": [
    "Prepare new background corpus:"
   ]
  },
  {
   "cell_type": "code",
   "execution_count": null,
   "metadata": {},
   "outputs": [],
   "source": [
    "bg_movies = [movie_reviews.words(fileid) for fileid in movie_reviews.fileids()]"
   ]
  },
  {
   "cell_type": "markdown",
   "metadata": {},
   "source": [
    "Compute new IDF values (TF values remain the same!):"
   ]
  },
  {
   "cell_type": "code",
   "execution_count": null,
   "metadata": {},
   "outputs": [],
   "source": [
    "movie_idf = computeIDF(fg_article, bg_movies)"
   ]
  },
  {
   "cell_type": "markdown",
   "metadata": {},
   "source": [
    "Compute new TF-IDF scores:"
   ]
  },
  {
   "cell_type": "code",
   "execution_count": null,
   "metadata": {},
   "outputs": [],
   "source": [
    "tfidf_movies = computeTFIDF(tf, movie_idf)"
   ]
  },
  {
   "cell_type": "markdown",
   "metadata": {},
   "source": [
    "Print the 10 words with the highest scores:"
   ]
  },
  {
   "cell_type": "code",
   "execution_count": null,
   "metadata": {},
   "outputs": [],
   "source": [
    "for word in sorted(tfidf_movies, key=tfidf_movies.get, reverse=True)[:10]:\n",
    "    print(word, tfidf_movies[word])"
   ]
  },
  {
   "cell_type": "markdown",
   "metadata": {},
   "source": [
    "# Homework"
   ]
  },
  {
   "cell_type": "markdown",
   "metadata": {},
   "source": [
    "<div class=\"task_description\">\n",
    "    <i class=\"task\">8.1.</i> :::10 Homework points:::\n",
    "</div>\n",
    "\n"
   ]
  },
  {
   "cell_type": "markdown",
   "metadata": {},
   "source": [
    "Design an algorithm to find the \"statistically improbable phrases\" (SIP) of a document collection:<br><br>\n",
    "https://web.archive.org/web/20160425062531/http://www.amazon.com/gp/search-inside/sipshelp.html <br><br>\n",
    "The main idea behind SIPs is that if a phrase occurs much more often in a document than this is statistically expected (hence the name “statistically improbable phrases”), it might be a good indicator of what a document is about.<br><br> For example, we may look at a corpus with 1,000,000 words and see that the word “car” appears 20 times. If now the word “car” also appears 20 times in a document with 1000 words, this seems improbable.<br><br>\n",
    "To formalize the counting of words a bit, we may use so called contingency tables. They are a structured way to display how often a word occurs in certain documents. <br> As we are only interested in the counts in the current document as well as the counts in the overall collection, we will use a 2x2 table:"
   ]
  },
  {
   "cell_type": "markdown",
   "metadata": {},
   "source": [
    "|-|Document<br>(Foreground Corpus)|Other Corpus<br>(Background Corpus)|-|\n",
    "|-|-|-|-|\n",
    "|word|A|B|-\n",
    "|all other words|C-A|D-B|-\n",
    "|-|C|D|N = C + D\n"
   ]
  },
  {
   "cell_type": "markdown",
   "metadata": {},
   "source": [
    "We can now measure how “improbable” is a certain phrase in a document (also called foreground corpus) w.r.t. some corpus (called background corpus) using “Log-Likelyhood” (LL) as defined by (Rayson & Garside, 2000). <br><br>In terms of the contingency table, it is defined as:<br><br>\n",
    "\n",
    "$ LL = 2*(A*log_2(\\frac{A}{E_1}) + B*log_2(\\frac{B}{E_2}))$ <br><br> where <br><br>\n",
    "$E_1 = \\frac{C*(A+B)}{N}$ and $E_2 = \\frac{D*(A+B)}{N}$ <br><br> For simplifications, you may limit phrases to bigrams."
   ]
  },
  {
   "cell_type": "markdown",
   "metadata": {},
   "source": [
    "<div class=\"task_description\">\n",
    "   <i class=\"subtask\">8.1.1.</i>\n",
    "</div>\n",
    "\n",
    "Select a suitable corpus from NLTK."
   ]
  },
  {
   "cell_type": "markdown",
   "metadata": {},
   "source": [
    "<div class=\"task_description\">\n",
    "   <i class=\"subtask\">8.1.2.</i>\n",
    "</div>\n",
    "\n",
    "Initialize two frequency distributions of bigrams. <br>One from a text of your choice (`fdist_fg`) and one of the\n",
    "corpus selected in 8.1.1. (`fdist_bg`)."
   ]
  },
  {
   "cell_type": "markdown",
   "metadata": {},
   "source": [
    "<div class=\"task_description\">\n",
    "   <i class=\"subtask\">8.1.3.</i>\n",
    "</div>\n",
    "\n",
    "Using the frequency distributions, determine how to get all the required counts to compute the log likelihood\n",
    "scores and write a function ``compute_LL(phrase,fdist_fg,fdist_bg).``"
   ]
  },
  {
   "cell_type": "markdown",
   "metadata": {},
   "source": [
    "<div class=\"task_description\">\n",
    "   <i class=\"subtask\">8.1.4.</i>\n",
    "</div>\n",
    "\n",
    "Given a text, calculate the LL score for each bigram and output the 10 most “improbable” phrases."
   ]
  }
 ],
 "metadata": {
  "kernelspec": {
   "display_name": "Python 3",
   "language": "python",
   "name": "python3"
  },
  "language_info": {
   "codemirror_mode": {
    "name": "ipython",
    "version": 3
   },
   "file_extension": ".py",
   "mimetype": "text/x-python",
   "name": "python",
   "nbconvert_exporter": "python",
   "pygments_lexer": "ipython3",
   "version": "3.6.5"
  }
 },
 "nbformat": 4,
 "nbformat_minor": 2
}
