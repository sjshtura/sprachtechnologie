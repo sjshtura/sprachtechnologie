{
 "cells": [
  {
   "cell_type": "code",
   "execution_count": 500,
   "metadata": {},
   "outputs": [
    {
     "data": {
      "text/html": [
       "<style>/* Style des gesamten Dokuments */\n",
       "#notebook-container {\n",
       "\tfont-family: \"NimbusMonL-ReguObli\";\n",
       "\tfont-size: 120%\n",
       "}\n",
       "\n",
       "/* Style für die Überschrift: Zentriert diese und stellt sie fett dar. */\n",
       ".headline {\n",
       "\ttext-align: center;\n",
       "\tfont-weight: bold;\n",
       "\tfont-size: 185.7%\n",
       "}\n",
       "\n",
       "/* Style für die Aufgabenbeschreibung. Z.B.: \"Übung zum Thema...\" */\n",
       ".description {\n",
       "\ttext-align: center;\n",
       "\tfont-size: 145.7%\n",
       "}\n",
       "\n",
       "/* Hebt das Abgabedatum fett und kursiv hervor */\n",
       "#submission {\n",
       "\tfont-weight: bold;\n",
       "}\n",
       "\n",
       "/* Style für das eigentliche Thema. Z.B.: \"Intelligenz\" */\n",
       "#topic {\n",
       "\tfont-style: italic;\n",
       "}\n",
       "\n",
       ".task_description {\n",
       "\tmargin-bottom: 20px;\n",
       "}\n",
       "\n",
       "/* Hebt die Aufgabennummerierung fett hervor. */\n",
       ".task {\n",
       "\tfont-style: normal;\n",
       "\tfont-weight: bold;\n",
       "\tfont-size: 120%;\n",
       "\tborder-bottom: 2px solid black;\n",
       "  background-color: #97CAEF;\n",
       "  color: black;\n",
       "\tpadding: 2px;\n",
       "  padding-left: 50px;\n",
       "  padding-right: 50px;\n",
       "}\n",
       "\n",
       ".subtask {\n",
       "\tfont-style: normal;\n",
       "\tfont-size: 100%;\n",
       "  background-color: #CAFAFE;\n",
       "  color: black;\n",
       "\tpadding: 2px;\n",
       "  padding-left: 25px;\n",
       "  padding-right: 25px;\n",
       "}\n",
       "\n",
       ".l1 {\n",
       "\tfont-style: normal;\n",
       "\tfont-size: 100%;\n",
       "  background-color: #14A76C;\n",
       "  color: black;\n",
       "\tpadding: 2px;\n",
       "  padding-left: 5px;\n",
       "  padding-right: 5px;\n",
       "}\n",
       "\n",
       ".l2 {\n",
       "\tfont-style: normal;\n",
       "\tfont-size: 100%;\n",
       "  background-color: #FFE400;\n",
       "  color: black;\n",
       "\tpadding: 2px;\n",
       "  padding-left: 5px;\n",
       "  padding-right: 5px;\n",
       "}\n",
       "\n",
       ".l3 {\n",
       "\tfont-style: normal;\n",
       "\tfont-size: 100%;\n",
       "  background-color: #FF652F;\n",
       "  color: black;\n",
       "\tpadding: 2px;\n",
       "  padding-left: 5px;\n",
       "  padding-right: 5px;\n",
       "}\n",
       "\n",
       ".points {\n",
       "\tfont-style: italic;\n",
       "}\n",
       "\n",
       "ol.lower_roman {\n",
       "    list-style-type: lower-roman;\n",
       "}\n",
       "\n",
       "ol.characters {\n",
       "    list-style-type: lower-alpha;\n",
       "}\n",
       "\n",
       "/* Style einer Code-Cell */\n",
       ".CodeMirror-code {\n",
       "\tbackground-color: #ededed\n",
       "}\n",
       "\n",
       "/* Style eines Kommentars im Code ändern. */\n",
       ".cm-s-ipython span.cm-comment {\n",
       "\n",
       "}\n",
       "\n",
       ".cm-s-ipython span.cm-atom {\n",
       "\n",
       "}\n",
       "\n",
       ".cm-s-ipython span.cm-number {\n",
       "\n",
       "}\n",
       "\n",
       "/* Style eines Python-Keywords ändern */\n",
       ".cm-s-ipython span.cm-keyword {\n",
       "\tcolor: #B000B0\n",
       "}\n",
       "\n",
       ".cm-s-ipython span.cm-def {\n",
       "\n",
       "}\n",
       "\n",
       "/* Style einer Python-Variable ändern */\n",
       ".cm-s-ipython span.cm-variable {\n",
       "\n",
       "}\n",
       "\n",
       "/* Style einer Property ändern */\n",
       ".cm-s-ipython span.cm-property {\n",
       "\n",
       "}\n",
       "\n",
       "/* Style eines Python-Operators ändern */\n",
       ".cm-s-ipython span.cm-operator {\n",
       "\n",
       "}\n",
       "\n",
       "/* Style eines Python-Strings ändern */\n",
       ".cm-s-ipython span.cm-string {\n",
       "\tcolor: brown;\n",
       "}\n",
       "\n",
       "/* Style einer eingebauten Funktion ändern (z.B. \"open\") */\n",
       ".cm-s-ipython span.cm-builtin {\n",
       "\n",
       "}\n",
       "\n",
       "/* Hebt hervor, welche Klammern zueinander passen */\n",
       ".cm-s-ipython .CodeMirror-matchingbracket {\n",
       "\n",
       "}\n",
       "\n",
       ".cm-s-ipython span.cm-variable-2 {\n",
       "\n",
       "}\n",
       "</style>"
      ],
      "text/plain": [
       "<IPython.core.display.HTML object>"
      ]
     },
     "execution_count": 500,
     "metadata": {},
     "output_type": "execute_result"
    }
   ],
   "source": [
    "from IPython.core.display import HTML\n",
    "HTML(\"<style>\" + open(\"style.css\").read() + \"</style>\")"
   ]
  },
  {
   "cell_type": "markdown",
   "metadata": {},
   "source": [
    "<div class=\"headline\">\n",
    "Language Technology / Sprachtechnologie\n",
    "<br><br>\n",
    "Wintersemester 2019/2020\n",
    "</div>\n",
    "<br>\n",
    "<div class=\"description\">\n",
    "    Übung zum Thema <i id=\"topic\">\"Word Sense Induction\"</i>\n",
    "    <br><br>\n",
    "    Deadline Abgabe: <i #id=\"submission\">Thursday, 21.11.2019 (23:55 Uhr)</i>\n",
    "</div>"
   ]
  },
  {
   "cell_type": "markdown",
   "metadata": {},
   "source": [
    "# Präsenzübung"
   ]
  },
  {
   "cell_type": "code",
   "execution_count": 1,
   "metadata": {
    "scrolled": true
   },
   "outputs": [
    {
     "name": "stdout",
     "output_type": "stream",
     "text": [
      "*** Introductory Examples for the NLTK Book ***\n",
      "Loading text1, ..., text9 and sent1, ..., sent9\n",
      "Type the name of the text or sentence to view it.\n",
      "Type: 'texts()' or 'sents()' to list the materials.\n",
      "text1: Moby Dick by Herman Melville 1851\n",
      "text2: Sense and Sensibility by Jane Austen 1811\n",
      "text3: The Book of Genesis\n",
      "text4: Inaugural Address Corpus\n",
      "text5: Chat Corpus\n",
      "text6: Monty Python and the Holy Grail\n",
      "text7: Wall Street Journal\n",
      "text8: Personals Corpus\n",
      "text9: The Man Who Was Thursday by G . K . Chesterton 1908\n"
     ]
    }
   ],
   "source": [
    "import nltk\n",
    "import string\n",
    "from nltk.corpus import wordnet as wn  \n",
    "from nltk.book import text2,text3 \n",
    "from nltk.text import Text\n",
    "from sklearn.feature_extraction.text import TfidfVectorizer  \n",
    "from sklearn.cluster import KMeans  "
   ]
  },
  {
   "cell_type": "markdown",
   "metadata": {},
   "source": [
    "## Warm Up"
   ]
  },
  {
   "cell_type": "markdown",
   "metadata": {},
   "source": [
    "<div class=\"task_description\">\n",
    "    <i class=\"task\">Task 5.1:</i> <br>\n",
    "</div>\n",
    "\n",
    "Stopword: Which of the following statements are true?\n",
    "\n",
    "1. A stopword is a word used to stop a parsing process.\n",
    "2. A stopword is a high-frequency word.\n",
    "3. Punctuation marks like ``.``, ``,``, and ``;`` are stop words.\n",
    "4. \"the, to, and\" are stop words.\n",
    "5. Stopwords have a maximum length of 3.\n",
    "6. NLTK offers a list of English stopwords through: nltk.corpus.stopwords.words('english')\n"
   ]
  },
  {
   "cell_type": "markdown",
   "metadata": {},
   "source": [
    "<strong style=\"color: blue\">Lösung</strong>\n",
    "\n",
    "1. is false. A stopword is a frequent word with little lexical content.\n",
    "2. is true. Additionally, stopwords ('a', 'the', 'to', 'also') must also carry little lexical content.\n",
    "3. is false. First, punctuation marks are not really ''words'', and are thus usually not considered stop words. In a sense, they are similar to stop words as they carry no lexical content, i.e. they have no real meaning.\n",
    "4. is true\n",
    "5. is false. There are stopwords like 'while' or 'will' with length more than 3 characters\n",
    "6. is true. There are 127 words in this list.\n"
   ]
  },
  {
   "cell_type": "markdown",
   "metadata": {},
   "source": [
    "<div class=\"task_description\">\n",
    "    <i class=\"task\">Task 5.2:</i> <br>\n",
    "</div>\n",
    "\n",
    "Synset: Which of the following statements are true?\n"
   ]
  },
  {
   "cell_type": "markdown",
   "metadata": {},
   "source": [
    "1. A synset is a set of words that are interchangeable in some context without changing the meaning of a sentence in which they are embedded.\n",
    "2. A synset is a set of all bigrams within wordnet.\n",
    "3. Within W ordnet (corpus / lexical ressource) each word corresponds to one or more synsets.\n",
    "4. You may access the synsets of \"dog\" in NLTK by using nltk.corpus.wordnet.synsets('dog')\n"
   ]
  },
  {
   "cell_type": "markdown",
   "metadata": {},
   "source": [
    "<strong style=\"color: blue\">Lösung</strong>\n",
    "\n",
    "1. is true. Synset is defined as a set of words grouped by some specific meaning. Since we need only one meaning in the context, the statement is correct.\n",
    "2. is false. Synset is a set of words and not bigrams.\n",
    "3. is true. A single word may be assigned to different synsets. For example, the word ‘car’ is assigned to such synsets as [‘car’, ‘cable_car’] and [‘car’, ‘elevator_car’].\n",
    "4. is true. The output is [Synset(‘dog.n.01’), Synset(‘frump.n.01’), Synset(‘dog.n.03’), Synset(‘cad.n.01’), Synset(‘frank.n.02’), Synset(‘pawl.n.01’), Synset(‘andiron.n.01’), Synset(‘chase.v.01’)]. ‘frump.n.01’ means that ‘dog’ belongs to the synset with the first sense of the noun (‘n’) ‘frump’."
   ]
  },
  {
   "cell_type": "markdown",
   "metadata": {},
   "source": [
    "<div class=\"task_description\">\n",
    "    <i class=\"task\">Task 5.3:</i> <br>\n",
    "</div>\n",
    "There are two possible definitions of 'word':\n",
    "\n",
    "* Word is the same as token, for example ‘see’ and ‘saw’ are different words;\n",
    "* Word is the same as lemma, hence ‘things’ and ‘thing’ becomes the same words. \n",
    "<br><br>Which of the following statements are true?\n"
   ]
  },
  {
   "cell_type": "markdown",
   "metadata": {},
   "source": [
    "1. The lemma of “appeared” is“appear”.\n",
    "2. The lemma of a verb is its infinitive.\n",
    "3. Two words having the same lemma are called homonyms.\n",
    "4. Each token has one and only one lemma.\n",
    "5. Each lemma belongs to one and only one word."
   ]
  },
  {
   "cell_type": "markdown",
   "metadata": {},
   "source": [
    "<strong style=\"color: blue\">Lösung</strong>\n",
    "\n",
    "1. is true, because ‘appear’ is the normalized form for ‘appeared’;\n",
    "2. is true, because the infinitive is the normalized form of a verb;\n",
    "3. is false. Homonyms are defined as distinct words that share the same spelling and pronunciation. However, the lemmas of these words may be different. For example, ‘goes’ and ‘went’ have both the lemma ‘go’, but are not homonyms.\n",
    "4. is false, as homographs share the same surface form, but might have different lemmas.\n",
    "5. is false, because e.g. the lemma ‘be’ corresponds to two words ‘is’ and ‘are’."
   ]
  },
  {
   "cell_type": "markdown",
   "metadata": {},
   "source": [
    "## Lexical Resources"
   ]
  },
  {
   "cell_type": "markdown",
   "metadata": {},
   "source": [
    "<div class=\"task_description\">\n",
    "    <i class=\"task\">Task 5.4:</i> <br>\n",
    "</div>\n",
    "\n",
    "A stopword list contains high-frequency words like “the”, “to”, “and”, or “also” that we sometimes want to filter out of a document before further processing. Stopwords usually have little lexical content, and their presence in a text fails to distinguish it from other texts. NLTK provides a predefined list of stopwords: nltk.corpus.stopwords"
   ]
  },
  {
   "cell_type": "markdown",
   "metadata": {},
   "source": [
    "<div class=\"task_description\">\n",
    "   <i class=\"subtask\">5.4.1</i> <i class=\"l2\">L2</i> <br>\n",
    "</div>\n",
    "Find all non-stopwords in carroll-alice.txt of the corpus Gutenberg."
   ]
  },
  {
   "cell_type": "markdown",
   "metadata": {},
   "source": [
    "<strong style=\"color: blue\">Lösung</strong>"
   ]
  },
  {
   "cell_type": "code",
   "execution_count": 2,
   "metadata": {},
   "outputs": [
    {
     "name": "stdout",
     "output_type": "stream",
     "text": [
      "['[', 'Alice', \"'\", 'Adventures', 'Wonderland', 'Lewis', 'Carroll', '1865', ']', 'CHAPTER', '.', 'Rabbit', '-', 'Hole', 'Alice', 'beginning', 'get', 'tired', 'sitting', 'sister', 'bank', ',', 'nothing', ':', 'twice', 'peeped', 'book', 'sister', 'reading', ',', 'pictures', 'conversations', ',', \"'\", 'use', 'book', \",'\", 'thought', 'Alice', \"'\", 'without', 'pictures', 'conversation', \"?'\", 'considering', 'mind', '(', 'well', 'could', ',', 'hot', 'day', 'made', 'feel', 'sleepy', 'stupid', '),', 'whether', 'pleasure', 'making', 'daisy', '-', 'chain', 'would', 'worth', 'trouble', 'getting', 'picking', 'daisies', ',', 'suddenly', 'White', 'Rabbit', 'pink', 'eyes', 'ran', 'close', '.', 'nothing', 'remarkable', ';', 'Alice', 'think', 'much', 'way', 'hear', 'Rabbit', 'say', ',', \"'\", 'Oh', 'dear', '!', 'Oh', 'dear', '!', 'shall', 'late', \"!'\", '(', 'thought', 'afterwards', ',', 'occurred', 'ought', 'wondered', ',', 'time', 'seemed', 'quite', 'natural', ');', 'Rabbit', 'actually', 'TOOK', 'WATCH', 'WAISTCOAT', '-', 'POCKET', ',', 'looked', ',', 'hurried', ',', 'Alice', 'started', 'feet', ',', 'flashed', 'across', 'mind', 'never', 'seen', 'rabbit', 'either', 'waistcoat', '-', 'pocket', ',', 'watch', 'take', ',', 'burning', 'curiosity', ',', 'ran', 'across', 'field', ',', 'fortunately', 'time', 'see', 'pop', 'large', 'rabbit', '-', 'hole', 'hedge', '.', 'another', 'moment', 'went', 'Alice', ',', 'never', 'considering', 'world', 'get', '.', 'rabbit', '-', 'hole', 'went', 'straight', 'like', 'tunnel', 'way', ',', 'dipped', 'suddenly', ',', 'suddenly', 'Alice', 'moment', 'think', 'stopping', 'found', 'falling', 'deep', 'well', '.', 'Either', 'well', 'deep', ',', 'fell', 'slowly', ',', 'plenty', 'time', 'went', 'look', 'wonder', 'going', 'happen', 'next', '.', 'First', ',', 'tried', 'look', 'make', 'coming', ',', 'dark', 'see', 'anything', ';', 'looked', 'sides', 'well', ',', 'noticed', 'filled', 'cupboards', 'book', '-', 'shelves', ';', 'saw', 'maps', 'pictures', 'hung', 'upon', 'pegs', '.', 'took', 'jar', 'one', 'shelves', 'passed', ';', 'labelled', \"'\", 'ORANGE', 'MARMALADE', \"',\", 'great', 'disappointment', 'empty', ':', 'like', 'drop', 'jar', 'fear', 'killing', 'somebody', ',', 'managed', 'put', 'one', 'cupboards', 'fell', 'past', '.', \"'\", 'Well', \"!'\", 'thought', 'Alice', ',', \"'\", 'fall', ',', 'shall', 'think', 'nothing', 'tumbling', 'stairs', '!', 'brave', \"'\", 'think', 'home', '!', ',', \"'\", 'say', 'anything', ',', 'even', 'fell', 'top', 'house', \"!'\", '(', 'likely', 'true', '.)', ',', ',', '.', 'Would', 'fall', 'NEVER', 'come', 'end', '!', \"'\", 'wonder', 'many', 'miles', \"'\", 'fallen', 'time', \"?'\", 'said', 'aloud', '.', \"'\", 'must', 'getting', 'somewhere', 'near', 'centre', 'earth', '.', 'Let', 'see', ':', 'would', 'four', 'thousand', 'miles', ',', 'think', \"--'\", '(', ',', 'see', ',', 'Alice', 'learnt', 'several', 'things', 'sort', 'lessons', 'schoolroom', ',', 'though', 'good', 'opportunity', 'showing', 'knowledge', ',', 'one', 'listen', ',', 'still', 'good', 'practice', 'say', ')', \"'--\", 'yes', ',', \"'\", 'right', 'distance', '--', 'wonder', 'Latitude', 'Longitude', \"'\", 'got', \"?'\", '(', 'Alice', 'idea', 'Latitude', ',', 'Longitude', 'either', ',', 'thought', 'nice', 'grand', 'words', 'say', '.)', 'Presently', 'began', '.', \"'\", 'wonder', 'shall', 'fall', 'right', 'earth', '!', 'funny', \"'\", 'seem', 'come', 'among', 'people', 'walk', 'heads', 'downward', '!', 'Antipathies', ',', 'think', \"--'\", '(', 'rather', 'glad', 'one', 'listening', ',', 'time', ',', \"'\", 'sound', 'right', 'word', ')', \"'--\", 'shall', 'ask', 'name', 'country', ',', 'know', '.', 'Please', ',', \"'\", ',', 'New', 'Zealand', 'Australia', \"?'\", '(', 'tried', 'curtsey', 'spoke', '--', 'fancy', 'CURTSEYING', \"'\", 'falling', 'air', '!', 'think', 'could', 'manage', '?)', \"'\", 'ignorant', 'little', 'girl', \"'\", 'think', 'asking', '!', ',', \"'\", 'never', 'ask', ':', 'perhaps', 'shall', 'see', 'written', 'somewhere', \".'\", ',', ',', '.', 'nothing', 'else', ',', 'Alice', 'soon', 'began', 'talking', '.', \"'\", 'Dinah', \"'\", 'miss', 'much', '-', 'night', ',', 'think', \"!'\", '(', 'Dinah', 'cat', '.)', \"'\", 'hope', \"'\", 'remember', 'saucer', 'milk', 'tea', '-', 'time', '.', 'Dinah', 'dear', '!', 'wish', '!', 'mice', 'air', ',', \"'\", 'afraid', ',', 'might', 'catch', 'bat', ',', \"'\", 'like', 'mouse', ',', 'know', '.', 'cats', 'eat', 'bats', ',', 'wonder', \"?'\", 'Alice', 'began', 'get', 'rather', 'sleepy', ',', 'went', 'saying', ',', 'dreamy', 'sort', 'way', ',', \"'\", 'cats', 'eat', 'bats', '?', 'cats', 'eat', 'bats', \"?'\", 'sometimes', ',', \"'\", 'bats', 'eat', 'cats', \"?'\", ',', 'see', ',', \"'\", 'answer', 'either', 'question', ',', \"'\", 'much', 'matter', 'way', 'put', '.', 'felt', 'dozing', ',', 'begun', 'dream', 'walking', 'hand', 'hand', 'Dinah', ',', 'saying', 'earnestly', ',', \"'\", ',', 'Dinah', ',', 'tell', 'truth', ':', 'ever', 'eat', 'bat', \"?'\", 'suddenly', ',', 'thump', '!', 'thump', '!', 'came', 'upon', 'heap', 'sticks', 'dry', 'leaves', ',', 'fall', '.', 'Alice', 'bit', 'hurt', ',', 'jumped', 'feet', 'moment', ':', 'looked', ',', 'dark', 'overhead', ';', 'another', 'long', 'passage', ',', 'White', 'Rabbit', 'still', 'sight', ',', 'hurrying', '.', 'moment', 'lost', ':', 'away', 'went', 'Alice', 'like', 'wind', ',', 'time', 'hear', 'say', ',', 'turned', 'corner', ',', \"'\", 'Oh', 'ears', 'whiskers', ',', 'late', \"'\", 'getting', \"!'\", 'close', 'behind', 'turned', 'corner', ',', 'Rabbit', 'longer', 'seen', ':', 'found', 'long', ',', 'low', 'hall', ',', 'lit', 'row', 'lamps', 'hanging', 'roof', '.', 'doors', 'round', 'hall', ',', 'locked', ';', 'Alice', 'way', 'one', 'side', ',', 'trying', 'every', 'door', ',', 'walked', 'sadly', 'middle', ',', 'wondering', 'ever', 'get', '.', 'Suddenly', 'came', 'upon', 'little', 'three', '-', 'legged', 'table', ',', 'made', 'solid', 'glass', ';', 'nothing', 'except', 'tiny', 'golden', 'key', ',', 'Alice', \"'\", 'first', 'thought', 'might', 'belong', 'one', 'doors', 'hall', ';', ',', 'alas', '!', 'either', 'locks', 'large', ',', 'key', 'small', ',', 'rate', 'would', 'open', '.', 'However', ',', 'second', 'time', 'round', ',', 'came', 'upon', 'low', 'curtain', 'noticed', ',', 'behind', 'little', 'door', 'fifteen', 'inches', 'high', ':', 'tried', 'little', 'golden', 'key', 'lock', ',', 'great', 'delight', 'fitted', '!', 'Alice', 'opened', 'door', 'found', 'led', 'small', 'passage', ',', 'much', 'larger', 'rat', '-', 'hole', ':', 'knelt', 'looked', 'along', 'passage', 'loveliest', 'garden', 'ever', 'saw', '.', 'longed', 'get', 'dark', 'hall', ',', 'wander', 'among', 'beds', 'bright', 'flowers', 'cool', 'fountains', ',', 'could', 'even', 'get', 'head', 'doorway', ';', \"'\", 'even', 'head', 'would', 'go', \",'\", 'thought', 'poor', 'Alice', ',', \"'\", 'would', 'little', 'use', 'without', 'shoulders', '.', 'Oh', ',', 'wish', 'could', 'shut', 'like', 'telescope', '!', 'think', 'could', ',', 'know', 'begin', \".'\", ',', 'see', ',', 'many', '-', '-', '-', 'way', 'things', 'happened', 'lately', ',', 'Alice', 'begun', 'think', 'things', 'indeed', 'really', 'impossible', '.', 'seemed', 'use', 'waiting', 'little', 'door', ',', 'went', 'back', 'table', ',', 'half', 'hoping', 'might', 'find', 'another', 'key', ',', 'rate', 'book', 'rules', 'shutting', 'people', 'like', 'telescopes', ':', 'time', 'found', 'little', 'bottle', ',', \"('\", 'certainly', \",'\", 'said', 'Alice', ',)', 'round', 'neck', 'bottle', 'paper', 'label', ',', 'words', \"'\", 'DRINK', \"'\", 'beautifully', 'printed', 'large', 'letters', '.', 'well', 'say', \"'\", 'Drink', \",'\", 'wise', 'little', 'Alice', 'going', 'hurry', '.', \"'\", ',', \"'\", 'look', 'first', \",'\", 'said', ',', \"'\", 'see', 'whether', \"'\", 'marked', '\"', 'poison', '\"', \"';\", 'read', 'several', 'nice', 'little', 'histories', 'children', 'got', 'burnt', ',', 'eaten', 'wild', 'beasts', 'unpleasant', 'things', ',', 'WOULD', 'remember', 'simple', 'rules', 'friends', 'taught', ':', ',', 'red', '-', 'hot', 'poker', 'burn', 'hold', 'long', ';', 'cut', 'finger', 'deeply', 'knife', ',', 'usually', 'bleeds', ';', 'never', 'forgotten', ',', 'drink', 'much', 'bottle', 'marked', \"'\", 'poison', \",'\", 'almost', 'certain', 'disagree', ',', 'sooner', 'later', '.', 'However', ',', 'bottle', 'marked', \"'\", 'poison', \",'\", 'Alice', 'ventured', 'taste', ',', 'finding', 'nice', ',', '(', ',', 'fact', ',', 'sort', 'mixed', 'flavour', 'cherry', '-', 'tart', ',', 'custard', ',', 'pine', '-', 'apple', ',', 'roast', 'turkey', ',', 'toffee', ',', 'hot', 'buttered', 'toast', ',)', 'soon', 'finished', '.', '*', '*', '*', '*', '*', '*', '*', '*', '*', '*', '*', '*', '*', '*', '*', '*', '*', '*', '*', '*', \"'\", 'curious', 'feeling', \"!'\", 'said', 'Alice', ';', \"'\", 'must', 'shutting', 'like', 'telescope', \".'\", 'indeed', ':', 'ten', 'inches', 'high', ',', 'face', 'brightened', 'thought', 'right', 'size', 'going', 'little', 'door', 'lovely', 'garden', '.', 'First', ',', 'however', ',', 'waited', 'minutes', 'see', 'going', 'shrink', ':', 'felt', 'little', 'nervous', ';', \"'\", 'might', 'end', ',', 'know', \",'\", 'said', 'Alice', ',', \"'\", 'going', 'altogether', ',', 'like', 'candle', '.', 'wonder', 'like', \"?'\", 'tried', 'fancy', 'flame', 'candle', 'like', 'candle', 'blown', ',', 'could', 'remember', 'ever', 'seen', 'thing', '.', ',', 'finding', 'nothing', 'happened', ',', 'decided', 'going', 'garden', ';', ',', 'alas', 'poor', 'Alice', '!', 'got', 'door', ',', 'found', 'forgotten', 'little', 'golden', 'key', ',', 'went', 'back', 'table', ',', 'found', 'could', 'possibly', 'reach', ':', 'could', 'see', 'quite', 'plainly', 'glass', ',', 'tried', 'best', 'climb', 'one', 'legs', 'table', ',', 'slippery', ';', 'tired', 'trying', ',', 'poor', 'little', 'thing', 'sat', 'cried', '.', \"'\", 'Come', ',', \"'\", 'use', 'crying', 'like', \"!'\", 'said', 'Alice', ',', 'rather', 'sharply', ';', \"'\", 'advise', 'leave', 'minute', \"!'\", 'generally', 'gave', 'good', 'advice', ',', '(', 'though', 'seldom', 'followed', '),', 'sometimes', 'scolded', 'severely', 'bring', 'tears', 'eyes', ';', 'remembered', 'trying', 'box', 'ears', 'cheated', 'game', 'croquet', 'playing', ',', 'curious', 'child', 'fond', 'pretending', 'two', 'people', '.', \"'\", \"'\", 'use', \",'\", 'thought', 'poor', 'Alice', ',', \"'\", 'pretend', 'two', 'people', '!', ',', \"'\", 'hardly', 'enough', 'left', 'make', 'ONE', 'respectable', 'person', \"!'\", 'Soon', 'eye', 'fell', 'little', 'glass', 'box', 'lying', 'table', ':', 'opened', ',', 'found', 'small', 'cake', ',', 'words', \"'\", 'EAT', \"'\", 'beautifully', 'marked', 'currants', '.', \"'\", 'Well', ',', \"'\", 'eat', \",'\", 'said', 'Alice', ',', \"'\", 'makes', 'grow', 'larger', ',', 'reach', 'key', ';', 'makes', 'grow', 'smaller', ',', 'creep', 'door', ';', 'either', 'way', \"'\", 'get', 'garden', ',', \"'\", 'care', 'happens', \"!'\", 'ate', 'little', 'bit', ',', 'said', 'anxiously', ',', \"'\", 'way', '?', 'way', \"?',\", 'holding', 'hand', 'top', 'head', 'feel', 'way', 'growing', ',', 'quite', 'surprised', 'find', 'remained', 'size', ':', 'sure', ',', 'generally', 'happens', 'one', 'eats', 'cake', ',', 'Alice', 'got', 'much', 'way', 'expecting', 'nothing', '-', '-', '-', 'way', 'things', 'happen', ',', 'seemed', 'quite', 'dull', 'stupid', 'life', 'go', 'common', 'way', '.', 'set', 'work', ',', 'soon', 'finished', 'cake', '.', '*', '*', '*', '*', '*', '*', '*', '*', '*', '*', '*', '*', '*', '*', '*', '*', '*', '*', '*', '*', 'CHAPTER', 'II', '.', 'Pool', 'Tears', \"'\", 'Curiouser', 'curiouser', \"!'\", 'cried', 'Alice', '(', 'much', 'surprised', ',', 'moment', 'quite', 'forgot', 'speak', 'good', 'English', ');', \"'\", \"'\", 'opening', 'like', 'largest', 'telescope', 'ever', '!', 'Good', '-', 'bye', ',', 'feet', \"!'\", '(', 'looked', 'feet', ',', 'seemed', 'almost', 'sight', ',', 'getting', 'far', ').', \"'\", 'Oh', ',', 'poor', 'little', 'feet', ',', 'wonder', 'put', 'shoes', 'stockings', ',', 'dears', '?', \"'\", 'sure', '_I_', \"'\", 'able', '!', 'shall', 'great', 'deal', 'far', 'trouble', ':', 'must', 'manage', 'best', 'way', ';--', 'must', 'kind', \",'\", 'thought', 'Alice', ',', \"'\", 'perhaps', \"'\", 'walk', 'way', 'want', 'go', '!', 'Let', 'see', ':', \"'\", 'give', 'new', 'pair', 'boots', 'every', 'Christmas', \".'\", 'went', 'planning', 'would', 'manage', '.', \"'\", 'must', 'go', 'carrier', \",'\", 'thought', ';', \"'\", 'funny', \"'\", 'seem', ',', 'sending', 'presents', 'one', \"'\", 'feet', '!', 'odd', 'directions', 'look', '!', 'ALICE', \"'\", 'RIGHT', 'FOOT', ',', 'ESQ', '.', 'HEARTHRUG', ',', 'NEAR', 'FENDER', ',', '(', 'ALICE', \"'\", 'LOVE', ').', 'Oh', 'dear', ',', 'nonsense', \"'\", 'talking', \"!'\", 'head', 'struck', 'roof', 'hall', ':', 'fact', 'nine', 'feet', 'high', ',', 'took', 'little', 'golden', 'key', 'hurried', 'garden', 'door', '.', 'Poor', 'Alice', '!', 'much', 'could', ',', 'lying', 'one', 'side', ',', 'look', 'garden', 'one', 'eye', ';', 'get', 'hopeless', 'ever', ':', 'sat', 'began', 'cry', '.', \"'\", 'ought', 'ashamed', \",'\", 'said', 'Alice', ',', \"'\", 'great', 'girl', 'like', \",'\", '(', 'might', 'well', 'say', '),', \"'\", 'go', 'crying', 'way', '!', 'Stop', 'moment', ',', 'tell', \"!'\", 'went', ',', 'shedding', 'gallons', 'tears', ',', 'large', 'pool', 'round', ',', 'four', 'inches', 'deep', 'reaching', 'half', 'hall', '.', 'time', 'heard', 'little', 'pattering', 'feet', 'distance', ',', 'hastily', 'dried', 'eyes', 'see', 'coming', '.', 'White', 'Rabbit', 'returning', ',', 'splendidly', 'dressed', ',', 'pair', 'white', 'kid', 'gloves', 'one', 'hand', 'large', 'fan', ':', 'came', 'trotting', 'along', 'great', 'hurry', ',', 'muttering', 'came', ',', \"'\", 'Oh', '!', 'Duchess', ',', 'Duchess', '!', 'Oh', '!', \"'\", 'savage', \"'\", 'kept', 'waiting', \"!'\", 'Alice', 'felt', 'desperate', 'ready', 'ask', 'help', 'one', ';', ',', 'Rabbit', 'came', 'near', ',', 'began', ',', 'low', ',', 'timid', 'voice', ',', \"'\", 'please', ',', 'sir', \"--'\", 'Rabbit', 'started', 'violently', ',', 'dropped', 'white', 'kid', 'gloves', 'fan', ',', 'skurried', 'away', 'darkness', 'hard', 'could', 'go', '.', 'Alice', 'took', 'fan', 'gloves', ',', ',', 'hall', 'hot', ',', 'kept', 'fanning', 'time', 'went', 'talking', ':', \"'\", 'Dear', ',', 'dear', '!', 'queer', 'everything', '-', 'day', '!', 'yesterday', 'things', 'went', 'usual', '.', 'wonder', \"'\", 'changed', 'night', '?', 'Let', 'think', ':', 'got', 'morning', '?', 'almost', 'think', 'remember', 'feeling', 'little', 'different', '.', \"'\", ',', 'next', 'question', ',', 'world', '?', 'Ah', ',', \"'\", 'great', 'puzzle', \"!'\", 'began', 'thinking', 'children', 'knew', 'age', ',', 'see', 'could', 'changed', '.', \"'\", \"'\", 'sure', \"'\", 'Ada', \",'\", 'said', ',', \"'\", 'hair', 'goes', 'long', 'ringlets', ',', 'mine', \"'\", 'go', 'ringlets', ';', \"'\", 'sure', \"'\", 'Mabel', ',', 'know', 'sorts', 'things', ',', ',', 'oh', '!', 'knows', 'little', '!', 'Besides', ',', \"'\", ',', \"'\", ',', '--', 'oh', 'dear', ',', 'puzzling', '!', \"'\", 'try', 'know', 'things', 'used', 'know', '.', 'Let', 'see', ':', 'four', 'times', 'five', 'twelve', ',', 'four', 'times', 'six', 'thirteen', ',', 'four', 'times', 'seven', '--', 'oh', 'dear', '!', 'shall', 'never', 'get', 'twenty', 'rate', '!', 'However', ',', 'Multiplication', 'Table', \"'\", 'signify', ':', 'let', \"'\", 'try', 'Geography', '.', 'London', 'capital', 'Paris', ',', 'Paris', 'capital', 'Rome', ',', 'Rome', '--', ',', \"'\", 'wrong', ',', \"'\", 'certain', '!', 'must', 'changed', 'Mabel', '!', \"'\", 'try', 'say', '\"', 'doth', 'little', '--\"\\'', 'crossed', 'hands', 'lap', 'saying', 'lessons', ',', 'began', 'repeat', ',', 'voice', 'sounded', 'hoarse', 'strange', ',', 'words', 'come', 'used', ':--', \"'\", 'doth', 'little', 'crocodile', 'Improve', 'shining', 'tail', ',', 'pour', 'waters', 'Nile', 'every', 'golden', 'scale', '!', \"'\", 'cheerfully', 'seems', 'grin', ',', 'neatly', 'spread', 'claws', ',', 'welcome', 'little', 'fishes', 'gently', 'smiling', 'jaws', \"!'\", \"'\", \"'\", 'sure', 'right', 'words', \",'\", 'said', 'poor', 'Alice', ',', 'eyes', 'filled', 'tears', 'went', ',', \"'\", 'must', 'Mabel', ',', 'shall', 'go', 'live', 'poky', 'little', 'house', ',', 'next', 'toys', 'play', ',', 'oh', '!', 'ever', 'many', 'lessons', 'learn', '!', ',', \"'\", 'made', 'mind', ';', \"'\", 'Mabel', ',', \"'\", 'stay', '!', \"'\", 'use', 'putting', 'heads', 'saying', '\"', 'Come', ',', 'dear', '!\"', 'shall', 'look', 'say', '\"', '?', 'Tell', 'first', ',', ',', 'like', 'person', ',', \"'\", 'come', ':', ',', \"'\", 'stay', 'till', \"'\", 'somebody', 'else', '\"--', ',', 'oh', 'dear', \"!'\", 'cried', 'Alice', ',', 'sudden', 'burst', 'tears', ',', \"'\", 'wish', 'WOULD', 'put', 'heads', '!', 'tired', 'alone', \"!'\", 'said', 'looked', 'hands', ',', 'surprised', 'see', 'put', 'one', 'Rabbit', \"'\", 'little', 'white', 'kid', 'gloves', 'talking', '.', \"'\", 'done', \"?'\", 'thought', '.', \"'\", 'must', 'growing', 'small', \".'\", 'got', 'went', 'table', 'measure', ',', 'found', ',', 'nearly', 'could', 'guess', ',', 'two', 'feet', 'high', ',', 'going', 'shrinking', 'rapidly', ':', 'soon', 'found', 'cause', 'fan', 'holding', ',', 'dropped', 'hastily', ',', 'time', 'avoid', 'shrinking', 'away', 'altogether', '.', \"'\", 'narrow', 'escape', \"!'\", 'said', 'Alice', ',', 'good', 'deal', 'frightened', 'sudden', 'change', ',', 'glad', 'find', 'still', 'existence', ';', \"'\", 'garden', \"!'\", 'ran', 'speed', 'back', 'little', 'door', ':', ',', 'alas', '!', 'little', 'door', 'shut', ',', 'little', 'golden', 'key', 'lying', 'glass', 'table', ',', \"'\", 'things', 'worse', 'ever', \",'\", 'thought', 'poor', 'child', ',', \"'\", 'never', 'small', ',', 'never', '!', 'declare', \"'\", 'bad', ',', \"!'\", 'said', 'words', 'foot', 'slipped', ',', 'another', 'moment', ',', 'splash', '!', 'chin', 'salt', 'water', '.', 'first', 'idea', 'somehow', 'fallen', 'sea', ',', \"'\", 'case', 'go', 'back', 'railway', \",'\", 'said', '.', '(', 'Alice', 'seaside', 'life', ',', 'come', 'general', 'conclusion', ',', 'wherever', 'go', 'English', 'coast', 'find', 'number', 'bathing', 'machines', 'sea', ',', 'children', 'digging', 'sand', 'wooden', 'spades', ',', 'row', 'lodging', 'houses', ',', 'behind', 'railway', 'station', '.)', 'However', ',', 'soon', 'made', 'pool', 'tears', 'wept', 'nine', 'feet', 'high', '.', \"'\", 'wish', \"'\", 'cried', 'much', \"!'\", 'said', 'Alice', ',', 'swam', ',', 'trying', 'find', 'way', '.', \"'\", 'shall', 'punished', ',', 'suppose', ',', 'drowned', 'tears', '!', 'queer', 'thing', ',', 'sure', '!', 'However', ',', 'everything', 'queer', '-', 'day', \".'\", 'heard', 'something', 'splashing', 'pool', 'little', 'way', ',', 'swam', 'nearer', 'make', ':', 'first', 'thought', 'must', 'walrus', 'hippopotamus', ',', 'remembered', 'small', ',', 'soon', 'made', 'mouse', 'slipped', 'like', '.', \"'\", 'Would', 'use', ',', \",'\", 'thought', 'Alice', ',', \"'\", 'speak', 'mouse', '?', 'Everything', '-', '-', '-', 'way', ',', 'think', 'likely', 'talk', ':', 'rate', ',', \"'\", 'harm', 'trying', \".'\", 'began', ':', \"'\", 'Mouse', ',', 'know', 'way', 'pool', '?', 'tired', 'swimming', ',', 'Mouse', \"!'\", '(', 'Alice', 'thought', 'must', 'right', 'way', 'speaking', 'mouse', ':', 'never', 'done', 'thing', ',', 'remembered', 'seen', 'brother', \"'\", 'Latin', 'Grammar', ',', \"'\", 'mouse', '--', 'mouse', '--', 'mouse', '--', 'mouse', '--', 'mouse', \"!')\", 'Mouse', 'looked', 'rather', 'inquisitively', ',', 'seemed', 'wink', 'one', 'little', 'eyes', ',', 'said', 'nothing', '.', \"'\", 'Perhaps', \"'\", 'understand', 'English', \",'\", 'thought', 'Alice', ';', \"'\", 'daresay', \"'\", 'French', 'mouse', ',', 'come', 'William', 'Conqueror', \".'\", '(', ',', 'knowledge', 'history', ',', 'Alice', 'clear', 'notion', 'long', 'ago', 'anything', 'happened', '.)', 'began', ':', \"'\", 'Ou', 'est', 'chatte', \"?'\", 'first', 'sentence', 'French', 'lesson', '-', 'book', '.', 'Mouse', 'gave', 'sudden', 'leap', 'water', ',', 'seemed', 'quiver', 'fright', '.', \"'\", 'Oh', ',', 'beg', 'pardon', \"!'\", 'cried', 'Alice', 'hastily', ',', 'afraid', 'hurt', 'poor', 'animal', \"'\", 'feelings', '.', \"'\", 'quite', 'forgot', \"'\", 'like', 'cats', \".'\", \"'\", 'like', 'cats', \"!'\", 'cried', 'Mouse', ',', 'shrill', ',', 'passionate', 'voice', '.', \"'\", 'Would', 'like', 'cats', \"?'\", \"'\", 'Well', ',', 'perhaps', \",'\", 'said', 'Alice', 'soothing', 'tone', ':', \"'\", \"'\", 'angry', '.', 'yet', 'wish', 'could', 'show', 'cat', 'Dinah', ':', 'think', \"'\", 'take', 'fancy', 'cats', 'could', 'see', '.', 'dear', 'quiet', 'thing', \",'\", 'Alice', 'went', ',', 'half', ',', 'swam', 'lazily', 'pool', ',', \"'\", 'sits', 'purring', 'nicely', 'fire', ',', 'licking', 'paws', 'washing', 'face', '--', 'nice', 'soft', 'thing', 'nurse', '--', \"'\", 'capital', 'one', 'catching', 'mice', '--', 'oh', ',', 'beg', 'pardon', \"!'\", 'cried', 'Alice', ',', 'time', 'Mouse', 'bristling', ',', 'felt', 'certain', 'must', 'really', 'offended', '.', \"'\", \"'\", 'talk', \"'\", 'rather', \".'\", \"'\", 'indeed', \"!'\", 'cried', 'Mouse', ',', 'trembling', 'end', 'tail', '.', \"'\", 'would', 'talk', 'subject', '!', 'family', 'always', 'HATED', 'cats', ':', 'nasty', ',', 'low', ',', 'vulgar', 'things', '!', \"'\", 'let', 'hear', 'name', \"!'\", \"'\", \"'\", 'indeed', \"!'\", 'said', 'Alice', ',', 'great', 'hurry', 'change', 'subject', 'conversation', '.', \"'\", '--', 'fond', '--', '--', 'dogs', \"?'\", 'Mouse', 'answer', ',', 'Alice', 'went', 'eagerly', ':', \"'\", 'nice', 'little', 'dog', 'near', 'house', 'like', 'show', '!', 'little', 'bright', '-', 'eyed', 'terrier', ',', 'know', ',', 'oh', ',', 'long', 'curly', 'brown', 'hair', '!', \"'\", 'fetch', 'things', 'throw', ',', \"'\", 'sit', 'beg', 'dinner', ',', 'sorts', 'things', '--', \"'\", 'remember', 'half', '--', 'belongs', 'farmer', ',', 'know', ',', 'says', \"'\", 'useful', ',', \"'\", 'worth', 'hundred', 'pounds', '!', 'says', 'kills', 'rats', '--', 'oh', 'dear', \"!'\", 'cried', 'Alice', 'sorrowful', 'tone', ',', \"'\", \"'\", 'afraid', \"'\", 'offended', \"!'\", 'Mouse', 'swimming', 'away', 'hard', 'could', 'go', ',', 'making', 'quite', 'commotion', 'pool', 'went', '.', 'called', 'softly', ',', \"'\", 'Mouse', 'dear', '!', 'come', 'back', ',', \"'\", 'talk', 'cats', 'dogs', 'either', ',', \"'\", 'like', \"!'\", 'Mouse', 'heard', ',', 'turned', 'round', 'swam', 'slowly', 'back', ':', 'face', 'quite', 'pale', '(', 'passion', ',', 'Alice', 'thought', '),', 'said', 'low', 'trembling', 'voice', ',', \"'\", 'Let', 'us', 'get', 'shore', ',', \"'\", 'tell', 'history', ',', \"'\", 'understand', 'hate', 'cats', 'dogs', \".'\", 'high', 'time', 'go', ',', 'pool', 'getting', 'quite', 'crowded', 'birds', 'animals', 'fallen', ':', 'Duck', 'Dodo', ',', 'Lory', 'Eaglet', ',', 'several', 'curious', 'creatures', '.', 'Alice', 'led', 'way', ',', 'whole', 'party', 'swam', 'shore', '.', 'CHAPTER', 'III', '.', 'Caucus', '-', 'Race', 'Long', 'Tale', 'indeed', 'queer', '-', 'looking', 'party', 'assembled', 'bank', '--', 'birds', 'draggled', 'feathers', ',', 'animals', 'fur', 'clinging', 'close', ',', 'dripping', 'wet', ',', 'cross', ',', 'uncomfortable', '.', 'first', 'question', 'course', ',', 'get', 'dry', ':', 'consultation', ',', 'minutes', 'seemed', 'quite', 'natural', 'Alice', 'find', 'talking', 'familiarly', ',', 'known', 'life', '.', 'Indeed', ',', 'quite', 'long', 'argument', 'Lory', ',', 'last', 'turned', 'sulky', ',', 'would', 'say', ',', \"'\", 'older', ',', 'must', 'know', 'better', \"';\", 'Alice', 'would', 'allow', 'without', 'knowing', 'old', ',', ',', 'Lory', 'positively', 'refused', 'tell', 'age', ',', 'said', '.', 'last', 'Mouse', ',', 'seemed', 'person', 'authority', 'among', ',', 'called', ',', \"'\", 'Sit', ',', ',', 'listen', '!', \"'\", 'soon', 'make', 'dry', 'enough', \"!'\", 'sat', ',', 'large', 'ring', ',', 'Mouse', 'middle', '.', 'Alice', 'kept', 'eyes', 'anxiously', 'fixed', ',', 'felt', 'sure', 'would', 'catch', 'bad', 'cold', 'get', 'dry', 'soon', '.', \"'\", 'Ahem', \"!'\", 'said', 'Mouse', 'important', 'air', ',', \"'\", 'ready', '?', 'driest', 'thing', 'know', '.', 'Silence', 'round', ',', 'please', '!', '\"', 'William', 'Conqueror', ',', 'whose', 'cause', 'favoured', 'pope', ',', 'soon', 'submitted', 'English', ',', 'wanted', 'leaders', ',', 'late', 'much', 'accustomed', 'usurpation', 'conquest', '.', 'Edwin', 'Morcar', ',', 'earls', 'Mercia', 'Northumbria', '--\"\\'', \"'\", 'Ugh', \"!'\", 'said', 'Lory', ',', 'shiver', '.', \"'\", 'beg', 'pardon', \"!'\", 'said', 'Mouse', ',', 'frowning', ',', 'politely', ':', \"'\", 'speak', \"?'\", \"'\", \"!'\", 'said', 'Lory', 'hastily', '.', \"'\", 'thought', \",'\", 'said', 'Mouse', '.', \"'--\", 'proceed', '.', '\"', 'Edwin', 'Morcar', ',', 'earls', 'Mercia', 'Northumbria', ',', 'declared', ':', 'even', 'Stigand', ',', 'patriotic', 'archbishop', 'Canterbury', ',', 'found', 'advisable', '--\"\\'', \"'\", 'Found', \"?'\", 'said', 'Duck', '.', \"'\", 'Found', \",'\", 'Mouse', 'replied', 'rather', 'crossly', ':', \"'\", 'course', 'know', '\"', '\"', 'means', \".'\", \"'\", 'know', '\"', '\"', 'means', 'well', 'enough', ',', 'find', 'thing', \",'\", 'said', 'Duck', ':', \"'\", \"'\", 'generally', 'frog', 'worm', '.', 'question', ',', 'archbishop', 'find', \"?'\", 'Mouse', 'notice', 'question', ',', 'hurriedly', 'went', ',', '\\'\"--', 'found', 'advisable', 'go', 'Edgar', 'Atheling', 'meet', 'William', 'offer', 'crown', '.', 'William', \"'\", 'conduct', 'first', 'moderate', '.', 'insolence', 'Normans', '--\"', 'getting', ',', 'dear', \"?'\", 'continued', ',', 'turning', 'Alice', 'spoke', '.', \"'\", 'wet', 'ever', \",'\", 'said', 'Alice', 'melancholy', 'tone', ':', \"'\", \"'\", 'seem', 'dry', \".'\", \"'\", 'case', \",'\", 'said', 'Dodo', 'solemnly', ',', 'rising', 'feet', ',', \"'\", 'move', 'meeting', 'adjourn', ',', 'immediate', 'adoption', 'energetic', 'remedies', \"--'\", \"'\", 'Speak', 'English', \"!'\", 'said', 'Eaglet', '.', \"'\", \"'\", 'know', 'meaning', 'half', 'long', 'words', ',', ',', \"'\", ',', \"'\", 'believe', 'either', \"!'\", 'Eaglet', 'bent', 'head', 'hide', 'smile', ':', 'birds', 'tittered', 'audibly', '.', \"'\", 'going', 'say', \",'\", 'said', 'Dodo', 'offended', 'tone', ',', \"'\", ',', 'best', 'thing', 'get', 'us', 'dry', 'would', 'Caucus', '-', 'race', \".'\", \"'\", 'Caucus', '-', 'race', \"?'\", 'said', 'Alice', ';', 'wanted', 'much', 'know', ',', 'Dodo', 'paused', 'thought', 'SOMEBODY', 'ought', 'speak', ',', 'one', 'else', 'seemed', 'inclined', 'say', 'anything', '.', \"'\", \",'\", 'said', 'Dodo', ',', \"'\", 'best', 'way', 'explain', \".'\", '(', ',', 'might', 'like', 'try', 'thing', ',', 'winter', 'day', ',', 'tell', 'Dodo', 'managed', '.)', 'First', 'marked', 'race', '-', 'course', ',', 'sort', 'circle', ',', \"('\", 'exact', 'shape', \"'\", 'matter', \",'\", 'said', ',)', 'party', 'placed', 'along', 'course', ',', '.', \"'\", 'One', ',', 'two', ',', 'three', ',', 'away', \",'\", 'began', 'running', 'liked', ',', 'left', 'liked', ',', 'easy', 'know', 'race', '.', 'However', ',', 'running', 'half', 'hour', ',', 'quite', 'dry', ',', 'Dodo', 'suddenly', 'called', \"'\", 'race', \"!'\", 'crowded', 'round', ',', 'panting', ',', 'asking', ',', \"'\", \"?'\", 'question', 'Dodo', 'could', 'answer', 'without', 'great', 'deal', 'thought', ',', 'sat', 'long', 'time', 'one', 'finger', 'pressed', 'upon', 'forehead', '(', 'position', 'usually', 'see', 'Shakespeare', ',', 'pictures', '),', 'rest', 'waited', 'silence', '.', 'last', 'Dodo', 'said', ',', \"'\", 'EVERYBODY', ',', 'must', 'prizes', \".'\", \"'\", 'give', 'prizes', \"?'\", 'quite', 'chorus', 'voices', 'asked', '.', \"'\", ',', ',', 'course', \",'\", 'said', 'Dodo', ',', 'pointing', 'Alice', 'one', 'finger', ';', 'whole', 'party', 'crowded', 'round', ',', 'calling', 'confused', 'way', ',', \"'\", 'Prizes', '!', 'Prizes', \"!'\", 'Alice', 'idea', ',', 'despair', 'put', 'hand', 'pocket', ',', 'pulled', 'box', 'comfits', ',', '(', 'luckily', 'salt', 'water', 'got', '),', 'handed', 'round', 'prizes', '.', 'exactly', 'one', '-', 'piece', 'round', '.', \"'\", 'must', 'prize', ',', 'know', \",'\", 'said', 'Mouse', '.', \"'\", 'course', \",'\", 'Dodo', 'replied', 'gravely', '.', \"'\", 'else', 'got', 'pocket', \"?'\", 'went', ',', 'turning', 'Alice', '.', \"'\", 'thimble', \",'\", 'said', 'Alice', 'sadly', '.', \"'\", 'Hand', \",'\", 'said', 'Dodo', '.', 'crowded', 'round', ',', 'Dodo', 'solemnly', 'presented', 'thimble', ',', 'saying', \"'\", 'beg', 'acceptance', 'elegant', 'thimble', \"';\", ',', 'finished', 'short', 'speech', ',', 'cheered', '.', 'Alice', 'thought', 'whole', 'thing', 'absurd', ',', 'looked', 'grave', 'dare', 'laugh', ';', ',', 'could', 'think', 'anything', 'say', ',', 'simply', 'bowed', ',', 'took', 'thimble', ',', 'looking', 'solemn', 'could', '.', 'next', 'thing', 'eat', 'comfits', ':', 'caused', 'noise', 'confusion', ',', 'large', 'birds', 'complained', 'could', 'taste', ',', 'small', 'ones', 'choked', 'patted', 'back', '.', 'However', ',', 'last', ',', 'sat', 'ring', ',', 'begged', 'Mouse', 'tell', 'something', '.', \"'\", 'promised', 'tell', 'history', ',', 'know', \",'\", 'said', 'Alice', ',', \"'\", 'hate', '--', 'C', \",'\", 'added', 'whisper', ',', 'half', 'afraid', 'would', 'offended', '.', \"'\", 'Mine', 'long', 'sad', 'tale', \"!'\", 'said', 'Mouse', ',', 'turning', 'Alice', ',', 'sighing', '.', \"'\", 'long', 'tail', ',', 'certainly', \",'\", 'said', 'Alice', ',', 'looking', 'wonder', 'Mouse', \"'\", 'tail', ';', \"'\", 'call', 'sad', \"?'\", 'kept', 'puzzling', 'Mouse', 'speaking', ',', 'idea', 'tale', 'something', 'like', ':--', \"'\", 'Fury', 'said', 'mouse', ',', 'met', 'house', ',', '\"', 'Let', 'us', 'go', 'law', ':', 'prosecute', '.--', 'Come', ',', \"'\", 'take', 'denial', ';', 'must', 'trial', ':', 'really', 'morning', \"'\", 'nothing', '.\"', 'Said', 'mouse', 'cur', ',', '\"', 'trial', ',', 'dear', 'Sir', ',', 'jury', 'judge', ',', 'would', 'wasting', 'breath', '.\"', '\"', \"'\", 'judge', ',', \"'\", 'jury', ',\"', 'Said', 'cunning', 'old', 'Fury', ':', '\"', \"'\", 'try', 'whole', 'cause', ',', 'condemn', 'death', '.\"\\'', \"'\", 'attending', \"!'\", 'said', 'Mouse', 'Alice', 'severely', '.', \"'\", 'thinking', \"?'\", \"'\", 'beg', 'pardon', \",'\", 'said', 'Alice', 'humbly', ':', \"'\", 'got', 'fifth', 'bend', ',', 'think', \"?'\", \"'\", \"!'\", 'cried', 'Mouse', ',', 'sharply', 'angrily', '.', \"'\", 'knot', \"!'\", 'said', 'Alice', ',', 'always', 'ready', 'make', 'useful', ',', 'looking', 'anxiously', '.', \"'\", 'Oh', ',', 'let', 'help', 'undo', \"!'\", \"'\", 'shall', 'nothing', 'sort', \",'\", 'said', 'Mouse', ',', 'getting', 'walking', 'away', '.', \"'\", 'insult', 'talking', 'nonsense', \"!'\", \"'\", \"'\", 'mean', \"!'\", 'pleaded', 'poor', 'Alice', '.', \"'\", \"'\", 'easily', 'offended', ',', 'know', \"!'\", 'Mouse', 'growled', 'reply', '.', \"'\", 'Please', 'come', 'back', 'finish', 'story', \"!'\", 'Alice', 'called', ';', 'others', 'joined', 'chorus', ',', \"'\", 'Yes', ',', 'please', \"!'\", 'Mouse', 'shook', 'head', 'impatiently', ',', 'walked', 'little', 'quicker', '.', \"'\", 'pity', \"'\", 'stay', \"!'\", 'sighed', 'Lory', ',', 'soon', 'quite', 'sight', ';', 'old', 'Crab', 'took', 'opportunity', 'saying', 'daughter', \"'\", 'Ah', ',', 'dear', '!', 'Let', 'lesson', 'never', 'lose', 'temper', \"!'\", \"'\", 'Hold', 'tongue', ',', \"!'\", 'said', 'young', 'Crab', ',', 'little', 'snappishly', '.', \"'\", \"'\", 'enough', 'try', 'patience', 'oyster', \"!'\", \"'\", 'wish', 'Dinah', ',', 'know', \"!'\", 'said', 'Alice', 'aloud', ',', 'addressing', 'nobody', 'particular', '.', \"'\", \"'\", 'soon', 'fetch', 'back', \"!'\", \"'\", 'Dinah', ',', 'might', 'venture', 'ask', 'question', \"?'\", 'said', 'Lory', '.', 'Alice', 'replied', 'eagerly', ',', 'always', 'ready', 'talk', 'pet', ':', \"'\", 'Dinah', \"'\", 'cat', '.', \"'\", 'capital', 'one', 'catching', 'mice', \"'\", 'think', '!', 'oh', ',', 'wish', 'could', 'see', 'birds', '!', ',', \"'\", 'eat', 'little', 'bird', 'soon', 'look', \"!'\", 'speech', 'caused', 'remarkable', 'sensation', 'among', 'party', '.', 'birds', 'hurried', ':', 'one', 'old', 'Magpie', 'began', 'wrapping', 'carefully', ',', 'remarking', ',', \"'\", 'really', 'must', 'getting', 'home', ';', 'night', '-', 'air', \"'\", 'suit', 'throat', \"!'\", 'Canary', 'called', 'trembling', 'voice', 'children', ',', \"'\", 'Come', 'away', ',', 'dears', '!', \"'\", 'high', 'time', 'bed', \"!'\", 'various', 'pretexts', 'moved', ',', 'Alice', 'soon', 'left', 'alone', '.', \"'\", 'wish', \"'\", 'mentioned', 'Dinah', \"!'\", 'said', 'melancholy', 'tone', '.', \"'\", 'Nobody', 'seems', 'like', ',', ',', \"'\", 'sure', \"'\", 'best', 'cat', 'world', '!', 'Oh', ',', 'dear', 'Dinah', '!', 'wonder', 'shall', 'ever', 'see', \"!'\", 'poor', 'Alice', 'began', 'cry', ',', 'felt', 'lonely', 'low', '-', 'spirited', '.', 'little', ',', 'however', ',', 'heard', 'little', 'pattering', 'footsteps', 'distance', ',', 'looked', 'eagerly', ',', 'half', 'hoping', 'Mouse', 'changed', 'mind', ',', 'coming', 'back', 'finish', 'story', '.', 'CHAPTER', 'IV', '.', 'Rabbit', 'Sends', 'Little', 'Bill', 'White', 'Rabbit', ',', 'trotting', 'slowly', 'back', ',', 'looking', 'anxiously', 'went', ',', 'lost', 'something', ';', 'heard', 'muttering', \"'\", 'Duchess', '!', 'Duchess', '!', 'Oh', 'dear', 'paws', '!', 'Oh', 'fur', 'whiskers', '!', \"'\", 'get', 'executed', ',', 'sure', 'ferrets', 'ferrets', '!', 'dropped', ',', 'wonder', \"?'\", 'Alice', 'guessed', 'moment', 'looking', 'fan', 'pair', 'white', 'kid', 'gloves', ',', 'good', '-', 'naturedly', 'began', 'hunting', ',', 'nowhere', 'seen', '--', 'everything', 'seemed', 'changed', 'since', 'swim', 'pool', ',', 'great', 'hall', ',', 'glass', 'table', 'little', 'door', ',', 'vanished', 'completely', '.', 'soon', 'Rabbit', 'noticed', 'Alice', ',', 'went', 'hunting', ',', 'called', 'angry', 'tone', ',', \"'\", ',', 'Mary', 'Ann', ',', '?', 'Run', 'home', 'moment', ',', 'fetch', 'pair', 'gloves', 'fan', '!', 'Quick', ',', \"!'\", 'Alice', 'much', 'frightened', 'ran', 'direction', 'pointed', ',', 'without', 'trying', 'explain', 'mistake', 'made', '.', \"'\", 'took', 'housemaid', \",'\", 'said', 'ran', '.', \"'\", 'surprised', \"'\", 'finds', '!', \"'\", 'better', 'take', 'fan', 'gloves', '--', ',', 'find', \".'\", 'said', ',', 'came', 'upon', 'neat', 'little', 'house', ',', 'door', 'bright', 'brass', 'plate', 'name', \"'\", 'W', '.', 'RABBIT', \"'\", 'engraved', 'upon', '.', 'went', 'without', 'knocking', ',', 'hurried', 'upstairs', ',', 'great', 'fear', 'lest', 'meet', 'real', 'Mary', 'Ann', ',', 'turned', 'house', 'found', 'fan', 'gloves', '.', \"'\", 'queer', 'seems', \",'\", 'Alice', 'said', ',', \"'\", 'going', 'messages', 'rabbit', '!', 'suppose', 'Dinah', \"'\", 'sending', 'messages', 'next', \"!'\", 'began', 'fancying', 'sort', 'thing', 'would', 'happen', ':', '\\'\"', 'Miss', 'Alice', '!', 'Come', 'directly', ',', 'get', 'ready', 'walk', '!\"', '\"', 'Coming', 'minute', ',', 'nurse', '!', \"'\", 'got', 'see', 'mouse', \"'\", 'get', '.\"', \"'\", 'think', \",'\", 'Alice', 'went', ',', \"'\", \"'\", 'let', 'Dinah', 'stop', 'house', 'began', 'ordering', 'people', 'like', \"!'\", 'time', 'found', 'way', 'tidy', 'little', 'room', 'table', 'window', ',', '(', 'hoped', ')', 'fan', 'two', 'three', 'pairs', 'tiny', 'white', 'kid', 'gloves', ':', 'took', 'fan', 'pair', 'gloves', ',', 'going', 'leave', 'room', ',', 'eye', 'fell', 'upon', 'little', 'bottle', 'stood', 'near', 'looking', '-', 'glass', '.', 'label', 'time', 'words', \"'\", 'DRINK', \",'\", 'nevertheless', 'uncorked', 'put', 'lips', '.', \"'\", 'know', 'SOMETHING', 'interesting', 'sure', 'happen', \",'\", 'said', ',', \"'\", 'whenever', 'eat', 'drink', 'anything', ';', \"'\", 'see', 'bottle', '.', 'hope', \"'\", 'make', 'grow', 'large', ',', 'really', \"'\", 'quite', 'tired', 'tiny', 'little', 'thing', \"!'\", 'indeed', ',', 'much', 'sooner', 'expected', ':', 'drunk', 'half', 'bottle', ',', 'found', 'head', 'pressing', 'ceiling', ',', 'stoop', 'save', 'neck', 'broken', '.', 'hastily', 'put', 'bottle', ',', 'saying', \"'\", \"'\", 'quite', 'enough', '--', 'hope', \"'\", 'grow', '--', ',', \"'\", 'get', 'door', '--', 'wish', \"'\", 'drunk', 'quite', 'much', \"!'\", 'Alas', '!', 'late', 'wish', '!', 'went', 'growing', ',', 'growing', ',', 'soon', 'kneel', 'floor', ':', 'another', 'minute', 'even', 'room', ',', 'tried', 'effect', 'lying', 'one', 'elbow', 'door', ',', 'arm', 'curled', 'round', 'head', '.', 'Still', 'went', 'growing', ',', ',', 'last', 'resource', ',', 'put', 'one', 'arm', 'window', ',', 'one', 'foot', 'chimney', ',', 'said', \"'\", ',', 'whatever', 'happens', '.', 'become', \"?'\", 'Luckily', 'Alice', ',', 'little', 'magic', 'bottle', 'full', 'effect', ',', 'grew', 'larger', ':', 'still', 'uncomfortable', ',', ',', 'seemed', 'sort', 'chance', 'ever', 'getting', 'room', ',', 'wonder', 'felt', 'unhappy', '.', \"'\", 'much', 'pleasanter', 'home', \",'\", 'thought', 'poor', 'Alice', ',', \"'\", 'one', \"'\", 'always', 'growing', 'larger', 'smaller', ',', 'ordered', 'mice', 'rabbits', '.', 'almost', 'wish', \"'\", 'gone', 'rabbit', '-', 'hole', '--', 'yet', '--', 'yet', '--', \"'\", 'rather', 'curious', ',', 'know', ',', 'sort', 'life', '!', 'wonder', 'happened', '!', 'used', 'read', 'fairy', '-', 'tales', ',', 'fancied', 'kind', 'thing', 'never', 'happened', ',', 'middle', 'one', '!', 'ought', 'book', 'written', ',', 'ought', '!', 'grow', ',', \"'\", 'write', 'one', '--', \"'\", 'grown', \",'\", 'added', 'sorrowful', 'tone', ';', \"'\", 'least', \"'\", 'room', 'grow', \".'\", \"'\", \",'\", 'thought', 'Alice', ',', \"'\", 'shall', 'NEVER', 'get', 'older', '?', \"'\", 'comfort', ',', 'one', 'way', '--', 'never', 'old', 'woman', '--', '--', 'always', 'lessons', 'learn', '!', 'Oh', ',', \"'\", 'like', \"!'\", \"'\", 'Oh', ',', 'foolish', 'Alice', \"!'\", 'answered', '.', \"'\", 'learn', 'lessons', '?', ',', \"'\", 'hardly', 'room', ',', 'room', 'lesson', '-', 'books', \"!'\", 'went', ',', 'taking', 'first', 'one', 'side', ',', 'making', 'quite', 'conversation', 'altogether', ';', 'minutes', 'heard', 'voice', 'outside', ',', 'stopped', 'listen', '.', \"'\", 'Mary', 'Ann', '!', 'Mary', 'Ann', \"!'\", 'said', 'voice', '.', \"'\", 'Fetch', 'gloves', 'moment', \"!'\", 'came', 'little', 'pattering', 'feet', 'stairs', '.', 'Alice', 'knew', 'Rabbit', 'coming', 'look', ',', 'trembled', 'till', 'shook', 'house', ',', 'quite', 'forgetting', 'thousand', 'times', 'large', 'Rabbit', ',', 'reason', 'afraid', '.', 'Presently', 'Rabbit', 'came', 'door', ',', 'tried', 'open', ';', ',', 'door', 'opened', 'inwards', ',', 'Alice', \"'\", 'elbow', 'pressed', 'hard', ',', 'attempt', 'proved', 'failure', '.', 'Alice', 'heard', 'say', \"'\", \"'\", 'go', 'round', 'get', 'window', \".'\", \"'\", \"'\", \"'\", 'thought', 'Alice', ',', ',', 'waiting', 'till', 'fancied', 'heard', 'Rabbit', 'window', ',', 'suddenly', 'spread', 'hand', ',', 'made', 'snatch', 'air', '.', 'get', 'hold', 'anything', ',', 'heard', 'little', 'shriek', 'fall', ',', 'crash', 'broken', 'glass', ',', 'concluded', 'possible', 'fallen', 'cucumber', '-', 'frame', ',', 'something', 'sort', '.', 'Next', 'came', 'angry', 'voice', '--', 'Rabbit', \"'\", \"--'\", 'Pat', '!', 'Pat', '!', \"?'\", 'voice', 'never', 'heard', ',', \"'\", 'Sure', \"'\", '!', 'Digging', 'apples', ',', 'yer', 'honour', \"!'\", \"'\", 'Digging', 'apples', ',', 'indeed', \"!'\", 'said', 'Rabbit', 'angrily', '.', \"'\", '!', 'Come', 'help', \"!'\", '(', 'Sounds', 'broken', 'glass', '.)', \"'\", 'tell', ',', 'Pat', ',', \"'\", 'window', \"?'\", \"'\", 'Sure', ',', \"'\", 'arm', ',', 'yer', 'honour', \"!'\", '(', 'pronounced', \"'\", 'arrum', \".')\", \"'\", 'arm', ',', 'goose', '!', 'ever', 'saw', 'one', 'size', '?', ',', 'fills', 'whole', 'window', \"!'\", \"'\", 'Sure', ',', ',', 'yer', 'honour', ':', \"'\", 'arm', \".'\", \"'\", 'Well', ',', \"'\", 'got', 'business', ',', 'rate', ':', 'go', 'take', 'away', \"!'\", 'long', 'silence', ',', 'Alice', 'could', 'hear', 'whispers', ';', ',', \"'\", 'Sure', ',', \"'\", 'like', ',', 'yer', 'honour', ',', ',', \"!'\", \"'\", 'tell', ',', 'coward', \"!'\", 'last', 'spread', 'hand', ',', 'made', 'another', 'snatch', 'air', '.', 'time', 'TWO', 'little', 'shrieks', ',', 'sounds', 'broken', 'glass', '.', \"'\", 'number', 'cucumber', '-', 'frames', 'must', \"!'\", 'thought', 'Alice', '.', \"'\", 'wonder', \"'\", 'next', '!', 'pulling', 'window', ',', 'wish', 'COULD', '!', \"'\", 'sure', \"'\", 'want', 'stay', 'longer', \"!'\", 'waited', 'time', 'without', 'hearing', 'anything', ':', 'last', 'came', 'rumbling', 'little', 'cartwheels', ',', 'sound', 'good', 'many', 'voices', 'talking', 'together', ':', 'made', 'words', ':', \"'\", \"'\", 'ladder', '?--', ',', \"'\", 'bring', 'one', ';', 'Bill', \"'\", 'got', '--', 'Bill', '!', 'fetch', ',', 'lad', '!--', ',', 'put', \"'\", 'em', 'corner', '--', ',', 'tie', \"'\", 'em', 'together', 'first', '--', \"'\", 'reach', 'half', 'high', 'enough', 'yet', '--', 'Oh', '!', \"'\", 'well', 'enough', ';', \"'\", 'particular', '--', ',', 'Bill', '!', 'catch', 'hold', 'rope', '--', 'roof', 'bear', '?--', 'Mind', 'loose', 'slate', '--', 'Oh', ',', \"'\", 'coming', '!', 'Heads', \"!'\", '(', 'loud', 'crash', \")--'\", ',', '?--', 'Bill', ',', 'fancy', '--', \"'\", 'go', 'chimney', '?--', 'Nay', ',', \"'\", '!', '!--', \"'\", ',', '!--', 'Bill', \"'\", 'go', '--', ',', 'Bill', '!', 'master', 'says', \"'\", 'go', 'chimney', \"!'\", \"'\", 'Oh', '!', 'Bill', \"'\", 'got', 'come', 'chimney', ',', \"?'\", 'said', 'Alice', '.', \"'\", 'Shy', ',', 'seem', 'put', 'everything', 'upon', 'Bill', '!', \"'\", 'Bill', \"'\", 'place', 'good', 'deal', ':', 'fireplace', 'narrow', ',', 'sure', ';', 'THINK', 'kick', 'little', \"!'\", 'drew', 'foot', 'far', 'chimney', 'could', ',', 'waited', 'till', 'heard', 'little', 'animal', '(', \"'\", 'guess', 'sort', ')', 'scratching', 'scrambling', 'chimney', 'close', ':', ',', 'saying', \"'\", 'Bill', \",'\", 'gave', 'one', 'sharp', 'kick', ',', 'waited', 'see', 'would', 'happen', 'next', '.', 'first', 'thing', 'heard', 'general', 'chorus', \"'\", 'goes', 'Bill', \"!'\", 'Rabbit', \"'\", 'voice', 'along', \"--'\", 'Catch', ',', 'hedge', \"!'\", 'silence', ',', 'another', 'confusion', 'voices', \"--'\", 'Hold', 'head', '--', 'Brandy', '--', \"'\", 'choke', '--', ',', 'old', 'fellow', '?', 'happened', '?', 'Tell', 'us', \"!'\", 'Last', 'came', 'little', 'feeble', ',', 'squeaking', 'voice', ',', \"('\", \"'\", 'Bill', \",'\", 'thought', 'Alice', ',)', \"'\", 'Well', ',', 'hardly', 'know', '--', ',', 'thank', 'ye', ';', \"'\", 'better', '--', \"'\", 'deal', 'flustered', 'tell', '--', 'know', ',', 'something', 'comes', 'like', 'Jack', '-', '-', '-', 'box', ',', 'goes', 'like', 'sky', '-', 'rocket', \"!'\", \"'\", ',', 'old', 'fellow', \"!'\", 'said', 'others', '.', \"'\", 'must', 'burn', 'house', \"!'\", 'said', 'Rabbit', \"'\", 'voice', ';', 'Alice', 'called', 'loud', 'could', ',', \"'\", '.', \"'\", 'set', 'Dinah', \"!'\", 'dead', 'silence', 'instantly', ',', 'Alice', 'thought', ',', \"'\", 'wonder', 'next', '!', 'sense', ',', \"'\", 'take', 'roof', \".'\", 'minute', 'two', ',', 'began', 'moving', ',', 'Alice', 'heard', 'Rabbit', 'say', ',', \"'\", 'barrowful', ',', 'begin', \".'\", \"'\", 'barrowful', \"?'\", 'thought', 'Alice', ';', 'long', 'doubt', ',', 'next', 'moment', 'shower', 'little', 'pebbles', 'came', 'rattling', 'window', ',', 'hit', 'face', '.', \"'\", \"'\", 'put', 'stop', \",'\", 'said', ',', 'shouted', ',', \"'\", \"'\", 'better', \"!'\", 'produced', 'another', 'dead', 'silence', '.', 'Alice', 'noticed', 'surprise', 'pebbles', 'turning', 'little', 'cakes', 'lay', 'floor', ',', 'bright', 'idea', 'came', 'head', '.', \"'\", 'eat', 'one', 'cakes', \",'\", 'thought', ',', \"'\", \"'\", 'sure', 'make', 'change', 'size', ';', \"'\", 'possibly', 'make', 'larger', ',', 'must', 'make', 'smaller', ',', 'suppose', \".'\", 'swallowed', 'one', 'cakes', ',', 'delighted', 'find', 'began', 'shrinking', 'directly', '.', 'soon', 'small', 'enough', 'get', 'door', ',', 'ran', 'house', ',', 'found', 'quite', 'crowd', 'little', 'animals', 'birds', 'waiting', 'outside', '.', 'poor', 'little', 'Lizard', ',', 'Bill', ',', 'middle', ',', 'held', 'two', 'guinea', '-', 'pigs', ',', 'giving', 'something', 'bottle', '.', 'made', 'rush', 'Alice', 'moment', 'appeared', ';', 'ran', 'hard', 'could', ',', 'soon', 'found', 'safe', 'thick', 'wood', '.', \"'\", 'first', 'thing', \"'\", 'got', \",'\", 'said', 'Alice', ',', 'wandered', 'wood', ',', \"'\", 'grow', 'right', 'size', ';', 'second', 'thing', 'find', 'way', 'lovely', 'garden', '.', 'think', 'best', 'plan', \".'\", 'sounded', 'excellent', 'plan', ',', 'doubt', ',', 'neatly', 'simply', 'arranged', ';', 'difficulty', ',', 'smallest', 'idea', 'set', ';', 'peering', 'anxiously', 'among', 'trees', ',', 'little', 'sharp', 'bark', 'head', 'made', 'look', 'great', 'hurry', '.', 'enormous', 'puppy', 'looking', 'large', 'round', 'eyes', ',', 'feebly', 'stretching', 'one', 'paw', ',', 'trying', 'touch', '.', \"'\", 'Poor', 'little', 'thing', \"!'\", 'said', 'Alice', ',', 'coaxing', 'tone', ',', 'tried', 'hard', 'whistle', ';', 'terribly', 'frightened', 'time', 'thought', 'might', 'hungry', ',', 'case', 'would', 'likely', 'eat', 'spite', 'coaxing', '.', 'Hardly', 'knowing', ',', 'picked', 'little', 'bit', 'stick', ',', 'held', 'puppy', ';', 'whereupon', 'puppy', 'jumped', 'air', 'feet', ',', 'yelp', 'delight', ',', 'rushed', 'stick', ',', 'made', 'believe', 'worry', ';', 'Alice', 'dodged', 'behind', 'great', 'thistle', ',', 'keep', 'run', ';', 'moment', 'appeared', 'side', ',', 'puppy', 'made', 'another', 'rush', 'stick', ',', 'tumbled', 'head', 'heels', 'hurry', 'get', 'hold', ';', 'Alice', ',', 'thinking', 'like', 'game', 'play', 'cart', '-', 'horse', ',', 'expecting', 'every', 'moment', 'trampled', 'feet', ',', 'ran', 'round', 'thistle', ';', 'puppy', 'began', 'series', 'short', 'charges', 'stick', ',', 'running', 'little', 'way', 'forwards', 'time', 'long', 'way', 'back', ',', 'barking', 'hoarsely', ',', 'till', 'last', 'sat', 'good', 'way', ',', 'panting', ',', 'tongue', 'hanging', 'mouth', ',', 'great', 'eyes', 'half', 'shut', '.', 'seemed', 'Alice', 'good', 'opportunity', 'making', 'escape', ';', 'set', ',', 'ran', 'till', 'quite', 'tired', 'breath', ',', 'till', 'puppy', \"'\", 'bark', 'sounded', 'quite', 'faint', 'distance', '.', \"'\", 'yet', 'dear', 'little', 'puppy', \"!'\", 'said', 'Alice', ',', 'leant', 'buttercup', 'rest', ',', 'fanned', 'one', 'leaves', ':', \"'\", 'liked', 'teaching', 'tricks', 'much', ',', '--', \"'\", 'right', 'size', '!', 'Oh', 'dear', '!', \"'\", 'nearly', 'forgotten', \"'\", 'got', 'grow', '!', 'Let', 'see', '--', 'managed', '?', 'suppose', 'ought', 'eat', 'drink', 'something', ';', 'great', 'question', ',', \"?'\", 'great', 'question', 'certainly', ',', '?', 'Alice', 'looked', 'round', 'flowers', 'blades', 'grass', ',', 'see', 'anything', 'looked', 'like', 'right', 'thing', 'eat', 'drink', 'circumstances', '.', 'large', 'mushroom', 'growing', 'near', ',', 'height', ';', 'looked', ',', 'sides', ',', 'behind', ',', 'occurred', 'might', 'well', 'look', 'see', 'top', '.', 'stretched', 'tiptoe', ',', 'peeped', 'edge', 'mushroom', ',', 'eyes', 'immediately', 'met', 'large', 'caterpillar', ',', 'sitting', 'top', 'arms', 'folded', ',', 'quietly', 'smoking', 'long', 'hookah', ',', 'taking', 'smallest', 'notice', 'anything', 'else', '.', 'CHAPTER', 'V', '.', 'Advice', 'Caterpillar', 'Caterpillar', 'Alice', 'looked', 'time', 'silence', ':', 'last', 'Caterpillar', 'took', 'hookah', 'mouth', ',', 'addressed', 'languid', ',', 'sleepy', 'voice', '.', \"'\", \"?'\", 'said', 'Caterpillar', '.', 'encouraging', 'opening', 'conversation', '.', 'Alice', 'replied', ',', 'rather', 'shyly', ',', \"'\", '--', 'hardly', 'know', ',', 'sir', ',', 'present', '--', 'least', 'know', 'got', 'morning', ',', 'think', 'must', 'changed', 'several', 'times', 'since', \".'\", \"'\", 'mean', \"?'\", 'said', 'Caterpillar', 'sternly', '.', \"'\", 'Explain', \"!'\", \"'\", \"'\", 'explain', ',', \"'\", 'afraid', ',', 'sir', \"'\", 'said', 'Alice', ',', \"'\", \"'\", ',', 'see', \".'\", \"'\", \"'\", 'see', \",'\", 'said', 'Caterpillar', '.', \"'\", \"'\", 'afraid', \"'\", 'put', 'clearly', \",'\", 'Alice', 'replied', 'politely', ',', \"'\", \"'\", 'understand', 'begin', ';', 'many', 'different', 'sizes', 'day', 'confusing', \".'\", \"'\", \"'\", \",'\", 'said', 'Caterpillar', '.', \"'\", 'Well', ',', 'perhaps', \"'\", 'found', 'yet', \",'\", 'said', 'Alice', ';', \"'\", 'turn', 'chrysalis', '--', 'day', ',', 'know', '--', 'butterfly', ',', 'think', \"'\", 'feel', 'little', 'queer', ',', \"'\", \"?'\", \"'\", 'bit', \",'\", 'said', 'Caterpillar', '.', \"'\", 'Well', ',', 'perhaps', 'feelings', 'may', 'different', \",'\", 'said', 'Alice', ';', \"'\", 'know', ',', 'would', 'feel', 'queer', \".'\", \"'\", \"!'\", 'said', 'Caterpillar', 'contemptuously', '.', \"'\", \"?'\", 'brought', 'back', 'beginning', 'conversation', '.', 'Alice', 'felt', 'little', 'irritated', 'Caterpillar', \"'\", 'making', 'short', 'remarks', ',', 'drew', 'said', ',', 'gravely', ',', \"'\", 'think', ',', 'ought', 'tell', ',', 'first', \".'\", \"'\", \"?'\", 'said', 'Caterpillar', '.', 'another', 'puzzling', 'question', ';', 'Alice', 'could', 'think', 'good', 'reason', ',', 'Caterpillar', 'seemed', 'unpleasant', 'state', 'mind', ',', 'turned', 'away', '.', \"'\", 'Come', 'back', \"!'\", 'Caterpillar', 'called', '.', \"'\", \"'\", 'something', 'important', 'say', \"!'\", 'sounded', 'promising', ',', 'certainly', ':', 'Alice', 'turned', 'came', 'back', '.', \"'\", 'Keep', 'temper', \",'\", 'said', 'Caterpillar', '.', \"'\", \"?'\", 'said', 'Alice', ',', 'swallowing', 'anger', 'well', 'could', '.', \"'\", \",'\", 'said', 'Caterpillar', '.', 'Alice', 'thought', 'might', 'well', 'wait', ',', 'nothing', 'else', ',', 'perhaps', 'might', 'tell', 'something', 'worth', 'hearing', '.', 'minutes', 'puffed', 'away', 'without', 'speaking', ',', 'last', 'unfolded', 'arms', ',', 'took', 'hookah', 'mouth', ',', 'said', ',', \"'\", 'think', \"'\", 'changed', ',', \"?'\", \"'\", \"'\", 'afraid', ',', 'sir', \",'\", 'said', 'Alice', ';', \"'\", \"'\", 'remember', 'things', 'used', '--', \"'\", 'keep', 'size', 'ten', 'minutes', 'together', \"!'\", \"'\", \"'\", 'remember', 'things', \"?'\", 'said', 'Caterpillar', '.', \"'\", 'Well', ',', \"'\", 'tried', 'say', '\"', 'DOTH', 'LITTLE', 'BUSY', 'BEE', ',\"', 'came', 'different', \"!'\", 'Alice', 'replied', 'melancholy', 'voice', '.', \"'\", 'Repeat', ',', '\"', 'OLD', ',', 'FATHER', 'WILLIAM', ',\"\\'', 'said', 'Caterpillar', '.', 'Alice', 'folded', 'hands', ',', 'began', ':--', \"'\", 'old', ',', 'Father', 'William', \",'\", 'young', 'man', 'said', ',', \"'\", 'hair', 'become', 'white', ';', 'yet', 'incessantly', 'stand', 'head', '--', 'think', ',', 'age', ',', 'right', \"?'\", \"'\", 'youth', \",'\", 'Father', 'William', 'replied', 'son', ',', \"'\", 'feared', 'might', 'injure', 'brain', ';', ',', \"'\", 'perfectly', 'sure', 'none', ',', ',', \".'\", \"'\", 'old', \",'\", 'said', 'youth', ',', \"'\", 'mentioned', ',', 'grown', 'uncommonly', 'fat', ';', 'Yet', 'turned', 'back', '-', 'somersault', 'door', '--', 'Pray', ',', 'reason', \"?'\", \"'\", 'youth', \",'\", 'said', 'sage', ',', 'shook', 'grey', 'locks', ',', \"'\", 'kept', 'limbs', 'supple', 'use', 'ointment', '--', 'one', 'shilling', 'box', '--', 'Allow', 'sell', 'couple', \"?'\", \"'\", 'old', \",'\", 'said', 'youth', ',', \"'\", 'jaws', 'weak', 'anything', 'tougher', 'suet', ';', 'Yet', 'finished', 'goose', ',', 'bones', 'beak', '--', 'Pray', 'manage', \"?'\", \"'\", 'youth', \",'\", 'said', 'father', ',', \"'\", 'took', 'law', ',', 'argued', 'case', 'wife', ';', 'muscular', 'strength', ',', 'gave', 'jaw', ',', 'lasted', 'rest', 'life', \".'\", \"'\", 'old', \",'\", 'said', 'youth', ',', \"'\", 'one', 'would', 'hardly', 'suppose', 'eye', 'steady', 'ever', ';', 'Yet', 'balanced', 'eel', 'end', 'nose', '--', 'made', 'awfully', 'clever', \"?'\", \"'\", 'answered', 'three', 'questions', ',', 'enough', \",'\", 'Said', 'father', ';', \"'\", \"'\", 'give', 'airs', '!', 'think', 'listen', 'day', 'stuff', '?', ',', \"'\", 'kick', 'stairs', \"!'\", \"'\", 'said', 'right', \",'\", 'said', 'Caterpillar', '.', \"'\", 'QUITE', 'right', ',', \"'\", 'afraid', \",'\", 'said', 'Alice', ',', 'timidly', ';', \"'\", 'words', 'got', 'altered', \".'\", \"'\", 'wrong', 'beginning', 'end', \",'\", 'said', 'Caterpillar', 'decidedly', ',', 'silence', 'minutes', '.', 'Caterpillar', 'first', 'speak', '.', \"'\", 'size', 'want', \"?'\", 'asked', '.', \"'\", 'Oh', ',', \"'\", 'particular', 'size', \",'\", 'Alice', 'hastily', 'replied', ';', \"'\", 'one', \"'\", 'like', 'changing', 'often', ',', 'know', \".'\", \"'\", \"'\", 'know', \",'\", 'said', 'Caterpillar', '.', 'Alice', 'said', 'nothing', ':', 'never', 'much', 'contradicted', 'life', ',', 'felt', 'losing', 'temper', '.', \"'\", 'content', \"?'\", 'said', 'Caterpillar', '.', \"'\", 'Well', ',', 'like', 'LITTLE', 'larger', ',', 'sir', ',', \"'\", 'mind', \",'\", 'said', 'Alice', ':', \"'\", 'three', 'inches', 'wretched', 'height', \".'\", \"'\", 'good', 'height', 'indeed', \"!'\", 'said', 'Caterpillar', 'angrily', ',', 'rearing', 'upright', 'spoke', '(', 'exactly', 'three', 'inches', 'high', ').', \"'\", \"'\", 'used', \"!'\", 'pleaded', 'poor', 'Alice', 'piteous', 'tone', '.', 'thought', ',', \"'\", 'wish', 'creatures', \"'\", 'easily', 'offended', \"!'\", \"'\", \"'\", 'get', 'used', 'time', \",'\", 'said', 'Caterpillar', ';', 'put', 'hookah', 'mouth', 'began', 'smoking', '.', 'time', 'Alice', 'waited', 'patiently', 'chose', 'speak', '.', 'minute', 'two', 'Caterpillar', 'took', 'hookah', 'mouth', 'yawned', 'twice', ',', 'shook', '.', 'got', 'mushroom', ',', 'crawled', 'away', 'grass', ',', 'merely', 'remarking', 'went', ',', \"'\", 'One', 'side', 'make', 'grow', 'taller', ',', 'side', 'make', 'grow', 'shorter', \".'\", \"'\", 'One', 'side', '?', 'side', \"?'\", 'thought', 'Alice', '.', \"'\", 'mushroom', \",'\", 'said', 'Caterpillar', ',', 'asked', 'aloud', ';', 'another', 'moment', 'sight', '.', 'Alice', 'remained', 'looking', 'thoughtfully', 'mushroom', 'minute', ',', 'trying', 'make', 'two', 'sides', ';', 'perfectly', 'round', ',', 'found', 'difficult', 'question', '.', 'However', ',', 'last', 'stretched', 'arms', 'round', 'far', 'would', 'go', ',', 'broke', 'bit', 'edge', 'hand', '.', \"'\", \"?'\", 'said', ',', 'nibbled', 'little', 'right', '-', 'hand', 'bit', 'try', 'effect', ':', 'next', 'moment', 'felt', 'violent', 'blow', 'underneath', 'chin', ':', 'struck', 'foot', '!', 'good', 'deal', 'frightened', 'sudden', 'change', ',', 'felt', 'time', 'lost', ',', 'shrinking', 'rapidly', ';', 'set', 'work', 'eat', 'bit', '.', 'chin', 'pressed', 'closely', 'foot', ',', 'hardly', 'room', 'open', 'mouth', ';', 'last', ',', 'managed', 'swallow', 'morsel', 'lefthand', 'bit', '.', '*', '*', '*', '*', '*', '*', '*', '*', '*', '*', '*', '*', '*', '*', '*', '*', '*', '*', '*', '*', \"'\", 'Come', ',', 'head', \"'\", 'free', 'last', \"!'\", 'said', 'Alice', 'tone', 'delight', ',', 'changed', 'alarm', 'another', 'moment', ',', 'found', 'shoulders', 'nowhere', 'found', ':', 'could', 'see', ',', 'looked', ',', 'immense', 'length', 'neck', ',', 'seemed', 'rise', 'like', 'stalk', 'sea', 'green', 'leaves', 'lay', 'far', '.', \"'\", 'green', 'stuff', \"?'\", 'said', 'Alice', '.', \"'\", 'shoulders', 'got', '?', 'oh', ',', 'poor', 'hands', ',', \"'\", 'see', \"?'\", 'moving', 'spoke', ',', 'result', 'seemed', 'follow', ',', 'except', 'little', 'shaking', 'among', 'distant', 'green', 'leaves', '.', 'seemed', 'chance', 'getting', 'hands', 'head', ',', 'tried', 'get', 'head', ',', 'delighted', 'find', 'neck', 'would', 'bend', 'easily', 'direction', ',', 'like', 'serpent', '.', 'succeeded', 'curving', 'graceful', 'zigzag', ',', 'going', 'dive', 'among', 'leaves', ',', 'found', 'nothing', 'tops', 'trees', 'wandering', ',', 'sharp', 'hiss', 'made', 'draw', 'back', 'hurry', ':', 'large', 'pigeon', 'flown', 'face', ',', 'beating', 'violently', 'wings', '.', \"'\", 'Serpent', \"!'\", 'screamed', 'Pigeon', '.', \"'\", \"'\", 'serpent', \"!'\", 'said', 'Alice', 'indignantly', '.', \"'\", 'Let', 'alone', \"!'\", \"'\", 'Serpent', ',', 'say', \"!'\", 'repeated', 'Pigeon', ',', 'subdued', 'tone', ',', 'added', 'kind', 'sob', ',', \"'\", \"'\", 'tried', 'every', 'way', ',', 'nothing', 'seems', 'suit', \"!'\", \"'\", \"'\", 'least', 'idea', \"'\", 'talking', \",'\", 'said', 'Alice', '.', \"'\", \"'\", 'tried', 'roots', 'trees', ',', \"'\", 'tried', 'banks', ',', \"'\", 'tried', 'hedges', \",'\", 'Pigeon', 'went', ',', 'without', 'attending', ';', \"'\", 'serpents', '!', \"'\", 'pleasing', \"!'\", 'Alice', 'puzzled', ',', 'thought', 'use', 'saying', 'anything', 'till', 'Pigeon', 'finished', '.', \"'\", \"'\", 'trouble', 'enough', 'hatching', 'eggs', \",'\", 'said', 'Pigeon', ';', \"'\", 'must', 'look', '-', 'serpents', 'night', 'day', '!', ',', \"'\", 'wink', 'sleep', 'three', 'weeks', \"!'\", \"'\", \"'\", 'sorry', \"'\", 'annoyed', \",'\", 'said', 'Alice', ',', 'beginning', 'see', 'meaning', '.', \"'\", \"'\", 'taken', 'highest', 'tree', 'wood', \",'\", 'continued', 'Pigeon', ',', 'raising', 'voice', 'shriek', ',', \"'\", 'thinking', 'free', 'last', ',', 'must', 'needs', 'come', 'wriggling', 'sky', '!', 'Ugh', ',', 'Serpent', \"!'\", \"'\", \"'\", 'serpent', ',', 'tell', \"!'\", 'said', 'Alice', '.', \"'\", \"'\", '--', \"'\", \"--'\", \"'\", 'Well', '!', \"?'\", 'said', 'Pigeon', '.', \"'\", 'see', \"'\", 'trying', 'invent', 'something', \"!'\", \"'\", '--', \"'\", 'little', 'girl', \",'\", 'said', 'Alice', ',', 'rather', 'doubtfully', ',', 'remembered', 'number', 'changes', 'gone', 'day', '.', \"'\", 'likely', 'story', 'indeed', \"!'\", 'said', 'Pigeon', 'tone', 'deepest', 'contempt', '.', \"'\", \"'\", 'seen', 'good', 'many', 'little', 'girls', 'time', ',', 'never', 'ONE', 'neck', '!', ',', '!', \"'\", 'serpent', ';', \"'\", 'use', 'denying', '.', 'suppose', \"'\", 'telling', 'next', 'never', 'tasted', 'egg', \"!'\", \"'\", 'tasted', 'eggs', ',', 'certainly', \",'\", 'said', 'Alice', ',', 'truthful', 'child', ';', \"'\", 'little', 'girls', 'eat', 'eggs', 'quite', 'much', 'serpents', ',', 'know', \".'\", \"'\", \"'\", 'believe', \",'\", 'said', 'Pigeon', ';', \"'\", ',', \"'\", 'kind', 'serpent', ',', \"'\", 'say', \".'\", 'new', 'idea', 'Alice', ',', 'quite', 'silent', 'minute', 'two', ',', 'gave', 'Pigeon', 'opportunity', 'adding', ',', \"'\", \"'\", 'looking', 'eggs', ',', 'know', 'well', 'enough', ';', 'matter', 'whether', \"'\", 'little', 'girl', 'serpent', \"?'\", \"'\", 'matters', 'good', 'deal', \",'\", 'said', 'Alice', 'hastily', ';', \"'\", \"'\", 'looking', 'eggs', ',', 'happens', ';', ',', \"'\", 'want', ':', \"'\", 'like', 'raw', \".'\", \"'\", 'Well', ',', ',', \"!'\", 'said', 'Pigeon', 'sulky', 'tone', ',', 'settled', 'nest', '.', 'Alice', 'crouched', 'among', 'trees', 'well', 'could', ',', 'neck', 'kept', 'getting', 'entangled', 'among', 'branches', ',', 'every', 'stop', 'untwist', '.', 'remembered', 'still', 'held', 'pieces', 'mushroom', 'hands', ',', 'set', 'work', 'carefully', ',', 'nibbling', 'first', 'one', ',', 'growing', 'sometimes', 'taller', 'sometimes', 'shorter', ',', 'succeeded', 'bringing', 'usual', 'height', '.', 'long', 'since', 'anything', 'near', 'right', 'size', ',', 'felt', 'quite', 'strange', 'first', ';', 'got', 'used', 'minutes', ',', 'began', 'talking', ',', 'usual', '.', \"'\", 'Come', ',', \"'\", 'half', 'plan', 'done', '!', 'puzzling', 'changes', '!', \"'\", 'never', 'sure', \"'\", 'going', ',', 'one', 'minute', 'another', '!', 'However', ',', \"'\", 'got', 'back', 'right', 'size', ':', 'next', 'thing', ',', 'get', 'beautiful', 'garden', '--', 'done', ',', 'wonder', \"?'\", 'said', ',', 'came', 'suddenly', 'upon', 'open', 'place', ',', 'little', 'house', 'four', 'feet', 'high', '.', \"'\", 'Whoever', 'lives', \",'\", 'thought', 'Alice', ',', \"'\", \"'\", 'never', 'come', 'upon', 'size', ':', ',', 'frighten', 'wits', \"!'\", 'began', 'nibbling', 'righthand', 'bit', ',', 'venture', 'go', 'near', 'house', 'till', 'brought', 'nine', 'inches', 'high', '.', 'CHAPTER', 'VI', '.', 'Pig', 'Pepper', 'minute', 'two', 'stood', 'looking', 'house', ',', 'wondering', 'next', ',', 'suddenly', 'footman', 'livery', 'came', 'running', 'wood', '--(', 'considered', 'footman', 'livery', ':', 'otherwise', ',', 'judging', 'face', ',', 'would', 'called', 'fish', ')--', 'rapped', 'loudly', 'door', 'knuckles', '.', 'opened', 'another', 'footman', 'livery', ',', 'round', 'face', ',', 'large', 'eyes', 'like', 'frog', ';', 'footmen', ',', 'Alice', 'noticed', ',', 'powdered', 'hair', 'curled', 'heads', '.', 'felt', 'curious', 'know', ',', 'crept', 'little', 'way', 'wood', 'listen', '.', 'Fish', '-', 'Footman', 'began', 'producing', 'arm', 'great', 'letter', ',', 'nearly', 'large', ',', 'handed', ',', 'saying', ',', 'solemn', 'tone', ',', \"'\", 'Duchess', '.', 'invitation', 'Queen', 'play', 'croquet', \".'\", 'Frog', '-', 'Footman', 'repeated', ',', 'solemn', 'tone', ',', 'changing', 'order', 'words', 'little', ',', \"'\", 'Queen', '.', 'invitation', 'Duchess', 'play', 'croquet', \".'\", 'bowed', 'low', ',', 'curls', 'got', 'entangled', 'together', '.', 'Alice', 'laughed', 'much', ',', 'run', 'back', 'wood', 'fear', 'hearing', ';', 'next', 'peeped', 'Fish', '-', 'Footman', 'gone', ',', 'sitting', 'ground', 'near', 'door', ',', 'staring', 'stupidly', 'sky', '.', 'Alice', 'went', 'timidly', 'door', ',', 'knocked', '.', \"'\", \"'\", 'sort', 'use', 'knocking', \",'\", 'said', 'Footman', ',', \"'\", 'two', 'reasons', '.', 'First', ',', \"'\", 'side', 'door', ';', 'secondly', ',', \"'\", 'making', 'noise', 'inside', ',', 'one', 'could', 'possibly', 'hear', \".'\", 'certainly', 'extraordinary', 'noise', 'going', 'within', '--', 'constant', 'howling', 'sneezing', ',', 'every', 'great', 'crash', ',', 'dish', 'kettle', 'broken', 'pieces', '.', \"'\", 'Please', ',', \",'\", 'said', 'Alice', ',', \"'\", 'get', \"?'\", \"'\", 'might', 'sense', 'knocking', \",'\", 'Footman', 'went', 'without', 'attending', ',', \"'\", 'door', 'us', '.', 'instance', ',', 'INSIDE', ',', 'might', 'knock', ',', 'could', 'let', ',', 'know', \".'\", 'looking', 'sky', 'time', 'speaking', ',', 'Alice', 'thought', 'decidedly', 'uncivil', '.', \"'\", 'perhaps', \"'\", 'help', \",'\", 'said', ';', \"'\", 'eyes', 'nearly', 'top', 'head', '.', 'rate', 'might', 'answer', 'questions', '.--', 'get', \"?'\", 'repeated', ',', 'aloud', '.', \"'\", 'shall', 'sit', \",'\", 'Footman', 'remarked', ',', \"'\", 'till', 'tomorrow', \"--'\", 'moment', 'door', 'house', 'opened', ',', 'large', 'plate', 'came', 'skimming', ',', 'straight', 'Footman', \"'\", 'head', ':', 'grazed', 'nose', ',', 'broke', 'pieces', 'one', 'trees', 'behind', '.', \"'--\", 'next', 'day', ',', 'maybe', \",'\", 'Footman', 'continued', 'tone', ',', 'exactly', 'nothing', 'happened', '.', \"'\", 'get', \"?'\", 'asked', 'Alice', ',', 'louder', 'tone', '.', \"'\", 'get', \"?'\", 'said', 'Footman', '.', \"'\", \"'\", 'first', 'question', ',', 'know', \".'\", ',', 'doubt', ':', 'Alice', 'like', 'told', '.', \"'\", \"'\", 'really', 'dreadful', \",'\", 'muttered', ',', \"'\", 'way', 'creatures', 'argue', '.', \"'\", 'enough', 'drive', 'one', 'crazy', \"!'\", 'Footman', 'seemed', 'think', 'good', 'opportunity', 'repeating', 'remark', ',', 'variations', '.', \"'\", 'shall', 'sit', \",'\", 'said', ',', \"'\", ',', 'days', 'days', \".'\", \"'\", \"?'\", 'said', 'Alice', '.', \"'\", 'Anything', 'like', \",'\", 'said', 'Footman', ',', 'began', 'whistling', '.', \"'\", 'Oh', ',', \"'\", 'use', 'talking', \",'\", 'said', 'Alice', 'desperately', ':', \"'\", \"'\", 'perfectly', 'idiotic', \"!'\", 'opened', 'door', 'went', '.', 'door', 'led', 'right', 'large', 'kitchen', ',', 'full', 'smoke', 'one', 'end', ':', 'Duchess', 'sitting', 'three', '-', 'legged', 'stool', 'middle', ',', 'nursing', 'baby', ';', 'cook', 'leaning', 'fire', ',', 'stirring', 'large', 'cauldron', 'seemed', 'full', 'soup', '.', \"'\", \"'\", 'certainly', 'much', 'pepper', 'soup', \"!'\", 'Alice', 'said', ',', 'well', 'could', 'sneezing', '.', 'certainly', 'much', 'air', '.', 'Even', 'Duchess', 'sneezed', 'occasionally', ';', 'baby', ',', 'sneezing', 'howling', 'alternately', 'without', 'moment', \"'\", 'pause', '.', 'things', 'kitchen', 'sneeze', ',', 'cook', ',', 'large', 'cat', 'sitting', 'hearth', 'grinning', 'ear', 'ear', '.', \"'\", 'Please', 'would', 'tell', \",'\", 'said', 'Alice', ',', 'little', 'timidly', ',', 'quite', 'sure', 'whether', 'good', 'manners', 'speak', 'first', ',', \"'\", 'cat', 'grins', 'like', \"?'\", \"'\", \"'\", 'Cheshire', 'cat', \",'\", 'said', 'Duchess', ',', \"'\", \"'\", '.', 'Pig', \"!'\", 'said', 'last', 'word', 'sudden', 'violence', 'Alice', 'quite', 'jumped', ';', 'saw', 'another', 'moment', 'addressed', 'baby', ',', ',', 'took', 'courage', ',', 'went', ':--', \"'\", \"'\", 'know', 'Cheshire', 'cats', 'always', 'grinned', ';', 'fact', ',', \"'\", 'know', 'cats', 'COULD', 'grin', \".'\", \"'\", \",'\", 'said', 'Duchess', ';', \"'\", \"'\", 'em', \".'\", \"'\", \"'\", 'know', \",'\", 'Alice', 'said', 'politely', ',', 'feeling', 'quite', 'pleased', 'got', 'conversation', '.', \"'\", \"'\", 'know', 'much', \",'\", 'said', 'Duchess', ';', \"'\", \"'\", 'fact', \".'\", 'Alice', 'like', 'tone', 'remark', ',', 'thought', 'would', 'well', 'introduce', 'subject', 'conversation', '.', 'trying', 'fix', 'one', ',', 'cook', 'took', 'cauldron', 'soup', 'fire', ',', 'set', 'work', 'throwing', 'everything', 'within', 'reach', 'Duchess', 'baby', '--', 'fire', '-', 'irons', 'came', 'first', ';', 'followed', 'shower', 'saucepans', ',', 'plates', ',', 'dishes', '.', 'Duchess', 'took', 'notice', 'even', 'hit', ';', 'baby', 'howling', 'much', 'already', ',', 'quite', 'impossible', 'say', 'whether', 'blows', 'hurt', '.', \"'\", 'Oh', ',', 'PLEASE', 'mind', \"'\", \"!'\", 'cried', 'Alice', ',', 'jumping', 'agony', 'terror', '.', \"'\", 'Oh', ',', 'goes', 'PRECIOUS', 'nose', \"';\", 'unusually', 'large', 'saucepan', 'flew', 'close', ',', 'nearly', 'carried', '.', \"'\", 'everybody', 'minded', 'business', \",'\", 'Duchess', 'said', 'hoarse', 'growl', ',', \"'\", 'world', 'would', 'go', 'round', 'deal', 'faster', \".'\", \"'\", 'would', 'advantage', \",'\", 'said', 'Alice', ',', 'felt', 'glad', 'get', 'opportunity', 'showing', 'little', 'knowledge', '.', \"'\", 'think', 'work', 'would', 'make', 'day', 'night', '!', 'see', 'earth', 'takes', 'twenty', '-', 'four', 'hours', 'turn', 'round', 'axis', \"--'\", \"'\", 'Talking', 'axes', \",'\", 'said', 'Duchess', ',', \"'\", 'chop', 'head', \"!'\", 'Alice', 'glanced', 'rather', 'anxiously', 'cook', ',', 'see', 'meant', 'take', 'hint', ';', 'cook', 'busily', 'stirring', 'soup', ',', 'seemed', 'listening', ',', 'went', ':', \"'\", 'Twenty', '-', 'four', 'hours', ',', 'THINK', ';', 'twelve', '?', \"--'\", \"'\", 'Oh', ',', \"'\", 'bother', \",'\", 'said', 'Duchess', ';', \"'\", 'never', 'could', 'abide', 'figures', \"!'\", 'began', 'nursing', 'child', ',', 'singing', 'sort', 'lullaby', ',', 'giving', 'violent', 'shake', 'end', 'every', 'line', ':', \"'\", 'Speak', 'roughly', 'little', 'boy', ',', 'beat', 'sneezes', ':', 'annoy', ',', 'knows', 'teases', \".'\", 'CHORUS', '.', '(', 'cook', 'baby', 'joined', '):--', \"'\", 'Wow', '!', 'wow', '!', 'wow', \"!'\", 'Duchess', 'sang', 'second', 'verse', 'song', ',', 'kept', 'tossing', 'baby', 'violently', ',', 'poor', 'little', 'thing', 'howled', ',', 'Alice', 'could', 'hardly', 'hear', 'words', ':--', \"'\", 'speak', 'severely', 'boy', ',', 'beat', 'sneezes', ';', 'thoroughly', 'enjoy', 'pepper', 'pleases', \"!'\", 'CHORUS', '.', \"'\", 'Wow', '!', 'wow', '!', 'wow', \"!'\", \"'\", '!', 'may', 'nurse', 'bit', ',', 'like', \"!'\", 'Duchess', 'said', 'Alice', ',', 'flinging', 'baby', 'spoke', '.', \"'\", 'must', 'go', 'get', 'ready', 'play', 'croquet', 'Queen', \",'\", 'hurried', 'room', '.', 'cook', 'threw', 'frying', '-', 'pan', 'went', ',', 'missed', '.', 'Alice', 'caught', 'baby', 'difficulty', ',', 'queer', '-', 'shaped', 'little', 'creature', ',', 'held', 'arms', 'legs', 'directions', ',', \"'\", 'like', 'star', '-', 'fish', \",'\", 'thought', 'Alice', '.', 'poor', 'little', 'thing', 'snorting', 'like', 'steam', '-', 'engine', 'caught', ',', 'kept', 'doubling', 'straightening', ',', 'altogether', ',', 'first', 'minute', 'two', ',', 'much', 'could', 'hold', '.', 'soon', 'made', 'proper', 'way', 'nursing', ',', '(', 'twist', 'sort', 'knot', ',', 'keep', 'tight', 'hold', 'right', 'ear', 'left', 'foot', ',', 'prevent', 'undoing', ',)', 'carried', 'open', 'air', '.', \"'\", \"'\", 'take', 'child', 'away', \",'\", 'thought', 'Alice', ',', \"'\", \"'\", 'sure', 'kill', 'day', 'two', ':', \"'\", 'murder', 'leave', 'behind', \"?'\", 'said', 'last', 'words', 'loud', ',', 'little', 'thing', 'grunted', 'reply', '(', 'left', 'sneezing', 'time', ').', \"'\", \"'\", 'grunt', \",'\", 'said', 'Alice', ';', \"'\", \"'\", 'proper', 'way', 'expressing', \".'\", 'baby', 'grunted', ',', 'Alice', 'looked', 'anxiously', 'face', 'see', 'matter', '.', 'could', 'doubt', 'turn', '-', 'nose', ',', 'much', 'like', 'snout', 'real', 'nose', ';', 'also', 'eyes', 'getting', 'extremely', 'small', 'baby', ':', 'altogether', 'Alice', 'like', 'look', 'thing', '.', \"'\", 'perhaps', 'sobbing', \",'\", 'thought', ',', 'looked', 'eyes', ',', 'see', 'tears', '.', ',', 'tears', '.', \"'\", \"'\", 'going', 'turn', 'pig', ',', 'dear', \",'\", 'said', 'Alice', ',', 'seriously', ',', \"'\", \"'\", 'nothing', '.', 'Mind', \"!'\", 'poor', 'little', 'thing', 'sobbed', '(', 'grunted', ',', 'impossible', 'say', '),', 'went', 'silence', '.', 'Alice', 'beginning', 'think', ',', \"'\", ',', 'creature', 'get', 'home', \"?'\", 'grunted', ',', 'violently', ',', 'looked', 'face', 'alarm', '.', 'time', 'could', 'mistake', ':', 'neither', 'less', 'pig', ',', 'felt', 'would', 'quite', 'absurd', 'carry', '.', 'set', 'little', 'creature', ',', 'felt', 'quite', 'relieved', 'see', 'trot', 'away', 'quietly', 'wood', '.', \"'\", 'grown', \",'\", 'said', ',', \"'\", 'would', 'made', 'dreadfully', 'ugly', 'child', ':', 'makes', 'rather', 'handsome', 'pig', ',', 'think', \".'\", 'began', 'thinking', 'children', 'knew', ',', 'might', 'well', 'pigs', ',', 'saying', ',', \"'\", 'one', 'knew', 'right', 'way', 'change', \"--'\", 'little', 'startled', 'seeing', 'Cheshire', 'Cat', 'sitting', 'bough', 'tree', 'yards', '.', 'Cat', 'grinned', 'saw', 'Alice', '.', 'looked', 'good', '-', 'natured', ',', 'thought', ':', 'still', 'long', 'claws', 'great', 'many', 'teeth', ',', 'felt', 'ought', 'treated', 'respect', '.', \"'\", 'Cheshire', 'Puss', \",'\", 'began', ',', 'rather', 'timidly', ',', 'know', 'whether', 'would', 'like', 'name', ':', 'however', ',', 'grinned', 'little', 'wider', '.', \"'\", 'Come', ',', \"'\", 'pleased', 'far', \",'\", 'thought', 'Alice', ',', 'went', '.', \"'\", 'Would', 'tell', ',', 'please', ',', 'way', 'ought', 'go', \"?'\", \"'\", 'depends', 'good', 'deal', 'want', 'get', \",'\", 'said', 'Cat', '.', \"'\", \"'\", 'much', 'care', \"--'\", 'said', 'Alice', '.', \"'\", \"'\", 'matter', 'way', 'go', \",'\", 'said', 'Cat', '.', \"'--\", 'long', 'get', 'SOMEWHERE', \",'\", 'Alice', 'added', 'explanation', '.', \"'\", 'Oh', ',', \"'\", 'sure', \",'\", 'said', 'Cat', ',', \"'\", 'walk', 'long', 'enough', \".'\", 'Alice', 'felt', 'could', 'denied', ',', 'tried', 'another', 'question', '.', \"'\", 'sort', 'people', 'live', \"?'\", \"'\", 'direction', \",'\", 'Cat', 'said', ',', 'waving', 'right', 'paw', 'round', ',', \"'\", 'lives', 'Hatter', ':', 'direction', \",'\", 'waving', 'paw', ',', \"'\", 'lives', 'March', 'Hare', '.', 'Visit', 'either', 'like', ':', \"'\", 'mad', \".'\", \"'\", \"'\", 'want', 'go', 'among', 'mad', 'people', \",'\", 'Alice', 'remarked', '.', \"'\", 'Oh', ',', \"'\", 'help', \",'\", 'said', 'Cat', ':', \"'\", \"'\", 'mad', '.', \"'\", 'mad', '.', \"'\", 'mad', \".'\", \"'\", 'know', \"'\", 'mad', \"?'\", 'said', 'Alice', '.', \"'\", 'must', \",'\", 'said', 'Cat', ',', \"'\", \"'\", 'come', \".'\", 'Alice', \"'\", 'think', 'proved', ';', 'however', ',', 'went', \"'\", 'know', \"'\", 'mad', \"?'\", \"'\", 'begin', \",'\", 'said', 'Cat', ',', \"'\", 'dog', \"'\", 'mad', '.', 'grant', \"?'\", \"'\", 'suppose', \",'\", 'said', 'Alice', '.', \"'\", 'Well', ',', \",'\", 'Cat', 'went', ',', \"'\", 'see', ',', 'dog', 'growls', \"'\", 'angry', ',', 'wags', 'tail', \"'\", 'pleased', '.', 'growl', \"'\", 'pleased', ',', 'wag', 'tail', \"'\", 'angry', '.', 'Therefore', \"'\", 'mad', \".'\", \"'\", 'call', 'purring', ',', 'growling', \",'\", 'said', 'Alice', '.', \"'\", 'Call', 'like', \",'\", 'said', 'Cat', '.', \"'\", 'play', 'croquet', 'Queen', '-', 'day', \"?'\", \"'\", 'like', 'much', \",'\", 'said', 'Alice', ',', \"'\", \"'\", 'invited', 'yet', \".'\", \"'\", \"'\", 'see', \",'\", 'said', 'Cat', ',', 'vanished', '.', 'Alice', 'much', 'surprised', ',', 'getting', 'used', 'queer', 'things', 'happening', '.', 'looking', 'place', ',', 'suddenly', 'appeared', '.', \"'\", '-', '-', 'bye', ',', 'became', 'baby', \"?'\", 'said', 'Cat', '.', \"'\", \"'\", 'nearly', 'forgotten', 'ask', \".'\", \"'\", 'turned', 'pig', \",'\", 'Alice', 'quietly', 'said', ',', 'come', 'back', 'natural', 'way', '.', \"'\", 'thought', 'would', \",'\", 'said', 'Cat', ',', 'vanished', '.', 'Alice', 'waited', 'little', ',', 'half', 'expecting', 'see', ',', 'appear', ',', 'minute', 'two', 'walked', 'direction', 'March', 'Hare', 'said', 'live', '.', \"'\", \"'\", 'seen', 'hatters', \",'\", 'said', ';', \"'\", 'March', 'Hare', 'much', 'interesting', ',', 'perhaps', 'May', \"'\", 'raving', 'mad', '--', 'least', 'mad', 'March', \".'\", 'said', ',', 'looked', ',', 'Cat', ',', 'sitting', 'branch', 'tree', '.', \"'\", 'say', 'pig', ',', 'fig', \"?'\", 'said', 'Cat', '.', \"'\", 'said', 'pig', \",'\", 'replied', 'Alice', ';', \"'\", 'wish', \"'\", 'keep', 'appearing', 'vanishing', 'suddenly', ':', 'make', 'one', 'quite', 'giddy', \".'\", \"'\", 'right', \",'\", 'said', 'Cat', ';', 'time', 'vanished', 'quite', 'slowly', ',', 'beginning', 'end', 'tail', ',', 'ending', 'grin', ',', 'remained', 'time', 'rest', 'gone', '.', \"'\", 'Well', '!', \"'\", 'often', 'seen', 'cat', 'without', 'grin', \",'\", 'thought', 'Alice', ';', \"'\", 'grin', 'without', 'cat', '!', \"'\", 'curious', 'thing', 'ever', 'saw', 'life', \"!'\", 'gone', 'much', 'farther', 'came', 'sight', 'house', 'March', 'Hare', ':', 'thought', 'must', 'right', 'house', ',', 'chimneys', 'shaped', 'like', 'ears', 'roof', 'thatched', 'fur', '.', 'large', 'house', ',', 'like', 'go', 'nearer', 'till', 'nibbled', 'lefthand', 'bit', 'mushroom', ',', 'raised', 'two', 'feet', 'high', ':', 'even', 'walked', 'towards', 'rather', 'timidly', ',', 'saying', \"'\", 'Suppose', 'raving', 'mad', '!', 'almost', 'wish', \"'\", 'gone', 'see', 'Hatter', 'instead', \"!'\", 'CHAPTER', 'VII', '.', 'Mad', 'Tea', '-', 'Party', 'table', 'set', 'tree', 'front', 'house', ',', 'March', 'Hare', 'Hatter', 'tea', ':', 'Dormouse', 'sitting', ',', 'fast', 'asleep', ',', 'two', 'using', 'cushion', ',', 'resting', 'elbows', ',', 'talking', 'head', '.', \"'\", 'uncomfortable', 'Dormouse', \",'\", 'thought', 'Alice', ';', \"'\", ',', \"'\", 'asleep', ',', 'suppose', \"'\", 'mind', \".'\", 'table', 'large', 'one', ',', 'three', 'crowded', 'together', 'one', 'corner', ':', \"'\", 'room', '!', 'room', \"!'\", 'cried', 'saw', 'Alice', 'coming', '.', \"'\", \"'\", 'PLENTY', 'room', \"!'\", 'said', 'Alice', 'indignantly', ',', 'sat', 'large', 'arm', '-', 'chair', 'one', 'end', 'table', '.', \"'\", 'wine', \",'\", 'March', 'Hare', 'said', 'encouraging', 'tone', '.', 'Alice', 'looked', 'round', 'table', ',', 'nothing', 'tea', '.', \"'\", \"'\", 'see', 'wine', \",'\", 'remarked', '.', \"'\", \"'\", \",'\", 'said', 'March', 'Hare', '.', \"'\", \"'\", 'civil', 'offer', \",'\", 'said', 'Alice', 'angrily', '.', \"'\", \"'\", 'civil', 'sit', 'without', 'invited', \",'\", 'said', 'March', 'Hare', '.', \"'\", \"'\", 'know', 'table', \",'\", 'said', 'Alice', ';', \"'\", \"'\", 'laid', 'great', 'many', 'three', \".'\", \"'\", 'hair', 'wants', 'cutting', \",'\", 'said', 'Hatter', '.', 'looking', 'Alice', 'time', 'great', 'curiosity', ',', 'first', 'speech', '.', \"'\", 'learn', 'make', 'personal', 'remarks', \",'\", 'Alice', 'said', 'severity', ';', \"'\", \"'\", 'rude', \".'\", 'Hatter', 'opened', 'eyes', 'wide', 'hearing', ';', 'SAID', ',', \"'\", 'raven', 'like', 'writing', '-', 'desk', \"?'\", \"'\", 'Come', ',', 'shall', 'fun', \"!'\", 'thought', 'Alice', '.', \"'\", \"'\", 'glad', \"'\", 'begun', 'asking', 'riddles', '.--', 'believe', 'guess', \",'\", 'added', 'aloud', '.', \"'\", 'mean', 'think', 'find', 'answer', \"?'\", 'said', 'March', 'Hare', '.', \"'\", 'Exactly', \",'\", 'said', 'Alice', '.', \"'\", 'say', 'mean', \",'\", 'March', 'Hare', 'went', '.', \"'\", \",'\", 'Alice', 'hastily', 'replied', ';', \"'\", 'least', '--', 'least', 'mean', 'say', '--', \"'\", 'thing', ',', 'know', \".'\", \"'\", 'thing', 'bit', \"!'\", 'said', 'Hatter', '.', \"'\", 'might', 'well', 'say', '\"', 'see', 'eat', '\"', 'thing', '\"', 'eat', 'see', '\"!\\'', \"'\", 'might', 'well', 'say', \",'\", 'added', 'March', 'Hare', ',', \"'\", '\"', 'like', 'get', '\"', 'thing', '\"', 'get', 'like', '\"!\\'', \"'\", 'might', 'well', 'say', \",'\", 'added', 'Dormouse', ',', 'seemed', 'talking', 'sleep', ',', \"'\", '\"', 'breathe', 'sleep', '\"', 'thing', '\"', 'sleep', 'breathe', '\"!\\'', \"'\", 'thing', \",'\", 'said', 'Hatter', ',', 'conversation', 'dropped', ',', 'party', 'sat', 'silent', 'minute', ',', 'Alice', 'thought', 'could', 'remember', 'ravens', 'writing', '-', 'desks', ',', \"'\", 'much', '.', 'Hatter', 'first', 'break', 'silence', '.', \"'\", 'day', 'month', \"?'\", 'said', ',', 'turning', 'Alice', ':', 'taken', 'watch', 'pocket', ',', 'looking', 'uneasily', ',', 'shaking', 'every', ',', 'holding', 'ear', '.', 'Alice', 'considered', 'little', ',', 'said', \"'\", 'fourth', \".'\", \"'\", 'Two', 'days', 'wrong', \"!'\", 'sighed', 'Hatter', '.', \"'\", 'told', 'butter', \"'\", 'suit', 'works', \"!'\", 'added', 'looking', 'angrily', 'March', 'Hare', '.', \"'\", 'BEST', 'butter', \",'\", 'March', 'Hare', 'meekly', 'replied', '.', \"'\", 'Yes', ',', 'crumbs', 'must', 'got', 'well', \",'\", 'Hatter', 'grumbled', ':', \"'\", \"'\", 'put', 'bread', '-', 'knife', \".'\", 'March', 'Hare', 'took', 'watch', 'looked', 'gloomily', ':', 'dipped', 'cup', 'tea', ',', 'looked', ':', 'could', 'think', 'nothing', 'better', 'say', 'first', 'remark', ',', \"'\", 'BEST', 'butter', ',', 'know', \".'\", 'Alice', 'looking', 'shoulder', 'curiosity', '.', \"'\", 'funny', 'watch', \"!'\", 'remarked', '.', \"'\", 'tells', 'day', 'month', ',', \"'\", 'tell', \"'\", 'clock', \"!'\", \"'\", \"?'\", 'muttered', 'Hatter', '.', \"'\", 'watch', 'tell', 'year', \"?'\", \"'\", 'course', \",'\", 'Alice', 'replied', 'readily', ':', \"'\", \"'\", 'stays', 'year', 'long', 'time', 'together', \".'\", \"'\", 'case', 'MINE', \",'\", 'said', 'Hatter', '.', 'Alice', 'felt', 'dreadfully', 'puzzled', '.', 'Hatter', \"'\", 'remark', 'seemed', 'sort', 'meaning', ',', 'yet', 'certainly', 'English', '.', \"'\", \"'\", 'quite', 'understand', \",'\", 'said', ',', 'politely', 'could', '.', \"'\", 'Dormouse', 'asleep', \",'\", 'said', 'Hatter', ',', 'poured', 'little', 'hot', 'tea', 'upon', 'nose', '.', 'Dormouse', 'shook', 'head', 'impatiently', ',', 'said', ',', 'without', 'opening', 'eyes', ',', \"'\", 'course', ',', 'course', ';', 'going', 'remark', \".'\", \"'\", 'guessed', 'riddle', 'yet', \"?'\", 'Hatter', 'said', ',', 'turning', 'Alice', '.', \"'\", ',', 'give', \",'\", 'Alice', 'replied', ':', \"'\", \"'\", 'answer', \"?'\", \"'\", \"'\", 'slightest', 'idea', \",'\", 'said', 'Hatter', '.', \"'\", \",'\", 'said', 'March', 'Hare', '.', 'Alice', 'sighed', 'wearily', '.', \"'\", 'think', 'might', 'something', 'better', 'time', \",'\", 'said', ',', \"'\", 'waste', 'asking', 'riddles', 'answers', \".'\", \"'\", 'knew', 'Time', 'well', \",'\", 'said', 'Hatter', ',', \"'\", \"'\", 'talk', 'wasting', '.', \"'\", \".'\", \"'\", \"'\", 'know', 'mean', \",'\", 'said', 'Alice', '.', \"'\", 'course', \"'\", \"!'\", 'Hatter', 'said', ',', 'tossing', 'head', 'contemptuously', '.', \"'\", 'dare', 'say', 'never', 'even', 'spoke', 'Time', \"!'\", \"'\", 'Perhaps', \",'\", 'Alice', 'cautiously', 'replied', ':', \"'\", 'know', 'beat', 'time', 'learn', 'music', \".'\", \"'\", 'Ah', '!', 'accounts', \",'\", 'said', 'Hatter', '.', \"'\", \"'\", 'stand', 'beating', '.', ',', 'kept', 'good', 'terms', ',', \"'\", 'almost', 'anything', 'liked', 'clock', '.', 'instance', ',', 'suppose', 'nine', \"'\", 'clock', 'morning', ',', 'time', 'begin', 'lessons', ':', \"'\", 'whisper', 'hint', 'Time', ',', 'round', 'goes', 'clock', 'twinkling', '!', 'Half', '-', 'past', 'one', ',', 'time', 'dinner', \"!'\", \"('\", 'wish', \",'\", 'March', 'Hare', 'said', 'whisper', '.)', \"'\", 'would', 'grand', ',', 'certainly', \",'\", 'said', 'Alice', 'thoughtfully', ':', \"'\", '--', \"'\", 'hungry', ',', 'know', \".'\", \"'\", 'first', ',', 'perhaps', \",'\", 'said', 'Hatter', ':', \"'\", 'could', 'keep', 'half', '-', 'past', 'one', 'long', 'liked', \".'\", \"'\", 'way', 'manage', \"?'\", 'Alice', 'asked', '.', 'Hatter', 'shook', 'head', 'mournfully', '.', \"'\", \"!'\", 'replied', '.', \"'\", 'quarrelled', 'last', 'March', '--', 'went', 'mad', ',', 'know', \"--'\", '(', 'pointing', 'tea', 'spoon', 'March', 'Hare', ',)', \"'--\", 'great', 'concert', 'given', 'Queen', 'Hearts', ',', 'sing', '\"', 'Twinkle', ',', 'twinkle', ',', 'little', 'bat', '!', 'wonder', \"'\", '!\"', 'know', 'song', ',', 'perhaps', \"?'\", \"'\", \"'\", 'heard', 'something', 'like', \",'\", 'said', 'Alice', '.', \"'\", 'goes', ',', 'know', \",'\", 'Hatter', 'continued', ',', \"'\", 'way', ':--', '\"', 'world', 'fly', ',', 'Like', 'tea', '-', 'tray', 'sky', '.', 'Twinkle', ',', 'twinkle', '--\"\\'', 'Dormouse', 'shook', ',', 'began', 'singing', 'sleep', \"'\", 'Twinkle', ',', 'twinkle', ',', 'twinkle', ',', 'twinkle', \"--'\", 'went', 'long', 'pinch', 'make', 'stop', '.', \"'\", 'Well', ',', \"'\", 'hardly', 'finished', 'first', 'verse', \",'\", 'said', 'Hatter', ',', \"'\", 'Queen', 'jumped', 'bawled', ',', '\"', \"'\", 'murdering', 'time', '!', 'head', '!\"\\'', \"'\", 'dreadfully', 'savage', \"!'\", 'exclaimed', 'Alice', '.', \"'\", 'ever', 'since', \",'\", 'Hatter', 'went', 'mournful', 'tone', ',', \"'\", \"'\", 'thing', 'ask', '!', \"'\", 'always', 'six', \"'\", 'clock', \".'\", 'bright', 'idea', 'came', 'Alice', \"'\", 'head', '.', \"'\", 'reason', 'many', 'tea', '-', 'things', 'put', \"?'\", 'asked', '.', \"'\", 'Yes', ',', \"'\", \",'\", 'said', 'Hatter', 'sigh', ':', \"'\", \"'\", 'always', 'tea', '-', 'time', ',', \"'\", 'time', 'wash', 'things', 'whiles', \".'\", \"'\", 'keep', 'moving', 'round', ',', 'suppose', \"?'\", 'said', 'Alice', '.', \"'\", 'Exactly', \",'\", 'said', 'Hatter', ':', \"'\", 'things', 'get', 'used', \".'\", \"'\", 'happens', 'come', 'beginning', \"?'\", 'Alice', 'ventured', 'ask', '.', \"'\", 'Suppose', 'change', 'subject', \",'\", 'March', 'Hare', 'interrupted', ',', 'yawning', '.', \"'\", \"'\", 'getting', 'tired', '.', 'vote', 'young', 'lady', 'tells', 'us', 'story', \".'\", \"'\", \"'\", 'afraid', \"'\", 'know', 'one', \",'\", 'said', 'Alice', ',', 'rather', 'alarmed', 'proposal', '.', \"'\", 'Dormouse', 'shall', \"!'\", 'cried', '.', \"'\", 'Wake', ',', 'Dormouse', \"!'\", 'pinched', 'sides', '.', 'Dormouse', 'slowly', 'opened', 'eyes', '.', \"'\", \"'\", 'asleep', \",'\", 'said', 'hoarse', ',', 'feeble', 'voice', ':', \"'\", 'heard', 'every', 'word', 'fellows', 'saying', \".'\", \"'\", 'Tell', 'us', 'story', \"!'\", 'said', 'March', 'Hare', '.', \"'\", 'Yes', ',', 'please', \"!'\", 'pleaded', 'Alice', '.', \"'\", 'quick', \",'\", 'added', 'Hatter', ',', \"'\", \"'\", 'asleep', \"'\", 'done', \".'\", \"'\", 'upon', 'time', 'three', 'little', 'sisters', \",'\", 'Dormouse', 'began', 'great', 'hurry', ';', \"'\", 'names', 'Elsie', ',', 'Lacie', ',', 'Tillie', ';', 'lived', 'bottom', 'well', \"--'\", \"'\", 'live', \"?'\", 'said', 'Alice', ',', 'always', 'took', 'great', 'interest', 'questions', 'eating', 'drinking', '.', \"'\", 'lived', 'treacle', \",'\", 'said', 'Dormouse', ',', 'thinking', 'minute', 'two', '.', \"'\", \"'\", 'done', ',', 'know', \",'\", 'Alice', 'gently', 'remarked', ';', \"'\", \"'\", 'ill', \".'\", \"'\", \",'\", 'said', 'Dormouse', ';', \"'\", 'ill', \".'\", 'Alice', 'tried', 'fancy', 'extraordinary', 'ways', 'living', 'would', 'like', ',', 'puzzled', 'much', ',', 'went', ':', \"'\", 'live', 'bottom', 'well', \"?'\", \"'\", 'Take', 'tea', \",'\", 'March', 'Hare', 'said', 'Alice', ',', 'earnestly', '.', \"'\", \"'\", 'nothing', 'yet', \",'\", 'Alice', 'replied', 'offended', 'tone', ',', \"'\", \"'\", 'take', \".'\", \"'\", 'mean', \"'\", 'take', 'LESS', \",'\", 'said', 'Hatter', ':', \"'\", \"'\", 'easy', 'take', 'nothing', \".'\", \"'\", 'Nobody', 'asked', 'opinion', \",'\", 'said', 'Alice', '.', \"'\", \"'\", 'making', 'personal', 'remarks', \"?'\", 'Hatter', 'asked', 'triumphantly', '.', 'Alice', 'quite', 'know', 'say', ':', 'helped', 'tea', 'bread', '-', '-', 'butter', ',', 'turned', 'Dormouse', ',', 'repeated', 'question', '.', \"'\", 'live', 'bottom', 'well', \"?'\", 'Dormouse', 'took', 'minute', 'two', 'think', ',', 'said', ',', \"'\", 'treacle', '-', 'well', \".'\", \"'\", \"'\", 'thing', \"!'\", 'Alice', 'beginning', 'angrily', ',', 'Hatter', 'March', 'Hare', 'went', \"'\", 'Sh', '!', 'sh', \"!'\", 'Dormouse', 'sulkily', 'remarked', ',', \"'\", \"'\", 'civil', ',', \"'\", 'better', 'finish', 'story', \".'\", \"'\", ',', 'please', 'go', \"!'\", 'Alice', 'said', 'humbly', ';', \"'\", \"'\", 'interrupt', '.', 'dare', 'say', 'may', 'ONE', \".'\", \"'\", 'One', ',', 'indeed', \"!'\", 'said', 'Dormouse', 'indignantly', '.', 'However', ',', 'consented', 'go', '.', \"'\", 'three', 'little', 'sisters', '--', 'learning', 'draw', ',', 'know', \"--'\", \"'\", 'draw', \"?'\", 'said', 'Alice', ',', 'quite', 'forgetting', 'promise', '.', \"'\", 'Treacle', \",'\", 'said', 'Dormouse', ',', 'without', 'considering', 'time', '.', \"'\", 'want', 'clean', 'cup', \",'\", 'interrupted', 'Hatter', ':', \"'\", 'let', \"'\", 'move', 'one', 'place', \".'\", 'moved', 'spoke', ',', 'Dormouse', 'followed', ':', 'March', 'Hare', 'moved', 'Dormouse', \"'\", 'place', ',', 'Alice', 'rather', 'unwillingly', 'took', 'place', 'March', 'Hare', '.', 'Hatter', 'one', 'got', 'advantage', 'change', ':', 'Alice', 'good', 'deal', 'worse', ',', 'March', 'Hare', 'upset', 'milk', '-', 'jug', 'plate', '.', 'Alice', 'wish', 'offend', 'Dormouse', ',', 'began', 'cautiously', ':', \"'\", \"'\", 'understand', '.', 'draw', 'treacle', \"?'\", \"'\", 'draw', 'water', 'water', '-', 'well', \",'\", 'said', 'Hatter', ';', \"'\", 'think', 'could', 'draw', 'treacle', 'treacle', '-', 'well', '--', 'eh', ',', 'stupid', \"?'\", \"'\", 'well', \",'\", 'Alice', 'said', 'Dormouse', ',', 'choosing', 'notice', 'last', 'remark', '.', \"'\", 'course', \"',\", 'said', 'Dormouse', ';', \"'--\", 'well', \".'\", 'answer', 'confused', 'poor', 'Alice', ',', 'let', 'Dormouse', 'go', 'time', 'without', 'interrupting', '.', \"'\", 'learning', 'draw', \",'\", 'Dormouse', 'went', ',', 'yawning', 'rubbing', 'eyes', ',', 'getting', 'sleepy', ';', \"'\", 'drew', 'manner', 'things', '--', 'everything', 'begins', \"--'\", \"'\", \"?'\", 'said', 'Alice', '.', \"'\", \"?'\", 'said', 'March', 'Hare', '.', 'Alice', 'silent', '.', 'Dormouse', 'closed', 'eyes', 'time', ',', 'going', 'doze', ';', ',', 'pinched', 'Hatter', ',', 'woke', 'little', 'shriek', ',', 'went', ':', \"'--\", 'begins', ',', 'mouse', '-', 'traps', ',', 'moon', ',', 'memory', ',', 'muchness', '--', 'know', 'say', 'things', '\"', 'much', 'muchness', '\"--', 'ever', 'see', 'thing', 'drawing', 'muchness', \"?'\", \"'\", 'Really', ',', 'ask', \",'\", 'said', 'Alice', ',', 'much', 'confused', ',', \"'\", \"'\", 'think', \"--'\", \"'\", \"'\", 'talk', \",'\", 'said', 'Hatter', '.', 'piece', 'rudeness', 'Alice', 'could', 'bear', ':', 'got', 'great', 'disgust', ',', 'walked', ';', 'Dormouse', 'fell', 'asleep', 'instantly', ',', 'neither', 'others', 'took', 'least', 'notice', 'going', ',', 'though', 'looked', 'back', 'twice', ',', 'half', 'hoping', 'would', 'call', ':', 'last', 'time', 'saw', ',', 'trying', 'put', 'Dormouse', 'teapot', '.', \"'\", 'rate', \"'\", 'never', 'go', \"!'\", 'said', 'Alice', 'picked', 'way', 'wood', '.', \"'\", \"'\", 'stupidest', 'tea', '-', 'party', 'ever', 'life', \"!'\", 'said', ',', 'noticed', 'one', 'trees', 'door', 'leading', 'right', '.', \"'\", \"'\", 'curious', \"!'\", 'thought', '.', \"'\", 'everything', \"'\", 'curious', 'today', '.', 'think', 'may', 'well', 'go', \".'\", 'went', '.', 'found', 'long', 'hall', ',', 'close', 'little', 'glass', 'table', '.', \"'\", ',', \"'\", 'manage', 'better', 'time', \",'\", 'said', ',', 'began', 'taking', 'little', 'golden', 'key', ',', 'unlocking', 'door', 'led', 'garden', '.', 'went', 'work', 'nibbling', 'mushroom', '(', 'kept', 'piece', 'pocket', ')', 'till', 'foot', 'high', ':', 'walked', 'little', 'passage', ':', '--', 'found', 'last', 'beautiful', 'garden', ',', 'among', 'bright', 'flower', '-', 'beds', 'cool', 'fountains', '.', 'CHAPTER', 'VIII', '.', 'Queen', \"'\", 'Croquet', '-', 'Ground', 'large', 'rose', '-', 'tree', 'stood', 'near', 'entrance', 'garden', ':', 'roses', 'growing', 'white', ',', 'three', 'gardeners', ',', 'busily', 'painting', 'red', '.', 'Alice', 'thought', 'curious', 'thing', ',', 'went', 'nearer', 'watch', ',', 'came', 'heard', 'one', 'say', ',', \"'\", 'Look', ',', 'Five', '!', \"'\", 'go', 'splashing', 'paint', 'like', \"!'\", \"'\", \"'\", 'help', \",'\", 'said', 'Five', ',', 'sulky', 'tone', ';', \"'\", 'Seven', 'jogged', 'elbow', \".'\", 'Seven', 'looked', 'said', ',', \"'\", \"'\", 'right', ',', 'Five', '!', 'Always', 'lay', 'blame', 'others', \"!'\", \"'\", \"'\", 'better', 'talk', \"!'\", 'said', 'Five', '.', \"'\", 'heard', 'Queen', 'say', 'yesterday', 'deserved', 'beheaded', \"!'\", \"'\", \"?'\", 'said', 'one', 'spoken', 'first', '.', \"'\", \"'\", 'none', 'business', ',', 'Two', \"!'\", 'said', 'Seven', '.', \"'\", 'Yes', ',', 'business', \"!'\", 'said', 'Five', ',', \"'\", \"'\", 'tell', '--', 'bringing', 'cook', 'tulip', '-', 'roots', 'instead', 'onions', \".'\", 'Seven', 'flung', 'brush', ',', 'begun', \"'\", 'Well', ',', 'unjust', 'things', \"--'\", 'eye', 'chanced', 'fall', 'upon', 'Alice', ',', 'stood', 'watching', ',', 'checked', 'suddenly', ':', 'others', 'looked', 'round', 'also', ',', 'bowed', 'low', '.', \"'\", 'Would', 'tell', \",'\", 'said', 'Alice', ',', 'little', 'timidly', ',', \"'\", 'painting', 'roses', \"?'\", 'Five', 'Seven', 'said', 'nothing', ',', 'looked', 'Two', '.', 'Two', 'began', 'low', 'voice', ',', \"'\", 'fact', ',', 'see', ',', 'Miss', ',', 'ought', 'RED', 'rose', '-', 'tree', ',', 'put', 'white', 'one', 'mistake', ';', 'Queen', 'find', ',', 'heads', 'cut', ',', 'know', '.', 'see', ',', 'Miss', ',', \"'\", 'best', ',', 'afore', 'comes', ',', \"--'\", 'moment', 'Five', ',', 'anxiously', 'looking', 'across', 'garden', ',', 'called', \"'\", 'Queen', '!', 'Queen', \"!'\", 'three', 'gardeners', 'instantly', 'threw', 'flat', 'upon', 'faces', '.', 'sound', 'many', 'footsteps', ',', 'Alice', 'looked', 'round', ',', 'eager', 'see', 'Queen', '.', 'First', 'came', 'ten', 'soldiers', 'carrying', 'clubs', ';', 'shaped', 'like', 'three', 'gardeners', ',', 'oblong', 'flat', ',', 'hands', 'feet', 'corners', ':', 'next', 'ten', 'courtiers', ';', 'ornamented', 'diamonds', ',', 'walked', 'two', 'two', ',', 'soldiers', '.', 'came', 'royal', 'children', ';', 'ten', ',', 'little', 'dears', 'came', 'jumping', 'merrily', 'along', 'hand', 'hand', ',', 'couples', ':', 'ornamented', 'hearts', '.', 'Next', 'came', 'guests', ',', 'mostly', 'Kings', 'Queens', ',', 'among', 'Alice', 'recognised', 'White', 'Rabbit', ':', 'talking', 'hurried', 'nervous', 'manner', ',', 'smiling', 'everything', 'said', ',', 'went', 'without', 'noticing', '.', 'followed', 'Knave', 'Hearts', ',', 'carrying', 'King', \"'\", 'crown', 'crimson', 'velvet', 'cushion', ';', ',', 'last', 'grand', 'procession', ',', 'came', 'KING', 'QUEEN', 'HEARTS', '.', 'Alice', 'rather', 'doubtful', 'whether', 'ought', 'lie', 'face', 'like', 'three', 'gardeners', ',', 'could', 'remember', 'ever', 'heard', 'rule', 'processions', ';', \"'\", 'besides', ',', 'would', 'use', 'procession', \",'\", 'thought', ',', \"'\", 'people', 'lie', 'upon', 'faces', ',', \"'\", 'see', \"?'\", 'stood', 'still', ',', 'waited', '.', 'procession', 'came', 'opposite', 'Alice', ',', 'stopped', 'looked', ',', 'Queen', 'said', 'severely', \"'\", \"?'\", 'said', 'Knave', 'Hearts', ',', 'bowed', 'smiled', 'reply', '.', \"'\", 'Idiot', \"!'\", 'said', 'Queen', ',', 'tossing', 'head', 'impatiently', ';', ',', 'turning', 'Alice', ',', 'went', ',', \"'\", \"'\", 'name', ',', 'child', \"?'\", \"'\", 'name', 'Alice', ',', 'please', 'Majesty', \",'\", 'said', 'Alice', 'politely', ';', 'added', ',', ',', \"'\", ',', \"'\", 'pack', 'cards', ',', '.', \"'\", 'afraid', \"!'\", \"'\", \"?'\", 'said', 'Queen', ',', 'pointing', 'three', 'gardeners', 'lying', 'round', 'rosetree', ';', ',', 'see', ',', 'lying', 'faces', ',', 'pattern', 'backs', 'rest', 'pack', ',', 'could', 'tell', 'whether', 'gardeners', ',', 'soldiers', ',', 'courtiers', ',', 'three', 'children', '.', \"'\", 'know', \"?'\", 'said', 'Alice', ',', 'surprised', 'courage', '.', \"'\", \"'\", 'business', 'MINE', \".'\", 'Queen', 'turned', 'crimson', 'fury', ',', ',', 'glaring', 'moment', 'like', 'wild', 'beast', ',', 'screamed', \"'\", 'head', '!', \"--'\", \"'\", 'Nonsense', \"!'\", 'said', 'Alice', ',', 'loudly', 'decidedly', ',', 'Queen', 'silent', '.', 'King', 'laid', 'hand', 'upon', 'arm', ',', 'timidly', 'said', \"'\", 'Consider', ',', 'dear', ':', 'child', \"!'\", 'Queen', 'turned', 'angrily', 'away', ',', 'said', 'Knave', \"'\", 'Turn', \"!'\", 'Knave', ',', 'carefully', ',', 'one', 'foot', '.', \"'\", 'Get', \"!'\", 'said', 'Queen', ',', 'shrill', ',', 'loud', 'voice', ',', 'three', 'gardeners', 'instantly', 'jumped', ',', 'began', 'bowing', 'King', ',', 'Queen', ',', 'royal', 'children', ',', 'everybody', 'else', '.', \"'\", 'Leave', \"!'\", 'screamed', 'Queen', '.', \"'\", 'make', 'giddy', \".'\", ',', 'turning', 'rose', '-', 'tree', ',', 'went', ',', \"'\", \"?'\", \"'\", 'May', 'please', 'Majesty', \",'\", 'said', 'Two', ',', 'humble', 'tone', ',', 'going', 'one', 'knee', 'spoke', ',', \"'\", 'trying', \"--'\", \"'\", 'see', \"!'\", 'said', 'Queen', ',', 'meanwhile', 'examining', 'roses', '.', \"'\", 'heads', \"!'\", 'procession', 'moved', ',', 'three', 'soldiers', 'remaining', 'behind', 'execute', 'unfortunate', 'gardeners', ',', 'ran', 'Alice', 'protection', '.', \"'\", \"'\", 'beheaded', \"!'\", 'said', 'Alice', ',', 'put', 'large', 'flower', '-', 'pot', 'stood', 'near', '.', 'three', 'soldiers', 'wandered', 'minute', 'two', ',', 'looking', ',', 'quietly', 'marched', 'others', '.', \"'\", 'heads', \"?'\", 'shouted', 'Queen', '.', \"'\", 'heads', 'gone', ',', 'please', 'Majesty', \"!'\", 'soldiers', 'shouted', 'reply', '.', \"'\", \"'\", 'right', \"!'\", 'shouted', 'Queen', '.', \"'\", 'play', 'croquet', \"?'\", 'soldiers', 'silent', ',', 'looked', 'Alice', ',', 'question', 'evidently', 'meant', '.', \"'\", 'Yes', \"!'\", 'shouted', 'Alice', '.', \"'\", 'Come', ',', \"!'\", 'roared', 'Queen', ',', 'Alice', 'joined', 'procession', ',', 'wondering', 'much', 'would', 'happen', 'next', '.', \"'\", \"'\", '--', \"'\", 'fine', 'day', \"!'\", 'said', 'timid', 'voice', 'side', '.', 'walking', 'White', 'Rabbit', ',', 'peeping', 'anxiously', 'face', '.', \"'\", \",'\", 'said', 'Alice', ':', \"'--\", \"'\", 'Duchess', \"?'\", \"'\", 'Hush', '!', 'Hush', \"!'\", 'said', 'Rabbit', 'low', ',', 'hurried', 'tone', '.', 'looked', 'anxiously', 'shoulder', 'spoke', ',', 'raised', 'upon', 'tiptoe', ',', 'put', 'mouth', 'close', 'ear', ',', 'whispered', \"'\", \"'\", 'sentence', 'execution', \".'\", \"'\", \"?'\", 'said', 'Alice', '.', \"'\", 'say', '\"', 'pity', '!\"?\\'', 'Rabbit', 'asked', '.', \"'\", ',', \"'\", \",'\", 'said', 'Alice', ':', \"'\", \"'\", 'think', \"'\", 'pity', '.', 'said', '\"', '?\"\\'', \"'\", 'boxed', 'Queen', \"'\", 'ears', \"--'\", 'Rabbit', 'began', '.', 'Alice', 'gave', 'little', 'scream', 'laughter', '.', \"'\", 'Oh', ',', 'hush', \"!'\", 'Rabbit', 'whispered', 'frightened', 'tone', '.', \"'\", 'Queen', 'hear', '!', 'see', ',', 'came', 'rather', 'late', ',', 'Queen', 'said', \"--'\", \"'\", 'Get', 'places', \"!'\", 'shouted', 'Queen', 'voice', 'thunder', ',', 'people', 'began', 'running', 'directions', ',', 'tumbling', ';', 'however', ',', 'got', 'settled', 'minute', 'two', ',', 'game', 'began', '.', 'Alice', 'thought', 'never', 'seen', 'curious', 'croquet', '-', 'ground', 'life', ';', 'ridges', 'furrows', ';', 'balls', 'live', 'hedgehogs', ',', 'mallets', 'live', 'flamingoes', ',', 'soldiers', 'double', 'stand', 'hands', 'feet', ',', 'make', 'arches', '.', 'chief', 'difficulty', 'Alice', 'found', 'first', 'managing', 'flamingo', ':', 'succeeded', 'getting', 'body', 'tucked', 'away', ',', 'comfortably', 'enough', ',', 'arm', ',', 'legs', 'hanging', ',', 'generally', ',', 'got', 'neck', 'nicely', 'straightened', ',', 'going', 'give', 'hedgehog', 'blow', 'head', ',', 'WOULD', 'twist', 'round', 'look', 'face', ',', 'puzzled', 'expression', 'could', 'help', 'bursting', 'laughing', ':', 'got', 'head', ',', 'going', 'begin', ',', 'provoking', 'find', 'hedgehog', 'unrolled', ',', 'act', 'crawling', 'away', ':', 'besides', ',', 'generally', 'ridge', 'furrow', 'way', 'wherever', 'wanted', 'send', 'hedgehog', ',', ',', 'doubled', '-', 'soldiers', 'always', 'getting', 'walking', 'parts', 'ground', ',', 'Alice', 'soon', 'came', 'conclusion', 'difficult', 'game', 'indeed', '.', 'players', 'played', 'without', 'waiting', 'turns', ',', 'quarrelling', ',', 'fighting', 'hedgehogs', ';', 'short', 'time', 'Queen', 'furious', 'passion', ',', 'went', 'stamping', ',', 'shouting', \"'\", 'head', \"!'\", \"'\", 'head', \"!'\", 'minute', '.', 'Alice', 'began', 'feel', 'uneasy', ':', 'sure', ',', 'yet', 'dispute', 'Queen', ',', 'knew', 'might', 'happen', 'minute', ',', \"'\", \",'\", 'thought', ',', \"'\", 'would', 'become', '?', \"'\", 'dreadfully', 'fond', 'beheading', 'people', ';', 'great', 'wonder', ',', \"'\", 'one', 'left', 'alive', \"!'\", 'looking', 'way', 'escape', ',', 'wondering', 'whether', 'could', 'get', 'away', 'without', 'seen', ',', 'noticed', 'curious', 'appearance', 'air', ':', 'puzzled', 'much', 'first', ',', ',', 'watching', 'minute', 'two', ',', 'made', 'grin', ',', 'said', \"'\", \"'\", 'Cheshire', 'Cat', ':', 'shall', 'somebody', 'talk', \".'\", \"'\", 'getting', \"?'\", 'said', 'Cat', ',', 'soon', 'mouth', 'enough', 'speak', '.', 'Alice', 'waited', 'till', 'eyes', 'appeared', ',', 'nodded', '.', \"'\", \"'\", 'use', 'speaking', \",'\", 'thought', ',', \"'\", 'till', 'ears', 'come', ',', 'least', 'one', \".'\", 'another', 'minute', 'whole', 'head', 'appeared', ',', 'Alice', 'put', 'flamingo', ',', 'began', 'account', 'game', ',', 'feeling', 'glad', 'someone', 'listen', '.', 'Cat', 'seemed', 'think', 'enough', 'sight', ',', 'appeared', '.', \"'\", \"'\", 'think', 'play', 'fairly', \",'\", 'Alice', 'began', ',', 'rather', 'complaining', 'tone', ',', \"'\", 'quarrel', 'dreadfully', 'one', \"'\", 'hear', 'oneself', 'speak', '--', \"'\", 'seem', 'rules', 'particular', ';', 'least', ',', ',', 'nobody', 'attends', '--', \"'\", 'idea', 'confusing', 'things', 'alive', ';', 'instance', ',', \"'\", 'arch', \"'\", 'got', 'go', 'next', 'walking', 'end', 'ground', '--', 'croqueted', 'Queen', \"'\", 'hedgehog', ',', 'ran', 'away', 'saw', 'mine', 'coming', \"!'\", \"'\", 'like', 'Queen', \"?'\", 'said', 'Cat', 'low', 'voice', '.', \"'\", \",'\", 'said', 'Alice', ':', \"'\", \"'\", 'extremely', \"--'\", 'noticed', 'Queen', 'close', 'behind', ',', 'listening', ':', 'went', ',', \"'--\", 'likely', 'win', ',', \"'\", 'hardly', 'worth', 'finishing', 'game', \".'\", 'Queen', 'smiled', 'passed', '.', \"'\", 'talking', \"?'\", 'said', 'King', ',', 'going', 'Alice', ',', 'looking', 'Cat', \"'\", 'head', 'great', 'curiosity', '.', \"'\", \"'\", 'friend', 'mine', '--', 'Cheshire', 'Cat', \",'\", 'said', 'Alice', ':', \"'\", 'allow', 'introduce', \".'\", \"'\", \"'\", 'like', 'look', \",'\", 'said', 'King', ':', \"'\", 'however', ',', 'may', 'kiss', 'hand', 'likes', \".'\", \"'\", \"'\", 'rather', \",'\", 'Cat', 'remarked', '.', \"'\", \"'\", 'impertinent', \",'\", 'said', 'King', ',', \"'\", \"'\", 'look', 'like', \"!'\", 'got', 'behind', 'Alice', 'spoke', '.', \"'\", 'cat', 'may', 'look', 'king', \",'\", 'said', 'Alice', '.', \"'\", \"'\", 'read', 'book', ',', \"'\", 'remember', \".'\", \"'\", 'Well', ',', 'must', 'removed', \",'\", 'said', 'King', 'decidedly', ',', 'called', 'Queen', ',', 'passing', 'moment', ',', \"'\", 'dear', '!', 'wish', 'would', 'cat', 'removed', \"!'\", 'Queen', 'one', 'way', 'settling', 'difficulties', ',', 'great', 'small', '.', \"'\", 'head', \"!'\", 'said', ',', 'without', 'even', 'looking', 'round', '.', \"'\", \"'\", 'fetch', 'executioner', \",'\", 'said', 'King', 'eagerly', ',', 'hurried', '.', 'Alice', 'thought', 'might', 'well', 'go', 'back', ',', 'see', 'game', 'going', ',', 'heard', 'Queen', \"'\", 'voice', 'distance', ',', 'screaming', 'passion', '.', 'already', 'heard', 'sentence', 'three', 'players', 'executed', 'missed', 'turns', ',', 'like', 'look', 'things', ',', 'game', 'confusion', 'never', 'knew', 'whether', 'turn', '.', 'went', 'search', 'hedgehog', '.', 'hedgehog', 'engaged', 'fight', 'another', 'hedgehog', ',', 'seemed', 'Alice', 'excellent', 'opportunity', 'croqueting', 'one', ':', 'difficulty', ',', 'flamingo', 'gone', 'across', 'side', 'garden', ',', 'Alice', 'could', 'see', 'trying', 'helpless', 'sort', 'way', 'fly', 'tree', '.', 'time', 'caught', 'flamingo', 'brought', 'back', ',', 'fight', ',', 'hedgehogs', 'sight', ':', \"'\", \"'\", 'matter', 'much', \",'\", 'thought', 'Alice', ',', \"'\", 'arches', 'gone', 'side', 'ground', \".'\", 'tucked', 'away', 'arm', ',', 'might', 'escape', ',', 'went', 'back', 'little', 'conversation', 'friend', '.', 'got', 'back', 'Cheshire', 'Cat', ',', 'surprised', 'find', 'quite', 'large', 'crowd', 'collected', 'round', ':', 'dispute', 'going', 'executioner', ',', 'King', ',', 'Queen', ',', 'talking', ',', 'rest', 'quite', 'silent', ',', 'looked', 'uncomfortable', '.', 'moment', 'Alice', 'appeared', ',', 'appealed', 'three', 'settle', 'question', ',', 'repeated', 'arguments', ',', 'though', ',', 'spoke', ',', 'found', 'hard', 'indeed', 'make', 'exactly', 'said', '.', 'executioner', \"'\", 'argument', ',', \"'\", 'cut', 'head', 'unless', 'body', 'cut', ':', 'never', 'thing', ',', \"'\", 'going', 'begin', 'time', 'life', '.', 'King', \"'\", 'argument', ',', 'anything', 'head', 'could', 'beheaded', ',', \"'\", 'talk', 'nonsense', '.', 'Queen', \"'\", 'argument', ',', 'something', \"'\", 'done', 'less', 'time', \"'\", 'everybody', 'executed', ',', 'round', '.', '(', 'last', 'remark', 'made', 'whole', 'party', 'look', 'grave', 'anxious', '.)', 'Alice', 'could', 'think', 'nothing', 'else', 'say', \"'\", 'belongs', 'Duchess', ':', \"'\", 'better', 'ask', \".'\", \"'\", \"'\", 'prison', \",'\", 'Queen', 'said', 'executioner', ':', \"'\", 'fetch', \".'\", 'executioner', 'went', 'like', 'arrow', '.', 'Cat', \"'\", 'head', 'began', 'fading', 'away', 'moment', 'gone', ',', ',', 'time', 'come', 'back', 'Duchess', ',', 'entirely', 'disappeared', ';', 'King', 'executioner', 'ran', 'wildly', 'looking', ',', 'rest', 'party', 'went', 'back', 'game', '.', 'CHAPTER', 'IX', '.', 'Mock', 'Turtle', \"'\", 'Story', \"'\", \"'\", 'think', 'glad', 'see', ',', 'dear', 'old', 'thing', \"!'\", 'said', 'Duchess', ',', 'tucked', 'arm', 'affectionately', 'Alice', \"'\", ',', 'walked', 'together', '.', 'Alice', 'glad', 'find', 'pleasant', 'temper', ',', 'thought', 'perhaps', 'pepper', 'made', 'savage', 'met', 'kitchen', '.', \"'\", \"'\", 'Duchess', \",'\", 'said', ',', '(', 'hopeful', 'tone', 'though', '),', \"'\", \"'\", 'pepper', 'kitchen', '.', 'Soup', 'well', 'without', '--', 'Maybe', \"'\", 'always', 'pepper', 'makes', 'people', 'hot', '-', 'tempered', \",'\", 'went', ',', 'much', 'pleased', 'found', 'new', 'kind', 'rule', ',', \"'\", 'vinegar', 'makes', 'sour', '--', 'camomile', 'makes', 'bitter', '--', '--', 'barley', '-', 'sugar', 'things', 'make', 'children', 'sweet', '-', 'tempered', '.', 'wish', 'people', 'knew', ':', \"'\", 'stingy', ',', 'know', \"--'\", 'quite', 'forgotten', 'Duchess', 'time', ',', 'little', 'startled', 'heard', 'voice', 'close', 'ear', '.', \"'\", \"'\", 'thinking', 'something', ',', 'dear', ',', 'makes', 'forget', 'talk', '.', \"'\", 'tell', 'moral', ',', 'shall', 'remember', 'bit', \".'\", \"'\", 'Perhaps', \"'\", 'one', \",'\", 'Alice', 'ventured', 'remark', '.', \"'\", 'Tut', ',', 'tut', ',', 'child', \"!'\", 'said', 'Duchess', '.', \"'\", 'Everything', \"'\", 'got', 'moral', ',', 'find', \".'\", 'squeezed', 'closer', 'Alice', \"'\", 'side', 'spoke', '.', 'Alice', 'much', 'like', 'keeping', 'close', ':', 'first', ',', 'Duchess', 'ugly', ';', 'secondly', ',', 'exactly', 'right', 'height', 'rest', 'chin', 'upon', 'Alice', \"'\", 'shoulder', ',', 'uncomfortably', 'sharp', 'chin', '.', 'However', ',', 'like', 'rude', ',', 'bore', 'well', 'could', '.', \"'\", 'game', \"'\", 'going', 'rather', 'better', \",'\", 'said', ',', 'way', 'keeping', 'conversation', 'little', '.', \"''\", 'Tis', \",'\", 'said', 'Duchess', ':', \"'\", 'moral', '--\"', 'Oh', ',', \"'\", 'tis', 'love', ',', \"'\", 'tis', 'love', ',', 'makes', 'world', 'go', 'round', '!\"\\'', \"'\", 'Somebody', 'said', \",'\", 'Alice', 'whispered', ',', \"'\", \"'\", 'done', 'everybody', 'minding', 'business', \"!'\", \"'\", 'Ah', ',', 'well', '!', 'means', 'much', 'thing', \",'\", 'said', 'Duchess', ',', 'digging', 'sharp', 'little', 'chin', 'Alice', \"'\", 'shoulder', 'added', ',', \"'\", 'moral', '--\"', 'Take', 'care', 'sense', ',', 'sounds', 'take', 'care', '.\"\\'', \"'\", 'fond', 'finding', 'morals', 'things', \"!'\", 'Alice', 'thought', '.', \"'\", 'dare', 'say', \"'\", 'wondering', \"'\", 'put', 'arm', 'round', 'waist', \",'\", 'Duchess', 'said', 'pause', ':', \"'\", 'reason', ',', \"'\", 'doubtful', 'temper', 'flamingo', '.', 'Shall', 'try', 'experiment', \"?'\", \"'\", 'might', 'bite', \",'\", 'Alice', 'cautiously', 'replied', ',', 'feeling', 'anxious', 'experiment', 'tried', '.', \"'\", 'true', \",'\", 'said', 'Duchess', ':', \"'\", 'flamingoes', 'mustard', 'bite', '.', 'moral', '--\"', 'Birds', 'feather', 'flock', 'together', '.\"\\'', \"'\", 'mustard', \"'\", 'bird', \",'\", 'Alice', 'remarked', '.', \"'\", 'Right', ',', 'usual', \",'\", 'said', 'Duchess', ':', \"'\", 'clear', 'way', 'putting', 'things', \"!'\", \"'\", \"'\", 'mineral', ',', 'THINK', \",'\", 'said', 'Alice', '.', \"'\", 'course', \",'\", 'said', 'Duchess', ',', 'seemed', 'ready', 'agree', 'everything', 'Alice', 'said', ';', \"'\", \"'\", 'large', 'mustard', '-', 'mine', 'near', '.', 'moral', '--\"', 'mine', ',', 'less', '.\"\\'', \"'\", 'Oh', ',', 'know', \"!'\", 'exclaimed', 'Alice', ',', 'attended', 'last', 'remark', ',', \"'\", \"'\", 'vegetable', '.', \"'\", 'look', 'like', 'one', ',', \".'\", \"'\", 'quite', 'agree', \",'\", 'said', 'Duchess', ';', \"'\", 'moral', '--\"', 'would', 'seem', '\"--', \"'\", 'like', 'put', 'simply', '--\"', 'Never', 'imagine', 'otherwise', 'might', 'appear', 'others', 'might', 'otherwise', 'would', 'appeared', 'otherwise', '.\"\\'', \"'\", 'think', 'understand', 'better', \",'\", 'Alice', 'said', 'politely', ',', \"'\", 'written', ':', \"'\", 'quite', 'follow', 'say', \".'\", \"'\", \"'\", 'nothing', 'could', 'say', 'chose', \",'\", 'Duchess', 'replied', ',', 'pleased', 'tone', '.', \"'\", 'Pray', \"'\", 'trouble', 'say', 'longer', \",'\", 'said', 'Alice', '.', \"'\", 'Oh', ',', \"'\", 'talk', 'trouble', \"!'\", 'said', 'Duchess', '.', \"'\", 'make', 'present', 'everything', \"'\", 'said', 'yet', \".'\", \"'\", 'cheap', 'sort', 'present', \"!'\", 'thought', 'Alice', '.', \"'\", \"'\", 'glad', \"'\", 'give', 'birthday', 'presents', 'like', \"!'\", 'venture', 'say', 'loud', '.', \"'\", 'Thinking', \"?'\", 'Duchess', 'asked', ',', 'another', 'dig', 'sharp', 'little', 'chin', '.', \"'\", \"'\", 'right', 'think', \",'\", 'said', 'Alice', 'sharply', ',', 'beginning', 'feel', 'little', 'worried', '.', \"'\", 'much', 'right', \",'\", 'said', 'Duchess', ',', \"'\", 'pigs', 'fly', ';', \"--'\", ',', 'Alice', \"'\", 'great', 'surprise', ',', 'Duchess', \"'\", 'voice', 'died', 'away', ',', 'even', 'middle', 'favourite', 'word', \"'\", 'moral', \",'\", 'arm', 'linked', 'began', 'tremble', '.', 'Alice', 'looked', ',', 'stood', 'Queen', 'front', ',', 'arms', 'folded', ',', 'frowning', 'like', 'thunderstorm', '.', \"'\", 'fine', 'day', ',', 'Majesty', \"!'\", 'Duchess', 'began', 'low', ',', 'weak', 'voice', '.', \"'\", ',', 'give', 'fair', 'warning', \",'\", 'shouted', 'Queen', ',', 'stamping', 'ground', 'spoke', ';', \"'\", 'either', 'head', 'must', ',', 'half', 'time', '!', 'Take', 'choice', \"!'\", 'Duchess', 'took', 'choice', ',', 'gone', 'moment', '.', \"'\", 'Let', \"'\", 'go', 'game', \",'\", 'Queen', 'said', 'Alice', ';', 'Alice', 'much', 'frightened', 'say', 'word', ',', 'slowly', 'followed', 'back', 'croquet', '-', 'ground', '.', 'guests', 'taken', 'advantage', 'Queen', \"'\", 'absence', ',', 'resting', 'shade', ':', 'however', ',', 'moment', 'saw', ',', 'hurried', 'back', 'game', ',', 'Queen', 'merely', 'remarking', 'moment', \"'\", 'delay', 'would', 'cost', 'lives', '.', 'time', 'playing', 'Queen', 'never', 'left', 'quarrelling', 'players', ',', 'shouting', \"'\", 'head', \"!'\", \"'\", 'head', \"!'\", 'sentenced', 'taken', 'custody', 'soldiers', ',', 'course', 'leave', 'arches', ',', 'end', 'half', 'hour', 'arches', 'left', ',', 'players', ',', 'except', 'King', ',', 'Queen', ',', 'Alice', ',', 'custody', 'sentence', 'execution', '.', 'Queen', 'left', ',', 'quite', 'breath', ',', 'said', 'Alice', ',', \"'\", 'seen', 'Mock', 'Turtle', 'yet', \"?'\", \"'\", \",'\", 'said', 'Alice', '.', \"'\", \"'\", 'even', 'know', 'Mock', 'Turtle', \".'\", \"'\", \"'\", 'thing', 'Mock', 'Turtle', 'Soup', 'made', \",'\", 'said', 'Queen', '.', \"'\", 'never', 'saw', 'one', ',', 'heard', 'one', \",'\", 'said', 'Alice', '.', \"'\", 'Come', ',', \",'\", 'said', 'Queen', ',', \"'\", 'shall', 'tell', 'history', \",'\", 'walked', 'together', ',', 'Alice', 'heard', 'King', 'say', 'low', 'voice', ',', 'company', 'generally', ',', \"'\", 'pardoned', \".'\", \"'\", 'Come', ',', \"'\", 'good', 'thing', \"!'\", 'said', ',', 'felt', 'quite', 'unhappy', 'number', 'executions', 'Queen', 'ordered', '.', 'soon', 'came', 'upon', 'Gryphon', ',', 'lying', 'fast', 'asleep', 'sun', '.', '(', \"'\", 'know', 'Gryphon', ',', 'look', 'picture', '.)', \"'\", ',', 'lazy', 'thing', \"!'\", 'said', 'Queen', ',', \"'\", 'take', 'young', 'lady', 'see', 'Mock', 'Turtle', ',', 'hear', 'history', '.', 'must', 'go', 'back', 'see', 'executions', 'ordered', \"';\", 'walked', ',', 'leaving', 'Alice', 'alone', 'Gryphon', '.', 'Alice', 'quite', 'like', 'look', 'creature', ',', 'whole', 'thought', 'would', 'quite', 'safe', 'stay', 'go', 'savage', 'Queen', ':', 'waited', '.', 'Gryphon', 'sat', 'rubbed', 'eyes', ':', 'watched', 'Queen', 'till', 'sight', ':', 'chuckled', '.', \"'\", 'fun', \"!'\", 'said', 'Gryphon', ',', 'half', ',', 'half', 'Alice', '.', \"'\", 'fun', \"?'\", 'said', 'Alice', '.', \"'\", ',', \",'\", 'said', 'Gryphon', '.', \"'\", \"'\", 'fancy', ',', ':', 'never', 'executes', 'nobody', ',', 'know', '.', 'Come', \"!'\", \"'\", 'Everybody', 'says', '\"', 'come', '!\"', \",'\", 'thought', 'Alice', ',', 'went', 'slowly', ':', \"'\", 'never', 'ordered', 'life', ',', 'never', \"!'\", 'gone', 'far', 'saw', 'Mock', 'Turtle', 'distance', ',', 'sitting', 'sad', 'lonely', 'little', 'ledge', 'rock', ',', ',', 'came', 'nearer', ',', 'Alice', 'could', 'hear', 'sighing', 'heart', 'would', 'break', '.', 'pitied', 'deeply', '.', \"'\", 'sorrow', \"?'\", 'asked', 'Gryphon', ',', 'Gryphon', 'answered', ',', 'nearly', 'words', ',', \"'\", \"'\", 'fancy', ',', ':', \"'\", 'got', 'sorrow', ',', 'know', '.', 'Come', \"!'\", 'went', 'Mock', 'Turtle', ',', 'looked', 'large', 'eyes', 'full', 'tears', ',', 'said', 'nothing', '.', \"'\", 'young', 'lady', \",'\", 'said', 'Gryphon', ',', \"'\", 'wants', 'know', 'history', ',', \".'\", \"'\", \"'\", 'tell', \",'\", 'said', 'Mock', 'Turtle', 'deep', ',', 'hollow', 'tone', ':', \"'\", 'sit', ',', ',', \"'\", 'speak', 'word', 'till', \"'\", 'finished', \".'\", 'sat', ',', 'nobody', 'spoke', 'minutes', '.', 'Alice', 'thought', ',', \"'\", \"'\", 'see', 'EVEN', 'finish', ',', \"'\", 'begin', \".'\", 'waited', 'patiently', '.', \"'\", \",'\", 'said', 'Mock', 'Turtle', 'last', ',', 'deep', 'sigh', ',', \"'\", 'real', 'Turtle', \".'\", 'words', 'followed', 'long', 'silence', ',', 'broken', 'occasional', 'exclamation', \"'\", 'Hjckrrh', \"!'\", 'Gryphon', ',', 'constant', 'heavy', 'sobbing', 'Mock', 'Turtle', '.', 'Alice', 'nearly', 'getting', 'saying', ',', \"'\", 'Thank', ',', 'sir', ',', 'interesting', 'story', \",'\", 'could', 'help', 'thinking', 'MUST', 'come', ',', 'sat', 'still', 'said', 'nothing', '.', \"'\", 'little', \",'\", 'Mock', 'Turtle', 'went', 'last', ',', 'calmly', ',', 'though', 'still', 'sobbing', 'little', ',', \"'\", 'went', 'school', 'sea', '.', 'master', 'old', 'Turtle', '--', 'used', 'call', 'Tortoise', \"--'\", \"'\", 'call', 'Tortoise', ',', \"'\", 'one', \"?'\", 'Alice', 'asked', '.', \"'\", 'called', 'Tortoise', 'taught', 'us', \",'\", 'said', 'Mock', 'Turtle', 'angrily', ':', \"'\", 'really', 'dull', \"!'\", \"'\", 'ought', 'ashamed', 'asking', 'simple', 'question', \",'\", 'added', 'Gryphon', ';', 'sat', 'silent', 'looked', 'poor', 'Alice', ',', 'felt', 'ready', 'sink', 'earth', '.', 'last', 'Gryphon', 'said', 'Mock', 'Turtle', ',', \"'\", 'Drive', ',', 'old', 'fellow', '!', \"'\", 'day', \"!'\", 'went', 'words', ':', \"'\", 'Yes', ',', 'went', 'school', 'sea', ',', 'though', 'mayn', \"'\", 'believe', \"--'\", \"'\", 'never', 'said', \"'\", \"!'\", 'interrupted', 'Alice', '.', \"'\", \",'\", 'said', 'Mock', 'Turtle', '.', \"'\", 'Hold', 'tongue', \"!'\", 'added', 'Gryphon', ',', 'Alice', 'could', 'speak', '.', 'Mock', 'Turtle', 'went', '.', \"'\", 'best', 'educations', '--', 'fact', ',', 'went', 'school', 'every', 'day', \"--'\", \"'\", \"'\", 'day', '-', 'school', ',', \",'\", 'said', 'Alice', ';', \"'\", \"'\", 'proud', \".'\", \"'\", 'extras', \"?'\", 'asked', 'Mock', 'Turtle', 'little', 'anxiously', '.', \"'\", 'Yes', \",'\", 'said', 'Alice', ',', \"'\", 'learned', 'French', 'music', \".'\", \"'\", 'washing', \"?'\", 'said', 'Mock', 'Turtle', '.', \"'\", 'Certainly', \"!'\", 'said', 'Alice', 'indignantly', '.', \"'\", 'Ah', '!', \"'\", 'really', 'good', 'school', \",'\", 'said', 'Mock', 'Turtle', 'tone', 'great', 'relief', '.', \"'\", 'end', 'bill', ',', '\"', 'French', ',', 'music', ',', 'WASHING', '--', 'extra', '.\"\\'', \"'\", \"'\", 'wanted', 'much', \",'\", 'said', 'Alice', ';', \"'\", 'living', 'bottom', 'sea', \".'\", \"'\", \"'\", 'afford', 'learn', \".'\", 'said', 'Mock', 'Turtle', 'sigh', '.', \"'\", 'took', 'regular', 'course', \".'\", \"'\", \"?'\", 'inquired', 'Alice', '.', \"'\", 'Reeling', 'Writhing', ',', 'course', ',', 'begin', \",'\", 'Mock', 'Turtle', 'replied', ';', \"'\", 'different', 'branches', 'Arithmetic', '--', 'Ambition', ',', 'Distraction', ',', 'Uglification', ',', 'Derision', \".'\", \"'\", 'never', 'heard', '\"', 'Uglification', ',\"\\'', 'Alice', 'ventured', 'say', '.', \"'\", \"?'\", 'Gryphon', 'lifted', 'paws', 'surprise', '.', \"'\", '!', 'Never', 'heard', 'uglifying', \"!'\", 'exclaimed', '.', \"'\", 'know', 'beautify', ',', 'suppose', \"?'\", \"'\", 'Yes', \",'\", 'said', 'Alice', 'doubtfully', ':', \"'\", 'means', '--', '--', 'make', '--', 'anything', '--', 'prettier', \".'\", \"'\", 'Well', ',', \",'\", 'Gryphon', 'went', ',', \"'\", \"'\", 'know', 'uglify', ',', 'simpleton', \".'\", 'Alice', 'feel', 'encouraged', 'ask', 'questions', ',', 'turned', 'Mock', 'Turtle', ',', 'said', \"'\", 'else', 'learn', \"?'\", \"'\", 'Well', ',', 'Mystery', \",'\", 'Mock', 'Turtle', 'replied', ',', 'counting', 'subjects', 'flappers', ',', \"'--\", 'Mystery', ',', 'ancient', 'modern', ',', 'Seaography', ':', 'Drawling', '--', 'Drawling', '-', 'master', 'old', 'conger', '-', 'eel', ',', 'used', 'come', 'week', ':', 'taught', 'us', 'Drawling', ',', 'Stretching', ',', 'Fainting', 'Coils', \".'\", \"'\", 'like', \"?'\", 'said', 'Alice', '.', \"'\", 'Well', ',', \"'\", 'show', \",'\", 'Mock', 'Turtle', 'said', ':', \"'\", \"'\", 'stiff', '.', 'Gryphon', 'never', 'learnt', \".'\", \"'\", \"'\", 'time', \",'\", 'said', 'Gryphon', ':', \"'\", 'went', 'Classics', 'master', ',', 'though', '.', 'old', 'crab', ',', \".'\", \"'\", 'never', 'went', \",'\", 'Mock', 'Turtle', 'said', 'sigh', ':', \"'\", 'taught', 'Laughing', 'Grief', ',', 'used', 'say', \".'\", \"'\", ',', \",'\", 'said', 'Gryphon', ',', 'sighing', 'turn', ';', 'creatures', 'hid', 'faces', 'paws', '.', \"'\", 'many', 'hours', 'day', 'lessons', \"?'\", 'said', 'Alice', ',', 'hurry', 'change', 'subject', '.', \"'\", 'Ten', 'hours', 'first', 'day', \",'\", 'said', 'Mock', 'Turtle', ':', \"'\", 'nine', 'next', ',', \".'\", \"'\", 'curious', 'plan', \"!'\", 'exclaimed', 'Alice', '.', \"'\", \"'\", 'reason', \"'\", 'called', 'lessons', \",'\", 'Gryphon', 'remarked', ':', \"'\", 'lessen', 'day', 'day', \".'\", 'quite', 'new', 'idea', 'Alice', ',', 'thought', 'little', 'made', 'next', 'remark', '.', \"'\", 'eleventh', 'day', 'must', 'holiday', \"?'\", \"'\", 'course', \",'\", 'said', 'Mock', 'Turtle', '.', \"'\", 'manage', 'twelfth', \"?'\", 'Alice', 'went', 'eagerly', '.', \"'\", \"'\", 'enough', 'lessons', \",'\", 'Gryphon', 'interrupted', 'decided', 'tone', ':', \"'\", 'tell', 'something', 'games', \".'\", 'CHAPTER', 'X', '.', 'Lobster', 'Quadrille', 'Mock', 'Turtle', 'sighed', 'deeply', ',', 'drew', 'back', 'one', 'flapper', 'across', 'eyes', '.', 'looked', 'Alice', ',', 'tried', 'speak', ',', 'minute', 'two', 'sobs', 'choked', 'voice', '.', \"'\", 'bone', 'throat', \",'\", 'said', 'Gryphon', ':', 'set', 'work', 'shaking', 'punching', 'back', '.', 'last', 'Mock', 'Turtle', 'recovered', 'voice', ',', ',', 'tears', 'running', 'cheeks', ',', 'went', ':--', \"'\", 'may', 'lived', 'much', 'sea', \"--'\", \"('\", \"'\", \",'\", 'said', 'Alice', \")--'\", 'perhaps', 'never', 'even', 'introduced', 'lobster', \"--'\", '(', 'Alice', 'began', 'say', \"'\", 'tasted', \"--'\", 'checked', 'hastily', ',', 'said', \"'\", ',', 'never', \"')\", \"'--\", 'idea', 'delightful', 'thing', 'Lobster', 'Quadrille', \"!'\", \"'\", ',', 'indeed', \",'\", 'said', 'Alice', '.', \"'\", 'sort', 'dance', \"?'\", \"'\", \",'\", 'said', 'Gryphon', ',', \"'\", 'first', 'form', 'line', 'along', 'sea', '-', 'shore', \"--'\", \"'\", 'Two', 'lines', \"!'\", 'cried', 'Mock', 'Turtle', '.', \"'\", 'Seals', ',', 'turtles', ',', 'salmon', ',', ';', ',', \"'\", 'cleared', 'jelly', '-', 'fish', 'way', \"--'\", \"'\", 'generally', 'takes', 'time', \",'\", 'interrupted', 'Gryphon', '.', \"'--\", 'advance', 'twice', \"--'\", \"'\", 'lobster', 'partner', \"!'\", 'cried', 'Gryphon', '.', \"'\", 'course', \",'\", 'Mock', 'Turtle', 'said', ':', \"'\", 'advance', 'twice', ',', 'set', 'partners', \"--'\", \"'--\", 'change', 'lobsters', ',', 'retire', 'order', \",'\", 'continued', 'Gryphon', '.', \"'\", ',', 'know', \",'\", 'Mock', 'Turtle', 'went', ',', \"'\", 'throw', \"--'\", \"'\", 'lobsters', \"!'\", 'shouted', 'Gryphon', ',', 'bound', 'air', '.', \"'--\", 'far', 'sea', \"--'\", \"'\", 'Swim', \"!'\", 'screamed', 'Gryphon', '.', \"'\", 'Turn', 'somersault', 'sea', \"!'\", 'cried', 'Mock', 'Turtle', ',', 'capering', 'wildly', '.', \"'\", 'Change', 'lobsters', \"!'\", 'yelled', 'Gryphon', 'top', 'voice', '.', \"'\", 'Back', 'land', ',', \"'\", 'first', 'figure', \",'\", 'said', 'Mock', 'Turtle', ',', 'suddenly', 'dropping', 'voice', ';', 'two', 'creatures', ',', 'jumping', 'like', 'mad', 'things', 'time', ',', 'sat', 'sadly', 'quietly', ',', 'looked', 'Alice', '.', \"'\", 'must', 'pretty', 'dance', \",'\", 'said', 'Alice', 'timidly', '.', \"'\", 'Would', 'like', 'see', 'little', \"?'\", 'said', 'Mock', 'Turtle', '.', \"'\", 'much', 'indeed', \",'\", 'said', 'Alice', '.', \"'\", 'Come', ',', 'let', \"'\", 'try', 'first', 'figure', \"!'\", 'said', 'Mock', 'Turtle', 'Gryphon', '.', \"'\", 'without', 'lobsters', ',', 'know', '.', 'shall', 'sing', \"?'\", \"'\", 'Oh', ',', 'sing', \",'\", 'said', 'Gryphon', '.', \"'\", \"'\", 'forgotten', 'words', \".'\", 'began', 'solemnly', 'dancing', 'round', 'round', 'Alice', ',', 'every', 'treading', 'toes', 'passed', 'close', ',', 'waving', 'forepaws', 'mark', 'time', ',', 'Mock', 'Turtle', 'sang', ',', 'slowly', 'sadly', ':--', '\\'\"', 'walk', 'little', 'faster', '?\"', 'said', 'whiting', 'snail', '.', '\"', \"'\", 'porpoise', 'close', 'behind', 'us', ',', \"'\", 'treading', 'tail', '.', 'See', 'eagerly', 'lobsters', 'turtles', 'advance', '!', 'waiting', 'shingle', '--', 'come', 'join', 'dance', '?', ',', \"'\", ',', ',', \"'\", ',', 'join', 'dance', '?', ',', \"'\", ',', ',', \"'\", ',', \"'\", 'join', 'dance', '?', '\"', 'really', 'notion', 'delightful', 'take', 'us', 'throw', 'us', ',', 'lobsters', ',', 'sea', '!\"', 'snail', 'replied', '\"', 'far', ',', 'far', '!\"', 'gave', 'look', 'askance', '--', 'Said', 'thanked', 'whiting', 'kindly', ',', 'would', 'join', 'dance', '.', 'Would', ',', 'could', ',', 'would', ',', 'could', ',', 'would', 'join', 'dance', '.', 'Would', ',', 'could', ',', 'would', ',', 'could', ',', 'could', 'join', 'dance', '.', '\\'\"', 'matters', 'far', 'go', '?\"', 'scaly', 'friend', 'replied', '.', '\"', 'another', 'shore', ',', 'know', ',', 'upon', 'side', '.', 'England', 'nearer', 'France', '--', 'turn', 'pale', ',', 'beloved', 'snail', ',', 'come', 'join', 'dance', '.', ',', \"'\", ',', ',', \"'\", ',', 'join', 'dance', '?', ',', \"'\", ',', ',', \"'\", ',', \"'\", 'join', 'dance', '?\"\\'', \"'\", 'Thank', ',', \"'\", 'interesting', 'dance', 'watch', \",'\", 'said', 'Alice', ',', 'feeling', 'glad', 'last', ':', \"'\", 'like', 'curious', 'song', 'whiting', \"!'\", \"'\", 'Oh', ',', 'whiting', \",'\", 'said', 'Mock', 'Turtle', ',', \"'\", '--', \"'\", 'seen', ',', 'course', \"?'\", \"'\", 'Yes', \",'\", 'said', 'Alice', ',', \"'\", \"'\", 'often', 'seen', 'dinn', \"--'\", 'checked', 'hastily', '.', \"'\", \"'\", 'know', 'Dinn', 'may', \",'\", 'said', 'Mock', 'Turtle', ',', \"'\", \"'\", 'seen', 'often', ',', 'course', 'know', \"'\", 'like', \".'\", \"'\", 'believe', \",'\", 'Alice', 'replied', 'thoughtfully', '.', \"'\", 'tails', 'mouths', '--', \"'\", 'crumbs', \".'\", \"'\", \"'\", 'wrong', 'crumbs', \",'\", 'said', 'Mock', 'Turtle', ':', \"'\", 'crumbs', 'would', 'wash', 'sea', '.', 'tails', 'mouths', ';', 'reason', \"--'\", 'Mock', 'Turtle', 'yawned', 'shut', 'eyes', \".--'\", 'Tell', 'reason', \",'\", 'said', 'Gryphon', '.', \"'\", 'reason', \",'\", 'said', 'Gryphon', ',', \"'\", 'WOULD', 'go', 'lobsters', 'dance', '.', 'got', 'thrown', 'sea', '.', 'fall', 'long', 'way', '.', 'got', 'tails', 'fast', 'mouths', '.', \"'\", 'get', '.', \"'\", \".'\", \"'\", 'Thank', \",'\", 'said', 'Alice', ',', \"'\", \"'\", 'interesting', '.', 'never', 'knew', 'much', 'whiting', \".'\", \"'\", 'tell', ',', 'like', \",'\", 'said', 'Gryphon', '.', \"'\", 'know', \"'\", 'called', 'whiting', \"?'\", \"'\", 'never', 'thought', \",'\", 'said', 'Alice', '.', \"'\", \"?'\", \"'\", 'BOOTS', 'SHOES', \".'\", 'Gryphon', 'replied', 'solemnly', '.', 'Alice', 'thoroughly', 'puzzled', '.', \"'\", 'boots', 'shoes', \"!'\", 'repeated', 'wondering', 'tone', '.', \"'\", ',', 'shoes', 'done', \"?'\", 'said', 'Gryphon', '.', \"'\", 'mean', ',', 'makes', 'shiny', \"?'\", 'Alice', 'looked', ',', 'considered', 'little', 'gave', 'answer', '.', \"'\", \"'\", 'done', 'blacking', ',', 'believe', \".'\", \"'\", 'Boots', 'shoes', 'sea', \",'\", 'Gryphon', 'went', 'deep', 'voice', ',', \"'\", 'done', 'whiting', '.', 'know', \".'\", \"'\", 'made', \"?'\", 'Alice', 'asked', 'tone', 'great', 'curiosity', '.', \"'\", 'Soles', 'eels', ',', 'course', \",'\", 'Gryphon', 'replied', 'rather', 'impatiently', ':', \"'\", 'shrimp', 'could', 'told', \".'\", \"'\", \"'\", 'whiting', \",'\", 'said', 'Alice', ',', 'whose', 'thoughts', 'still', 'running', 'song', ',', \"'\", \"'\", 'said', 'porpoise', ',', '\"', 'Keep', 'back', ',', 'please', ':', \"'\", 'want', 'us', '!\"\\'', \"'\", 'obliged', \",'\", 'Mock', 'Turtle', 'said', ':', \"'\", 'wise', 'fish', 'would', 'go', 'anywhere', 'without', 'porpoise', \".'\", \"'\", \"'\", 'really', \"?'\", 'said', 'Alice', 'tone', 'great', 'surprise', '.', \"'\", 'course', \",'\", 'said', 'Mock', 'Turtle', ':', \"'\", ',', 'fish', 'came', ',', 'told', 'going', 'journey', ',', 'say', '\"', 'porpoise', '?\"\\'', \"'\", \"'\", 'mean', '\"', 'purpose', '\"?\\'', 'said', 'Alice', '.', \"'\", 'mean', 'say', \",'\", 'Mock', 'Turtle', 'replied', 'offended', 'tone', '.', 'Gryphon', 'added', \"'\", 'Come', ',', 'let', \"'\", 'hear', 'adventures', \".'\", \"'\", 'could', 'tell', 'adventures', '--', 'beginning', 'morning', \",'\", 'said', 'Alice', 'little', 'timidly', ':', \"'\", \"'\", 'use', 'going', 'back', 'yesterday', ',', 'different', 'person', \".'\", \"'\", 'Explain', \",'\", 'said', 'Mock', 'Turtle', '.', \"'\", ',', '!', 'adventures', 'first', \",'\", 'said', 'Gryphon', 'impatient', 'tone', ':', \"'\", 'explanations', 'take', 'dreadful', 'time', \".'\", 'Alice', 'began', 'telling', 'adventures', 'time', 'first', 'saw', 'White', 'Rabbit', '.', 'little', 'nervous', 'first', ',', 'two', 'creatures', 'got', 'close', ',', 'one', 'side', ',', 'opened', 'eyes', 'mouths', 'wide', ',', 'gained', 'courage', 'went', '.', 'listeners', 'perfectly', 'quiet', 'till', 'got', 'part', 'repeating', \"'\", 'OLD', ',', 'FATHER', 'WILLIAM', \",'\", 'Caterpillar', ',', 'words', 'coming', 'different', ',', 'Mock', 'Turtle', 'drew', 'long', 'breath', ',', 'said', \"'\", \"'\", 'curious', \".'\", \"'\", \"'\", 'curious', \",'\", 'said', 'Gryphon', '.', \"'\", 'came', 'different', \"!'\", 'Mock', 'Turtle', 'repeated', 'thoughtfully', '.', \"'\", 'like', 'hear', 'try', 'repeat', 'something', '.', 'Tell', 'begin', \".'\", 'looked', 'Gryphon', 'thought', 'kind', 'authority', 'Alice', '.', \"'\", 'Stand', 'repeat', '\"\\'', 'TIS', 'VOICE', 'SLUGGARD', ',\"\\'', 'said', 'Gryphon', '.', \"'\", 'creatures', 'order', 'one', ',', 'make', 'one', 'repeat', 'lessons', \"!'\", 'thought', 'Alice', ';', \"'\", 'might', 'well', 'school', \".'\", 'However', ',', 'got', ',', 'began', 'repeat', ',', 'head', 'full', 'Lobster', 'Quadrille', ',', 'hardly', 'knew', 'saying', ',', 'words', 'came', 'queer', 'indeed', ':--', \"''\", 'Tis', 'voice', 'Lobster', ';', 'heard', 'declare', ',', '\"', 'baked', 'brown', ',', 'must', 'sugar', 'hair', '.\"', 'duck', 'eyelids', ',', 'nose', 'Trims', 'belt', 'buttons', ',', 'turns', 'toes', \".'\", '[', 'later', 'editions', 'continued', 'follows', 'sands', 'dry', ',', 'gay', 'lark', ',', 'talk', 'contemptuous', 'tones', 'Shark', ',', ',', 'tide', 'rises', 'sharks', 'around', ',', 'voice', 'timid', 'tremulous', 'sound', '.]', \"'\", \"'\", 'different', 'used', 'say', 'child', \",'\", 'said', 'Gryphon', '.', \"'\", 'Well', ',', 'never', 'heard', \",'\", 'said', 'Mock', 'Turtle', ';', \"'\", 'sounds', 'uncommon', 'nonsense', \".'\", 'Alice', 'said', 'nothing', ';', 'sat', 'face', 'hands', ',', 'wondering', 'anything', 'would', 'EVER', 'happen', 'natural', 'way', '.', \"'\", 'like', 'explained', \",'\", 'said', 'Mock', 'Turtle', '.', \"'\", \"'\", 'explain', \",'\", 'said', 'Gryphon', 'hastily', '.', \"'\", 'Go', 'next', 'verse', \".'\", \"'\", 'toes', \"?'\", 'Mock', 'Turtle', 'persisted', '.', \"'\", 'COULD', 'turn', 'nose', ',', 'know', \"?'\", \"'\", \"'\", 'first', 'position', 'dancing', \".'\", 'Alice', 'said', ';', 'dreadfully', 'puzzled', 'whole', 'thing', ',', 'longed', 'change', 'subject', '.', \"'\", 'Go', 'next', 'verse', \",'\", 'Gryphon', 'repeated', 'impatiently', ':', \"'\", 'begins', '\"', 'passed', 'garden', '.\"\\'', 'Alice', 'dare', 'disobey', ',', 'though', 'felt', 'sure', 'would', 'come', 'wrong', ',', 'went', 'trembling', 'voice', ':--', \"'\", 'passed', 'garden', ',', 'marked', ',', 'one', 'eye', ',', 'Owl', 'Panther', 'sharing', 'pie', \"--'\", '[', 'later', 'editions', 'continued', 'follows', 'Panther', 'took', 'pie', '-', 'crust', ',', 'gravy', ',', 'meat', ',', 'Owl', 'dish', 'share', 'treat', '.', 'pie', 'finished', ',', 'Owl', ',', 'boon', ',', 'kindly', 'permitted', 'pocket', 'spoon', ':', 'Panther', 'received', 'knife', 'fork', 'growl', ',', 'concluded', 'banquet', '--]', \"'\", 'use', 'repeating', 'stuff', \",'\", 'Mock', 'Turtle', 'interrupted', ',', \"'\", \"'\", 'explain', 'go', '?', \"'\", 'far', 'confusing', 'thing', 'ever', 'heard', \"!'\", \"'\", 'Yes', ',', 'think', \"'\", 'better', 'leave', \",'\", 'said', 'Gryphon', ':', 'Alice', 'glad', '.', \"'\", 'Shall', 'try', 'another', 'figure', 'Lobster', 'Quadrille', \"?'\", 'Gryphon', 'went', '.', \"'\", 'would', 'like', 'Mock', 'Turtle', 'sing', 'song', \"?'\", \"'\", 'Oh', ',', 'song', ',', 'please', ',', 'Mock', 'Turtle', 'would', 'kind', \",'\", 'Alice', 'replied', ',', 'eagerly', 'Gryphon', 'said', ',', 'rather', 'offended', 'tone', ',', \"'\", 'Hm', '!', 'accounting', 'tastes', '!', 'Sing', '\"', 'Turtle', 'Soup', ',\"', ',', 'old', 'fellow', \"?'\", 'Mock', 'Turtle', 'sighed', 'deeply', ',', 'began', ',', 'voice', 'sometimes', 'choked', 'sobs', ',', 'sing', ':--', \"'\", 'Beautiful', 'Soup', ',', 'rich', 'green', ',', 'Waiting', 'hot', 'tureen', '!', 'dainties', 'would', 'stoop', '?', 'Soup', 'evening', ',', 'beautiful', 'Soup', '!', 'Soup', 'evening', ',', 'beautiful', 'Soup', '!', 'Beau', '--', 'ootiful', 'Soo', '--', 'oop', '!', 'Beau', '--', 'ootiful', 'Soo', '--', 'oop', '!', 'Soo', '--', 'oop', 'e', '--', 'e', '--', 'evening', ',', 'Beautiful', ',', 'beautiful', 'Soup', '!', \"'\", 'Beautiful', 'Soup', '!', 'cares', 'fish', ',', 'Game', ',', 'dish', '?', 'would', 'give', 'else', 'two', 'Pennyworth', 'beautiful', 'Soup', '?', 'Pennyworth', 'beautiful', 'Soup', '?', 'Beau', '--', 'ootiful', 'Soo', '--', 'oop', '!', 'Beau', '--', 'ootiful', 'Soo', '--', 'oop', '!', 'Soo', '--', 'oop', 'e', '--', 'e', '--', 'evening', ',', 'Beautiful', ',', 'beauti', '--', 'FUL', 'SOUP', \"!'\", \"'\", 'Chorus', \"!'\", 'cried', 'Gryphon', ',', 'Mock', 'Turtle', 'begun', 'repeat', ',', 'cry', \"'\", 'trial', \"'\", 'beginning', \"!'\", 'heard', 'distance', '.', \"'\", 'Come', \"!'\", 'cried', 'Gryphon', ',', ',', 'taking', 'Alice', 'hand', ',', 'hurried', ',', 'without', 'waiting', 'end', 'song', '.', \"'\", 'trial', \"?'\", 'Alice', 'panted', 'ran', ';', 'Gryphon', 'answered', \"'\", 'Come', \"!'\", 'ran', 'faster', ',', 'faintly', 'came', ',', 'carried', 'breeze', 'followed', ',', 'melancholy', 'words', ':--', \"'\", 'Soo', '--', 'oop', 'e', '--', 'e', '--', 'evening', ',', 'Beautiful', ',', 'beautiful', 'Soup', \"!'\", 'CHAPTER', 'XI', '.', 'Stole', 'Tarts', '?', 'King', 'Queen', 'Hearts', 'seated', 'throne', 'arrived', ',', 'great', 'crowd', 'assembled', '--', 'sorts', 'little', 'birds', 'beasts', ',', 'well', 'whole', 'pack', 'cards', ':', 'Knave', 'standing', ',', 'chains', ',', 'soldier', 'side', 'guard', ';', 'near', 'King', 'White', 'Rabbit', ',', 'trumpet', 'one', 'hand', ',', 'scroll', 'parchment', '.', 'middle', 'court', 'table', ',', 'large', 'dish', 'tarts', 'upon', ':', 'looked', 'good', ',', 'made', 'Alice', 'quite', 'hungry', 'look', \"--'\", 'wish', \"'\", 'get', 'trial', 'done', \",'\", 'thought', ',', \"'\", 'hand', 'round', 'refreshments', \"!'\", 'seemed', 'chance', ',', 'began', 'looking', 'everything', ',', 'pass', 'away', 'time', '.', 'Alice', 'never', 'court', 'justice', ',', 'read', 'books', ',', 'quite', 'pleased', 'find', 'knew', 'name', 'nearly', 'everything', '.', \"'\", \"'\", 'judge', \",'\", 'said', ',', \"'\", 'great', 'wig', \".'\", 'judge', ',', 'way', ',', 'King', ';', 'wore', 'crown', 'wig', ',', '(', 'look', 'frontispiece', 'want', 'see', ',)', 'look', 'comfortable', ',', 'certainly', 'becoming', '.', \"'\", \"'\", 'jury', '-', 'box', \",'\", 'thought', 'Alice', ',', \"'\", 'twelve', 'creatures', \",'\", '(', 'obliged', 'say', \"'\", 'creatures', \",'\", 'see', ',', 'animals', ',', 'birds', ',)', \"'\", 'suppose', 'jurors', \".'\", 'said', 'last', 'word', 'two', 'three', 'times', ',', 'rather', 'proud', ':', 'thought', ',', 'rightly', ',', 'little', 'girls', 'age', 'knew', 'meaning', '.', 'However', ',', \"'\", 'jury', '-', 'men', \"'\", 'would', 'done', 'well', '.', 'twelve', 'jurors', 'writing', 'busily', 'slates', '.', \"'\", \"?'\", 'Alice', 'whispered', 'Gryphon', '.', \"'\", \"'\", 'anything', 'put', 'yet', ',', 'trial', \"'\", 'begun', \".'\", \"'\", \"'\", 'putting', 'names', \",'\", 'Gryphon', 'whispered', 'reply', ',', \"'\", 'fear', 'forget', 'end', 'trial', \".'\", \"'\", 'Stupid', 'things', \"!'\", 'Alice', 'began', 'loud', ',', 'indignant', 'voice', ',', 'stopped', 'hastily', ',', 'White', 'Rabbit', 'cried', ',', \"'\", 'Silence', 'court', \"!'\", 'King', 'put', 'spectacles', 'looked', 'anxiously', 'round', ',', 'make', 'talking', '.', 'Alice', 'could', 'see', ',', 'well', 'looking', 'shoulders', ',', 'jurors', 'writing', \"'\", 'stupid', 'things', \"!'\", 'slates', ',', 'could', 'even', 'make', 'one', \"'\", 'know', 'spell', \"'\", 'stupid', \",'\", 'ask', 'neighbour', 'tell', '.', \"'\", 'nice', 'muddle', 'slates', \"'\", 'trial', \"'\", \"!'\", 'thought', 'Alice', '.', 'One', 'jurors', 'pencil', 'squeaked', '.', 'course', ',', 'Alice', 'could', 'stand', ',', 'went', 'round', 'court', 'got', 'behind', ',', 'soon', 'found', 'opportunity', 'taking', 'away', '.', 'quickly', 'poor', 'little', 'juror', '(', 'Bill', ',', 'Lizard', ')', 'could', 'make', 'become', ';', ',', 'hunting', ',', 'obliged', 'write', 'one', 'finger', 'rest', 'day', ';', 'little', 'use', ',', 'left', 'mark', 'slate', '.', \"'\", 'Herald', ',', 'read', 'accusation', \"!'\", 'said', 'King', '.', 'White', 'Rabbit', 'blew', 'three', 'blasts', 'trumpet', ',', 'unrolled', 'parchment', 'scroll', ',', 'read', 'follows', ':--', \"'\", 'Queen', 'Hearts', ',', 'made', 'tarts', ',', 'summer', 'day', ':', 'Knave', 'Hearts', ',', 'stole', 'tarts', ',', 'took', 'quite', 'away', \"!'\", \"'\", 'Consider', 'verdict', \",'\", 'King', 'said', 'jury', '.', \"'\", 'yet', ',', 'yet', \"!'\", 'Rabbit', 'hastily', 'interrupted', '.', \"'\", \"'\", 'great', 'deal', 'come', \"!'\", \"'\", 'Call', 'first', 'witness', \",'\", 'said', 'King', ';', 'White', 'Rabbit', 'blew', 'three', 'blasts', 'trumpet', ',', 'called', ',', \"'\", 'First', 'witness', \"!'\", 'first', 'witness', 'Hatter', '.', 'came', 'teacup', 'one', 'hand', 'piece', 'bread', '-', '-', 'butter', '.', \"'\", 'beg', 'pardon', ',', 'Majesty', \",'\", 'began', ',', \"'\", 'bringing', ':', \"'\", 'quite', 'finished', 'tea', 'sent', \".'\", \"'\", 'ought', 'finished', \",'\", 'said', 'King', '.', \"'\", 'begin', \"?'\", 'Hatter', 'looked', 'March', 'Hare', ',', 'followed', 'court', ',', 'arm', '-', '-', 'arm', 'Dormouse', '.', \"'\", 'Fourteenth', 'March', ',', 'think', \",'\", 'said', '.', \"'\", 'Fifteenth', \",'\", 'said', 'March', 'Hare', '.', \"'\", 'Sixteenth', \",'\", 'added', 'Dormouse', '.', \"'\", 'Write', \",'\", 'King', 'said', 'jury', ',', 'jury', 'eagerly', 'wrote', 'three', 'dates', 'slates', ',', 'added', ',', 'reduced', 'answer', 'shillings', 'pence', '.', \"'\", 'Take', 'hat', \",'\", 'King', 'said', 'Hatter', '.', \"'\", \"'\", 'mine', \",'\", 'said', 'Hatter', '.', \"'\", 'Stolen', \"!'\", 'King', 'exclaimed', ',', 'turning', 'jury', ',', 'instantly', 'made', 'memorandum', 'fact', '.', \"'\", 'keep', 'sell', \",'\", 'Hatter', 'added', 'explanation', ';', \"'\", \"'\", 'none', '.', \"'\", 'hatter', \".'\", 'Queen', 'put', 'spectacles', ',', 'began', 'staring', 'Hatter', ',', 'turned', 'pale', 'fidgeted', '.', \"'\", 'Give', 'evidence', \",'\", 'said', 'King', ';', \"'\", \"'\", 'nervous', ',', \"'\", 'executed', 'spot', \".'\", 'seem', 'encourage', 'witness', ':', 'kept', 'shifting', 'one', 'foot', ',', 'looking', 'uneasily', 'Queen', ',', 'confusion', 'bit', 'large', 'piece', 'teacup', 'instead', 'bread', '-', '-', 'butter', '.', 'moment', 'Alice', 'felt', 'curious', 'sensation', ',', 'puzzled', 'good', 'deal', 'made', ':', 'beginning', 'grow', 'larger', ',', 'thought', 'first', 'would', 'get', 'leave', 'court', ';', 'second', 'thoughts', 'decided', 'remain', 'long', 'room', '.', \"'\", 'wish', \"'\", 'squeeze', \".'\", 'said', 'Dormouse', ',', 'sitting', 'next', '.', \"'\", 'hardly', 'breathe', \".'\", \"'\", \"'\", 'help', \",'\", 'said', 'Alice', 'meekly', ':', \"'\", \"'\", 'growing', \".'\", \"'\", \"'\", 'right', 'grow', \",'\", 'said', 'Dormouse', '.', \"'\", \"'\", 'talk', 'nonsense', \",'\", 'said', 'Alice', 'boldly', ':', \"'\", 'know', \"'\", 'growing', \".'\", \"'\", 'Yes', ',', 'grow', 'reasonable', 'pace', \",'\", 'said', 'Dormouse', ':', \"'\", 'ridiculous', 'fashion', \".'\", 'got', 'sulkily', 'crossed', 'side', 'court', '.', 'time', 'Queen', 'never', 'left', 'staring', 'Hatter', ',', ',', 'Dormouse', 'crossed', 'court', ',', 'said', 'one', 'officers', 'court', ',', \"'\", 'Bring', 'list', 'singers', 'last', 'concert', \"!'\", 'wretched', 'Hatter', 'trembled', ',', 'shook', 'shoes', '.', \"'\", 'Give', 'evidence', \",'\", 'King', 'repeated', 'angrily', ',', \"'\", \"'\", 'executed', ',', 'whether', \"'\", 'nervous', \".'\", \"'\", \"'\", 'poor', 'man', ',', 'Majesty', \",'\", 'Hatter', 'began', ',', 'trembling', 'voice', ',', \"'--\", \"'\", 'begun', 'tea', '--', 'week', '--', 'bread', '-', '-', 'butter', 'getting', 'thin', '--', 'twinkling', 'tea', \"--'\", \"'\", 'twinkling', \"?'\", 'said', 'King', '.', \"'\", 'began', 'tea', \",'\", 'Hatter', 'replied', '.', \"'\", 'course', 'twinkling', 'begins', \"!'\", 'said', 'King', 'sharply', '.', \"'\", 'take', 'dunce', '?', 'Go', \"!'\", \"'\", \"'\", 'poor', 'man', \",'\", 'Hatter', 'went', ',', \"'\", 'things', 'twinkled', '--', 'March', 'Hare', 'said', \"--'\", \"'\", \"'\", \"!'\", 'March', 'Hare', 'interrupted', 'great', 'hurry', '.', \"'\", \"!'\", 'said', 'Hatter', '.', \"'\", 'deny', \"!'\", 'said', 'March', 'Hare', '.', \"'\", 'denies', \",'\", 'said', 'King', ':', \"'\", 'leave', 'part', \".'\", \"'\", 'Well', ',', 'rate', ',', 'Dormouse', 'said', \"--'\", 'Hatter', 'went', ',', 'looking', 'anxiously', 'round', 'see', 'would', 'deny', ':', 'Dormouse', 'denied', 'nothing', ',', 'fast', 'asleep', '.', \"'\", \",'\", 'continued', 'Hatter', ',', \"'\", 'cut', 'bread', '-', '-', 'butter', \"--'\", \"'\", 'Dormouse', 'say', \"?'\", 'one', 'jury', 'asked', '.', \"'\", \"'\", 'remember', \",'\", 'said', 'Hatter', '.', \"'\", 'MUST', 'remember', \",'\", 'remarked', 'King', ',', \"'\", \"'\", 'executed', \".'\", 'miserable', 'Hatter', 'dropped', 'teacup', 'bread', '-', '-', 'butter', ',', 'went', 'one', 'knee', '.', \"'\", \"'\", 'poor', 'man', ',', 'Majesty', \",'\", 'began', '.', \"'\", \"'\", 'poor', 'speaker', \",'\", 'said', 'King', '.', 'one', 'guinea', '-', 'pigs', 'cheered', ',', 'immediately', 'suppressed', 'officers', 'court', '.', '(', 'rather', 'hard', 'word', ',', 'explain', 'done', '.', 'large', 'canvas', 'bag', ',', 'tied', 'mouth', 'strings', ':', 'slipped', 'guinea', '-', 'pig', ',', 'head', 'first', ',', 'sat', 'upon', '.)', \"'\", \"'\", 'glad', \"'\", 'seen', 'done', \",'\", 'thought', 'Alice', '.', \"'\", \"'\", 'often', 'read', 'newspapers', ',', 'end', 'trials', ',', '\"', 'attempts', 'applause', ',', 'immediately', 'suppressed', 'officers', 'court', ',\"', 'never', 'understood', 'meant', 'till', \".'\", \"'\", \"'\", 'know', ',', 'may', 'stand', \",'\", 'continued', 'King', '.', \"'\", \"'\", 'go', 'lower', \",'\", 'said', 'Hatter', ':', \"'\", \"'\", 'floor', ',', \".'\", \"'\", 'may', 'SIT', \",'\", 'King', 'replied', '.', 'guinea', '-', 'pig', 'cheered', ',', 'suppressed', '.', \"'\", 'Come', ',', 'finished', 'guinea', '-', 'pigs', \"!'\", 'thought', 'Alice', '.', \"'\", 'shall', 'get', 'better', \".'\", \"'\", \"'\", 'rather', 'finish', 'tea', \",'\", 'said', 'Hatter', ',', 'anxious', 'look', 'Queen', ',', 'reading', 'list', 'singers', '.', \"'\", 'may', 'go', \",'\", 'said', 'King', ',', 'Hatter', 'hurriedly', 'left', 'court', ',', 'without', 'even', 'waiting', 'put', 'shoes', '.', \"'--\", 'take', 'head', 'outside', \",'\", 'Queen', 'added', 'one', 'officers', ':', 'Hatter', 'sight', 'officer', 'could', 'get', 'door', '.', \"'\", 'Call', 'next', 'witness', \"!'\", 'said', 'King', '.', 'next', 'witness', 'Duchess', \"'\", 'cook', '.', 'carried', 'pepper', '-', 'box', 'hand', ',', 'Alice', 'guessed', ',', 'even', 'got', 'court', ',', 'way', 'people', 'near', 'door', 'began', 'sneezing', '.', \"'\", 'Give', 'evidence', \",'\", 'said', 'King', '.', \"'\", \"'\", \",'\", 'said', 'cook', '.', 'King', 'looked', 'anxiously', 'White', 'Rabbit', ',', 'said', 'low', 'voice', ',', \"'\", 'Majesty', 'must', 'cross', '-', 'examine', 'witness', \".'\", \"'\", 'Well', ',', 'must', ',', 'must', \",'\", 'King', 'said', ',', 'melancholy', 'air', ',', ',', 'folding', 'arms', 'frowning', 'cook', 'till', 'eyes', 'nearly', 'sight', ',', 'said', 'deep', 'voice', ',', \"'\", 'tarts', 'made', \"?'\", \"'\", 'Pepper', ',', 'mostly', \",'\", 'said', 'cook', '.', \"'\", 'Treacle', \",'\", 'said', 'sleepy', 'voice', 'behind', '.', \"'\", 'Collar', 'Dormouse', \",'\", 'Queen', 'shrieked', '.', \"'\", 'Behead', 'Dormouse', '!', 'Turn', 'Dormouse', 'court', '!', 'Suppress', '!', 'Pinch', '!', 'whiskers', \"!'\", 'minutes', 'whole', 'court', 'confusion', ',', 'getting', 'Dormouse', 'turned', ',', ',', 'time', 'settled', ',', 'cook', 'disappeared', '.', \"'\", 'Never', 'mind', \"!'\", 'said', 'King', ',', 'air', 'great', 'relief', '.', \"'\", 'Call', 'next', 'witness', \".'\", 'added', 'undertone', 'Queen', ',', \"'\", 'Really', ',', 'dear', ',', 'must', 'cross', '-', 'examine', 'next', 'witness', '.', 'quite', 'makes', 'forehead', 'ache', \"!'\", 'Alice', 'watched', 'White', 'Rabbit', 'fumbled', 'list', ',', 'feeling', 'curious', 'see', 'next', 'witness', 'would', 'like', ',', \"'--\", \"'\", 'got', 'much', 'evidence', 'YET', \",'\", 'said', '.', 'Imagine', 'surprise', ',', 'White', 'Rabbit', 'read', ',', 'top', 'shrill', 'little', 'voice', ',', 'name', \"'\", 'Alice', \"!'\", 'CHAPTER', 'XII', 'Alice', \"'\", 'Evidence', \"'\", \"!'\", 'cried', 'Alice', ',', 'quite', 'forgetting', 'flurry', 'moment', 'large', 'grown', 'last', 'minutes', ',', 'jumped', 'hurry', 'tipped', 'jury', '-', 'box', 'edge', 'skirt', ',', 'upsetting', 'jurymen', 'heads', 'crowd', ',', 'lay', 'sprawling', ',', 'reminding', 'much', 'globe', 'goldfish', 'accidentally', 'upset', 'week', '.', \"'\", 'Oh', ',', 'BEG', 'pardon', \"!'\", 'exclaimed', 'tone', 'great', 'dismay', ',', 'began', 'picking', 'quickly', 'could', ',', 'accident', 'goldfish', 'kept', 'running', 'head', ',', 'vague', 'sort', 'idea', 'must', 'collected', 'put', 'back', 'jury', '-', 'box', ',', 'would', 'die', '.', \"'\", 'trial', 'cannot', 'proceed', \",'\", 'said', 'King', 'grave', 'voice', ',', \"'\", 'jurymen', 'back', 'proper', 'places', '--', \",'\", 'repeated', 'great', 'emphasis', ',', 'looking', 'hard', 'Alice', 'said', '.', 'Alice', 'looked', 'jury', '-', 'box', ',', 'saw', ',', 'haste', ',', 'put', 'Lizard', 'head', 'downwards', ',', 'poor', 'little', 'thing', 'waving', 'tail', 'melancholy', 'way', ',', 'quite', 'unable', 'move', '.', 'soon', 'got', ',', 'put', 'right', ';', \"'\", 'signifies', 'much', \",'\", 'said', ';', \"'\", 'think', 'would', 'QUITE', 'much', 'use', 'trial', 'one', 'way', \".'\", 'soon', 'jury', 'little', 'recovered', 'shock', 'upset', ',', 'slates', 'pencils', 'found', 'handed', 'back', ',', 'set', 'work', 'diligently', 'write', 'history', 'accident', ',', 'except', 'Lizard', ',', 'seemed', 'much', 'overcome', 'anything', 'sit', 'mouth', 'open', ',', 'gazing', 'roof', 'court', '.', \"'\", 'know', 'business', \"?'\", 'King', 'said', 'Alice', '.', \"'\", 'Nothing', \",'\", 'said', 'Alice', '.', \"'\", 'Nothing', 'WHATEVER', \"?'\", 'persisted', 'King', '.', \"'\", 'Nothing', 'whatever', \",'\", 'said', 'Alice', '.', \"'\", \"'\", 'important', \",'\", 'King', 'said', ',', 'turning', 'jury', '.', 'beginning', 'write', 'slates', ',', 'White', 'Rabbit', 'interrupted', ':', \"'\", 'UNimportant', ',', 'Majesty', 'means', ',', 'course', \",'\", 'said', 'respectful', 'tone', ',', 'frowning', 'making', 'faces', 'spoke', '.', \"'\", 'UNimportant', ',', 'course', ',', 'meant', \",'\", 'King', 'hastily', 'said', ',', 'went', 'undertone', ',', \"'\", 'important', '--', 'unimportant', '--', 'unimportant', '--', 'important', \"--'\", 'trying', 'word', 'sounded', 'best', '.', 'jury', 'wrote', \"'\", 'important', \",'\", \"'\", 'unimportant', \".'\", 'Alice', 'could', 'see', ',', 'near', 'enough', 'look', 'slates', ';', \"'\", \"'\", 'matter', 'bit', \",'\", 'thought', '.', 'moment', 'King', ',', 'time', 'busily', 'writing', 'note', '-', 'book', ',', 'cackled', \"'\", 'Silence', \"!'\", 'read', 'book', ',', \"'\", 'Rule', 'Forty', '-', 'two', '.', 'PERSONS', 'MILE', 'HIGH', 'LEAVE', 'COURT', \".'\", 'Everybody', 'looked', 'Alice', '.', \"'\", \"'\", 'mile', 'high', \",'\", 'said', 'Alice', '.', \"'\", \",'\", 'said', 'King', '.', \"'\", 'Nearly', 'two', 'miles', 'high', \",'\", 'added', 'Queen', '.', \"'\", 'Well', ',', \"'\", 'go', ',', 'rate', \",'\", 'said', 'Alice', ':', \"'\", 'besides', ',', \"'\", 'regular', 'rule', ':', 'invented', \".'\", \"'\", \"'\", 'oldest', 'rule', 'book', \",'\", 'said', 'King', '.', \"'\", 'ought', 'Number', 'One', \",'\", 'said', 'Alice', '.', 'King', 'turned', 'pale', ',', 'shut', 'note', '-', 'book', 'hastily', '.', \"'\", 'Consider', 'verdict', \",'\", 'said', 'jury', ',', 'low', ',', 'trembling', 'voice', '.', \"'\", \"'\", 'evidence', 'come', 'yet', ',', 'please', 'Majesty', \",'\", 'said', 'White', 'Rabbit', ',', 'jumping', 'great', 'hurry', ';', \"'\", 'paper', 'picked', \".'\", \"'\", \"'\", \"?'\", 'said', 'Queen', '.', \"'\", \"'\", 'opened', 'yet', \",'\", 'said', 'White', 'Rabbit', ',', \"'\", 'seems', 'letter', ',', 'written', 'prisoner', '--', 'somebody', \".'\", \"'\", 'must', \",'\", 'said', 'King', ',', \"'\", 'unless', 'written', 'nobody', ',', \"'\", 'usual', ',', 'know', \".'\", \"'\", 'directed', \"?'\", 'said', 'one', 'jurymen', '.', \"'\", \"'\", 'directed', \",'\", 'said', 'White', 'Rabbit', ';', \"'\", 'fact', ',', \"'\", 'nothing', 'written', 'OUTSIDE', \".'\", 'unfolded', 'paper', 'spoke', ',', 'added', \"'\", \"'\", 'letter', ',', ':', \"'\", 'set', 'verses', \".'\", \"'\", 'prisoner', \"'\", 'handwriting', \"?'\", 'asked', 'another', 'jurymen', '.', \"'\", ',', \"'\", \",'\", 'said', 'White', 'Rabbit', ',', \"'\", \"'\", 'queerest', 'thing', \".'\", '(', 'jury', 'looked', 'puzzled', '.)', \"'\", 'must', 'imitated', 'somebody', 'else', \"'\", 'hand', \",'\", 'said', 'King', '.', '(', 'jury', 'brightened', '.)', \"'\", 'Please', 'Majesty', \",'\", 'said', 'Knave', ',', \"'\", \"'\", 'write', ',', \"'\", 'prove', ':', \"'\", 'name', 'signed', 'end', \".'\", \"'\", \"'\", 'sign', \",'\", 'said', 'King', ',', \"'\", 'makes', 'matter', 'worse', '.', 'MUST', 'meant', 'mischief', ',', 'else', \"'\", 'signed', 'name', 'like', 'honest', 'man', \".'\", 'general', 'clapping', 'hands', ':', 'first', 'really', 'clever', 'thing', 'King', 'said', 'day', '.', \"'\", 'PROVES', 'guilt', \",'\", 'said', 'Queen', '.', \"'\", 'proves', 'nothing', 'sort', \"!'\", 'said', 'Alice', '.', \"'\", ',', \"'\", 'even', 'know', \"'\", \"!'\", \"'\", 'Read', \",'\", 'said', 'King', '.', 'White', 'Rabbit', 'put', 'spectacles', '.', \"'\", 'shall', 'begin', ',', 'please', 'Majesty', \"?'\", 'asked', '.', \"'\", 'Begin', 'beginning', \",'\", 'King', 'said', 'gravely', ',', \"'\", 'go', 'till', 'come', 'end', ':', 'stop', \".'\", 'verses', 'White', 'Rabbit', 'read', ':--', \"'\", 'told', ',', 'mentioned', ':', 'gave', 'good', 'character', ',', 'said', 'could', 'swim', '.', 'sent', 'word', 'gone', '(', 'know', 'true', '):', 'push', 'matter', ',', 'would', 'become', '?', 'gave', 'one', ',', 'gave', 'two', ',', 'gave', 'us', 'three', ';', 'returned', ',', 'Though', 'mine', '.', 'chance', 'Involved', 'affair', ',', 'trusts', 'set', 'free', ',', 'Exactly', '.', 'notion', '(', 'fit', ')', 'obstacle', 'came', ',', ',', '.', \"'\", 'let', 'know', 'liked', 'best', ',', 'must', 'ever', 'secret', ',', 'kept', 'rest', ',', \".'\", \"'\", \"'\", 'important', 'piece', 'evidence', \"'\", 'heard', 'yet', \",'\", 'said', 'King', ',', 'rubbing', 'hands', ';', \"'\", 'let', 'jury', \"--'\", \"'\", 'one', 'explain', \",'\", 'said', 'Alice', ',', '(', 'grown', 'large', 'last', 'minutes', \"'\", 'bit', 'afraid', 'interrupting', ',)', \"'\", \"'\", 'give', 'sixpence', '.', '_I_', \"'\", 'believe', \"'\", 'atom', 'meaning', \".'\", 'jury', 'wrote', 'slates', ',', \"'\", \"'\", 'believe', \"'\", 'atom', 'meaning', \",'\", 'none', 'attempted', 'explain', 'paper', '.', \"'\", \"'\", 'meaning', \",'\", 'said', 'King', ',', \"'\", 'saves', 'world', 'trouble', ',', 'know', ',', \"'\", 'try', 'find', '.', 'yet', \"'\", 'know', \",'\", 'went', ',', 'spreading', 'verses', 'knee', ',', 'looking', 'one', 'eye', ';', \"'\", 'seem', 'see', 'meaning', ',', '.', '\"--', 'SAID', 'COULD', 'SWIM', '--\"', \"'\", 'swim', ',', \"?'\", 'added', ',', 'turning', 'Knave', '.', 'Knave', 'shook', 'head', 'sadly', '.', \"'\", 'look', 'like', \"?'\", 'said', '.', '(', 'certainly', ',', 'made', 'entirely', 'cardboard', '.)', \"'\", 'right', ',', 'far', \",'\", 'said', 'King', ',', 'went', 'muttering', 'verses', ':', '\\'\"', 'KNOW', 'TRUE', '--\"', \"'\", 'jury', ',', 'course', '--\"', 'GAVE', 'ONE', ',', 'GAVE', 'TWO', '--\"', ',', 'must', 'tarts', ',', 'know', \"--'\", \"'\", ',', 'goes', '\"', 'RETURNED', ',\"\\'', 'said', 'Alice', '.', \"'\", ',', \"!'\", 'said', 'King', 'triumphantly', ',', 'pointing', 'tarts', 'table', '.', \"'\", 'Nothing', 'clearer', '.', '--\"', 'FIT', '--\"', 'never', 'fits', ',', 'dear', ',', 'think', \"?'\", 'said', 'Queen', '.', \"'\", 'Never', \"!'\", 'said', 'Queen', 'furiously', ',', 'throwing', 'inkstand', 'Lizard', 'spoke', '.', '(', 'unfortunate', 'little', 'Bill', 'left', 'writing', 'slate', 'one', 'finger', ',', 'found', 'made', 'mark', ';', 'hastily', 'began', ',', 'using', 'ink', ',', 'trickling', 'face', ',', 'long', 'lasted', '.)', \"'\", 'words', \"'\", 'FIT', \",'\", 'said', 'King', ',', 'looking', 'round', 'court', 'smile', '.', 'dead', 'silence', '.', \"'\", \"'\", 'pun', \"!'\", 'King', 'added', 'offended', 'tone', ',', 'everybody', 'laughed', ',', \"'\", 'Let', 'jury', 'consider', 'verdict', \",'\", 'King', 'said', ',', 'twentieth', 'time', 'day', '.', \"'\", ',', \"!'\", 'said', 'Queen', '.', \"'\", 'Sentence', 'first', '--', 'verdict', 'afterwards', \".'\", \"'\", 'Stuff', 'nonsense', \"!'\", 'said', 'Alice', 'loudly', '.', \"'\", 'idea', 'sentence', 'first', \"!'\", \"'\", 'Hold', 'tongue', \"!'\", 'said', 'Queen', ',', 'turning', 'purple', '.', \"'\", \"'\", \"!'\", 'said', 'Alice', '.', \"'\", 'head', \"!'\", 'Queen', 'shouted', 'top', 'voice', '.', 'Nobody', 'moved', '.', \"'\", 'cares', \"?'\", 'said', 'Alice', ',', '(', 'grown', 'full', 'size', 'time', '.)', \"'\", \"'\", 'nothing', 'pack', 'cards', \"!'\", 'whole', 'pack', 'rose', 'air', ',', 'came', 'flying', 'upon', ':', 'gave', 'little', 'scream', ',', 'half', 'fright', 'half', 'anger', ',', 'tried', 'beat', ',', 'found', 'lying', 'bank', ',', 'head', 'lap', 'sister', ',', 'gently', 'brushing', 'away', 'dead', 'leaves', 'fluttered', 'trees', 'upon', 'face', '.', \"'\", 'Wake', ',', 'Alice', 'dear', \"!'\", 'said', 'sister', ';', \"'\", ',', 'long', 'sleep', \"'\", \"!'\", \"'\", 'Oh', ',', \"'\", 'curious', 'dream', \"!'\", 'said', 'Alice', ',', 'told', 'sister', ',', 'well', 'could', 'remember', ',', 'strange', 'Adventures', 'reading', ';', 'finished', ',', 'sister', 'kissed', ',', 'said', ',', \"'\", 'curious', 'dream', ',', 'dear', ',', 'certainly', ':', 'run', 'tea', ';', \"'\", 'getting', 'late', \".'\", 'Alice', 'got', 'ran', ',', 'thinking', 'ran', ',', 'well', 'might', ',', 'wonderful', 'dream', '.', 'sister', 'sat', 'still', 'left', ',', 'leaning', 'head', 'hand', ',', 'watching', 'setting', 'sun', ',', 'thinking', 'little', 'Alice', 'wonderful', 'Adventures', ',', 'till', 'began', 'dreaming', 'fashion', ',', 'dream', ':--', 'First', ',', 'dreamed', 'little', 'Alice', ',', 'tiny', 'hands', 'clasped', 'upon', 'knee', ',', 'bright', 'eager', 'eyes', 'looking', '--', 'could', 'hear', 'tones', 'voice', ',', 'see', 'queer', 'little', 'toss', 'head', 'keep', 'back', 'wandering', 'hair', 'WOULD', 'always', 'get', 'eyes', '--', 'still', 'listened', ',', 'seemed', 'listen', ',', 'whole', 'place', 'around', 'became', 'alive', 'strange', 'creatures', 'little', 'sister', \"'\", 'dream', '.', 'long', 'grass', 'rustled', 'feet', 'White', 'Rabbit', 'hurried', '--', 'frightened', 'Mouse', 'splashed', 'way', 'neighbouring', 'pool', '--', 'could', 'hear', 'rattle', 'teacups', 'March', 'Hare', 'friends', 'shared', 'never', '-', 'ending', 'meal', ',', 'shrill', 'voice', 'Queen', 'ordering', 'unfortunate', 'guests', 'execution', '--', 'pig', '-', 'baby', 'sneezing', 'Duchess', \"'\", 'knee', ',', 'plates', 'dishes', 'crashed', 'around', '--', 'shriek', 'Gryphon', ',', 'squeaking', 'Lizard', \"'\", 'slate', '-', 'pencil', ',', 'choking', 'suppressed', 'guinea', '-', 'pigs', ',', 'filled', 'air', ',', 'mixed', 'distant', 'sobs', 'miserable', 'Mock', 'Turtle', '.', 'sat', ',', 'closed', 'eyes', ',', 'half', 'believed', 'Wonderland', ',', 'though', 'knew', 'open', ',', 'would', 'change', 'dull', 'reality', '--', 'grass', 'would', 'rustling', 'wind', ',', 'pool', 'rippling', 'waving', 'reeds', '--', 'rattling', 'teacups', 'would', 'change', 'tinkling', 'sheep', '-', 'bells', ',', 'Queen', \"'\", 'shrill', 'cries', 'voice', 'shepherd', 'boy', '--', 'sneeze', 'baby', ',', 'shriek', 'Gryphon', ',', 'queer', 'noises', ',', 'would', 'change', '(', 'knew', ')', 'confused', 'clamour', 'busy', 'farm', '-', 'yard', '--', 'lowing', 'cattle', 'distance', 'would', 'take', 'place', 'Mock', 'Turtle', \"'\", 'heavy', 'sobs', '.', 'Lastly', ',', 'pictured', 'little', 'sister', 'would', ',', '-', 'time', ',', 'grown', 'woman', ';', 'would', 'keep', ',', 'riper', 'years', ',', 'simple', 'loving', 'heart', 'childhood', ':', 'would', 'gather', 'little', 'children', ',', 'make', 'eyes', 'bright', 'eager', 'many', 'strange', 'tale', ',', 'perhaps', 'even', 'dream', 'Wonderland', 'long', 'ago', ':', 'would', 'feel', 'simple', 'sorrows', ',', 'find', 'pleasure', 'simple', 'joys', ',', 'remembering', 'child', '-', 'life', ',', 'happy', 'summer', 'days', '.']\n"
     ]
    }
   ],
   "source": [
    "stopwords = nltk.corpus.stopwords.words('english')  \n",
    "print([word for word in nltk.corpus.gutenberg.words('carroll-alice.txt') if word.lower() not in stopwords])  "
   ]
  },
  {
   "cell_type": "markdown",
   "metadata": {},
   "source": [
    "It iterates over each word in carrol-alice.txt and outputs the word if its lowercase form is not inside the NLTK stopword list."
   ]
  },
  {
   "cell_type": "markdown",
   "metadata": {},
   "source": [
    "<div class=\"task_description\">\n",
    "   <i class=\"subtask\">5.4.2</i> <i class=\"l2\">L2</i> <br>\n",
    "</div>\n",
    "Implement a function is_the_same_vocab(text1,text2) that compares two texts. It should return true, if the texts have the same vocabulary after removing the stopwords."
   ]
  },
  {
   "cell_type": "markdown",
   "metadata": {},
   "source": [
    "<strong style=\"color: blue\">Lösung</strong>"
   ]
  },
  {
   "cell_type": "code",
   "execution_count": 3,
   "metadata": {},
   "outputs": [
    {
     "name": "stdout",
     "output_type": "stream",
     "text": [
      "True\n",
      "False\n"
     ]
    }
   ],
   "source": [
    "def get_vocab_without_stopwords(text):  \n",
    "    \"\"\"returns the vocabulary of the text without the stopwords\"\"\"  \n",
    "    return set(text) - set(nltk.corpus.stopwords.words('english'))  \n",
    "\n",
    "def is_the_same_vocab(text1, text2):  \n",
    "    \"\"\"check if the texts have the same vocabulary, after removing the stopwords -- works case sensitive\"\"\"  \n",
    "\n",
    "    return(get_vocab_without_stopwords(text1) == get_vocab_without_stopwords(text2))  \n",
    "\n",
    "text1 = \"People are hungry before lunch and not hungry after lunch\"  \n",
    "text2 = \"People are not hungry before lunch and hungry after lunch\"  \n",
    "text3 = \"Humans are hungry before dinner and not hungry after dinner\"  \n",
    "\n",
    "print (is_the_same_vocab(text1, text2)) # True  \n",
    "print(is_the_same_vocab(text2, text3)) # False \n"
   ]
  },
  {
   "cell_type": "markdown",
   "metadata": {},
   "source": [
    "<div class=\"task_description\">\n",
    "    <i class=\"task\">Task 5.5:</i> <i class=\"l1\">L1</i> <br>\n",
    "</div>\n",
    "\n",
    "Take a look at the code below for some examples on how to work with WordNet. You can also execute it on your computer to see how the output looks like for a better understanding.\n",
    "\n",
    "Explain the code line by line, what datatype and meaning have the methods used?"
   ]
  },
  {
   "cell_type": "code",
   "execution_count": 2,
   "metadata": {},
   "outputs": [
    {
     "name": "stdout",
     "output_type": "stream",
     "text": [
      "[Synset('car.n.01')] \n",
      "\n",
      "['car', 'auto', 'automobile', 'machine', 'motorcar'] \n",
      "\n",
      "a motor vehicle with four wheels; usually propelled by an internal combustion engine \n",
      "\n",
      "['he needs a car to get to work'] \n",
      "\n",
      "[Lemma('car.n.01.car'), Lemma('car.n.01.auto'), Lemma('car.n.01.automobile'), Lemma('car.n.01.machine'), Lemma('car.n.01.motorcar')] \n",
      "\n",
      "Lemma('car.n.01.automobile') \n",
      "\n",
      "Synset('car.n.01') \n",
      "\n",
      "automobile \n",
      "\n",
      "[Synset('car.n.01'), Synset('car.n.02'), Synset('car.n.03'), Synset('car.n.04'), Synset('cable_car.n.01')] \n",
      "\n",
      "[Lemma('car.n.01.car'), Lemma('car.n.02.car'), Lemma('car.n.03.car'), Lemma('car.n.04.car'), Lemma('cable_car.n.01.car')] \n",
      "\n"
     ]
    }
   ],
   "source": [
    "print(wn.synsets('motorcar'),\"\\n\")\n",
    "print(wn.synset('car.n.01').lemma_names(),\"\\n\")\n",
    "print(wn.synset('car.n.01').definition(),\"\\n\")\n",
    "print(wn.synset('car.n.01').examples(),\"\\n\")  \n",
    "print(wn.synset('car.n.01').lemmas(),\"\\n\")\n",
    "print(wn.lemma('car.n.01.automobile'),\"\\n\")  \n",
    "print(wn.lemma('car.n.01.automobile').synset(),\"\\n\")\n",
    "print(wn.lemma('car.n.01.automobile').name(),\"\\n\")  \n",
    "print(wn.synsets('car'),\"\\n\")\n",
    "print(wn.lemmas('car'),\"\\n\")  \n"
   ]
  },
  {
   "cell_type": "markdown",
   "metadata": {},
   "source": [
    "<strong style=\"color: blue\">Lösung</strong>"
   ]
  },
  {
   "cell_type": "code",
   "execution_count": 3,
   "metadata": {},
   "outputs": [
    {
     "name": "stdout",
     "output_type": "stream",
     "text": [
      "[Synset('car.n.01')]\n",
      "['car', 'auto', 'automobile', 'machine', 'motorcar']\n",
      "a motor vehicle with four wheels; usually propelled by an internal combustion engine\n",
      "['he needs a car to get to work']\n",
      "[Lemma('car.n.01.car'), Lemma('car.n.01.auto'), Lemma('car.n.01.automobile'), Lemma('car.n.01.machine'), Lemma('car.n.01.motorcar')]\n",
      "Lemma('car.n.01.automobile')\n",
      "Synset('car.n.01')\n",
      "automobile\n",
      "[Synset('car.n.01'), Synset('car.n.02'), Synset('car.n.03'), Synset('car.n.04'), Synset('cable_car.n.01')]\n",
      "[Lemma('car.n.01.car'), Lemma('car.n.02.car'), Lemma('car.n.03.car'), Lemma('car.n.04.car'), Lemma('cable_car.n.01.car')]\n"
     ]
    }
   ],
   "source": [
    "#returns the synset [Synset('car.n.01')] corresponding to the word 'motorcar'.  \n",
    "print(wn.synsets('motorcar'))  \n",
    "\n",
    "# returns all words ['car', 'auto', 'automobile', 'machine', 'motorcar'] that exist in the synset 'car.n.01'  \n",
    "print(wn.synset('car.n.01').lemma_names())  \n",
    "\n",
    "# returns the definition 'a motor vehicle with four wheels; usually propelled by an internal combustion engine' of the synset 'car.n.01'  \n",
    "print(wn.synset('car.n.01').definition())  \n",
    "\n",
    "# returns the examples ['he needs a car to get to work'] for the synset 'car.n.01'  \n",
    "print(wn.synset('car.n.01').examples())  \n",
    "\n",
    "# returns all lemmas [Lemma('car.n.01.car'), Lemma('car.n.01.auto'), Lemma('car.n.01.automobile'), Lemma('car.n.01.machine'), Lemma('car.n.01.motorcar')] that exist in the synset 'car.n.01'  \n",
    "print(wn.synset('car.n.01').lemmas())  \n",
    "\n",
    "# returns the lemma 'car.n.01.automobile'  \n",
    "print(wn.lemma('car.n.01.automobile'))  \n",
    "\n",
    "# returns the synset 'car.n.01' corresponding to the lemma 'car.n.01.automobile'  \n",
    "print(wn.lemma('car.n.01.automobile').synset())  \n",
    "\n",
    "# returns the name of the lemma 'car.n.01.automobile'  \n",
    "print(wn.lemma('car.n.01.automobile').name())  \n",
    "\n",
    "# returns the synsets [Synset('car.n.01'), Synset('car.n.02'), Synset('car.n.03'), Synset('car.n.04'), Synset('cable_car.n.01')] corresponding to the word 'car'. We note that word 'car' has more meanings than 'motorcar', hence more synsets are retrieved from WordNet.  \n",
    "print(wn.synsets('car'))  \n",
    "\n",
    "# returns the lemmas [Lemma('car.n.01.car'), Lemma('car.n.02.car'), Lemma('car.n.03.car'), Lemma('car.n.04.car'), Lemma('cable_car.n.01.car')]. 'car.n.0x.car' here are different lemmas that belong to different synsets.  \n",
    "print(wn.lemmas('car')) \n"
   ]
  },
  {
   "cell_type": "markdown",
   "metadata": {},
   "source": [
    "<div class=\"task_description\">\n",
    "    <i class=\"task\">Task 5.6:</i> \n",
    "</div>"
   ]
  },
  {
   "cell_type": "markdown",
   "metadata": {},
   "source": [
    "<div class=\"task_description\">\n",
    "   <i class=\"subtask\">5.6.1.</i> <i class=\"l2\">L2</i> <br>\n",
    "</div>\n",
    "List all the senses of the word \"like\" that you can think of. Now we want to see how many different meanings the word ”like” has with the help of WordNet, using the same operations we used above. "
   ]
  },
  {
   "cell_type": "markdown",
   "metadata": {},
   "source": [
    "<strong style=\"color: blue\">Lösung</strong>"
   ]
  },
  {
   "cell_type": "code",
   "execution_count": 4,
   "metadata": {},
   "outputs": [
    {
     "name": "stdout",
     "output_type": "stream",
     "text": [
      "Lemma name:\n",
      " ['like', 'the_like', 'the_likes_of']\n",
      "Lemma:\n",
      " [Lemma('like.n.01.like'), Lemma('like.n.01.the_like'), Lemma('like.n.01.the_likes_of')]\n",
      "Definition:\n",
      " a similar kind; ,\n",
      "POS:\n",
      ": n\n",
      "Example:\n",
      " ['dogs, foxes, and the like', \"we don't want the likes of you around here\"] \n",
      "____________\n",
      "\n",
      "Lemma name:\n",
      " ['like', 'ilk']\n",
      "Lemma:\n",
      " [Lemma('like.n.02.like'), Lemma('like.n.02.ilk')]\n",
      "Definition:\n",
      " a kind of person\n",
      "POS:\n",
      ": n\n",
      "Example:\n",
      " [\"We'll not see his like again\", \"I can't tolerate people of his ilk\"] \n",
      "____________\n",
      "\n",
      "Lemma name:\n",
      " ['wish', 'care', 'like']\n",
      "Lemma:\n",
      " [Lemma('wish.v.02.wish'), Lemma('wish.v.02.care'), Lemma('wish.v.02.like')]\n",
      "Definition:\n",
      " prefer or wish to do something\n",
      "POS:\n",
      ": v\n",
      "Example:\n",
      " ['Do you care to try this dish?', 'Would you like to come along to the movies?'] \n",
      "____________\n",
      "\n",
      "Lemma name:\n",
      " ['like']\n",
      "Lemma:\n",
      " [Lemma('like.v.02.like')]\n",
      "Definition:\n",
      " find enjoyable or agreeable\n",
      "POS:\n",
      ": v\n",
      "Example:\n",
      " ['I like jogging', 'She likes to read Russian novels'] \n",
      "____________\n",
      "\n",
      "Lemma name:\n",
      " ['like']\n",
      "Lemma:\n",
      " [Lemma('like.v.03.like')]\n",
      "Definition:\n",
      " be fond of\n",
      "POS:\n",
      ": v\n",
      "Example:\n",
      " ['I like my nephews'] \n",
      "____________\n",
      "\n",
      "Lemma name:\n",
      " ['like']\n",
      "Lemma:\n",
      " [Lemma('like.v.04.like')]\n",
      "Definition:\n",
      " feel about or towards; consider, evaluate, or regard\n",
      "POS:\n",
      ": v\n",
      "Example:\n",
      " [\"How did you like the President's speech last night?\"] \n",
      "____________\n",
      "\n",
      "Lemma name:\n",
      " ['like']\n",
      "Lemma:\n",
      " [Lemma('like.v.05.like')]\n",
      "Definition:\n",
      " want to have\n",
      "POS:\n",
      ": v\n",
      "Example:\n",
      " [\"I'd like a beer now!\"] \n",
      "____________\n",
      "\n",
      "Lemma name:\n",
      " ['like', 'similar']\n",
      "Lemma:\n",
      " [Lemma('like.a.01.like'), Lemma('like.a.01.similar')]\n",
      "Definition:\n",
      " resembling or similar; having the same or some of the same characteristics; often used in combination\n",
      "POS:\n",
      ": a\n",
      "Example:\n",
      " ['suits of like design', 'a limited circle of like minds', 'members of the cat family have like dispositions', 'as like as two peas in a pod', 'doglike devotion', 'a dreamlike quality'] \n",
      "____________\n",
      "\n",
      "Lemma name:\n",
      " ['like', 'same']\n",
      "Lemma:\n",
      " [Lemma('like.a.02.like'), Lemma('like.a.02.same')]\n",
      "Definition:\n",
      " equal in amount or value\n",
      "POS:\n",
      ": a\n",
      "Example:\n",
      " ['like amounts', 'equivalent amounts', 'the same amount', 'gave one six blows and the other a like number', 'the same number'] \n",
      "____________\n",
      "\n",
      "Lemma name:\n",
      " ['alike', 'similar', 'like']\n",
      "Lemma:\n",
      " [Lemma('alike.a.01.alike'), Lemma('alike.a.01.similar'), Lemma('alike.a.01.like')]\n",
      "Definition:\n",
      " having the same or similar characteristics\n",
      "POS:\n",
      ": a\n",
      "Example:\n",
      " ['all politicians are alike', 'they looked utterly alike', 'friends are generally alike in background and taste'] \n",
      "____________\n",
      "\n",
      "Lemma name:\n",
      " ['comparable', 'corresponding', 'like']\n",
      "Lemma:\n",
      " [Lemma('comparable.s.02.comparable'), Lemma('comparable.s.02.corresponding'), Lemma('comparable.s.02.like')]\n",
      "Definition:\n",
      " conforming in every respect\n",
      "POS:\n",
      ": s\n",
      "Example:\n",
      " ['boxes with corresponding dimensions', 'the like period of the preceding year'] \n",
      "____________\n",
      "\n"
     ]
    }
   ],
   "source": [
    "for synset in wn.synsets('like'):  \n",
    "    print(\"Lemma name:\\n\",synset.lemma_names())  \n",
    "    print(\"Lemma:\\n\",synset.lemmas())  \n",
    "    print(\"Definition:\\n\",synset.definition())  \n",
    "    print(\"POS:\\n:\",synset.pos())\n",
    "    print(\"Example:\\n\",synset.examples(),\"\\n____________\\n\")  \n",
    "\n"
   ]
  },
  {
   "cell_type": "markdown",
   "metadata": {},
   "source": [
    "<div class=\"task_description\">\n",
    "   <i class=\"subtask\">5.6.2.</i> <i class=\"l2\">L2</i> <br>\n",
    "</div>\n",
    "As you can see above, the words can have different POS tags. Suppose you are only interested in the adjective \"warm\". Write a function that will output definitions and examples of the word \"warm\" under this condition."
   ]
  },
  {
   "cell_type": "markdown",
   "metadata": {},
   "source": [
    "<strong style=\"color: blue\">Lösung</strong>"
   ]
  },
  {
   "cell_type": "code",
   "execution_count": null,
   "metadata": {},
   "outputs": [],
   "source": [
    "for synset in wn.synsets('warm',wn.ADJ):  \n",
    "    print(\"Definition:\\n\",synset.definition())\n",
    "    print(\"Example:\\n\",synset.examples(),\"\\n______________\\n\")  "
   ]
  },
  {
   "cell_type": "markdown",
   "metadata": {},
   "source": [
    "<div class=\"task_description\">\n",
    "   <i class=\"subtask\">5.6.3.</i> <i class=\"l3\">L3</i> <br>\n",
    "</div>\n",
    "Write functions that outputs the hypernyms and hyponyms of the word 'bank'."
   ]
  },
  {
   "cell_type": "markdown",
   "metadata": {},
   "source": [
    "<strong style=\"color: blue\">Lösung</strong>"
   ]
  },
  {
   "cell_type": "code",
   "execution_count": null,
   "metadata": {},
   "outputs": [],
   "source": [
    "for syn in wn.synsets(\"bank\",wn.NOUN): \n",
    "    for l in syn.hypernyms(): \n",
    "            print(syn.name(),\" is a\", l.name(),\" which is\",syn.definition(),\"\\n_______\\n\")"
   ]
  },
  {
   "cell_type": "code",
   "execution_count": null,
   "metadata": {},
   "outputs": [],
   "source": [
    "for syn in wn.synsets(\"bank\",wn.NOUN): \n",
    "    for l in syn.hyponyms(): \n",
    "            print(syn.name(),\" has subconcept\", l.name())"
   ]
  },
  {
   "cell_type": "markdown",
   "metadata": {},
   "source": [
    "<div class=\"task_description\">\n",
    "   <i class=\"subtask\">5.6.4</i> <i class=\"l3\">L3</i> <br>\n",
    "</div>\n",
    "\n",
    "Another aspect we can examine is if a word has an antonym (word with opposite meaning). Write a function that searches an antonym for the word \"like\"."
   ]
  },
  {
   "cell_type": "markdown",
   "metadata": {},
   "source": [
    "<strong style=\"color: blue\">Lösung</strong>"
   ]
  },
  {
   "cell_type": "code",
   "execution_count": null,
   "metadata": {},
   "outputs": [],
   "source": [
    "for syn in wn.synsets(\"like\"): \n",
    "    for l in syn.lemmas(): \n",
    "        print(syn.name(),\"(\",l.name(),\")\")\n",
    "        if l.antonyms():\n",
    "            print(\"Has the antonym\",[m.name() for m in l.antonyms()],\"\\n\")\n",
    "        else: print(\"Doesn't have an antonym\\n\")      "
   ]
  },
  {
   "cell_type": "markdown",
   "metadata": {},
   "source": [
    "<div class=\"task_description\">\n",
    "    <i class=\"task\">Task 5.7:</i> <br>\n",
    "</div>\n",
    "The polysemy of a word is the number of senses it has. We now want to compute the average polysemy of nouns, verbs, adjectives and adverbs according to WordNet and discuss the results."
   ]
  },
  {
   "cell_type": "markdown",
   "metadata": {},
   "source": [
    "<div class=\"task_description\">\n",
    "   <i class=\"subtask\">5.7.1</i> <i class=\"l1\">L1</i> <br>\n",
    "</div>\n",
    "\n",
    "Try to think of an algorithm that caclulates the ploysemy of a POS."
   ]
  },
  {
   "cell_type": "markdown",
   "metadata": {},
   "source": [
    "<strong style=\"color: blue\">Lösung</strong>\n",
    "\n",
    "To calculate the average polysemy, we need to count every lemma of the respective POS and the number of meanings the lemma has (size of the synset). Then we divide the total number of meanings for all lemmas of the given POS by the total number of lemmas of the given POS."
   ]
  },
  {
   "cell_type": "markdown",
   "metadata": {},
   "source": [
    "<div class=\"task_description\">\n",
    "   <i class=\"subtask\">5.7.2</i> <i class=\"l2\">L2</i> <br>\n",
    "</div>\n",
    "\n",
    "Take a look at the code below. Implement it and enhance the main function so that the average polysemy is calculated not only for nouns but also for verbs, adjectives and adverbs (do not implement your algorithm yet.)"
   ]
  },
  {
   "cell_type": "code",
   "execution_count": null,
   "metadata": {},
   "outputs": [],
   "source": [
    "def avgPolysemy():\n",
    "    #TODO, return average polysemy\n",
    "    \n",
    "avgN = avgPolysemy()\n",
    "    #TODO\n",
    "\n",
    "print(\"average polysemy of nouns: \", + avgN)\n",
    "    #TODO\n",
    "\n"
   ]
  },
  {
   "cell_type": "markdown",
   "metadata": {},
   "source": [
    "<strong style=\"color: blue\">Lösung</strong>"
   ]
  },
  {
   "cell_type": "code",
   "execution_count": null,
   "metadata": {},
   "outputs": [],
   "source": [
    "def avgPolysemy(pos):\n",
    "    nrOfSynsets = 0\n",
    "    nrOfLemmas = 0\n",
    "    lemmas=[]\n",
    "    #TODO\n",
    "\n",
    "avgN = avgPolysemy(wn.NOUN)\n",
    "avgV = avgPolysemy(wn.VERB)\n",
    "avgADJ = avgPolysemy(wn.ADJ)\n",
    "avgADV = avgPolysemy(wn.ADV)\n",
    "\n",
    "print(\"average polysemy of nouns: \", avgN)\n",
    "print(\"average polysemy of verbs: \",  avgV)\n",
    "print(\"average polysemy of adjectives: \",  avgADJ)\n",
    "print(\"average polysemy of adverbs: \",  avgADV)\n",
    "\n"
   ]
  },
  {
   "cell_type": "markdown",
   "metadata": {},
   "source": [
    "<div class=\"task_description\">\n",
    "   <i class=\"subtask\">5.7.3</i> <i class=\"l3\">L3</i> <br>\n",
    "</div>\n",
    "\n",
    "Now implement your algorithm and calculate the average polysemy for nouns, verbs, adjectives and adverbs."
   ]
  },
  {
   "cell_type": "code",
   "execution_count": null,
   "metadata": {},
   "outputs": [],
   "source": [
    "def avgPolysemy(pos):\n",
    "    nrOfSynsets = 0\n",
    "    nrOfLemmas = 0\n",
    "    lemmas=[]\n",
    "    for synset in wn.all_synsets(pos):\n",
    "        for lemma in synset.lemmas():\n",
    "            lemmas.append(lemma.name())\n",
    "    lemmas = set(lemmas)\n",
    "    for lemma in lemmas:\n",
    "        count = len(wn.synsets(lemma,pos))\n",
    "        if count>0:\n",
    "            nrOfLemmas+=1\n",
    "            nrOfSynsets+=count\n",
    "    return nrOfSynsets/nrOfLemmas\n",
    "\n",
    "avgN = avgPolysemy(wn.NOUN)\n",
    "avgV = avgPolysemy(wn.VERB)\n",
    "avgADJ = avgPolysemy(wn.ADJ)\n",
    "avgADV = avgPolysemy(wn.ADV)\n",
    "\n",
    "print(\"average polysemy of nouns: \", avgN)\n",
    "print(\"average polysemy of verbs: \",  avgV)\n",
    "print(\"average polysemy of adjectives: \",  avgADJ)\n",
    "print(\"average polysemy of adverbs: \",  avgADV)\n"
   ]
  },
  {
   "cell_type": "markdown",
   "metadata": {},
   "source": [
    "## Concordance"
   ]
  },
  {
   "cell_type": "markdown",
   "metadata": {},
   "source": [
    "<div class=\"task_description\">\n",
    "    <i class=\"task\">Task 5.8:</i> <br>\n",
    "</div>\n",
    "\n",
    "A concordance view shows us every occurrence of a given word, together with some context."
   ]
  },
  {
   "cell_type": "markdown",
   "metadata": {},
   "source": [
    "<div class=\"task_description\">\n",
    "   <i class=\"subtask\">5.8.1.</i> <i class=\"l2\">L2</i> <br>\n",
    "</div>\n",
    "Extract context samples of word ‘affection’ in “Sense and Sensibility” (text2) corpus of nltk and word ‘lived’ in “Book of Genesis” (text3) corpus."
   ]
  },
  {
   "cell_type": "markdown",
   "metadata": {},
   "source": [
    "<strong style=\"color: blue\">Lösung</strong>"
   ]
  },
  {
   "cell_type": "code",
   "execution_count": null,
   "metadata": {},
   "outputs": [],
   "source": [
    "print(text2.concordance(\"affection\"))\n",
    "print(text3.concordance(\"lived\"))"
   ]
  },
  {
   "cell_type": "markdown",
   "metadata": {},
   "source": [
    "<div class=\"task_description\">\n",
    "   <i class=\"subtask\">5.8.2.</i> <i class=\"l2\">L2</i> <br>\n",
    "</div>\n",
    "\n",
    "Similar words for the term can be found if words share same context as that of token. \n",
    "\n",
    "For example: monsterous occurred in contexts such as the ___ pictures and a ___ size . What other words appear in a similar range of contexts? We can find out by appending the term similar to the name of the text in question, then inserting the relevant word in parentheses:\n",
    "\n",
    "Find out similar words for affection in “Sense and Sensibility” (text2) corpus of nltk.\n"
   ]
  },
  {
   "cell_type": "markdown",
   "metadata": {},
   "source": [
    "<strong style=\"color: blue\">Lösung</strong>"
   ]
  },
  {
   "cell_type": "code",
   "execution_count": null,
   "metadata": {},
   "outputs": [],
   "source": [
    "text2.similar(\"affection\")  "
   ]
  },
  {
   "cell_type": "markdown",
   "metadata": {},
   "source": [
    "## Clustering - Tf-Idf Vectorizer "
   ]
  },
  {
   "cell_type": "markdown",
   "metadata": {},
   "source": [
    "<div class=\"task_description\">\n",
    "    <i class=\"task\">Task 5.9:</i> <br>\n",
    "</div>"
   ]
  },
  {
   "cell_type": "markdown",
   "metadata": {},
   "source": [
    "<div class=\"task_description\">\n",
    "   <i class=\"subtask\">5.9.1.</i> <i class=\"l2\">L2</i> <br>\n",
    "</div>\n",
    "\n",
    "Extract all the context of term affection in the “Sense and Sensibility” (text2) corpus of nltk with a window size of 21 (each context should have 10 words before and after the term). Provide the total number of contexts."
   ]
  },
  {
   "cell_type": "code",
   "execution_count": null,
   "metadata": {},
   "outputs": [],
   "source": [
    "c = nltk.ConcordanceIndex(text2.tokens, key=lambda s: s.lower())  \n",
    "window_size = 10  \n",
    "affection_contexts = []  \n",
    "for index in c.offsets('affection'):  \n",
    "    if index > 10:  \n",
    "           #TODO\n",
    "print(len(affection_contexts))  \n"
   ]
  },
  {
   "cell_type": "markdown",
   "metadata": {},
   "source": [
    "<strong style=\"color: blue\">Lösung</strong>"
   ]
  },
  {
   "cell_type": "code",
   "execution_count": null,
   "metadata": {},
   "outputs": [],
   "source": [
    "c = nltk.ConcordanceIndex(text2.tokens, key=lambda s: s.lower())  \n",
    "window_size = 10  \n",
    "affection_contexts = []  \n",
    "for index in c.offsets('affection'):  \n",
    "    if index > 10:  \n",
    "        affection_contexts.append(text2.tokens[index - window_size:index + window_size])  \n",
    "print(len(affection_contexts))  # return 79"
   ]
  },
  {
   "cell_type": "markdown",
   "metadata": {},
   "source": [
    "<div class=\"task_description\">\n",
    "   <i class=\"subtask\">5.9.2.</i> <i class=\"l2\">L2</i> <br>\n",
    "</div>\n",
    "\n",
    "Preprocess the contexts by removing punctuation and stopwords. "
   ]
  },
  {
   "cell_type": "code",
   "execution_count": null,
   "metadata": {},
   "outputs": [],
   "source": [
    "stopwords = set(nltk.corpus.stopwords.words('english'))  \n",
    "affection_contexts_no_stopwords = []  \n",
    "for context in affection_contexts:  \n",
    "    # remove punctuation\n",
    "    \n",
    "    #TODO\n",
    "    \n",
    "    # remove stopwords  \n",
    "    #TODO \n"
   ]
  },
  {
   "cell_type": "markdown",
   "metadata": {},
   "source": [
    "<strong style=\"color: blue\">Lösung</strong>"
   ]
  },
  {
   "cell_type": "code",
   "execution_count": null,
   "metadata": {},
   "outputs": [],
   "source": [
    "stopwords = set(nltk.corpus.stopwords.words('english'))  \n",
    "affection_contexts_no_stopwords = []  \n",
    "for context in affection_contexts: \n",
    "    # remove punctuation \n",
    "    context = ' '.join(context).translate(str.maketrans('', '', string.punctuation))  \n",
    "    context = context.replace('  ', ' ') \n",
    "    # remove stopwords  \n",
    "    context_no_stopwords = []  \n",
    "    for token in context.split(' '):  \n",
    "        if token not in stopwords:  \n",
    "            context_no_stopwords.append(token)  \n",
    "            affection_contexts_no_stopwords.append(' '.join(context_no_stopwords))  \n",
    "            \n",
    "            "
   ]
  },
  {
   "cell_type": "markdown",
   "metadata": {},
   "source": [
    "<div class=\"task_description\">\n",
    "   <i class=\"subtask\">5.9.3.</i> <i class=\"l2\">L2</i> <br>\n",
    "</div>\n",
    "Generate a tf-idf feature for the preprocessed text using sci-kit learn feature extractor."
   ]
  },
  {
   "cell_type": "code",
   "execution_count": null,
   "metadata": {},
   "outputs": [],
   "source": [
    "vectorizer = TfidfVectorizer()  \n",
    "X_tf_idf = #TODO"
   ]
  },
  {
   "cell_type": "markdown",
   "metadata": {},
   "source": [
    "<strong style=\"color: blue\">Lösung</strong>"
   ]
  },
  {
   "cell_type": "code",
   "execution_count": null,
   "metadata": {},
   "outputs": [],
   "source": [
    "vectorizer = TfidfVectorizer()  \n",
    "X_tf_idf = vectorizer.fit_transform(affection_contexts_no_stopwords)"
   ]
  },
  {
   "cell_type": "markdown",
   "metadata": {},
   "source": [
    "<div class=\"task_description\">\n",
    "   <i class=\"subtask\">5.9.4.</i> <i class=\"l3\">L3</i> <br>\n",
    "</div>\n",
    "\n",
    "Apply k means algorithm with k = 3(number of cluster)"
   ]
  },
  {
   "cell_type": "code",
   "execution_count": null,
   "metadata": {},
   "outputs": [],
   "source": [
    "true_k = 3 # number of clusters  \n",
    "\n",
    "# apply algorithm \n",
    "\n",
    "model_tf_idf = #TODO\n",
    "\n",
    "# training the algorithm\n",
    "#TODO \n"
   ]
  },
  {
   "cell_type": "markdown",
   "metadata": {},
   "source": [
    "<strong style=\"color: blue\">Lösung</strong>"
   ]
  },
  {
   "cell_type": "code",
   "execution_count": null,
   "metadata": {},
   "outputs": [],
   "source": [
    "true_k = 3 # number of clusters  \n",
    "model_tf_idf = KMeans(n_clusters=true_k) # apply algorithm  \n",
    "model_tf_idf.fit(X_tf_idf) # training the algorithm"
   ]
  },
  {
   "cell_type": "markdown",
   "metadata": {},
   "source": [
    "<div class=\"task_description\">\n",
    "   <i class=\"subtask\">5.9.5.</i> <i class=\"l3\">L3</i> <br>\n",
    "</div>\n",
    "\n",
    "Print the top-ten terms that represent each cluster."
   ]
  },
  {
   "cell_type": "code",
   "execution_count": null,
   "metadata": {},
   "outputs": [],
   "source": [
    "order_centroids = model_tf_idf.cluster_centers_.argsort()[:, ::-1]  # getting indexes of centroids   \n",
    "terms = vectorizer.get_feature_names() # getting feature terms   \n",
    "for i in range(true_k):  \n",
    "    print(\"Cluster %d:\" % i)\n",
    "    \n",
    "    # get top 10 terms\n",
    "    \n",
    "    #TODO\n"
   ]
  },
  {
   "cell_type": "markdown",
   "metadata": {},
   "source": [
    "<strong style=\"color: blue\">Lösung</strong>"
   ]
  },
  {
   "cell_type": "code",
   "execution_count": null,
   "metadata": {},
   "outputs": [],
   "source": [
    "order_centroids = model_tf_idf.cluster_centers_.argsort()[:, ::-1]  # getting indexes of centroids   \n",
    "terms = vectorizer.get_feature_names() # getting feature terms   \n",
    "for i in range(true_k):  \n",
    "    print(\"Cluster %d:\" % i)  \n",
    "    for ind in order_centroids[i, :10]:  \n",
    "        print(\" %s\" % terms[ind])  \n"
   ]
  },
  {
   "cell_type": "markdown",
   "metadata": {},
   "source": [
    "<div class=\"task_description\">\n",
    "   <i class=\"subtask\">5.9.6.</i> <i class=\"l3\">L3</i> <br>\n",
    "</div>\n",
    "Assign context to the corresponding cluster predicted by the k-means algorithm."
   ]
  },
  {
   "cell_type": "code",
   "execution_count": null,
   "metadata": {},
   "outputs": [],
   "source": [
    "clusters = {}  \n",
    "for context in affection_contexts:  \n",
    "    X = vectorizer.transform([context])  # get tf-idf vector for the context  \n",
    "    predicted = model_tf_idf.predict(X)  # predict the cluster  \n",
    "    \n",
    "    # generate clusters\n",
    "    \n",
    "    # TODO    \n",
    "print(clusters)  \n"
   ]
  },
  {
   "cell_type": "markdown",
   "metadata": {},
   "source": [
    "<strong style=\"color: blue\">Lösung</strong>"
   ]
  },
  {
   "cell_type": "code",
   "execution_count": null,
   "metadata": {},
   "outputs": [],
   "source": [
    "clusters = {}  \n",
    "for context in affection_contexts:  \n",
    "    X = vectorizer.transform([' '.join(context)])  # get tf-idf vector for the context  \n",
    "    predicted = model_tf_idf.predict(X)[0]  # predict the cluster  \n",
    "    if predicted not in clusters.keys():    \n",
    "        clusters[predicted] = []  \n",
    "    clusters[predicted].append(context)   \n",
    "print(clusters)  \n",
    "\n"
   ]
  },
  {
   "cell_type": "markdown",
   "metadata": {},
   "source": [
    "# Working with Embeddings"
   ]
  },
  {
   "cell_type": "markdown",
   "metadata": {},
   "source": [
    "<div class=\"task_description\">\n",
    "    <i class=\"task\">Task 5.10:</i> <br>\n",
    "</div>"
   ]
  },
  {
   "cell_type": "markdown",
   "metadata": {},
   "source": [
    "Word embedding is capable of capturing the meaning of a word in a document, semantic and syntactic similarity, relation with other words."
   ]
  },
  {
   "cell_type": "markdown",
   "metadata": {},
   "source": [
    "## Installation:"
   ]
  },
  {
   "cell_type": "code",
   "execution_count": 2,
   "metadata": {},
   "outputs": [
    {
     "name": "stdout",
     "output_type": "stream",
     "text": [
      "Defaulting to user installation because normal site-packages is not writeable\r\n",
      "Collecting gensim\r\n",
      "  Downloading gensim-3.8.3-cp37-cp37m-macosx_10_9_x86_64.whl (24.2 MB)\r\n",
      "\u001B[K     |████████████████████████████████| 24.2 MB 1.8 MB/s eta 0:00:01\r\n",
      "\u001B[?25hCollecting smart-open>=1.8.1\r\n",
      "  Downloading smart_open-2.0.0.tar.gz (103 kB)\r\n",
      "\u001B[K     |████████████████████████████████| 103 kB 1.6 MB/s eta 0:00:01\r\n",
      "\u001B[?25hRequirement already satisfied: numpy>=1.11.3 in /Users/shakhawat_hossain_turag/Library/Python/3.7/lib/python/site-packages (from gensim) (1.17.4)\r\n",
      "Requirement already satisfied: scipy>=0.18.1 in /Library/Python/3.7/site-packages (from gensim) (1.4.1)\r\n",
      "Requirement already satisfied: six>=1.5.0 in /Applications/Xcode.app/Contents/Developer/Library/Frameworks/Python3.framework/Versions/3.7/lib/python3.7/site-packages (from gensim) (1.12.0)\r\n",
      "Requirement already satisfied: requests in /Users/shakhawat_hossain_turag/Library/Python/3.7/lib/python/site-packages (from smart-open>=1.8.1->gensim) (2.23.0)\r\n",
      "Collecting boto\r\n",
      "  Downloading boto-2.49.0-py2.py3-none-any.whl (1.4 MB)\r\n",
      "\u001B[K     |████████████████████████████████| 1.4 MB 1.7 MB/s eta 0:00:01\r\n",
      "\u001B[?25hCollecting boto3\r\n",
      "  Downloading boto3-1.13.24-py2.py3-none-any.whl (128 kB)\r\n",
      "\u001B[K     |████████████████████████████████| 128 kB 1.8 MB/s eta 0:00:01\r\n",
      "\u001B[?25hRequirement already satisfied: idna<3,>=2.5 in /Users/shakhawat_hossain_turag/Library/Python/3.7/lib/python/site-packages (from requests->smart-open>=1.8.1->gensim) (2.9)\r\n",
      "Requirement already satisfied: chardet<4,>=3.0.2 in /Users/shakhawat_hossain_turag/Library/Python/3.7/lib/python/site-packages (from requests->smart-open>=1.8.1->gensim) (3.0.4)\r\n",
      "Requirement already satisfied: certifi>=2017.4.17 in /Users/shakhawat_hossain_turag/Library/Python/3.7/lib/python/site-packages (from requests->smart-open>=1.8.1->gensim) (2020.4.5.1)\r\n",
      "Requirement already satisfied: urllib3!=1.25.0,!=1.25.1,<1.26,>=1.21.1 in /Users/shakhawat_hossain_turag/Library/Python/3.7/lib/python/site-packages (from requests->smart-open>=1.8.1->gensim) (1.25.9)\r\n",
      "Collecting s3transfer<0.4.0,>=0.3.0\r\n",
      "  Downloading s3transfer-0.3.3-py2.py3-none-any.whl (69 kB)\r\n",
      "\u001B[K     |████████████████████████████████| 69 kB 1.8 MB/s eta 0:00:01\r\n",
      "\u001B[?25hCollecting botocore<1.17.0,>=1.16.24\r\n",
      "  Downloading botocore-1.16.24-py2.py3-none-any.whl (6.2 MB)\r\n",
      "\u001B[K     |████████████████████████████████| 6.2 MB 1.5 MB/s eta 0:00:01\r\n",
      "\u001B[?25hCollecting jmespath<1.0.0,>=0.7.1\r\n",
      "  Downloading jmespath-0.10.0-py2.py3-none-any.whl (24 kB)\r\n",
      "Collecting docutils<0.16,>=0.10\r\n",
      "  Downloading docutils-0.15.2-py3-none-any.whl (547 kB)\r\n",
      "\u001B[K     |████████████████████████████████| 547 kB 1.7 MB/s eta 0:00:01\r\n",
      "\u001B[?25hRequirement already satisfied: python-dateutil<3.0.0,>=2.1 in /Library/Python/3.7/site-packages (from botocore<1.17.0,>=1.16.24->boto3->smart-open>=1.8.1->gensim) (2.8.1)\r\n",
      "Building wheels for collected packages: smart-open\r\n",
      "  Building wheel for smart-open (setup.py) ... \u001B[?25l-\b \b\\\b \b|\b \b/\b \bdone\r\n",
      "\u001B[?25h  Created wheel for smart-open: filename=smart_open-2.0.0-py3-none-any.whl size=101341 sha256=7e79d8f0800a9c2935550d107154bb7d5232258888d5495ddd41c4a75ed0374d\r\n",
      "  Stored in directory: /Users/shakhawat_hossain_turag/Library/Caches/pip/wheels/bb/1c/9c/412ec03f6d5ac7d41f4b965bde3fc0d1bd201da5ba3e2636de\r\n",
      "Successfully built smart-open\r\n",
      "Installing collected packages: boto, docutils, jmespath, botocore, s3transfer, boto3, smart-open, gensim\r\n",
      "Successfully installed boto-2.49.0 boto3-1.13.24 botocore-1.16.24 docutils-0.15.2 gensim-3.8.3 jmespath-0.10.0 s3transfer-0.3.3 smart-open-2.0.0\r\n"
     ]
    }
   ],
   "source": [
    "import sys\n",
    "!{sys.executable} -m pip install gensim"
   ]
  },
  {
   "cell_type": "markdown",
   "metadata": {},
   "source": [
    "<div class=\"task_description\">\n",
    "   <i class=\"subtask\">5.10.1.</i> <i class=\"l2\">L2</i> <br>\n",
    "</div>\n",
    "Import common_text corpus from gensim library and display first 10 sentences."
   ]
  },
  {
   "cell_type": "code",
   "execution_count": null,
   "metadata": {},
   "outputs": [],
   "source": [
    "from gensim.test.utils import common_texts\n",
    "#TODO"
   ]
  },
  {
   "cell_type": "markdown",
   "metadata": {},
   "source": [
    "<strong style=\"color: blue\">Lösung</strong>"
   ]
  },
  {
   "cell_type": "code",
   "execution_count": 3,
   "metadata": {},
   "outputs": [
    {
     "data": {
      "text/plain": "[['human', 'interface', 'computer'],\n ['survey', 'user', 'computer', 'system', 'response', 'time'],\n ['eps', 'user', 'interface', 'system'],\n ['system', 'human', 'system', 'eps'],\n ['user', 'response', 'time'],\n ['trees'],\n ['graph', 'trees'],\n ['graph', 'minors', 'trees'],\n ['graph', 'minors', 'survey']]"
     },
     "execution_count": 3,
     "metadata": {},
     "output_type": "execute_result"
    }
   ],
   "source": [
    "from gensim.test.utils import common_texts\n",
    "common_texts[:10]"
   ]
  },
  {
   "cell_type": "markdown",
   "metadata": {},
   "source": [
    "<div class=\"task_description\">\n",
    "   <i class=\"subtask\">5.10.2.</i> <i class=\"l2\">L2</i> <br>\n",
    "</div>\n",
    "Train the Word2vec model based on gensim with the follwing parameters:\n",
    "    - Size of the dimension = 100\n",
    "    - Context window size = 5\n",
    "    - Minimum frequency count = 1"
   ]
  },
  {
   "cell_type": "code",
   "execution_count": null,
   "metadata": {},
   "outputs": [],
   "source": [
    "from gensim.models import Word2Vec\n",
    "model = #TODO"
   ]
  },
  {
   "cell_type": "markdown",
   "metadata": {},
   "source": [
    "<strong style=\"color: blue\">Lösung</strong>"
   ]
  },
  {
   "cell_type": "code",
   "execution_count": 5,
   "metadata": {},
   "outputs": [],
   "source": [
    "from gensim.models import Word2Vec\n",
    "model = Word2Vec(common_texts, size=100, window=5, min_count=1)"
   ]
  },
  {
   "cell_type": "markdown",
   "metadata": {},
   "source": [
    "<div class=\"task_description\">\n",
    "   <i class=\"subtask\">5.10.3.</i> <i class=\"l2\">L2</i> <br>\n",
    "</div>\n",
    "\n",
    "Display the vector for the word \"computer\"."
   ]
  },
  {
   "cell_type": "markdown",
   "metadata": {},
   "source": [
    "<strong style=\"color: blue\">Lösung</strong>"
   ]
  },
  {
   "cell_type": "code",
   "execution_count": null,
   "metadata": {},
   "outputs": [],
   "source": [
    "model.wv['computer']"
   ]
  },
  {
   "cell_type": "markdown",
   "metadata": {},
   "source": [
    "<div class=\"task_description\">\n",
    "   <i class=\"subtask\">5.10.4.</i> <i class=\"l2\">L2</i> <br>\n",
    "</div>\n",
    "\n",
    "Compute the similarity score between the words 'graph' and 'trees'."
   ]
  },
  {
   "cell_type": "markdown",
   "metadata": {},
   "source": [
    "<strong style=\"color: blue\">Lösung</strong>"
   ]
  },
  {
   "cell_type": "code",
   "execution_count": null,
   "metadata": {},
   "outputs": [],
   "source": [
    "model.similarity('graph', 'trees')"
   ]
  },
  {
   "cell_type": "markdown",
   "metadata": {},
   "source": [
    "<div class=\"task_description\">\n",
    "   <i class=\"subtask\">5.10.5.</i> <i class=\"l2\">L2</i> <br>\n",
    "</div>\n",
    "\n",
    "Calculate the top 5 most similar word to the word 'graph'."
   ]
  },
  {
   "cell_type": "markdown",
   "metadata": {},
   "source": [
    "<strong style=\"color: blue\">Lösung</strong>"
   ]
  },
  {
   "cell_type": "code",
   "execution_count": null,
   "metadata": {},
   "outputs": [],
   "source": [
    "model.most_similar('graph')[:5]"
   ]
  },
  {
   "cell_type": "markdown",
   "metadata": {},
   "source": [
    "## Working with pretrained google word2vec embeddings"
   ]
  },
  {
   "cell_type": "markdown",
   "metadata": {},
   "source": [
    "<div class=\"task_description\">\n",
    "    <i class=\"task\">Task 5.11:</i> <br>\n",
    "</div>\n",
    "\n",
    "The Google word2vec embeddings was trained on Google news data (about 100 billion words); it contains 3 million words and phrases and was fit using 300-dimensional word vectors."
   ]
  },
  {
   "cell_type": "markdown",
   "metadata": {},
   "source": [
    "Download the GoogleNews-vectors-negative300.bin.gz embeddings in your current working directory and unzip it. "
   ]
  },
  {
   "cell_type": "markdown",
   "metadata": {},
   "source": [
    "It is a 1.53 Gigabytes file. You can download it from here:\n",
    "\n",
    "https://drive.google.com/file/d/0B7XkCwpI5KDYNlNUTTlSS21pQmM/edit?usp=sharing"
   ]
  },
  {
   "cell_type": "markdown",
   "metadata": {},
   "source": [
    "<div class=\"task_description\">\n",
    "   <i class=\"subtask\">5.11.1.</i> <i class=\"l2\">L2</i> <br>\n",
    "</div>\n",
    "\n",
    "Generate gensim word2vec model using google pretrained embeddings."
   ]
  },
  {
   "cell_type": "code",
   "execution_count": null,
   "metadata": {},
   "outputs": [],
   "source": [
    "from gensim.models import KeyedVectors\n",
    "filename = 'GoogleNews-vectors-negative300.bin'\n",
    "google_word2vec_model = #TODO # load model"
   ]
  },
  {
   "cell_type": "markdown",
   "metadata": {},
   "source": [
    "<strong style=\"color: blue\">Lösung</strong>"
   ]
  },
  {
   "cell_type": "code",
   "execution_count": null,
   "metadata": {},
   "outputs": [],
   "source": [
    "from gensim.models import KeyedVectors\n",
    "filename = 'GoogleNews-vectors-negative300.bin'\n",
    "google_word2vec_model = KeyedVectors.load_word2vec_format(filename, binary=True)"
   ]
  },
  {
   "cell_type": "markdown",
   "metadata": {},
   "source": [
    "<div class=\"task_description\">\n",
    "   <i class=\"subtask\">5.11.2.</i> <i class=\"l2\">L2</i> <br>\n",
    "</div>\n",
    "\n",
    "Operation (king – man) + woman = ? can be performed as"
   ]
  },
  {
   "cell_type": "code",
   "execution_count": null,
   "metadata": {},
   "outputs": [],
   "source": [
    "google_word2vec_model.most_similar(positive=['woman', 'king'], negative=['man'], topn=1)"
   ]
  },
  {
   "cell_type": "markdown",
   "metadata": {},
   "source": [
    "Calculate the (Germany – Berlin) + Moscow = ? operation."
   ]
  },
  {
   "cell_type": "markdown",
   "metadata": {},
   "source": [
    "<strong style=\"color: blue\">Lösung</strong>"
   ]
  },
  {
   "cell_type": "code",
   "execution_count": null,
   "metadata": {},
   "outputs": [],
   "source": [
    "google_word2vec_model.most_similar(positive=['Moscow', 'Germany'], negative=['Berlin'], topn=1)"
   ]
  },
  {
   "cell_type": "markdown",
   "metadata": {},
   "source": [
    "# Homework"
   ]
  },
  {
   "cell_type": "markdown",
   "metadata": {},
   "source": [
    "<div class=\"task_description\">\n",
    "    <i class=\"task\">Task 5.1:</i> <br>\n",
    "</div>"
   ]
  },
  {
   "cell_type": "markdown",
   "metadata": {},
   "source": [
    "\n",
    "<div class=\"task_description\">\n",
    "   <i class=\"subtask\">5.1.1.</i> :::5 Homework points:::\n",
    "</div>\n",
    "\n",
    "Try K-means clustering with genism word2vec embeddings features instead of tf-idf features."
   ]
  },
  {
   "cell_type": "code",
   "execution_count": null,
   "metadata": {},
   "outputs": [],
   "source": [
    "from gensim.models import Word2Vec #get gensim word2vec feature extraction utility  \n",
    "affection_contexts_no_stopwords = [context.split(' ') for context in affection_contexts_no_stopwords]  \n",
    "\n",
    "# Apply word2vec algorithm\n",
    "\n",
    "w2v = #TODO\n",
    "\n",
    "X_w2v = w2v[w2v.wv.vocab]  \n",
    "\n",
    "\n",
    "model_w2v = KMeans(n_clusters=true_k) \n",
    "\n",
    "# Train kmeans algorithm\n",
    "#TODO "
   ]
  },
  {
   "cell_type": "markdown",
   "metadata": {},
   "source": [
    "\n",
    "<div class=\"task_description\">\n",
    "   <i class=\"subtask\">5.1.2.</i> :::5 Homework points:::\n",
    "</div>\n",
    "\n",
    "Try K-means clustering with genism word2vec embeddings features instead of tf-idf features. Evaluate the performance of the k-means algorithm using silhouette metric for embedding and tf-idf features."
   ]
  },
  {
   "cell_type": "code",
   "execution_count": null,
   "metadata": {},
   "outputs": [],
   "source": [
    "from sklearn.metrics import silhouette_score  \n",
    "\n",
    "model_w2v = KMeans(n_clusters=true_k)  \n",
    "model_w2v.fit(X_w2v)  \n",
    "\n",
    "# print Silhouette scores\n",
    "\n",
    "# TODO \n"
   ]
  }
 ],
 "metadata": {
  "kernelspec": {
   "display_name": "Python 3",
   "language": "python",
   "name": "python3"
  },
  "language_info": {
   "codemirror_mode": {
    "name": "ipython",
    "version": 3
   },
   "file_extension": ".py",
   "mimetype": "text/x-python",
   "name": "python",
   "nbconvert_exporter": "python",
   "pygments_lexer": "ipython3",
   "version": "3.6.5"
  }
 },
 "nbformat": 4,
 "nbformat_minor": 2
}